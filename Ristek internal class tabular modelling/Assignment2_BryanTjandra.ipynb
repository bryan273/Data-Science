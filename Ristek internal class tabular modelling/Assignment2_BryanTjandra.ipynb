{
  "cells": [
    {
      "cell_type": "markdown",
      "metadata": {
        "id": "xC--DurkhNu1"
      },
      "source": [
        "# Preparation"
      ]
    },
    {
      "cell_type": "markdown",
      "source": [
        "Load prerequisities and prepare data"
      ],
      "metadata": {
        "id": "1La3dIR0kDnn"
      }
    },
    {
      "cell_type": "code",
      "execution_count": null,
      "metadata": {
        "id": "LtSKSJa5Z483"
      },
      "outputs": [],
      "source": [
        "# Import needs\n",
        "import gdown\n",
        "import pandas as pd\n",
        "import numpy as np\n",
        "import matplotlib.pyplot as plt\n",
        "import seaborn as sns\n",
        "import math\n",
        "import tensorflow\n",
        "import warnings\n",
        "warnings.filterwarnings(\"ignore\")"
      ]
    },
    {
      "cell_type": "code",
      "execution_count": null,
      "metadata": {
        "colab": {
          "base_uri": "https://localhost:8080/"
        },
        "id": "f1DspHI-aCqS",
        "outputId": "5783cb06-383d-4116-d297-04fa42f2ae86"
      },
      "outputs": [
        {
          "name": "stdout",
          "output_type": "stream",
          "text": [
            "\u001b[K     |████████████████████████████████| 76.6 MB 1.3 MB/s \n",
            "\u001b[?25h"
          ]
        }
      ],
      "source": [
        "!pip install catboost --quiet\n",
        "import catboost"
      ]
    },
    {
      "cell_type": "code",
      "execution_count": null,
      "metadata": {
        "id": "TPOnhg5uZjsT"
      },
      "outputs": [],
      "source": [
        "# Load data from drive\n",
        "def load_data(link, index= None):\n",
        "  \"\"\"\n",
        "  Download data from link id and setting index for dataset index\n",
        "  \"\"\"\n",
        "\n",
        "  # Download data from gdrive\n",
        "  meta_url = 'https://drive.google.com/uc?export=download&confirm=pbef&id='\n",
        "  url = meta_url + link\n",
        "  output = 'data.csv'\n",
        "  gdown.download(url, output, quiet=True)\n",
        "  data = pd.read_csv(output)\n",
        "\n",
        "  # Setting index for dataset\n",
        "  if index:\n",
        "    data.set_index(index, inplace=True)\n",
        "\n",
        "  return data"
      ]
    },
    {
      "cell_type": "code",
      "execution_count": null,
      "metadata": {
        "id": "StG7j19xaUxI"
      },
      "outputs": [],
      "source": [
        "train = load_data('1mAjLdRmwiyKWQXSAwFIJ7y_fMLC76GLZ')\n",
        "test = load_data('1CdGte3RRy-Y0X2ZATOiDkrJJZu7KPJbR')"
      ]
    },
    {
      "cell_type": "code",
      "execution_count": null,
      "metadata": {
        "colab": {
          "base_uri": "https://localhost:8080/"
        },
        "id": "3oCil4Hpbbxk",
        "outputId": "83e9027d-a62c-4f1d-f1c6-724b64528ed7"
      },
      "outputs": [
        {
          "name": "stdout",
          "output_type": "stream",
          "text": [
            "0\n",
            "0\n"
          ]
        }
      ],
      "source": [
        "print(train.isnull().sum().sum())\n",
        "print(test.isnull().sum().sum())"
      ]
    },
    {
      "cell_type": "code",
      "execution_count": null,
      "metadata": {
        "id": "EVJjWuMYf7Vc"
      },
      "outputs": [],
      "source": [
        "target = (train['hotel_id']!='None').astype(int)"
      ]
    },
    {
      "cell_type": "code",
      "execution_count": null,
      "metadata": {
        "id": "Fw7x9b8PnwNT"
      },
      "outputs": [],
      "source": [
        "train.drop(['hotel_id'], axis=1, inplace=True)"
      ]
    },
    {
      "cell_type": "code",
      "execution_count": null,
      "metadata": {
        "colab": {
          "base_uri": "https://localhost:8080/",
          "height": 455
        },
        "id": "eFF1UAR-0K-n",
        "outputId": "9c1ce961-e807-4c85-eb93-6e157a2bcbc5"
      },
      "outputs": [
        {
          "data": {
            "text/html": [
              "\n",
              "  <div id=\"df-3dd0f389-1670-46c7-b635-2bd55539aba7\">\n",
              "    <div class=\"colab-df-container\">\n",
              "      <div>\n",
              "<style scoped>\n",
              "    .dataframe tbody tr th:only-of-type {\n",
              "        vertical-align: middle;\n",
              "    }\n",
              "\n",
              "    .dataframe tbody tr th {\n",
              "        vertical-align: top;\n",
              "    }\n",
              "\n",
              "    .dataframe thead th {\n",
              "        text-align: right;\n",
              "    }\n",
              "</style>\n",
              "<table border=\"1\" class=\"dataframe\">\n",
              "  <thead>\n",
              "    <tr style=\"text-align: right;\">\n",
              "      <th></th>\n",
              "      <th>account_id</th>\n",
              "      <th>order_id</th>\n",
              "      <th>member_duration_days</th>\n",
              "      <th>gender</th>\n",
              "      <th>trip</th>\n",
              "      <th>service_class</th>\n",
              "      <th>price</th>\n",
              "      <th>is_tx_promo</th>\n",
              "      <th>no_of_seats</th>\n",
              "      <th>airlines_name</th>\n",
              "      <th>route</th>\n",
              "      <th>visited_city</th>\n",
              "      <th>log_transaction</th>\n",
              "    </tr>\n",
              "  </thead>\n",
              "  <tbody>\n",
              "    <tr>\n",
              "      <th>0</th>\n",
              "      <td>42d466e5a33c6e4fd34006800effce4a</td>\n",
              "      <td>36d46513e25cce91f1af22e211332edb</td>\n",
              "      <td>1638.0</td>\n",
              "      <td>M</td>\n",
              "      <td>trip</td>\n",
              "      <td>ECONOMY</td>\n",
              "      <td>3211338.0</td>\n",
              "      <td>NO</td>\n",
              "      <td>2.0</td>\n",
              "      <td>74c5549aa99d55280a896ea50068a211</td>\n",
              "      <td>CGK - DPS</td>\n",
              "      <td>'['Medan', 'Bali', 'Jakarta']'</td>\n",
              "      <td>'[9628704.09, 3211338.0]'</td>\n",
              "    </tr>\n",
              "    <tr>\n",
              "      <th>1</th>\n",
              "      <td>5afc7174bc4a75cc0fa9077d604dc63d</td>\n",
              "      <td>d5d522ef4b637c4a7db79a1cc52bbf03</td>\n",
              "      <td>452.0</td>\n",
              "      <td>F</td>\n",
              "      <td>trip</td>\n",
              "      <td>ECONOMY</td>\n",
              "      <td>1193309.0</td>\n",
              "      <td>YES</td>\n",
              "      <td>1.0</td>\n",
              "      <td>6c483c0812c96f8ec43bb0ff76eaf716</td>\n",
              "      <td>CGK - DPS</td>\n",
              "      <td>'['Bali', 'Jakarta', 'Medan']'</td>\n",
              "      <td>'[1828399.48, 1193309.0]'</td>\n",
              "    </tr>\n",
              "    <tr>\n",
              "      <th>2</th>\n",
              "      <td>4562a667823b24909c36a08368e8c21a</td>\n",
              "      <td>d4447f6db23b387ee5e7804933c471b9</td>\n",
              "      <td>403.0</td>\n",
              "      <td>M</td>\n",
              "      <td>trip</td>\n",
              "      <td>ECONOMY</td>\n",
              "      <td>6594718.0</td>\n",
              "      <td>NO</td>\n",
              "      <td>2.0</td>\n",
              "      <td>74c5549aa99d55280a896ea50068a211</td>\n",
              "      <td>CGK - DPS</td>\n",
              "      <td>'['Jakarta', 'Medan', 'Bali']'</td>\n",
              "      <td>'[5533979.1, 7882490.82, 3538015.0, 6594718.0]'</td>\n",
              "    </tr>\n",
              "    <tr>\n",
              "      <th>3</th>\n",
              "      <td>a70622278060d8a3328c9607fd49b010</td>\n",
              "      <td>c7ce01a948b92049a01f3ebd8f797812</td>\n",
              "      <td>738.0</td>\n",
              "      <td>F</td>\n",
              "      <td>trip</td>\n",
              "      <td>ECONOMY</td>\n",
              "      <td>1936740.0</td>\n",
              "      <td>YES</td>\n",
              "      <td>1.0</td>\n",
              "      <td>e35de6a36d385711a660c72c0286154a</td>\n",
              "      <td>CGK - DPS</td>\n",
              "      <td>'['Surabaya', 'Medan', 'Bali', 'Jakarta', 'Ace...</td>\n",
              "      <td>'[4849977.72, 9688620.93, 9070698.09, 7519349....</td>\n",
              "    </tr>\n",
              "    <tr>\n",
              "      <th>4</th>\n",
              "      <td>d64a90a618202a5e8b25d8539377f3ca</td>\n",
              "      <td>7b86fdc01012c58885f4b361a7a043f9</td>\n",
              "      <td>607.0</td>\n",
              "      <td>M</td>\n",
              "      <td>trip</td>\n",
              "      <td>ECONOMY</td>\n",
              "      <td>5497908.0</td>\n",
              "      <td>NO</td>\n",
              "      <td>3.0</td>\n",
              "      <td>ad5bef60d81ea077018f4d50b813153a</td>\n",
              "      <td>CGK - DPS</td>\n",
              "      <td>'['Jakarta', 'Medan', 'Bali']'</td>\n",
              "      <td>'[555476.36, 2422826.84, 7398697.64, 7930866.8...</td>\n",
              "    </tr>\n",
              "  </tbody>\n",
              "</table>\n",
              "</div>\n",
              "      <button class=\"colab-df-convert\" onclick=\"convertToInteractive('df-3dd0f389-1670-46c7-b635-2bd55539aba7')\"\n",
              "              title=\"Convert this dataframe to an interactive table.\"\n",
              "              style=\"display:none;\">\n",
              "        \n",
              "  <svg xmlns=\"http://www.w3.org/2000/svg\" height=\"24px\"viewBox=\"0 0 24 24\"\n",
              "       width=\"24px\">\n",
              "    <path d=\"M0 0h24v24H0V0z\" fill=\"none\"/>\n",
              "    <path d=\"M18.56 5.44l.94 2.06.94-2.06 2.06-.94-2.06-.94-.94-2.06-.94 2.06-2.06.94zm-11 1L8.5 8.5l.94-2.06 2.06-.94-2.06-.94L8.5 2.5l-.94 2.06-2.06.94zm10 10l.94 2.06.94-2.06 2.06-.94-2.06-.94-.94-2.06-.94 2.06-2.06.94z\"/><path d=\"M17.41 7.96l-1.37-1.37c-.4-.4-.92-.59-1.43-.59-.52 0-1.04.2-1.43.59L10.3 9.45l-7.72 7.72c-.78.78-.78 2.05 0 2.83L4 21.41c.39.39.9.59 1.41.59.51 0 1.02-.2 1.41-.59l7.78-7.78 2.81-2.81c.8-.78.8-2.07 0-2.86zM5.41 20L4 18.59l7.72-7.72 1.47 1.35L5.41 20z\"/>\n",
              "  </svg>\n",
              "      </button>\n",
              "      \n",
              "  <style>\n",
              "    .colab-df-container {\n",
              "      display:flex;\n",
              "      flex-wrap:wrap;\n",
              "      gap: 12px;\n",
              "    }\n",
              "\n",
              "    .colab-df-convert {\n",
              "      background-color: #E8F0FE;\n",
              "      border: none;\n",
              "      border-radius: 50%;\n",
              "      cursor: pointer;\n",
              "      display: none;\n",
              "      fill: #1967D2;\n",
              "      height: 32px;\n",
              "      padding: 0 0 0 0;\n",
              "      width: 32px;\n",
              "    }\n",
              "\n",
              "    .colab-df-convert:hover {\n",
              "      background-color: #E2EBFA;\n",
              "      box-shadow: 0px 1px 2px rgba(60, 64, 67, 0.3), 0px 1px 3px 1px rgba(60, 64, 67, 0.15);\n",
              "      fill: #174EA6;\n",
              "    }\n",
              "\n",
              "    [theme=dark] .colab-df-convert {\n",
              "      background-color: #3B4455;\n",
              "      fill: #D2E3FC;\n",
              "    }\n",
              "\n",
              "    [theme=dark] .colab-df-convert:hover {\n",
              "      background-color: #434B5C;\n",
              "      box-shadow: 0px 1px 3px 1px rgba(0, 0, 0, 0.15);\n",
              "      filter: drop-shadow(0px 1px 2px rgba(0, 0, 0, 0.3));\n",
              "      fill: #FFFFFF;\n",
              "    }\n",
              "  </style>\n",
              "\n",
              "      <script>\n",
              "        const buttonEl =\n",
              "          document.querySelector('#df-3dd0f389-1670-46c7-b635-2bd55539aba7 button.colab-df-convert');\n",
              "        buttonEl.style.display =\n",
              "          google.colab.kernel.accessAllowed ? 'block' : 'none';\n",
              "\n",
              "        async function convertToInteractive(key) {\n",
              "          const element = document.querySelector('#df-3dd0f389-1670-46c7-b635-2bd55539aba7');\n",
              "          const dataTable =\n",
              "            await google.colab.kernel.invokeFunction('convertToInteractive',\n",
              "                                                     [key], {});\n",
              "          if (!dataTable) return;\n",
              "\n",
              "          const docLinkHtml = 'Like what you see? Visit the ' +\n",
              "            '<a target=\"_blank\" href=https://colab.research.google.com/notebooks/data_table.ipynb>data table notebook</a>'\n",
              "            + ' to learn more about interactive tables.';\n",
              "          element.innerHTML = '';\n",
              "          dataTable['output_type'] = 'display_data';\n",
              "          await google.colab.output.renderOutput(dataTable, element);\n",
              "          const docLink = document.createElement('div');\n",
              "          docLink.innerHTML = docLinkHtml;\n",
              "          element.appendChild(docLink);\n",
              "        }\n",
              "      </script>\n",
              "    </div>\n",
              "  </div>\n",
              "  "
            ],
            "text/plain": [
              "                         account_id                          order_id  \\\n",
              "0  42d466e5a33c6e4fd34006800effce4a  36d46513e25cce91f1af22e211332edb   \n",
              "1  5afc7174bc4a75cc0fa9077d604dc63d  d5d522ef4b637c4a7db79a1cc52bbf03   \n",
              "2  4562a667823b24909c36a08368e8c21a  d4447f6db23b387ee5e7804933c471b9   \n",
              "3  a70622278060d8a3328c9607fd49b010  c7ce01a948b92049a01f3ebd8f797812   \n",
              "4  d64a90a618202a5e8b25d8539377f3ca  7b86fdc01012c58885f4b361a7a043f9   \n",
              "\n",
              "   member_duration_days gender  trip service_class      price is_tx_promo  \\\n",
              "0                1638.0      M  trip       ECONOMY  3211338.0          NO   \n",
              "1                 452.0      F  trip       ECONOMY  1193309.0         YES   \n",
              "2                 403.0      M  trip       ECONOMY  6594718.0          NO   \n",
              "3                 738.0      F  trip       ECONOMY  1936740.0         YES   \n",
              "4                 607.0      M  trip       ECONOMY  5497908.0          NO   \n",
              "\n",
              "   no_of_seats                     airlines_name      route  \\\n",
              "0          2.0  74c5549aa99d55280a896ea50068a211  CGK - DPS   \n",
              "1          1.0  6c483c0812c96f8ec43bb0ff76eaf716  CGK - DPS   \n",
              "2          2.0  74c5549aa99d55280a896ea50068a211  CGK - DPS   \n",
              "3          1.0  e35de6a36d385711a660c72c0286154a  CGK - DPS   \n",
              "4          3.0  ad5bef60d81ea077018f4d50b813153a  CGK - DPS   \n",
              "\n",
              "                                        visited_city  \\\n",
              "0                     '['Medan', 'Bali', 'Jakarta']'   \n",
              "1                     '['Bali', 'Jakarta', 'Medan']'   \n",
              "2                     '['Jakarta', 'Medan', 'Bali']'   \n",
              "3  '['Surabaya', 'Medan', 'Bali', 'Jakarta', 'Ace...   \n",
              "4                     '['Jakarta', 'Medan', 'Bali']'   \n",
              "\n",
              "                                     log_transaction  \n",
              "0                          '[9628704.09, 3211338.0]'  \n",
              "1                          '[1828399.48, 1193309.0]'  \n",
              "2    '[5533979.1, 7882490.82, 3538015.0, 6594718.0]'  \n",
              "3  '[4849977.72, 9688620.93, 9070698.09, 7519349....  \n",
              "4  '[555476.36, 2422826.84, 7398697.64, 7930866.8...  "
            ]
          },
          "execution_count": 8,
          "metadata": {},
          "output_type": "execute_result"
        }
      ],
      "source": [
        "train.head()"
      ]
    },
    {
      "cell_type": "markdown",
      "metadata": {
        "id": "E_vb2jaIiAsN"
      },
      "source": [
        "# Baseline"
      ]
    },
    {
      "cell_type": "markdown",
      "source": [
        "Creating baseline model"
      ],
      "metadata": {
        "id": "Y0M1nhaUkMLv"
      }
    },
    {
      "cell_type": "code",
      "execution_count": null,
      "metadata": {
        "id": "dvGdEtb_cWxw"
      },
      "outputs": [],
      "source": [
        "continous_train = train.select_dtypes(exclude='object')\n",
        "categorical_train = train.select_dtypes(include='object')\n",
        "continous_test = test.select_dtypes(exclude='object')\n",
        "categorical_test = test.select_dtypes(include='object')"
      ]
    },
    {
      "cell_type": "code",
      "execution_count": null,
      "metadata": {
        "colab": {
          "base_uri": "https://localhost:8080/"
        },
        "id": "NMvDCYm3cGVu",
        "outputId": "f90f9e71-a481-4fd6-8bbf-a8206e471db2"
      },
      "outputs": [
        {
          "name": "stdout",
          "output_type": "stream",
          "text": [
            "account_id         35372\n",
            "order_id           47178\n",
            "gender                 3\n",
            "trip                   3\n",
            "service_class          2\n",
            "is_tx_promo            2\n",
            "airlines_name          8\n",
            "route                  1\n",
            "visited_city           8\n",
            "log_transaction    47178\n",
            "dtype: int64\n",
            "\n",
            "account_id         49567\n",
            "order_id           70768\n",
            "gender                 3\n",
            "trip                   3\n",
            "service_class          2\n",
            "is_tx_promo            2\n",
            "airlines_name          8\n",
            "route                  1\n",
            "visited_city           8\n",
            "log_transaction    70768\n",
            "dtype: int64\n"
          ]
        }
      ],
      "source": [
        "print(categorical_train.nunique())\n",
        "print()\n",
        "print(categorical_test.nunique())"
      ]
    },
    {
      "cell_type": "markdown",
      "source": [
        "There are several account id that intersects from train and test"
      ],
      "metadata": {
        "id": "PRfUgtx6kXsY"
      }
    },
    {
      "cell_type": "code",
      "execution_count": null,
      "metadata": {
        "colab": {
          "base_uri": "https://localhost:8080/"
        },
        "id": "2jJZb1wLuEhe",
        "outputId": "48d9a88a-13cc-415a-8c40-3150b50d9cf9"
      },
      "outputs": [
        {
          "name": "stdout",
          "output_type": "stream",
          "text": [
            "36.26% test account id is in train account id\n"
          ]
        }
      ],
      "source": [
        "unique_id = set(test.account_id) & set(train.account_id) \n",
        "same_id = test[test['account_id'].isin(unique_id)]\n",
        "print(f\"{round(same_id.shape[0]/test.shape[0]*100,2)}% test account id is in train account id\")"
      ]
    },
    {
      "cell_type": "markdown",
      "source": [
        "Drop the columns with many unique value (exclude account id)"
      ],
      "metadata": {
        "id": "s-HnX3NdkSn9"
      }
    },
    {
      "cell_type": "code",
      "execution_count": null,
      "metadata": {
        "id": "M9QsBlh5dMFu"
      },
      "outputs": [],
      "source": [
        "sum_unique_train = categorical_train.nunique()\n",
        "sum_unique_test = categorical_test.nunique()\n",
        "train_drop = train.drop(sum_unique_train[(sum_unique_train > 40000) | (sum_unique_train==1)].index, axis=1)\n",
        "test_drop = test.drop(sum_unique_test[(sum_unique_test > 50000) | (sum_unique_test==1)].index, axis=1)"
      ]
    },
    {
      "cell_type": "code",
      "execution_count": null,
      "metadata": {
        "id": "LvLam877j-BB"
      },
      "outputs": [],
      "source": [
        "continous_col = train_drop.select_dtypes(exclude='object').columns\n",
        "categorical_col = train_drop.select_dtypes(include='object').columns"
      ]
    },
    {
      "cell_type": "markdown",
      "source": [
        "Scaling the data"
      ],
      "metadata": {
        "id": "AZCscmV6kQ-2"
      }
    },
    {
      "cell_type": "code",
      "execution_count": null,
      "metadata": {
        "id": "C2hdMW8OSx0f"
      },
      "outputs": [],
      "source": [
        "from sklearn.preprocessing import StandardScaler\n",
        "std = StandardScaler()\n",
        "train_norm = pd.concat([pd.DataFrame(std.fit_transform(train_drop[continous_col]), \n",
        "                                     columns = continous_col),train_drop[categorical_col]], axis=1)\n",
        "test_norm = pd.concat([pd.DataFrame(std.transform(test_drop[continous_col]), \n",
        "                                     columns = continous_col),test_drop[categorical_col]], axis=1)"
      ]
    },
    {
      "cell_type": "markdown",
      "source": [
        "Train model with catboost"
      ],
      "metadata": {
        "id": "NqxXSgmbkgun"
      }
    },
    {
      "cell_type": "code",
      "execution_count": null,
      "metadata": {
        "id": "LVMsUhpfieWd"
      },
      "outputs": [],
      "source": [
        "from sklearn.model_selection import train_test_split\n",
        "\n",
        "data_train, data_val, target_train, target_val = train_test_split(train_norm, target, \n",
        "                                                                  test_size=0.15, random_state=42)"
      ]
    },
    {
      "cell_type": "code",
      "execution_count": null,
      "metadata": {
        "id": "PRQkd97JiS-1"
      },
      "outputs": [],
      "source": [
        "from catboost import CatBoostClassifier\n",
        "cbc_model = CatBoostClassifier(random_state=1, silent=True, cat_features=categorical_col.values)"
      ]
    },
    {
      "cell_type": "code",
      "execution_count": null,
      "metadata": {
        "colab": {
          "base_uri": "https://localhost:8080/"
        },
        "id": "3rKdcXduywcC",
        "outputId": "e8b314d1-2bac-496b-ee5c-66582f6d7eb2"
      },
      "outputs": [
        {
          "data": {
            "text/plain": [
              "0.596267618064008"
            ]
          },
          "execution_count": 24,
          "metadata": {},
          "output_type": "execute_result"
        }
      ],
      "source": [
        "from sklearn.model_selection import cross_val_score\n",
        "from sklearn.metrics import make_scorer\n",
        "from sklearn.metrics import f1_score\n",
        "\n",
        "score = cross_val_score(cbc_model, train_norm, target, scoring=make_scorer(f1_score, average='macro'), cv=5, n_jobs=-1)\n",
        "score.mean()"
      ]
    },
    {
      "cell_type": "markdown",
      "metadata": {
        "id": "gzz_9xkjijKq"
      },
      "source": [
        "# Preprocess visited city"
      ]
    },
    {
      "cell_type": "markdown",
      "source": [
        "Cancelled"
      ],
      "metadata": {
        "id": "_YCOXQZFj-vd"
      }
    },
    {
      "cell_type": "code",
      "execution_count": null,
      "metadata": {
        "colab": {
          "base_uri": "https://localhost:8080/"
        },
        "id": "-v6FIiRpfmOv",
        "outputId": "7ef65764-2633-40a6-dfbd-860d5d77821c"
      },
      "outputs": [
        {
          "name": "stdout",
          "output_type": "stream",
          "text": [
            "'['Medan', 'Bali', 'Jakarta']' --- one is 6.529999999999999%\n",
            "'['Bali', 'Jakarta', 'Medan']' --- one is 5.54%\n",
            "'['Jakarta', 'Medan', 'Bali']' --- one is 5.0%\n",
            "'['Surabaya', 'Medan', 'Bali', 'Jakarta', 'Aceh']' --- one is 5.5%\n",
            "'['Jakarta', 'Bali', 'Medan', 'Jogjakarta', 'Semarang']' --- one is 5.81%\n",
            "'['Semarang', 'Jakarta', 'Medan', 'Bali']' --- one is 5.3%\n",
            "'['Jogjakarta', 'Bali', 'Jakarta', 'Medan']' --- one is 4.91%\n",
            "'['Manado', 'Medan', 'Bali', 'Jakarta']' --- one is 4.99%\n"
          ]
        }
      ],
      "source": [
        "# tmp = train['visited_city']\n",
        "# zero = tmp[target==0]\n",
        "# one = tmp[target==1]\n",
        "\n",
        "# for i in tmp.unique():\n",
        "#     print(f\"{i} --- one is {round(one[one==i].count()/(zero[zero==i].count()+one[one==i].count()),4)*100}%\")"
      ]
    },
    {
      "cell_type": "code",
      "execution_count": null,
      "metadata": {
        "id": "gKW9d35mfo-h"
      },
      "outputs": [],
      "source": [
        "# from sklearn.feature_extraction.text import TfidfVectorizer\n",
        "# from sklearn.feature_extraction.text import CountVectorizer\n",
        "# import re\n",
        "\n",
        "# def clean_visited_city(x):\n",
        "#     text = \" \".join(re.split('\\W+',x)).strip()\n",
        "#     return text\n",
        "\n",
        "# train['clean_visited_city'] = train['visited_city'].apply(lambda x : clean_visited_city(x))"
      ]
    },
    {
      "cell_type": "code",
      "execution_count": null,
      "metadata": {
        "id": "PpgxnG4qfr46"
      },
      "outputs": [],
      "source": [
        "# tfidf = TfidfVectorizer()\n",
        "# X_tfidf = tfidf.fit_transform(train['clean_visited_city'])\n",
        "# df_tfidf = pd.DataFrame(X_tfidf.toarray())\n",
        "\n",
        "# count_vect = CountVectorizer()\n",
        "# X_countvect = count_vect.fit_transform(train['clean_visited_city'])\n",
        "# df_countvect = pd.DataFrame(X_countvect.toarray())"
      ]
    },
    {
      "cell_type": "code",
      "execution_count": null,
      "metadata": {
        "colab": {
          "base_uri": "https://localhost:8080/"
        },
        "id": "biISBpihfvbf",
        "outputId": "bbbea00c-3921-45fd-87e1-d9a0f7e1e49a"
      },
      "outputs": [
        {
          "name": "stdout",
          "output_type": "stream",
          "text": [
            "[5.8671e+01 2.3069e+01 9.6300e+00 8.5840e+00 4.6000e-02 0.0000e+00\n",
            " 0.0000e+00 0.0000e+00]\n",
            "[63.067 22.813  8.997  5.122  0.     0.     0.     0.   ]\n"
          ]
        }
      ],
      "source": [
        "# from sklearn.decomposition import PCA\n",
        "\n",
        "# principal_tfidf = PCA()\n",
        "# principal_tfidf.fit(df_tfidf)\n",
        "# print(np.round((principal_tfidf.explained_variance_ratio_*100).astype(float),3))\n",
        "\n",
        "# principal_countvect = PCA()\n",
        "# principal_countvect.fit(df_countvect)\n",
        "# print(np.round((principal_countvect.explained_variance_ratio_*100).astype(float),3))"
      ]
    },
    {
      "cell_type": "code",
      "execution_count": null,
      "metadata": {
        "id": "S1Tk6bMZf1Y5"
      },
      "outputs": [],
      "source": [
        "# principal_tfidf_final = PCA(n_components=4)\n",
        "# X_tfidf_pca = pd.DataFrame(principal_tfidf_final.fit_transform(df_tfidf))\n",
        "\n",
        "# principal_countvect = PCA(n_components=4)\n",
        "# X_countvect_pca = pd.DataFrame(principal_countvect.fit_transform(df_countvect))"
      ]
    },
    {
      "cell_type": "code",
      "execution_count": null,
      "metadata": {
        "id": "KiKbVw5Gwx14"
      },
      "outputs": [],
      "source": [
        "# X_tfidf_pca.columns = \"tfidf_visited_\" + X_tfidf_pca.columns.astype(str) \n",
        "# X_countvect_pca.columns = \"countvect_visited_\" + X_countvect_pca.columns.astype(str) \n",
        "\n",
        "# train_1 = pd.concat([train_norm, X_tfidf_pca], axis=1).drop('visited_city', axis=1)\n",
        "# train_2 = pd.concat([train_norm, X_countvect_pca], axis=1).drop('visited_city', axis=1)\n",
        "\n",
        "# categorical_col = train_1.select_dtypes(include='object').columns"
      ]
    },
    {
      "cell_type": "code",
      "execution_count": null,
      "metadata": {
        "colab": {
          "base_uri": "https://localhost:8080/"
        },
        "id": "PyRXXnUKyBdk",
        "outputId": "0b6c94a3-2af2-4955-8112-d518267644cb"
      },
      "outputs": [
        {
          "data": {
            "text/plain": [
              "0.595117058003928"
            ]
          },
          "execution_count": 135,
          "metadata": {},
          "output_type": "execute_result"
        }
      ],
      "source": [
        "# cbc_model = CatBoostClassifier(random_state=1, silent=True, cat_features=categorical_col.values)\n",
        "# score = cross_val_score(cbc_model, train_1, target, scoring=make_scorer(f1_score, average='macro'), cv=5, n_jobs=-1)\n",
        "# score.mean()"
      ]
    },
    {
      "cell_type": "code",
      "execution_count": null,
      "metadata": {
        "colab": {
          "base_uri": "https://localhost:8080/"
        },
        "id": "bs7wdp-6zsNm",
        "outputId": "69d3bc2b-3929-4abb-9ac1-ac57d36b9d7a"
      },
      "outputs": [
        {
          "data": {
            "text/plain": [
              "0.5933135229582435"
            ]
          },
          "execution_count": 136,
          "metadata": {},
          "output_type": "execute_result"
        }
      ],
      "source": [
        "# score = cross_val_score(cbc_model, train_2, target, scoring=make_scorer(f1_score, average='macro'), cv=5, n_jobs=-1)\n",
        "# score.mean()"
      ]
    },
    {
      "cell_type": "markdown",
      "metadata": {
        "id": "y6_Adw54-Ewm"
      },
      "source": [
        "# Preprocess transaction"
      ]
    },
    {
      "cell_type": "markdown",
      "source": [
        "Clean the log transaction feature and group price per 10000"
      ],
      "metadata": {
        "id": "510ktYfNkm8J"
      }
    },
    {
      "cell_type": "code",
      "execution_count": null,
      "metadata": {
        "id": "7OtHY-xUf28Q"
      },
      "outputs": [],
      "source": [
        "from sklearn.feature_extraction.text import TfidfVectorizer\n",
        "from sklearn.feature_extraction.text import CountVectorizer\n",
        "import re\n",
        "\n",
        "def clean_log_transaction(data):\n",
        "    tmp = data.apply(lambda x : \" \".join(re.split(\"[\\[\\],']\",x)).strip())\n",
        "    tmp = tmp.apply(lambda x: x.split(\" \"))\n",
        "    tmp = tmp.apply(lambda x: [i for i in x if i != \"\"])\n",
        "    tmp = tmp.apply(lambda x: \" \".join(np.round(np.array(x).astype(float)).astype(int).astype(str)))\n",
        "    tmp = tmp.apply(lambda x: np.array(x.split()).astype(int))\n",
        "    tmp = tmp//10000\n",
        "    return tmp\n",
        "\n",
        "train_norm['clean_log_transaction'] = clean_log_transaction(train['log_transaction'])\n",
        "test_norm['clean_log_transaction'] = clean_log_transaction(test['log_transaction'])"
      ]
    },
    {
      "cell_type": "code",
      "execution_count": null,
      "metadata": {
        "colab": {
          "base_uri": "https://localhost:8080/",
          "height": 419
        },
        "id": "Dv45nWYqbBAf",
        "outputId": "d7e8b7cf-901d-482c-dec3-76bb4fb4aeef"
      },
      "outputs": [
        {
          "data": {
            "text/html": [
              "\n",
              "  <div id=\"df-6436f431-8536-43a9-9d32-3aa3c96c9a40\">\n",
              "    <div class=\"colab-df-container\">\n",
              "      <div>\n",
              "<style scoped>\n",
              "    .dataframe tbody tr th:only-of-type {\n",
              "        vertical-align: middle;\n",
              "    }\n",
              "\n",
              "    .dataframe tbody tr th {\n",
              "        vertical-align: top;\n",
              "    }\n",
              "\n",
              "    .dataframe thead th {\n",
              "        text-align: right;\n",
              "    }\n",
              "</style>\n",
              "<table border=\"1\" class=\"dataframe\">\n",
              "  <thead>\n",
              "    <tr style=\"text-align: right;\">\n",
              "      <th></th>\n",
              "      <th>clean_log_transaction</th>\n",
              "      <th>log_transaction</th>\n",
              "    </tr>\n",
              "  </thead>\n",
              "  <tbody>\n",
              "    <tr>\n",
              "      <th>0</th>\n",
              "      <td>[962, 321]</td>\n",
              "      <td>'[9628704.09, 3211338.0]'</td>\n",
              "    </tr>\n",
              "    <tr>\n",
              "      <th>1</th>\n",
              "      <td>[182, 119]</td>\n",
              "      <td>'[1828399.48, 1193309.0]'</td>\n",
              "    </tr>\n",
              "    <tr>\n",
              "      <th>2</th>\n",
              "      <td>[553, 788, 353, 659]</td>\n",
              "      <td>'[5533979.1, 7882490.82, 3538015.0, 6594718.0]'</td>\n",
              "    </tr>\n",
              "    <tr>\n",
              "      <th>3</th>\n",
              "      <td>[484, 968, 907, 751, 819, 215, 240, 134, 123, ...</td>\n",
              "      <td>'[4849977.72, 9688620.93, 9070698.09, 7519349....</td>\n",
              "    </tr>\n",
              "    <tr>\n",
              "      <th>4</th>\n",
              "      <td>[55, 242, 739, 793, 170, 566, 227, 327, 264, 8...</td>\n",
              "      <td>'[555476.36, 2422826.84, 7398697.64, 7930866.8...</td>\n",
              "    </tr>\n",
              "    <tr>\n",
              "      <th>...</th>\n",
              "      <td>...</td>\n",
              "      <td>...</td>\n",
              "    </tr>\n",
              "    <tr>\n",
              "      <th>47173</th>\n",
              "      <td>[914, 251, 70, 610]</td>\n",
              "      <td>'[9146378.67, 2512956.75, 703891.74, 6104280.0]'</td>\n",
              "    </tr>\n",
              "    <tr>\n",
              "      <th>47174</th>\n",
              "      <td>[89, 992, 364, 182, 89, 178, 627, 104, 627, 12...</td>\n",
              "      <td>'[894966.08, 9924135.02, 3647020.0, 1823510.0,...</td>\n",
              "    </tr>\n",
              "    <tr>\n",
              "      <th>47175</th>\n",
              "      <td>[999, 836, 691, 476, 326, 87, 90, 89, 90, 90, ...</td>\n",
              "      <td>'[9996684.38, 8363709.16, 6918937.1, 4767680.0...</td>\n",
              "    </tr>\n",
              "    <tr>\n",
              "      <th>47176</th>\n",
              "      <td>[55, 242, 739, 793, 170, 566, 227, 327, 264, 8...</td>\n",
              "      <td>'[555476.36, 2422826.84, 7398697.64, 7930866.8...</td>\n",
              "    </tr>\n",
              "    <tr>\n",
              "      <th>47177</th>\n",
              "      <td>[792, 90]</td>\n",
              "      <td>'[7921236.21, 902798.0]'</td>\n",
              "    </tr>\n",
              "  </tbody>\n",
              "</table>\n",
              "<p>47178 rows × 2 columns</p>\n",
              "</div>\n",
              "      <button class=\"colab-df-convert\" onclick=\"convertToInteractive('df-6436f431-8536-43a9-9d32-3aa3c96c9a40')\"\n",
              "              title=\"Convert this dataframe to an interactive table.\"\n",
              "              style=\"display:none;\">\n",
              "        \n",
              "  <svg xmlns=\"http://www.w3.org/2000/svg\" height=\"24px\"viewBox=\"0 0 24 24\"\n",
              "       width=\"24px\">\n",
              "    <path d=\"M0 0h24v24H0V0z\" fill=\"none\"/>\n",
              "    <path d=\"M18.56 5.44l.94 2.06.94-2.06 2.06-.94-2.06-.94-.94-2.06-.94 2.06-2.06.94zm-11 1L8.5 8.5l.94-2.06 2.06-.94-2.06-.94L8.5 2.5l-.94 2.06-2.06.94zm10 10l.94 2.06.94-2.06 2.06-.94-2.06-.94-.94-2.06-.94 2.06-2.06.94z\"/><path d=\"M17.41 7.96l-1.37-1.37c-.4-.4-.92-.59-1.43-.59-.52 0-1.04.2-1.43.59L10.3 9.45l-7.72 7.72c-.78.78-.78 2.05 0 2.83L4 21.41c.39.39.9.59 1.41.59.51 0 1.02-.2 1.41-.59l7.78-7.78 2.81-2.81c.8-.78.8-2.07 0-2.86zM5.41 20L4 18.59l7.72-7.72 1.47 1.35L5.41 20z\"/>\n",
              "  </svg>\n",
              "      </button>\n",
              "      \n",
              "  <style>\n",
              "    .colab-df-container {\n",
              "      display:flex;\n",
              "      flex-wrap:wrap;\n",
              "      gap: 12px;\n",
              "    }\n",
              "\n",
              "    .colab-df-convert {\n",
              "      background-color: #E8F0FE;\n",
              "      border: none;\n",
              "      border-radius: 50%;\n",
              "      cursor: pointer;\n",
              "      display: none;\n",
              "      fill: #1967D2;\n",
              "      height: 32px;\n",
              "      padding: 0 0 0 0;\n",
              "      width: 32px;\n",
              "    }\n",
              "\n",
              "    .colab-df-convert:hover {\n",
              "      background-color: #E2EBFA;\n",
              "      box-shadow: 0px 1px 2px rgba(60, 64, 67, 0.3), 0px 1px 3px 1px rgba(60, 64, 67, 0.15);\n",
              "      fill: #174EA6;\n",
              "    }\n",
              "\n",
              "    [theme=dark] .colab-df-convert {\n",
              "      background-color: #3B4455;\n",
              "      fill: #D2E3FC;\n",
              "    }\n",
              "\n",
              "    [theme=dark] .colab-df-convert:hover {\n",
              "      background-color: #434B5C;\n",
              "      box-shadow: 0px 1px 3px 1px rgba(0, 0, 0, 0.15);\n",
              "      filter: drop-shadow(0px 1px 2px rgba(0, 0, 0, 0.3));\n",
              "      fill: #FFFFFF;\n",
              "    }\n",
              "  </style>\n",
              "\n",
              "      <script>\n",
              "        const buttonEl =\n",
              "          document.querySelector('#df-6436f431-8536-43a9-9d32-3aa3c96c9a40 button.colab-df-convert');\n",
              "        buttonEl.style.display =\n",
              "          google.colab.kernel.accessAllowed ? 'block' : 'none';\n",
              "\n",
              "        async function convertToInteractive(key) {\n",
              "          const element = document.querySelector('#df-6436f431-8536-43a9-9d32-3aa3c96c9a40');\n",
              "          const dataTable =\n",
              "            await google.colab.kernel.invokeFunction('convertToInteractive',\n",
              "                                                     [key], {});\n",
              "          if (!dataTable) return;\n",
              "\n",
              "          const docLinkHtml = 'Like what you see? Visit the ' +\n",
              "            '<a target=\"_blank\" href=https://colab.research.google.com/notebooks/data_table.ipynb>data table notebook</a>'\n",
              "            + ' to learn more about interactive tables.';\n",
              "          element.innerHTML = '';\n",
              "          dataTable['output_type'] = 'display_data';\n",
              "          await google.colab.output.renderOutput(dataTable, element);\n",
              "          const docLink = document.createElement('div');\n",
              "          docLink.innerHTML = docLinkHtml;\n",
              "          element.appendChild(docLink);\n",
              "        }\n",
              "      </script>\n",
              "    </div>\n",
              "  </div>\n",
              "  "
            ],
            "text/plain": [
              "                                   clean_log_transaction  \\\n",
              "0                                             [962, 321]   \n",
              "1                                             [182, 119]   \n",
              "2                                   [553, 788, 353, 659]   \n",
              "3      [484, 968, 907, 751, 819, 215, 240, 134, 123, ...   \n",
              "4      [55, 242, 739, 793, 170, 566, 227, 327, 264, 8...   \n",
              "...                                                  ...   \n",
              "47173                                [914, 251, 70, 610]   \n",
              "47174  [89, 992, 364, 182, 89, 178, 627, 104, 627, 12...   \n",
              "47175  [999, 836, 691, 476, 326, 87, 90, 89, 90, 90, ...   \n",
              "47176  [55, 242, 739, 793, 170, 566, 227, 327, 264, 8...   \n",
              "47177                                          [792, 90]   \n",
              "\n",
              "                                         log_transaction  \n",
              "0                              '[9628704.09, 3211338.0]'  \n",
              "1                              '[1828399.48, 1193309.0]'  \n",
              "2        '[5533979.1, 7882490.82, 3538015.0, 6594718.0]'  \n",
              "3      '[4849977.72, 9688620.93, 9070698.09, 7519349....  \n",
              "4      '[555476.36, 2422826.84, 7398697.64, 7930866.8...  \n",
              "...                                                  ...  \n",
              "47173   '[9146378.67, 2512956.75, 703891.74, 6104280.0]'  \n",
              "47174  '[894966.08, 9924135.02, 3647020.0, 1823510.0,...  \n",
              "47175  '[9996684.38, 8363709.16, 6918937.1, 4767680.0...  \n",
              "47176  '[555476.36, 2422826.84, 7398697.64, 7930866.8...  \n",
              "47177                           '[7921236.21, 902798.0]'  \n",
              "\n",
              "[47178 rows x 2 columns]"
            ]
          },
          "execution_count": 27,
          "metadata": {},
          "output_type": "execute_result"
        }
      ],
      "source": [
        "pd.concat([train_norm['clean_log_transaction'], train['log_transaction']], axis=1)"
      ]
    },
    {
      "cell_type": "markdown",
      "source": [
        "Check the distribution and the unique of price group"
      ],
      "metadata": {
        "id": "yP5ax35sktkG"
      }
    },
    {
      "cell_type": "code",
      "execution_count": null,
      "metadata": {
        "id": "KcqHSyLYytAK"
      },
      "outputs": [],
      "source": [
        "price = []\n",
        "for i in train_norm['clean_log_transaction']:\n",
        "  for j in i:\n",
        "    price.append(j)\n",
        "price = np.array(price)"
      ]
    },
    {
      "cell_type": "code",
      "execution_count": null,
      "metadata": {
        "colab": {
          "base_uri": "https://localhost:8080/"
        },
        "id": "60bw-XlLx9Q8",
        "outputId": "80423531-5007-43ce-ff95-6cdde4d0b8f2"
      },
      "outputs": [
        {
          "data": {
            "text/plain": [
              "1664"
            ]
          },
          "execution_count": 21,
          "metadata": {},
          "output_type": "execute_result"
        }
      ],
      "source": [
        "len(set(price))"
      ]
    },
    {
      "cell_type": "code",
      "execution_count": null,
      "metadata": {
        "colab": {
          "base_uri": "https://localhost:8080/",
          "height": 282
        },
        "id": "cbN1BWVGzVC0",
        "outputId": "8d13fdcf-2d00-4850-c12a-3f924b016a6f"
      },
      "outputs": [
        {
          "data": {
            "text/plain": [
              "<matplotlib.axes._subplots.AxesSubplot at 0x7fc0688bbb50>"
            ]
          },
          "execution_count": 22,
          "metadata": {},
          "output_type": "execute_result"
        },
        {
          "data": {
            "image/png": "[encoded data removed]",
            "text/plain": [
              "<Figure size 432x288 with 1 Axes>"
            ]
          },
          "metadata": {},
          "output_type": "display_data"
        }
      ],
      "source": [
        "sns.histplot(price[price<2000])"
      ]
    },
    {
      "cell_type": "code",
      "execution_count": null,
      "metadata": {
        "colab": {
          "background_save": true
        },
        "id": "zUHhCN30f9lZ"
      },
      "outputs": [],
      "source": [
        "# from keras.preprocessing.text import Tokenizer\n",
        "# from keras.preprocessing.sequence import pad_sequences\n",
        "\n",
        "# tokenizer = Tokenizer()\n",
        "# tokenizer.fit_on_texts(train_norm['clean_log_transaction'].astype(str))\n",
        "# transaction_train_seq = tokenizer.texts_to_sequences(train_norm['clean_log_transaction'].astype(str))\n",
        "# transaction_test_seq = tokenizer.texts_to_sequences(test_norm['clean_log_transaction'].astype(str))"
      ]
    },
    {
      "cell_type": "markdown",
      "source": [
        "Check the length of each transaction and the distribution"
      ],
      "metadata": {
        "id": "nTSChY3QlI2A"
      }
    },
    {
      "cell_type": "code",
      "execution_count": null,
      "metadata": {
        "id": "RVZr-0kpf_oV"
      },
      "outputs": [],
      "source": [
        "length_transaction = []\n",
        "for i in range(np.array(train_norm['clean_log_transaction']).shape[0]):\n",
        "    tmp = np.array(train_norm['clean_log_transaction'][i]).shape[0]\n",
        "    length_transaction.append(tmp)\n",
        "length_transaction = np.array(length_transaction)"
      ]
    },
    {
      "cell_type": "code",
      "execution_count": null,
      "metadata": {
        "colab": {
          "base_uri": "https://localhost:8080/"
        },
        "id": "aR1tGuPngA1_",
        "outputId": "711c8b9d-7492-402e-cf49-2983cc7b9326"
      },
      "outputs": [
        {
          "data": {
            "text/plain": [
              "10.832421891559624"
            ]
          },
          "execution_count": 31,
          "metadata": {},
          "output_type": "execute_result"
        }
      ],
      "source": [
        "np.mean(length_transaction)"
      ]
    },
    {
      "cell_type": "code",
      "execution_count": null,
      "metadata": {
        "colab": {
          "base_uri": "https://localhost:8080/",
          "height": 282
        },
        "id": "QhinPZTPgDFO",
        "outputId": "2eac30ed-b0ae-4d40-e21c-6c41ef8c9e60"
      },
      "outputs": [
        {
          "data": {
            "text/plain": [
              "<matplotlib.axes._subplots.AxesSubplot at 0x7fb6a5ec9350>"
            ]
          },
          "execution_count": 29,
          "metadata": {},
          "output_type": "execute_result"
        },
        {
          "data": {
            "image/png": "[encoded data removed]",
            "text/plain": [
              "<Figure size 432x288 with 1 Axes>"
            ]
          },
          "metadata": {},
          "output_type": "display_data"
        }
      ],
      "source": [
        "sns.histplot(length_transaction[length_transaction<55], bins=30)"
      ]
    },
    {
      "cell_type": "markdown",
      "source": [
        "Padding on log transaction feature"
      ],
      "metadata": {
        "id": "X-kB-NQXlM-1"
      }
    },
    {
      "cell_type": "code",
      "execution_count": null,
      "metadata": {
        "id": "1yD99dvrgJTl"
      },
      "outputs": [],
      "source": [
        "transaction_train_padded = pad_sequences(train_norm['clean_log_transaction'],20,\n",
        "                                         padding='post',\n",
        "                                         truncating='post')\n",
        "transaction_test_padded = pad_sequences(test_norm['clean_log_transaction'],20,\n",
        "                                        padding='post',\n",
        "                                        truncating='post')"
      ]
    },
    {
      "cell_type": "markdown",
      "source": [
        "Reduce the feature dimensionality that is made by clean log transaction"
      ],
      "metadata": {
        "id": "1hmegG6glQf_"
      }
    },
    {
      "cell_type": "code",
      "execution_count": null,
      "metadata": {
        "colab": {
          "base_uri": "https://localhost:8080/"
        },
        "id": "JxoXqyXxgLO4",
        "outputId": "737edc47-23b5-4bd0-9c66-760371e209c8"
      },
      "outputs": [
        {
          "name": "stdout",
          "output_type": "stream",
          "text": [
            "45.074\n"
          ]
        }
      ],
      "source": [
        "from sklearn.decomposition import PCA\n",
        "principal_padded = PCA()\n",
        "principal_padded.fit(transaction_train_padded)\n",
        "print(np.round((principal_padded.explained_variance_ratio_*100).astype(float),3)[:2].sum())"
      ]
    },
    {
      "cell_type": "code",
      "execution_count": null,
      "metadata": {
        "id": "E4fTi2Zk4EcQ"
      },
      "outputs": [],
      "source": [
        "principal_padded = PCA(n_components=2)\n",
        "X_padded_pca_train = pd.DataFrame(principal_padded.fit_transform(transaction_train_padded))\n",
        "X_padded_pca_test = pd.DataFrame(principal_padded.transform(transaction_test_padded))\n",
        "\n",
        "X_padded_pca_train.columns = \"padded_trans_\" + X_padded_pca_train.columns.astype(str) \n",
        "X_padded_pca_test.columns = \"padded_trans_\" + X_padded_pca_test.columns.astype(str) \n",
        "\n",
        "train_norm = pd.concat([train_norm, X_padded_pca_train], axis=1)\n",
        "test_norm = pd.concat([test_norm, X_padded_pca_test], axis=1)"
      ]
    },
    {
      "cell_type": "code",
      "execution_count": null,
      "metadata": {
        "id": "pZWSvNxZtuEa"
      },
      "outputs": [],
      "source": [
        "# from keras import backend as K\n",
        "\n",
        "# def recall_m(y_true, y_pred):\n",
        "#     true_positives = K.sum(K.round(K.clip(y_true * y_pred, 0, 1)))\n",
        "#     possible_positives = K.sum(K.round(K.clip(y_true, 0, 1)))\n",
        "#     recall = true_positives / (possible_positives + K.epsilon())\n",
        "#     return recall\n",
        "\n",
        "# def precision_m(y_true, y_pred):\n",
        "#     true_positives = K.sum(K.round(K.clip(y_true * y_pred, 0, 1)))\n",
        "#     predicted_positives = K.sum(K.round(K.clip(y_pred, 0, 1)))\n",
        "#     precision = true_positives / (predicted_positives + K.epsilon())\n",
        "#     return precision\n",
        "\n",
        "# def F1(y_true, y_pred):\n",
        "#     precision = precision_m(y_true, y_pred)\n",
        "#     recall = recall_m(y_true, y_pred)\n",
        "#     return 2*((precision*recall)/(precision+recall+K.epsilon()))"
      ]
    },
    {
      "cell_type": "code",
      "execution_count": null,
      "metadata": {
        "id": "U0fg6yD-JHwG"
      },
      "outputs": [],
      "source": [
        "# # Callback function\n",
        "# from tensorflow.keras.callbacks import ReduceLROnPlateau\n",
        "# from tensorflow.keras.callbacks import TensorBoard\n",
        "\n",
        "# # Callback for plotting loss\n",
        "# tensor_board = TensorBoard(log_dir='./Graph', histogram_freq=1,\n",
        "#                             write_graph=True, write_images=True)\n",
        "\n",
        "# # Callback for reducing learning rate\n",
        "# reduce_lr = ReduceLROnPlateau(\n",
        "#     monitor = 'val_loss', \n",
        "#     factor = 0.5,   \n",
        "#     patience = 15, \n",
        "#     verbose = 1)"
      ]
    },
    {
      "cell_type": "code",
      "execution_count": null,
      "metadata": {
        "colab": {
          "base_uri": "https://localhost:8080/"
        },
        "id": "BDRqzSfrs7bb",
        "outputId": "a3b006f9-9ca5-4334-ed74-5ef7e38bed06"
      },
      "outputs": [
        {
          "name": "stdout",
          "output_type": "stream",
          "text": [
            "Epoch 1/30\n",
            "70/70 - 4s - loss: 0.6449 - F1: 0.0959 - val_loss: 0.8499 - val_F1: 0.5779 - lr: 0.0010 - 4s/epoch - 61ms/step\n",
            "Epoch 2/30\n",
            "70/70 - 2s - loss: 0.5722 - F1: 0.5118 - val_loss: 0.8054 - val_F1: 0.5804 - lr: 0.0010 - 2s/epoch - 23ms/step\n",
            "Epoch 3/30\n",
            "70/70 - 2s - loss: 0.5509 - F1: 0.5502 - val_loss: 0.7811 - val_F1: 0.6343 - lr: 0.0010 - 2s/epoch - 22ms/step\n",
            "Epoch 4/30\n",
            "70/70 - 1s - loss: 0.5256 - F1: 0.5940 - val_loss: 0.8490 - val_F1: 0.5983 - lr: 0.0010 - 1s/epoch - 18ms/step\n",
            "Epoch 5/30\n",
            "70/70 - 1s - loss: 0.5047 - F1: 0.6186 - val_loss: 0.7692 - val_F1: 0.6807 - lr: 0.0010 - 1s/epoch - 15ms/step\n",
            "Epoch 6/30\n",
            "70/70 - 1s - loss: 0.4847 - F1: 0.6410 - val_loss: 0.8134 - val_F1: 0.6549 - lr: 0.0010 - 1s/epoch - 15ms/step\n",
            "Epoch 7/30\n",
            "70/70 - 1s - loss: 0.4658 - F1: 0.6554 - val_loss: 0.8832 - val_F1: 0.6182 - lr: 0.0010 - 1s/epoch - 15ms/step\n",
            "Epoch 8/30\n",
            "70/70 - 1s - loss: 0.4487 - F1: 0.6746 - val_loss: 0.8748 - val_F1: 0.6360 - lr: 0.0010 - 1s/epoch - 16ms/step\n",
            "Epoch 9/30\n",
            "70/70 - 1s - loss: 0.4305 - F1: 0.6913 - val_loss: 0.9030 - val_F1: 0.6346 - lr: 0.0010 - 1s/epoch - 17ms/step\n",
            "Epoch 10/30\n",
            "70/70 - 1s - loss: 0.4168 - F1: 0.7068 - val_loss: 0.9512 - val_F1: 0.6094 - lr: 0.0010 - 1s/epoch - 15ms/step\n",
            "Epoch 11/30\n",
            "70/70 - 1s - loss: 0.3980 - F1: 0.7263 - val_loss: 0.9762 - val_F1: 0.6421 - lr: 0.0010 - 1s/epoch - 15ms/step\n",
            "Epoch 12/30\n",
            "70/70 - 1s - loss: 0.3811 - F1: 0.7430 - val_loss: 0.9801 - val_F1: 0.6403 - lr: 0.0010 - 1s/epoch - 16ms/step\n",
            "Epoch 13/30\n",
            "70/70 - 1s - loss: 0.3636 - F1: 0.7597 - val_loss: 1.0649 - val_F1: 0.6372 - lr: 0.0010 - 1s/epoch - 16ms/step\n",
            "Epoch 14/30\n",
            "70/70 - 1s - loss: 0.3427 - F1: 0.7771 - val_loss: 0.9923 - val_F1: 0.6668 - lr: 0.0010 - 1s/epoch - 15ms/step\n",
            "Epoch 15/30\n",
            "70/70 - 1s - loss: 0.3278 - F1: 0.7896 - val_loss: 1.1020 - val_F1: 0.6548 - lr: 0.0010 - 1s/epoch - 15ms/step\n",
            "Epoch 16/30\n",
            "70/70 - 1s - loss: 0.3115 - F1: 0.8029 - val_loss: 1.1676 - val_F1: 0.6735 - lr: 0.0010 - 1s/epoch - 16ms/step\n",
            "Epoch 17/30\n",
            "70/70 - 1s - loss: 0.2959 - F1: 0.8164 - val_loss: 1.2781 - val_F1: 0.6505 - lr: 0.0010 - 1s/epoch - 15ms/step\n",
            "Epoch 18/30\n",
            "70/70 - 1s - loss: 0.2793 - F1: 0.8290 - val_loss: 1.2828 - val_F1: 0.6731 - lr: 0.0010 - 1s/epoch - 16ms/step\n",
            "Epoch 19/30\n",
            "70/70 - 1s - loss: 0.2652 - F1: 0.8362 - val_loss: 1.3875 - val_F1: 0.6692 - lr: 0.0010 - 1s/epoch - 17ms/step\n",
            "Epoch 20/30\n",
            "\n",
            "Epoch 20: ReduceLROnPlateau reducing learning rate to 0.0005000000237487257.\n",
            "70/70 - 1s - loss: 0.2575 - F1: 0.8420 - val_loss: 1.3756 - val_F1: 0.6768 - lr: 0.0010 - 1s/epoch - 15ms/step\n",
            "Epoch 21/30\n",
            "70/70 - 1s - loss: 0.2253 - F1: 0.8663 - val_loss: 1.4795 - val_F1: 0.6884 - lr: 5.0000e-04 - 1s/epoch - 15ms/step\n",
            "Epoch 22/30\n",
            "70/70 - 1s - loss: 0.2083 - F1: 0.8760 - val_loss: 1.4969 - val_F1: 0.6946 - lr: 5.0000e-04 - 1s/epoch - 15ms/step\n",
            "Epoch 23/30\n",
            "70/70 - 1s - loss: 0.2005 - F1: 0.8821 - val_loss: 1.6536 - val_F1: 0.6760 - lr: 5.0000e-04 - 1s/epoch - 15ms/step\n",
            "Epoch 24/30\n",
            "70/70 - 1s - loss: 0.1924 - F1: 0.8864 - val_loss: 1.7051 - val_F1: 0.6859 - lr: 5.0000e-04 - 1s/epoch - 16ms/step\n",
            "Epoch 25/30\n",
            "70/70 - 1s - loss: 0.1848 - F1: 0.8912 - val_loss: 1.7879 - val_F1: 0.6782 - lr: 5.0000e-04 - 1s/epoch - 15ms/step\n",
            "Epoch 26/30\n",
            "70/70 - 1s - loss: 0.1766 - F1: 0.8964 - val_loss: 1.9538 - val_F1: 0.6670 - lr: 5.0000e-04 - 1s/epoch - 16ms/step\n",
            "Epoch 27/30\n",
            "70/70 - 1s - loss: 0.1697 - F1: 0.8997 - val_loss: 1.9943 - val_F1: 0.6750 - lr: 5.0000e-04 - 1s/epoch - 15ms/step\n",
            "Epoch 28/30\n",
            "70/70 - 1s - loss: 0.1696 - F1: 0.9001 - val_loss: 1.9641 - val_F1: 0.6779 - lr: 5.0000e-04 - 1s/epoch - 15ms/step\n",
            "Epoch 29/30\n",
            "70/70 - 1s - loss: 0.1642 - F1: 0.9041 - val_loss: 2.0056 - val_F1: 0.6911 - lr: 5.0000e-04 - 1s/epoch - 16ms/step\n",
            "Epoch 30/30\n",
            "70/70 - 1s - loss: 0.1593 - F1: 0.9087 - val_loss: 2.1764 - val_F1: 0.6777 - lr: 5.0000e-04 - 1s/epoch - 16ms/step\n"
          ]
        }
      ],
      "source": [
        "# from imblearn.over_sampling import SMOTE\n",
        "\n",
        "# sm = SMOTE(sampling_strategy='minority')\n",
        "# oversampled_train, oversampled_target = sm.fit_resample(transaction_train_padded, target)\n",
        "\n",
        "# import tensorflow as tf\n",
        "# model = tf.keras.Sequential([\n",
        "#     tf.keras.layers.Embedding(input_dim = len(tokenizer.word_index), \n",
        "#                               input_length = 55,\n",
        "#                               output_dim = 100),\n",
        "#     tf.keras.layers.Flatten(),\n",
        "#     tf.keras.layers.Dense(64, activation='relu'),\n",
        "#     tf.keras.layers.Dropout(0.2),\n",
        "#     tf.keras.layers.Dense(32, activation='relu'),\n",
        "#     tf.keras.layers.Dropout(0.2),\n",
        "#     tf.keras.layers.Dense(16, activation='relu'),\n",
        "#     tf.keras.layers.Dense(1, activation='sigmoid')\n",
        "# ])\n",
        "# model.compile(loss='binary_crossentropy',optimizer='adam',metrics=[F1])\n",
        "\n",
        "# with tf.device('/device:GPU:0'):\n",
        "#   history = model.fit(oversampled_train, oversampled_target, epochs=30, batch_size=1024,\n",
        "#                       validation_split=0.2, verbose=2,\n",
        "#                       callbacks=[reduce_lr, tensor_board])"
      ]
    },
    {
      "cell_type": "code",
      "execution_count": null,
      "metadata": {
        "colab": {
          "base_uri": "https://localhost:8080/"
        },
        "id": "sjTcPmXFKH5S",
        "outputId": "e23d8278-36f2-4a87-b698-42114b73c450"
      },
      "outputs": [
        {
          "name": "stdout",
          "output_type": "stream",
          "text": [
            "1475/1475 [==============================] - 5s 3ms/step - loss: 0.0747 - F1: 0.6837\n"
          ]
        },
        {
          "data": {
            "text/plain": [
              "[0.07474001497030258, 0.6837426424026489]"
            ]
          },
          "execution_count": 63,
          "metadata": {},
          "output_type": "execute_result"
        }
      ],
      "source": [
        "# model.evaluate(transaction_train_padded, target)"
      ]
    },
    {
      "cell_type": "code",
      "execution_count": null,
      "metadata": {
        "id": "aAw4rnpYP3x3"
      },
      "outputs": [],
      "source": [
        "# train_norm['vectorized_transaction'] = model.predict(transaction_train_padded)\n",
        "# test_norm['vectorized_transaction'] = model.predict(transaction_test_padded)"
      ]
    },
    {
      "cell_type": "markdown",
      "metadata": {
        "id": "TSV-sGbRQXdk"
      },
      "source": [
        "# Modelling"
      ]
    },
    {
      "cell_type": "markdown",
      "source": [
        "Create sum and length transaction feature"
      ],
      "metadata": {
        "id": "fGdxzNrzlf8L"
      }
    },
    {
      "cell_type": "code",
      "execution_count": null,
      "metadata": {
        "id": "gfbShSjAQaCZ"
      },
      "outputs": [],
      "source": [
        "train_norm['sum_transaction'] = train_norm['clean_log_transaction'].apply(lambda x: x.sum())\n",
        "test_norm['sum_transaction'] = test_norm['clean_log_transaction'].apply(lambda x: x.sum())"
      ]
    },
    {
      "cell_type": "code",
      "execution_count": null,
      "metadata": {
        "id": "HP7slodtQxh7"
      },
      "outputs": [],
      "source": [
        "train_norm['len_transaction'] = train_norm['clean_log_transaction'].apply(lambda x: len(x))\n",
        "test_norm['len_transaction'] = test_norm['clean_log_transaction'].apply(lambda x: len(x))"
      ]
    },
    {
      "cell_type": "code",
      "execution_count": null,
      "metadata": {
        "id": "8McR1h92RcyN"
      },
      "outputs": [],
      "source": [
        "train_norm.drop(\"clean_log_transaction\", axis=1, inplace=True)\n",
        "test_norm.drop(\"clean_log_transaction\", axis=1, inplace=True)\n",
        "\n",
        "train_norm.drop(\"vectorized_transaction\", axis=1, inplace=True)\n",
        "test_norm.drop(\"vectorized_transaction\", axis=1, inplace=True)"
      ]
    },
    {
      "cell_type": "markdown",
      "source": [
        "Scale and train catboost model"
      ],
      "metadata": {
        "id": "3PeaL_ZDli9a"
      }
    },
    {
      "cell_type": "code",
      "execution_count": null,
      "metadata": {
        "id": "e_OXSXdKQ2pc"
      },
      "outputs": [],
      "source": [
        "from sklearn.preprocessing import StandardScaler\n",
        "\n",
        "sd = StandardScaler()\n",
        "train_norm.iloc[:,-4:] = sd.fit_transform(train_norm.iloc[:,-4:]) \n",
        "test_norm.iloc[:,-4:] = sd.transform(test_norm.iloc[:,-4:]) "
      ]
    },
    {
      "cell_type": "code",
      "execution_count": null,
      "metadata": {
        "id": "cvxBagYtRlCf"
      },
      "outputs": [],
      "source": [
        "categorical_col = train_norm.select_dtypes(\"object\").columns"
      ]
    },
    {
      "cell_type": "code",
      "execution_count": null,
      "metadata": {
        "id": "iBRhuCzO5bdl"
      },
      "outputs": [],
      "source": [
        "cbc_model = CatBoostClassifier(random_state=1, silent=True, cat_features=categorical_col.values)"
      ]
    },
    {
      "cell_type": "code",
      "execution_count": null,
      "metadata": {
        "colab": {
          "base_uri": "https://localhost:8080/"
        },
        "id": "paKKy0n046EC",
        "outputId": "03d2d80b-e554-44fb-f9f6-ad0b818d0a27"
      },
      "outputs": [
        {
          "data": {
            "text/plain": [
              "0.5948664116490079"
            ]
          },
          "execution_count": 49,
          "metadata": {},
          "output_type": "execute_result"
        }
      ],
      "source": [
        "score = cross_val_score(cbc_model, train_norm, target, scoring=make_scorer(f1_score, average='macro'), cv=5, n_jobs=-1)\n",
        "score.mean()"
      ]
    },
    {
      "cell_type": "code",
      "execution_count": null,
      "metadata": {
        "colab": {
          "base_uri": "https://localhost:8080/"
        },
        "id": "J3aQ8newRv8o",
        "outputId": "9bff4d70-6fbb-437b-8c1b-5df53b5dec32"
      },
      "outputs": [
        {
          "data": {
            "text/plain": [
              "<catboost.core.CatBoostClassifier at 0x7fb6a6644c90>"
            ]
          },
          "execution_count": 53,
          "metadata": {},
          "output_type": "execute_result"
        }
      ],
      "source": [
        "cbc_model.fit(train_norm, target)"
      ]
    },
    {
      "cell_type": "code",
      "execution_count": null,
      "metadata": {
        "colab": {
          "base_uri": "https://localhost:8080/",
          "height": 488
        },
        "id": "n__c3T2IUTTP",
        "outputId": "2b9a439c-4c8c-4cec-b6bd-134779b7fdde"
      },
      "outputs": [
        {
          "data": {
            "text/html": [
              "\n",
              "  <div id=\"df-845620bb-19e3-427d-b445-2afe24b25d17\">\n",
              "    <div class=\"colab-df-container\">\n",
              "      <div>\n",
              "<style scoped>\n",
              "    .dataframe tbody tr th:only-of-type {\n",
              "        vertical-align: middle;\n",
              "    }\n",
              "\n",
              "    .dataframe tbody tr th {\n",
              "        vertical-align: top;\n",
              "    }\n",
              "\n",
              "    .dataframe thead th {\n",
              "        text-align: right;\n",
              "    }\n",
              "</style>\n",
              "<table border=\"1\" class=\"dataframe\">\n",
              "  <thead>\n",
              "    <tr style=\"text-align: right;\">\n",
              "      <th></th>\n",
              "      <th>feature_importance</th>\n",
              "      <th>feature_names</th>\n",
              "    </tr>\n",
              "  </thead>\n",
              "  <tbody>\n",
              "    <tr>\n",
              "      <th>0</th>\n",
              "      <td>12.791046</td>\n",
              "      <td>member_duration_days</td>\n",
              "    </tr>\n",
              "    <tr>\n",
              "      <th>5</th>\n",
              "      <td>11.975036</td>\n",
              "      <td>trip</td>\n",
              "    </tr>\n",
              "    <tr>\n",
              "      <th>1</th>\n",
              "      <td>10.335634</td>\n",
              "      <td>price</td>\n",
              "    </tr>\n",
              "    <tr>\n",
              "      <th>3</th>\n",
              "      <td>10.230059</td>\n",
              "      <td>account_id</td>\n",
              "    </tr>\n",
              "    <tr>\n",
              "      <th>8</th>\n",
              "      <td>8.873367</td>\n",
              "      <td>airlines_name</td>\n",
              "    </tr>\n",
              "    <tr>\n",
              "      <th>11</th>\n",
              "      <td>7.924534</td>\n",
              "      <td>padded_trans_1</td>\n",
              "    </tr>\n",
              "    <tr>\n",
              "      <th>12</th>\n",
              "      <td>7.491934</td>\n",
              "      <td>sum_transaction</td>\n",
              "    </tr>\n",
              "    <tr>\n",
              "      <th>13</th>\n",
              "      <td>7.244323</td>\n",
              "      <td>len_transaction</td>\n",
              "    </tr>\n",
              "    <tr>\n",
              "      <th>10</th>\n",
              "      <td>7.179583</td>\n",
              "      <td>padded_trans_0</td>\n",
              "    </tr>\n",
              "    <tr>\n",
              "      <th>7</th>\n",
              "      <td>5.401961</td>\n",
              "      <td>is_tx_promo</td>\n",
              "    </tr>\n",
              "    <tr>\n",
              "      <th>2</th>\n",
              "      <td>5.079444</td>\n",
              "      <td>no_of_seats</td>\n",
              "    </tr>\n",
              "    <tr>\n",
              "      <th>9</th>\n",
              "      <td>3.802249</td>\n",
              "      <td>visited_city</td>\n",
              "    </tr>\n",
              "    <tr>\n",
              "      <th>4</th>\n",
              "      <td>1.361667</td>\n",
              "      <td>gender</td>\n",
              "    </tr>\n",
              "    <tr>\n",
              "      <th>6</th>\n",
              "      <td>0.309163</td>\n",
              "      <td>service_class</td>\n",
              "    </tr>\n",
              "  </tbody>\n",
              "</table>\n",
              "</div>\n",
              "      <button class=\"colab-df-convert\" onclick=\"convertToInteractive('df-845620bb-19e3-427d-b445-2afe24b25d17')\"\n",
              "              title=\"Convert this dataframe to an interactive table.\"\n",
              "              style=\"display:none;\">\n",
              "        \n",
              "  <svg xmlns=\"http://www.w3.org/2000/svg\" height=\"24px\"viewBox=\"0 0 24 24\"\n",
              "       width=\"24px\">\n",
              "    <path d=\"M0 0h24v24H0V0z\" fill=\"none\"/>\n",
              "    <path d=\"M18.56 5.44l.94 2.06.94-2.06 2.06-.94-2.06-.94-.94-2.06-.94 2.06-2.06.94zm-11 1L8.5 8.5l.94-2.06 2.06-.94-2.06-.94L8.5 2.5l-.94 2.06-2.06.94zm10 10l.94 2.06.94-2.06 2.06-.94-2.06-.94-.94-2.06-.94 2.06-2.06.94z\"/><path d=\"M17.41 7.96l-1.37-1.37c-.4-.4-.92-.59-1.43-.59-.52 0-1.04.2-1.43.59L10.3 9.45l-7.72 7.72c-.78.78-.78 2.05 0 2.83L4 21.41c.39.39.9.59 1.41.59.51 0 1.02-.2 1.41-.59l7.78-7.78 2.81-2.81c.8-.78.8-2.07 0-2.86zM5.41 20L4 18.59l7.72-7.72 1.47 1.35L5.41 20z\"/>\n",
              "  </svg>\n",
              "      </button>\n",
              "      \n",
              "  <style>\n",
              "    .colab-df-container {\n",
              "      display:flex;\n",
              "      flex-wrap:wrap;\n",
              "      gap: 12px;\n",
              "    }\n",
              "\n",
              "    .colab-df-convert {\n",
              "      background-color: #E8F0FE;\n",
              "      border: none;\n",
              "      border-radius: 50%;\n",
              "      cursor: pointer;\n",
              "      display: none;\n",
              "      fill: #1967D2;\n",
              "      height: 32px;\n",
              "      padding: 0 0 0 0;\n",
              "      width: 32px;\n",
              "    }\n",
              "\n",
              "    .colab-df-convert:hover {\n",
              "      background-color: #E2EBFA;\n",
              "      box-shadow: 0px 1px 2px rgba(60, 64, 67, 0.3), 0px 1px 3px 1px rgba(60, 64, 67, 0.15);\n",
              "      fill: #174EA6;\n",
              "    }\n",
              "\n",
              "    [theme=dark] .colab-df-convert {\n",
              "      background-color: #3B4455;\n",
              "      fill: #D2E3FC;\n",
              "    }\n",
              "\n",
              "    [theme=dark] .colab-df-convert:hover {\n",
              "      background-color: #434B5C;\n",
              "      box-shadow: 0px 1px 3px 1px rgba(0, 0, 0, 0.15);\n",
              "      filter: drop-shadow(0px 1px 2px rgba(0, 0, 0, 0.3));\n",
              "      fill: #FFFFFF;\n",
              "    }\n",
              "  </style>\n",
              "\n",
              "      <script>\n",
              "        const buttonEl =\n",
              "          document.querySelector('#df-845620bb-19e3-427d-b445-2afe24b25d17 button.colab-df-convert');\n",
              "        buttonEl.style.display =\n",
              "          google.colab.kernel.accessAllowed ? 'block' : 'none';\n",
              "\n",
              "        async function convertToInteractive(key) {\n",
              "          const element = document.querySelector('#df-845620bb-19e3-427d-b445-2afe24b25d17');\n",
              "          const dataTable =\n",
              "            await google.colab.kernel.invokeFunction('convertToInteractive',\n",
              "                                                     [key], {});\n",
              "          if (!dataTable) return;\n",
              "\n",
              "          const docLinkHtml = 'Like what you see? Visit the ' +\n",
              "            '<a target=\"_blank\" href=https://colab.research.google.com/notebooks/data_table.ipynb>data table notebook</a>'\n",
              "            + ' to learn more about interactive tables.';\n",
              "          element.innerHTML = '';\n",
              "          dataTable['output_type'] = 'display_data';\n",
              "          await google.colab.output.renderOutput(dataTable, element);\n",
              "          const docLink = document.createElement('div');\n",
              "          docLink.innerHTML = docLinkHtml;\n",
              "          element.appendChild(docLink);\n",
              "        }\n",
              "      </script>\n",
              "    </div>\n",
              "  </div>\n",
              "  "
            ],
            "text/plain": [
              "    feature_importance         feature_names\n",
              "0            12.791046  member_duration_days\n",
              "5            11.975036                  trip\n",
              "1            10.335634                 price\n",
              "3            10.230059            account_id\n",
              "8             8.873367         airlines_name\n",
              "11            7.924534        padded_trans_1\n",
              "12            7.491934       sum_transaction\n",
              "13            7.244323       len_transaction\n",
              "10            7.179583        padded_trans_0\n",
              "7             5.401961           is_tx_promo\n",
              "2             5.079444           no_of_seats\n",
              "9             3.802249          visited_city\n",
              "4             1.361667                gender\n",
              "6             0.309163         service_class"
            ]
          },
          "execution_count": 54,
          "metadata": {},
          "output_type": "execute_result"
        }
      ],
      "source": [
        "pd.DataFrame({'feature_importance': cbc_model.feature_importances_, \n",
        "              'feature_names': train_norm.columns}).sort_values(by=['feature_importance'], \n",
        "                                                           ascending=False)"
      ]
    },
    {
      "cell_type": "code",
      "execution_count": null,
      "metadata": {
        "id": "kxg-PaY2SENC"
      },
      "outputs": [],
      "source": [
        "pred = cbc_model.predict(test_norm)"
      ]
    },
    {
      "cell_type": "code",
      "execution_count": null,
      "metadata": {
        "colab": {
          "base_uri": "https://localhost:8080/"
        },
        "id": "TgdTkSJVT2zL",
        "outputId": "bc751ea5-3aec-4607-bb3b-7375df45ac52"
      },
      "outputs": [
        {
          "data": {
            "text/plain": [
              "0    69894\n",
              "1      874\n",
              "dtype: int64"
            ]
          },
          "execution_count": 79,
          "metadata": {},
          "output_type": "execute_result"
        }
      ],
      "source": [
        "pd.Series(pred).value_counts()"
      ]
    },
    {
      "cell_type": "code",
      "execution_count": null,
      "metadata": {
        "colab": {
          "base_uri": "https://localhost:8080/",
          "height": 206
        },
        "id": "hYyBxYpLSMrL",
        "outputId": "04fa8110-84bb-4388-8113-d28477abc063"
      },
      "outputs": [
        {
          "data": {
            "text/html": [
              "\n",
              "  <div id=\"df-bc3737bc-0132-4bab-90c7-55537e562187\">\n",
              "    <div class=\"colab-df-container\">\n",
              "      <div>\n",
              "<style scoped>\n",
              "    .dataframe tbody tr th:only-of-type {\n",
              "        vertical-align: middle;\n",
              "    }\n",
              "\n",
              "    .dataframe tbody tr th {\n",
              "        vertical-align: top;\n",
              "    }\n",
              "\n",
              "    .dataframe thead th {\n",
              "        text-align: right;\n",
              "    }\n",
              "</style>\n",
              "<table border=\"1\" class=\"dataframe\">\n",
              "  <thead>\n",
              "    <tr style=\"text-align: right;\">\n",
              "      <th></th>\n",
              "      <th>order_id</th>\n",
              "      <th>is_cross_sell</th>\n",
              "    </tr>\n",
              "  </thead>\n",
              "  <tbody>\n",
              "    <tr>\n",
              "      <th>0</th>\n",
              "      <td>02efb2c726c1e8d4f4864a9b3caa8e6b</td>\n",
              "      <td>0</td>\n",
              "    </tr>\n",
              "    <tr>\n",
              "      <th>1</th>\n",
              "      <td>eaad55e145547cc9e66e99c46632c208</td>\n",
              "      <td>0</td>\n",
              "    </tr>\n",
              "    <tr>\n",
              "      <th>2</th>\n",
              "      <td>a6b998a7d55e3b83481f4b87f209a127</td>\n",
              "      <td>0</td>\n",
              "    </tr>\n",
              "    <tr>\n",
              "      <th>3</th>\n",
              "      <td>b8a015f14e20263fe4114f7ae7c60f00</td>\n",
              "      <td>0</td>\n",
              "    </tr>\n",
              "    <tr>\n",
              "      <th>4</th>\n",
              "      <td>ea7285763494be096bde7ca1b97c9075</td>\n",
              "      <td>0</td>\n",
              "    </tr>\n",
              "  </tbody>\n",
              "</table>\n",
              "</div>\n",
              "      <button class=\"colab-df-convert\" onclick=\"convertToInteractive('df-bc3737bc-0132-4bab-90c7-55537e562187')\"\n",
              "              title=\"Convert this dataframe to an interactive table.\"\n",
              "              style=\"display:none;\">\n",
              "        \n",
              "  <svg xmlns=\"http://www.w3.org/2000/svg\" height=\"24px\"viewBox=\"0 0 24 24\"\n",
              "       width=\"24px\">\n",
              "    <path d=\"M0 0h24v24H0V0z\" fill=\"none\"/>\n",
              "    <path d=\"M18.56 5.44l.94 2.06.94-2.06 2.06-.94-2.06-.94-.94-2.06-.94 2.06-2.06.94zm-11 1L8.5 8.5l.94-2.06 2.06-.94-2.06-.94L8.5 2.5l-.94 2.06-2.06.94zm10 10l.94 2.06.94-2.06 2.06-.94-2.06-.94-.94-2.06-.94 2.06-2.06.94z\"/><path d=\"M17.41 7.96l-1.37-1.37c-.4-.4-.92-.59-1.43-.59-.52 0-1.04.2-1.43.59L10.3 9.45l-7.72 7.72c-.78.78-.78 2.05 0 2.83L4 21.41c.39.39.9.59 1.41.59.51 0 1.02-.2 1.41-.59l7.78-7.78 2.81-2.81c.8-.78.8-2.07 0-2.86zM5.41 20L4 18.59l7.72-7.72 1.47 1.35L5.41 20z\"/>\n",
              "  </svg>\n",
              "      </button>\n",
              "      \n",
              "  <style>\n",
              "    .colab-df-container {\n",
              "      display:flex;\n",
              "      flex-wrap:wrap;\n",
              "      gap: 12px;\n",
              "    }\n",
              "\n",
              "    .colab-df-convert {\n",
              "      background-color: #E8F0FE;\n",
              "      border: none;\n",
              "      border-radius: 50%;\n",
              "      cursor: pointer;\n",
              "      display: none;\n",
              "      fill: #1967D2;\n",
              "      height: 32px;\n",
              "      padding: 0 0 0 0;\n",
              "      width: 32px;\n",
              "    }\n",
              "\n",
              "    .colab-df-convert:hover {\n",
              "      background-color: #E2EBFA;\n",
              "      box-shadow: 0px 1px 2px rgba(60, 64, 67, 0.3), 0px 1px 3px 1px rgba(60, 64, 67, 0.15);\n",
              "      fill: #174EA6;\n",
              "    }\n",
              "\n",
              "    [theme=dark] .colab-df-convert {\n",
              "      background-color: #3B4455;\n",
              "      fill: #D2E3FC;\n",
              "    }\n",
              "\n",
              "    [theme=dark] .colab-df-convert:hover {\n",
              "      background-color: #434B5C;\n",
              "      box-shadow: 0px 1px 3px 1px rgba(0, 0, 0, 0.15);\n",
              "      filter: drop-shadow(0px 1px 2px rgba(0, 0, 0, 0.3));\n",
              "      fill: #FFFFFF;\n",
              "    }\n",
              "  </style>\n",
              "\n",
              "      <script>\n",
              "        const buttonEl =\n",
              "          document.querySelector('#df-bc3737bc-0132-4bab-90c7-55537e562187 button.colab-df-convert');\n",
              "        buttonEl.style.display =\n",
              "          google.colab.kernel.accessAllowed ? 'block' : 'none';\n",
              "\n",
              "        async function convertToInteractive(key) {\n",
              "          const element = document.querySelector('#df-bc3737bc-0132-4bab-90c7-55537e562187');\n",
              "          const dataTable =\n",
              "            await google.colab.kernel.invokeFunction('convertToInteractive',\n",
              "                                                     [key], {});\n",
              "          if (!dataTable) return;\n",
              "\n",
              "          const docLinkHtml = 'Like what you see? Visit the ' +\n",
              "            '<a target=\"_blank\" href=https://colab.research.google.com/notebooks/data_table.ipynb>data table notebook</a>'\n",
              "            + ' to learn more about interactive tables.';\n",
              "          element.innerHTML = '';\n",
              "          dataTable['output_type'] = 'display_data';\n",
              "          await google.colab.output.renderOutput(dataTable, element);\n",
              "          const docLink = document.createElement('div');\n",
              "          docLink.innerHTML = docLinkHtml;\n",
              "          element.appendChild(docLink);\n",
              "        }\n",
              "      </script>\n",
              "    </div>\n",
              "  </div>\n",
              "  "
            ],
            "text/plain": [
              "                           order_id  is_cross_sell\n",
              "0  02efb2c726c1e8d4f4864a9b3caa8e6b              0\n",
              "1  eaad55e145547cc9e66e99c46632c208              0\n",
              "2  a6b998a7d55e3b83481f4b87f209a127              0\n",
              "3  b8a015f14e20263fe4114f7ae7c60f00              0\n",
              "4  ea7285763494be096bde7ca1b97c9075              0"
            ]
          },
          "execution_count": 80,
          "metadata": {},
          "output_type": "execute_result"
        }
      ],
      "source": [
        "submission = pd.DataFrame({'order_id':test.order_id,\n",
        "                           'is_cross_sell':pred})\n",
        "submission.to_csv('sub.csv', index=False)\n",
        "submission.head()"
      ]
    },
    {
      "cell_type": "markdown",
      "metadata": {
        "id": "ifEhFEc6jcTR"
      },
      "source": [
        "# Tuning"
      ]
    },
    {
      "cell_type": "markdown",
      "source": [
        "Hyperparameter tuning"
      ],
      "metadata": {
        "id": "rD-4klkUlpNr"
      }
    },
    {
      "cell_type": "code",
      "execution_count": null,
      "metadata": {
        "colab": {
          "base_uri": "https://localhost:8080/"
        },
        "id": "eYjHylvAl2B7",
        "outputId": "6f64eae9-4153-480c-e62d-ee47e28f67ce"
      },
      "outputs": [
        {
          "name": "stdout",
          "output_type": "stream",
          "text": [
            "\u001b[K     |████████████████████████████████| 308 kB 5.0 MB/s \n",
            "\u001b[K     |████████████████████████████████| 81 kB 7.7 MB/s \n",
            "\u001b[K     |████████████████████████████████| 210 kB 44.8 MB/s \n",
            "\u001b[K     |████████████████████████████████| 78 kB 6.2 MB/s \n",
            "\u001b[K     |████████████████████████████████| 146 kB 44.9 MB/s \n",
            "\u001b[K     |████████████████████████████████| 112 kB 45.1 MB/s \n",
            "\u001b[K     |████████████████████████████████| 49 kB 4.9 MB/s \n",
            "\u001b[?25h  Building wheel for pyperclip (setup.py) ... \u001b[?25l\u001b[?25hdone\n"
          ]
        }
      ],
      "source": [
        "pip install optuna --quiet"
      ]
    },
    {
      "cell_type": "code",
      "execution_count": null,
      "metadata": {
        "id": "v_wP4fnfWYEv"
      },
      "outputs": [],
      "source": [
        "from sklearn.model_selection import train_test_split\n",
        "\n",
        "data_train, data_val, target_train, target_val = train_test_split(train_norm, target, \n",
        "                                                                  test_size=0.15, random_state=42)"
      ]
    },
    {
      "cell_type": "code",
      "execution_count": null,
      "metadata": {
        "id": "wYnE647mjdSL"
      },
      "outputs": [],
      "source": [
        "import optuna\n",
        "\n",
        "from sklearn.metrics import f1_score\n",
        "from typing import Any\n",
        "from typing import Optional\n",
        "\n",
        "from catboost import CatBoostClassifier\n",
        "\n",
        "from sklearn.base import ClassifierMixin\n",
        "\n",
        "\n",
        "class CatBoostPruningCallback(object):\n",
        "\n",
        "    def __init__(\n",
        "        self, trial: optuna.trial.Trial, metric: str, eval_set_index: Optional[int] = None\n",
        "    ) -> None:\n",
        "        default_valid_name = \"validation\"\n",
        "        self._trial = trial\n",
        "        self._metric = metric\n",
        "        if eval_set_index is None:\n",
        "            self._valid_name = default_valid_name\n",
        "        else:\n",
        "            self._valid_name = default_valid_name + \"_\" + str(eval_set_index)\n",
        "        self._pruned = False\n",
        "        self._message = \"\"\n",
        "\n",
        "    def after_iteration(self, info: Any) -> bool:\n",
        "        step = info.iteration - 1\n",
        "        if self._valid_name not in info.metrics:\n",
        "            raise ValueError(\n",
        "                'The entry associated with the validation name \"{}\" '\n",
        "                \"is not found in the evaluation result list {}.\".format(self._valid_name, info)\n",
        "            )\n",
        "        metrics = info.metrics[self._valid_name]\n",
        "        if self._metric not in metrics:\n",
        "            raise ValueError(\n",
        "                'The entry associated with the metric name \"{}\" '\n",
        "                \"is not found in the evaluation result list {}.\".format(self._metric, info)\n",
        "            )\n",
        "        current_score = metrics[self._metric][-1]\n",
        "        self._trial.report(current_score, step=step)\n",
        "        if self._trial.should_prune():\n",
        "            self._message = \"Trial was pruned at iteration {}.\".format(step)\n",
        "            self._pruned = True\n",
        "            return False\n",
        "        return True\n",
        "\n",
        "    def check_pruned(self) -> None:\n",
        "        \"\"\"Raise :class:`optuna.TrialPruned` manually if the CatBoost optimization is pruned.\"\"\"\n",
        "        if self._pruned:\n",
        "            raise optuna.TrialPruned(self._message)\n",
        "\n",
        "\n",
        "def objective(trial: optuna.Trial) -> float:\n",
        "    param = {\n",
        "        # \"objective\": trial.suggest_categorical(\"objective\", [\"Logloss\", \"CrossEntropy\"]),\n",
        "        \"colsample_bylevel\": trial.suggest_float(\"colsample_bylevel\", 0.01, 0.1, log=True),\n",
        "        \"l2_leaf_reg\": trial.suggest_loguniform(\"l2_leaf_reg\", 1e-2, 1e0),\n",
        "        \"depth\": trial.suggest_int(\"depth\", 4, 10),\n",
        "        \"boosting_type\": trial.suggest_categorical(\"boosting_type\", [\"Ordered\", \"Plain\"]),\n",
        "        \"bootstrap_type\": trial.suggest_categorical(\"bootstrap_type\", [\"Bayesian\", \"Bernoulli\", \"MVS\"]),\n",
        "        \"min_data_in_leaf\": trial.suggest_int(\"min_data_in_leaf\", 2, 20),\n",
        "        \"one_hot_max_size\": trial.suggest_int(\"one_hot_max_size\", 2, 20),\n",
        "        \"scale_pos_weight\":trial.suggest_float(\"scale_pos_weight\", 2,5),\n",
        "        \"eval_metric\": \"Accuracy\"\n",
        "    }\n",
        "\n",
        "    if param[\"bootstrap_type\"] == \"Bayesian\":\n",
        "        param[\"bagging_temperature\"] = trial.suggest_float(\"bagging_temperature\", 0, 10)\n",
        "    elif param[\"bootstrap_type\"] == \"Bernoulli\":\n",
        "        param[\"subsample\"] = trial.suggest_float(\"subsample\", 0.1, 1, log=True)\n",
        "\n",
        "    gbm = CatBoostClassifier(**param)\n",
        "\n",
        "    pruning_callback = CatBoostPruningCallback(trial, \"Accuracy\")\n",
        "    \n",
        "    gbm.fit(\n",
        "        data_train,target_train,\n",
        "        eval_set=[(data_val, target_val)],\n",
        "        verbose=0,\n",
        "        early_stopping_rounds=100,\n",
        "        callbacks=[pruning_callback],\n",
        "        cat_features=categorical_col.values\n",
        "    )\n",
        "\n",
        "    # evoke pruning manually.\n",
        "    pruning_callback.check_pruned()\n",
        "\n",
        "    preds = gbm.predict(data_val)\n",
        "    score = f1_score(target_val, preds, average=\"macro\")\n",
        "\n",
        "    return score"
      ]
    },
    {
      "cell_type": "code",
      "execution_count": null,
      "metadata": {
        "colab": {
          "base_uri": "https://localhost:8080/"
        },
        "id": "VduTWKsqjjGB",
        "outputId": "ea0927d0-101f-4fe6-ddfc-7e9c8f781b37"
      },
      "outputs": [
        {
          "name": "stderr",
          "output_type": "stream",
          "text": [
            "\u001b[32m[I 2022-05-16 14:58:06,554]\u001b[0m A new study created in memory with name: no-name-a0cc5c1a-92ce-4cff-b530-355d44cb4a4b\u001b[0m\n",
            "\u001b[32m[I 2022-05-16 14:58:18,077]\u001b[0m Trial 0 finished with value: 0.6050825085418811 and parameters: {'colsample_bylevel': 0.06950332873508513, 'l2_leaf_reg': 0.040744199819470334, 'depth': 8, 'boosting_type': 'Ordered', 'bootstrap_type': 'MVS', 'min_data_in_leaf': 12, 'one_hot_max_size': 2, 'scale_pos_weight': 3.277708203859085}. Best is trial 0 with value: 0.6050825085418811.\u001b[0m\n",
            "\u001b[32m[I 2022-05-16 14:58:21,261]\u001b[0m Trial 1 finished with value: 0.4862058951648032 and parameters: {'colsample_bylevel': 0.046819162908042576, 'l2_leaf_reg': 0.08465184967414692, 'depth': 8, 'boosting_type': 'Plain', 'bootstrap_type': 'MVS', 'min_data_in_leaf': 19, 'one_hot_max_size': 2, 'scale_pos_weight': 4.554647882573268}. Best is trial 0 with value: 0.6050825085418811.\u001b[0m\n",
            "\u001b[32m[I 2022-05-16 14:58:24,080]\u001b[0m Trial 2 finished with value: 0.4862058951648032 and parameters: {'colsample_bylevel': 0.026938012211736955, 'l2_leaf_reg': 0.024852649293487645, 'depth': 4, 'boosting_type': 'Ordered', 'bootstrap_type': 'Bayesian', 'min_data_in_leaf': 6, 'one_hot_max_size': 13, 'scale_pos_weight': 4.655549289655648, 'bagging_temperature': 9.313266609129629}. Best is trial 0 with value: 0.6050825085418811.\u001b[0m\n",
            "\u001b[32m[I 2022-05-16 14:58:28,498]\u001b[0m Trial 3 finished with value: 0.5921225534269313 and parameters: {'colsample_bylevel': 0.09914448470971864, 'l2_leaf_reg': 0.2733323158047028, 'depth': 10, 'boosting_type': 'Ordered', 'bootstrap_type': 'Bernoulli', 'min_data_in_leaf': 18, 'one_hot_max_size': 6, 'scale_pos_weight': 4.461300414243648, 'subsample': 0.27083949461812284}. Best is trial 0 with value: 0.6050825085418811.\u001b[0m\n",
            "\u001b[32m[I 2022-05-16 14:58:30,683]\u001b[0m Trial 4 finished with value: 0.4862058951648032 and parameters: {'colsample_bylevel': 0.015508592249020268, 'l2_leaf_reg': 0.014240465697578628, 'depth': 7, 'boosting_type': 'Plain', 'bootstrap_type': 'MVS', 'min_data_in_leaf': 3, 'one_hot_max_size': 12, 'scale_pos_weight': 2.6783378342122584}. Best is trial 0 with value: 0.6050825085418811.\u001b[0m\n",
            "\u001b[32m[I 2022-05-16 14:58:42,325]\u001b[0m Trial 5 finished with value: 0.6056523912935619 and parameters: {'colsample_bylevel': 0.09388609529336342, 'l2_leaf_reg': 0.011412185340345308, 'depth': 7, 'boosting_type': 'Ordered', 'bootstrap_type': 'MVS', 'min_data_in_leaf': 13, 'one_hot_max_size': 15, 'scale_pos_weight': 2.2886531009588387}. Best is trial 5 with value: 0.6056523912935619.\u001b[0m\n",
            "\u001b[32m[I 2022-05-16 14:58:42,642]\u001b[0m Trial 6 pruned. Trial was pruned at iteration 5.\u001b[0m\n",
            "\u001b[32m[I 2022-05-16 14:58:45,423]\u001b[0m Trial 7 finished with value: 0.4862058951648032 and parameters: {'colsample_bylevel': 0.012047409514329716, 'l2_leaf_reg': 0.05085189212214735, 'depth': 8, 'boosting_type': 'Ordered', 'bootstrap_type': 'Bernoulli', 'min_data_in_leaf': 16, 'one_hot_max_size': 8, 'scale_pos_weight': 2.5490314505652067, 'subsample': 0.2346185419679895}. Best is trial 5 with value: 0.6056523912935619.\u001b[0m\n",
            "\u001b[32m[I 2022-05-16 14:58:45,733]\u001b[0m Trial 8 pruned. Trial was pruned at iteration 5.\u001b[0m\n",
            "\u001b[32m[I 2022-05-16 14:58:48,245]\u001b[0m Trial 9 finished with value: 0.4862058951648032 and parameters: {'colsample_bylevel': 0.0616906041003045, 'l2_leaf_reg': 0.21212286758690874, 'depth': 4, 'boosting_type': 'Plain', 'bootstrap_type': 'Bayesian', 'min_data_in_leaf': 5, 'one_hot_max_size': 3, 'scale_pos_weight': 3.1662828323810457, 'bagging_temperature': 1.9866360411925954}. Best is trial 5 with value: 0.6056523912935619.\u001b[0m\n",
            "\u001b[32m[I 2022-05-16 14:58:51,234]\u001b[0m Trial 10 finished with value: 0.4862058951648032 and parameters: {'colsample_bylevel': 0.02753606682360349, 'l2_leaf_reg': 0.01382665032625492, 'depth': 6, 'boosting_type': 'Ordered', 'bootstrap_type': 'MVS', 'min_data_in_leaf': 11, 'one_hot_max_size': 20, 'scale_pos_weight': 2.0002074312705345}. Best is trial 5 with value: 0.6056523912935619.\u001b[0m\n",
            "\u001b[32m[I 2022-05-16 14:58:51,619]\u001b[0m Trial 11 pruned. Trial was pruned at iteration 5.\u001b[0m\n",
            "\u001b[32m[I 2022-05-16 14:58:55,024]\u001b[0m Trial 12 finished with value: 0.4862058951648032 and parameters: {'colsample_bylevel': 0.0680246681024355, 'l2_leaf_reg': 0.10026562155769665, 'depth': 6, 'boosting_type': 'Ordered', 'bootstrap_type': 'MVS', 'min_data_in_leaf': 12, 'one_hot_max_size': 9, 'scale_pos_weight': 2.0164860776085054}. Best is trial 5 with value: 0.6056523912935619.\u001b[0m\n",
            "\u001b[32m[I 2022-05-16 14:58:55,397]\u001b[0m Trial 13 pruned. Trial was pruned at iteration 5.\u001b[0m\n",
            "\u001b[32m[I 2022-05-16 14:58:55,774]\u001b[0m Trial 14 pruned. Trial was pruned at iteration 5.\u001b[0m\n",
            "\u001b[32m[I 2022-05-16 14:58:59,176]\u001b[0m Trial 15 finished with value: 0.4862058951648032 and parameters: {'colsample_bylevel': 0.0794440901441943, 'l2_leaf_reg': 0.05936608488945975, 'depth': 5, 'boosting_type': 'Ordered', 'bootstrap_type': 'MVS', 'min_data_in_leaf': 9, 'one_hot_max_size': 10, 'scale_pos_weight': 2.4961117574153735}. Best is trial 5 with value: 0.6056523912935619.\u001b[0m\n",
            "\u001b[32m[I 2022-05-16 14:58:59,546]\u001b[0m Trial 16 pruned. Trial was pruned at iteration 5.\u001b[0m\n",
            "\u001b[32m[I 2022-05-16 14:58:59,921]\u001b[0m Trial 17 pruned. Trial was pruned at iteration 5.\u001b[0m\n",
            "\u001b[32m[I 2022-05-16 14:59:00,351]\u001b[0m Trial 18 pruned. Trial was pruned at iteration 5.\u001b[0m\n",
            "\u001b[32m[I 2022-05-16 14:59:03,666]\u001b[0m Trial 19 finished with value: 0.4862058951648032 and parameters: {'colsample_bylevel': 0.07659488802308966, 'l2_leaf_reg': 0.010019485007003785, 'depth': 7, 'boosting_type': 'Ordered', 'bootstrap_type': 'Bayesian', 'min_data_in_leaf': 16, 'one_hot_max_size': 14, 'scale_pos_weight': 2.318290211270042, 'bagging_temperature': 0.027041481709664694}. Best is trial 5 with value: 0.6056523912935619.\u001b[0m\n",
            "\u001b[32m[I 2022-05-16 14:59:04,056]\u001b[0m Trial 20 pruned. Trial was pruned at iteration 5.\u001b[0m\n",
            "\u001b[32m[I 2022-05-16 14:59:04,444]\u001b[0m Trial 21 pruned. Trial was pruned at iteration 5.\u001b[0m\n",
            "\u001b[32m[I 2022-05-16 14:59:04,848]\u001b[0m Trial 22 pruned. Trial was pruned at iteration 5.\u001b[0m\n",
            "\u001b[32m[I 2022-05-16 14:59:05,229]\u001b[0m Trial 23 pruned. Trial was pruned at iteration 5.\u001b[0m\n",
            "\u001b[32m[I 2022-05-16 14:59:05,613]\u001b[0m Trial 24 pruned. Trial was pruned at iteration 5.\u001b[0m\n",
            "\u001b[32m[I 2022-05-16 14:59:06,031]\u001b[0m Trial 25 pruned. Trial was pruned at iteration 5.\u001b[0m\n",
            "\u001b[32m[I 2022-05-16 14:59:08,502]\u001b[0m Trial 26 finished with value: 0.4862058951648032 and parameters: {'colsample_bylevel': 0.06268462823507302, 'l2_leaf_reg': 0.5030987006660123, 'depth': 10, 'boosting_type': 'Plain', 'bootstrap_type': 'MVS', 'min_data_in_leaf': 20, 'one_hot_max_size': 9, 'scale_pos_weight': 2.261723777456218}. Best is trial 5 with value: 0.6056523912935619.\u001b[0m\n",
            "\u001b[32m[I 2022-05-16 14:59:08,888]\u001b[0m Trial 27 pruned. Trial was pruned at iteration 5.\u001b[0m\n",
            "\u001b[32m[I 2022-05-16 14:59:09,267]\u001b[0m Trial 28 pruned. Trial was pruned at iteration 5.\u001b[0m\n",
            "\u001b[32m[I 2022-05-16 14:59:09,610]\u001b[0m Trial 29 pruned. Trial was pruned at iteration 5.\u001b[0m\n",
            "\u001b[32m[I 2022-05-16 14:59:09,991]\u001b[0m Trial 30 pruned. Trial was pruned at iteration 5.\u001b[0m\n",
            "\u001b[32m[I 2022-05-16 14:59:12,445]\u001b[0m Trial 31 finished with value: 0.4862058951648032 and parameters: {'colsample_bylevel': 0.05967768302899934, 'l2_leaf_reg': 0.5508655391102768, 'depth': 10, 'boosting_type': 'Plain', 'bootstrap_type': 'MVS', 'min_data_in_leaf': 20, 'one_hot_max_size': 10, 'scale_pos_weight': 2.2749218999444634}. Best is trial 5 with value: 0.6056523912935619.\u001b[0m\n",
            "\u001b[32m[I 2022-05-16 14:59:15,078]\u001b[0m Trial 32 finished with value: 0.4862058951648032 and parameters: {'colsample_bylevel': 0.08484547257943571, 'l2_leaf_reg': 0.8373997755081299, 'depth': 10, 'boosting_type': 'Plain', 'bootstrap_type': 'MVS', 'min_data_in_leaf': 19, 'one_hot_max_size': 8, 'scale_pos_weight': 2.360884395115184}. Best is trial 5 with value: 0.6056523912935619.\u001b[0m\n",
            "\u001b[32m[I 2022-05-16 14:59:18,137]\u001b[0m Trial 33 finished with value: 0.4862058951648032 and parameters: {'colsample_bylevel': 0.035032721358290074, 'l2_leaf_reg': 0.3336210058734682, 'depth': 9, 'boosting_type': 'Plain', 'bootstrap_type': 'MVS', 'min_data_in_leaf': 20, 'one_hot_max_size': 12, 'scale_pos_weight': 2.1917747196005113}. Best is trial 5 with value: 0.6056523912935619.\u001b[0m\n",
            "\u001b[32m[I 2022-05-16 14:59:19,170]\u001b[0m Trial 34 pruned. Trial was pruned at iteration 5.\u001b[0m\n",
            "\u001b[32m[I 2022-05-16 14:59:19,502]\u001b[0m Trial 35 pruned. Trial was pruned at iteration 5.\u001b[0m\n",
            "\u001b[32m[I 2022-05-16 14:59:19,843]\u001b[0m Trial 36 pruned. Trial was pruned at iteration 5.\u001b[0m\n",
            "\u001b[32m[I 2022-05-16 14:59:20,188]\u001b[0m Trial 37 pruned. Trial was pruned at iteration 5.\u001b[0m\n",
            "\u001b[32m[I 2022-05-16 14:59:20,569]\u001b[0m Trial 38 pruned. Trial was pruned at iteration 5.\u001b[0m\n",
            "\u001b[32m[I 2022-05-16 14:59:22,739]\u001b[0m Trial 39 finished with value: 0.4862058951648032 and parameters: {'colsample_bylevel': 0.018944001541746504, 'l2_leaf_reg': 0.30411985105718303, 'depth': 9, 'boosting_type': 'Plain', 'bootstrap_type': 'Bernoulli', 'min_data_in_leaf': 4, 'one_hot_max_size': 13, 'scale_pos_weight': 2.1392118432979235, 'subsample': 0.17428137885093478}. Best is trial 5 with value: 0.6056523912935619.\u001b[0m\n",
            "\u001b[32m[I 2022-05-16 14:59:23,106]\u001b[0m Trial 40 pruned. Trial was pruned at iteration 5.\u001b[0m\n",
            "\u001b[32m[I 2022-05-16 14:59:25,320]\u001b[0m Trial 41 finished with value: 0.4862058951648032 and parameters: {'colsample_bylevel': 0.021918271758060392, 'l2_leaf_reg': 0.2736935853505129, 'depth': 10, 'boosting_type': 'Plain', 'bootstrap_type': 'Bernoulli', 'min_data_in_leaf': 4, 'one_hot_max_size': 13, 'scale_pos_weight': 2.1220093902152444, 'subsample': 0.1821109287593247}. Best is trial 5 with value: 0.6056523912935619.\u001b[0m\n",
            "\u001b[32m[I 2022-05-16 14:59:27,498]\u001b[0m Trial 42 finished with value: 0.4862058951648032 and parameters: {'colsample_bylevel': 0.014516751879070287, 'l2_leaf_reg': 0.3802913912859071, 'depth': 9, 'boosting_type': 'Plain', 'bootstrap_type': 'Bernoulli', 'min_data_in_leaf': 2, 'one_hot_max_size': 12, 'scale_pos_weight': 2.1563187156681525, 'subsample': 0.1691473851905612}. Best is trial 5 with value: 0.6056523912935619.\u001b[0m\n",
            "\u001b[32m[I 2022-05-16 14:59:27,830]\u001b[0m Trial 43 pruned. Trial was pruned at iteration 5.\u001b[0m\n",
            "\u001b[32m[I 2022-05-16 14:59:28,202]\u001b[0m Trial 44 pruned. Trial was pruned at iteration 5.\u001b[0m\n",
            "\u001b[32m[I 2022-05-16 14:59:28,591]\u001b[0m Trial 45 pruned. Trial was pruned at iteration 5.\u001b[0m\n",
            "\u001b[32m[I 2022-05-16 14:59:44,192]\u001b[0m Trial 46 finished with value: 0.603210472429428 and parameters: {'colsample_bylevel': 0.087197740059645, 'l2_leaf_reg': 0.5193605604943136, 'depth': 10, 'boosting_type': 'Plain', 'bootstrap_type': 'MVS', 'min_data_in_leaf': 20, 'one_hot_max_size': 10, 'scale_pos_weight': 2.2678768021817897}. Best is trial 5 with value: 0.6056523912935619.\u001b[0m\n",
            "\u001b[32m[I 2022-05-16 14:59:44,570]\u001b[0m Trial 47 pruned. Trial was pruned at iteration 5.\u001b[0m\n",
            "\u001b[32m[I 2022-05-16 14:59:44,921]\u001b[0m Trial 48 pruned. Trial was pruned at iteration 5.\u001b[0m\n",
            "\u001b[32m[I 2022-05-16 14:59:47,257]\u001b[0m Trial 49 finished with value: 0.4862058951648032 and parameters: {'colsample_bylevel': 0.032526241759684514, 'l2_leaf_reg': 0.17519183502909283, 'depth': 9, 'boosting_type': 'Plain', 'bootstrap_type': 'MVS', 'min_data_in_leaf': 18, 'one_hot_max_size': 10, 'scale_pos_weight': 2.056799760438507}. Best is trial 5 with value: 0.6056523912935619.\u001b[0m\n",
            "\u001b[32m[I 2022-05-16 14:59:47,590]\u001b[0m Trial 50 pruned. Trial was pruned at iteration 5.\u001b[0m\n",
            "\u001b[32m[I 2022-05-16 14:59:49,989]\u001b[0m Trial 51 finished with value: 0.4862058951648032 and parameters: {'colsample_bylevel': 0.03771324850505894, 'l2_leaf_reg': 0.6412861094608959, 'depth': 10, 'boosting_type': 'Plain', 'bootstrap_type': 'MVS', 'min_data_in_leaf': 20, 'one_hot_max_size': 11, 'scale_pos_weight': 2.2286366643782576}. Best is trial 5 with value: 0.6056523912935619.\u001b[0m\n",
            "\u001b[32m[I 2022-05-16 14:59:52,232]\u001b[0m Trial 52 finished with value: 0.4862058951648032 and parameters: {'colsample_bylevel': 0.010473492637430623, 'l2_leaf_reg': 0.1881543155628792, 'depth': 9, 'boosting_type': 'Plain', 'bootstrap_type': 'MVS', 'min_data_in_leaf': 15, 'one_hot_max_size': 10, 'scale_pos_weight': 2.020764637069601}. Best is trial 5 with value: 0.6056523912935619.\u001b[0m\n",
            "\u001b[32m[I 2022-05-16 14:59:52,584]\u001b[0m Trial 53 pruned. Trial was pruned at iteration 5.\u001b[0m\n",
            "\u001b[32m[I 2022-05-16 14:59:54,932]\u001b[0m Trial 54 finished with value: 0.4862058951648032 and parameters: {'colsample_bylevel': 0.038281366295737, 'l2_leaf_reg': 0.11800434960165967, 'depth': 10, 'boosting_type': 'Plain', 'bootstrap_type': 'MVS', 'min_data_in_leaf': 19, 'one_hot_max_size': 11, 'scale_pos_weight': 2.0062945730826454}. Best is trial 5 with value: 0.6056523912935619.\u001b[0m\n",
            "\u001b[32m[I 2022-05-16 15:00:10,918]\u001b[0m Trial 55 finished with value: 0.6127350558229557 and parameters: {'colsample_bylevel': 0.08908426637103391, 'l2_leaf_reg': 0.6107873397068175, 'depth': 10, 'boosting_type': 'Ordered', 'bootstrap_type': 'MVS', 'min_data_in_leaf': 15, 'one_hot_max_size': 6, 'scale_pos_weight': 2.259791773792851}. Best is trial 55 with value: 0.6127350558229557.\u001b[0m\n",
            "\u001b[32m[I 2022-05-16 15:00:11,839]\u001b[0m Trial 56 pruned. Trial was pruned at iteration 5.\u001b[0m\n",
            "\u001b[32m[I 2022-05-16 15:00:12,273]\u001b[0m Trial 57 pruned. Trial was pruned at iteration 5.\u001b[0m\n",
            "\u001b[32m[I 2022-05-16 15:00:12,664]\u001b[0m Trial 58 pruned. Trial was pruned at iteration 5.\u001b[0m\n",
            "\u001b[32m[I 2022-05-16 15:00:13,045]\u001b[0m Trial 59 pruned. Trial was pruned at iteration 5.\u001b[0m\n",
            "\u001b[32m[I 2022-05-16 15:00:13,441]\u001b[0m Trial 60 pruned. Trial was pruned at iteration 5.\u001b[0m\n",
            "\u001b[32m[I 2022-05-16 15:00:16,826]\u001b[0m Trial 61 finished with value: 0.4862058951648032 and parameters: {'colsample_bylevel': 0.07564177917309173, 'l2_leaf_reg': 0.19421837411587792, 'depth': 9, 'boosting_type': 'Ordered', 'bootstrap_type': 'MVS', 'min_data_in_leaf': 15, 'one_hot_max_size': 9, 'scale_pos_weight': 2.0413003090916337}. Best is trial 55 with value: 0.6127350558229557.\u001b[0m\n",
            "\u001b[32m[I 2022-05-16 15:00:19,704]\u001b[0m Trial 62 finished with value: 0.4862058951648032 and parameters: {'colsample_bylevel': 0.010485336106216785, 'l2_leaf_reg': 0.1428973433875079, 'depth': 10, 'boosting_type': 'Ordered', 'bootstrap_type': 'MVS', 'min_data_in_leaf': 15, 'one_hot_max_size': 20, 'scale_pos_weight': 2.041328446455193}. Best is trial 55 with value: 0.6127350558229557.\u001b[0m\n",
            "\u001b[32m[I 2022-05-16 15:00:20,038]\u001b[0m Trial 63 pruned. Trial was pruned at iteration 5.\u001b[0m\n",
            "\u001b[32m[I 2022-05-16 15:00:20,421]\u001b[0m Trial 64 pruned. Trial was pruned at iteration 5.\u001b[0m\n",
            "\u001b[32m[I 2022-05-16 15:00:23,317]\u001b[0m Trial 65 pruned. Trial was pruned at iteration 88.\u001b[0m\n",
            "\u001b[32m[I 2022-05-16 15:00:23,737]\u001b[0m Trial 66 pruned. Trial was pruned at iteration 5.\u001b[0m\n",
            "\u001b[32m[I 2022-05-16 15:00:24,121]\u001b[0m Trial 67 pruned. Trial was pruned at iteration 5.\u001b[0m\n",
            "\u001b[32m[I 2022-05-16 15:00:24,459]\u001b[0m Trial 68 pruned. Trial was pruned at iteration 5.\u001b[0m\n",
            "\u001b[32m[I 2022-05-16 15:00:24,913]\u001b[0m Trial 69 pruned. Trial was pruned at iteration 5.\u001b[0m\n",
            "\u001b[32m[I 2022-05-16 15:00:25,288]\u001b[0m Trial 70 pruned. Trial was pruned at iteration 5.\u001b[0m\n",
            "\u001b[32m[I 2022-05-16 15:00:27,443]\u001b[0m Trial 71 finished with value: 0.4862058951648032 and parameters: {'colsample_bylevel': 0.013779671575089917, 'l2_leaf_reg': 0.27001241806764426, 'depth': 8, 'boosting_type': 'Plain', 'bootstrap_type': 'Bernoulli', 'min_data_in_leaf': 2, 'one_hot_max_size': 13, 'scale_pos_weight': 2.188168218595051, 'subsample': 0.16694609945762148}. Best is trial 55 with value: 0.6127350558229557.\u001b[0m\n",
            "\u001b[32m[I 2022-05-16 15:00:27,793]\u001b[0m Trial 72 pruned. Trial was pruned at iteration 5.\u001b[0m\n",
            "\u001b[32m[I 2022-05-16 15:00:30,134]\u001b[0m Trial 73 finished with value: 0.4862058951648032 and parameters: {'colsample_bylevel': 0.044143122023335854, 'l2_leaf_reg': 0.46463706519161746, 'depth': 8, 'boosting_type': 'Plain', 'bootstrap_type': 'Bernoulli', 'min_data_in_leaf': 20, 'one_hot_max_size': 12, 'scale_pos_weight': 2.19553706267577, 'subsample': 0.13309830770784473}. Best is trial 55 with value: 0.6127350558229557.\u001b[0m\n",
            "\u001b[32m[I 2022-05-16 15:00:32,804]\u001b[0m Trial 74 finished with value: 0.4862058951648032 and parameters: {'colsample_bylevel': 0.0770604838625327, 'l2_leaf_reg': 0.3373601343671894, 'depth': 9, 'boosting_type': 'Plain', 'bootstrap_type': 'MVS', 'min_data_in_leaf': 18, 'one_hot_max_size': 14, 'scale_pos_weight': 2.118617776470548}. Best is trial 55 with value: 0.6127350558229557.\u001b[0m\n",
            "\u001b[32m[I 2022-05-16 15:00:33,147]\u001b[0m Trial 75 pruned. Trial was pruned at iteration 5.\u001b[0m\n",
            "\u001b[32m[I 2022-05-16 15:00:33,490]\u001b[0m Trial 76 pruned. Trial was pruned at iteration 5.\u001b[0m\n",
            "\u001b[32m[I 2022-05-16 15:00:35,947]\u001b[0m Trial 77 finished with value: 0.4862058951648032 and parameters: {'colsample_bylevel': 0.062219958768110054, 'l2_leaf_reg': 0.08010041884306174, 'depth': 10, 'boosting_type': 'Plain', 'bootstrap_type': 'MVS', 'min_data_in_leaf': 14, 'one_hot_max_size': 10, 'scale_pos_weight': 2.061811615495532}. Best is trial 55 with value: 0.6127350558229557.\u001b[0m\n",
            "\u001b[32m[I 2022-05-16 15:00:39,415]\u001b[0m Trial 78 finished with value: 0.4862058951648032 and parameters: {'colsample_bylevel': 0.0735857992873768, 'l2_leaf_reg': 0.22163888787376732, 'depth': 9, 'boosting_type': 'Ordered', 'bootstrap_type': 'MVS', 'min_data_in_leaf': 17, 'one_hot_max_size': 13, 'scale_pos_weight': 2.1192116028549695}. Best is trial 55 with value: 0.6127350558229557.\u001b[0m\n",
            "\u001b[32m[I 2022-05-16 15:00:39,760]\u001b[0m Trial 79 pruned. Trial was pruned at iteration 5.\u001b[0m\n",
            "\u001b[32m[I 2022-05-16 15:00:40,146]\u001b[0m Trial 80 pruned. Trial was pruned at iteration 5.\u001b[0m\n",
            "\u001b[32m[I 2022-05-16 15:00:40,475]\u001b[0m Trial 81 pruned. Trial was pruned at iteration 5.\u001b[0m\n",
            "\u001b[32m[I 2022-05-16 15:00:42,666]\u001b[0m Trial 82 finished with value: 0.4862058951648032 and parameters: {'colsample_bylevel': 0.01850505342331184, 'l2_leaf_reg': 0.3960845266580194, 'depth': 9, 'boosting_type': 'Plain', 'bootstrap_type': 'Bernoulli', 'min_data_in_leaf': 3, 'one_hot_max_size': 13, 'scale_pos_weight': 2.143380463093244, 'subsample': 0.17946558585075628}. Best is trial 55 with value: 0.6127350558229557.\u001b[0m\n",
            "\u001b[32m[I 2022-05-16 15:00:44,845]\u001b[0m Trial 83 finished with value: 0.4862058951648032 and parameters: {'colsample_bylevel': 0.01319629117503203, 'l2_leaf_reg': 0.3437940741023583, 'depth': 9, 'boosting_type': 'Plain', 'bootstrap_type': 'Bernoulli', 'min_data_in_leaf': 3, 'one_hot_max_size': 15, 'scale_pos_weight': 2.1431098062431393, 'subsample': 0.14798442797805172}. Best is trial 55 with value: 0.6127350558229557.\u001b[0m\n",
            "\u001b[32m[I 2022-05-16 15:00:45,188]\u001b[0m Trial 84 pruned. Trial was pruned at iteration 5.\u001b[0m\n",
            "\u001b[32m[I 2022-05-16 15:00:45,572]\u001b[0m Trial 85 pruned. Trial was pruned at iteration 5.\u001b[0m\n",
            "\u001b[32m[I 2022-05-16 15:00:45,917]\u001b[0m Trial 86 pruned. Trial was pruned at iteration 5.\u001b[0m\n",
            "\u001b[32m[I 2022-05-16 15:00:46,302]\u001b[0m Trial 87 pruned. Trial was pruned at iteration 5.\u001b[0m\n",
            "\u001b[32m[I 2022-05-16 15:00:46,651]\u001b[0m Trial 88 pruned. Trial was pruned at iteration 5.\u001b[0m\n",
            "\u001b[32m[I 2022-05-16 15:00:50,118]\u001b[0m Trial 89 finished with value: 0.4862058951648032 and parameters: {'colsample_bylevel': 0.07868421538320351, 'l2_leaf_reg': 0.15764164465914113, 'depth': 10, 'boosting_type': 'Ordered', 'bootstrap_type': 'MVS', 'min_data_in_leaf': 15, 'one_hot_max_size': 20, 'scale_pos_weight': 2.02328032915032}. Best is trial 55 with value: 0.6127350558229557.\u001b[0m\n",
            "\u001b[32m[I 2022-05-16 15:00:50,469]\u001b[0m Trial 90 pruned. Trial was pruned at iteration 5.\u001b[0m\n",
            "\u001b[32m[I 2022-05-16 15:00:50,814]\u001b[0m Trial 91 pruned. Trial was pruned at iteration 5.\u001b[0m\n",
            "\u001b[32m[I 2022-05-16 15:00:53,745]\u001b[0m Trial 92 finished with value: 0.4862058951648032 and parameters: {'colsample_bylevel': 0.010720409126765985, 'l2_leaf_reg': 0.11980608854062803, 'depth': 10, 'boosting_type': 'Ordered', 'bootstrap_type': 'MVS', 'min_data_in_leaf': 15, 'one_hot_max_size': 9, 'scale_pos_weight': 2.0099093352231256}. Best is trial 55 with value: 0.6127350558229557.\u001b[0m\n",
            "\u001b[32m[I 2022-05-16 15:00:55,969]\u001b[0m Trial 93 finished with value: 0.4862058951648032 and parameters: {'colsample_bylevel': 0.02181506526801775, 'l2_leaf_reg': 0.010099972586210615, 'depth': 7, 'boosting_type': 'Plain', 'bootstrap_type': 'Bernoulli', 'min_data_in_leaf': 2, 'one_hot_max_size': 14, 'scale_pos_weight': 2.1451483298215863, 'subsample': 0.1528670239830432}. Best is trial 55 with value: 0.6127350558229557.\u001b[0m\n",
            "\u001b[32m[I 2022-05-16 15:00:56,300]\u001b[0m Trial 94 pruned. Trial was pruned at iteration 5.\u001b[0m\n",
            "\u001b[32m[I 2022-05-16 15:00:56,691]\u001b[0m Trial 95 pruned. Trial was pruned at iteration 5.\u001b[0m\n",
            "\u001b[32m[I 2022-05-16 15:00:59,613]\u001b[0m Trial 96 finished with value: 0.4862058951648032 and parameters: {'colsample_bylevel': 0.0127226177063671, 'l2_leaf_reg': 0.13340209374278006, 'depth': 10, 'boosting_type': 'Ordered', 'bootstrap_type': 'MVS', 'min_data_in_leaf': 16, 'one_hot_max_size': 11, 'scale_pos_weight': 2.0719268207123323}. Best is trial 55 with value: 0.6127350558229557.\u001b[0m\n",
            "\u001b[32m[I 2022-05-16 15:01:01,829]\u001b[0m Trial 97 finished with value: 0.4862058951648032 and parameters: {'colsample_bylevel': 0.03237650933876633, 'l2_leaf_reg': 0.20297007256437452, 'depth': 9, 'boosting_type': 'Plain', 'bootstrap_type': 'Bernoulli', 'min_data_in_leaf': 5, 'one_hot_max_size': 13, 'scale_pos_weight': 2.1188529642758653, 'subsample': 0.10387708948645354}. Best is trial 55 with value: 0.6127350558229557.\u001b[0m\n",
            "\u001b[32m[I 2022-05-16 15:01:02,205]\u001b[0m Trial 98 pruned. Trial was pruned at iteration 5.\u001b[0m\n",
            "\u001b[32m[I 2022-05-16 15:01:04,469]\u001b[0m Trial 99 finished with value: 0.4862058951648032 and parameters: {'colsample_bylevel': 0.02414747114267952, 'l2_leaf_reg': 0.30683655836943136, 'depth': 9, 'boosting_type': 'Plain', 'bootstrap_type': 'Bernoulli', 'min_data_in_leaf': 5, 'one_hot_max_size': 13, 'scale_pos_weight': 2.1279276688596975, 'subsample': 0.10759561615724551}. Best is trial 55 with value: 0.6127350558229557.\u001b[0m\n",
            "\u001b[32m[I 2022-05-16 15:01:04,826]\u001b[0m Trial 100 pruned. Trial was pruned at iteration 5.\u001b[0m\n",
            "\u001b[32m[I 2022-05-16 15:01:05,159]\u001b[0m Trial 101 pruned. Trial was pruned at iteration 5.\u001b[0m\n",
            "\u001b[32m[I 2022-05-16 15:01:05,538]\u001b[0m Trial 102 pruned. Trial was pruned at iteration 5.\u001b[0m\n",
            "\u001b[32m[I 2022-05-16 15:01:05,908]\u001b[0m Trial 103 pruned. Trial was pruned at iteration 5.\u001b[0m\n",
            "\u001b[32m[I 2022-05-16 15:01:08,153]\u001b[0m Trial 104 finished with value: 0.4862058951648032 and parameters: {'colsample_bylevel': 0.010101350079035004, 'l2_leaf_reg': 0.26539313281179344, 'depth': 9, 'boosting_type': 'Plain', 'bootstrap_type': 'MVS', 'min_data_in_leaf': 13, 'one_hot_max_size': 11, 'scale_pos_weight': 2.0727698678798436}. Best is trial 55 with value: 0.6127350558229557.\u001b[0m\n",
            "\u001b[32m[I 2022-05-16 15:01:08,491]\u001b[0m Trial 105 pruned. Trial was pruned at iteration 5.\u001b[0m\n",
            "\u001b[32m[I 2022-05-16 15:01:08,846]\u001b[0m Trial 106 pruned. Trial was pruned at iteration 5.\u001b[0m\n",
            "\u001b[32m[I 2022-05-16 15:01:09,232]\u001b[0m Trial 107 pruned. Trial was pruned at iteration 5.\u001b[0m\n",
            "\u001b[32m[I 2022-05-16 15:01:19,655]\u001b[0m Trial 108 finished with value: 0.5926611788160392 and parameters: {'colsample_bylevel': 0.08504068505215827, 'l2_leaf_reg': 0.03038836871249429, 'depth': 10, 'boosting_type': 'Ordered', 'bootstrap_type': 'MVS', 'min_data_in_leaf': 12, 'one_hot_max_size': 8, 'scale_pos_weight': 2.0892362378749993}. Best is trial 55 with value: 0.6127350558229557.\u001b[0m\n",
            "\u001b[32m[I 2022-05-16 15:01:20,058]\u001b[0m Trial 109 pruned. Trial was pruned at iteration 5.\u001b[0m\n",
            "\u001b[32m[I 2022-05-16 15:01:20,447]\u001b[0m Trial 110 pruned. Trial was pruned at iteration 5.\u001b[0m\n",
            "\u001b[32m[I 2022-05-16 15:01:33,244]\u001b[0m Trial 111 finished with value: 0.5966924636659026 and parameters: {'colsample_bylevel': 0.08168621632145484, 'l2_leaf_reg': 0.4796897303567097, 'depth': 8, 'boosting_type': 'Ordered', 'bootstrap_type': 'MVS', 'min_data_in_leaf': 11, 'one_hot_max_size': 9, 'scale_pos_weight': 2.0719598285263356}. Best is trial 55 with value: 0.6127350558229557.\u001b[0m\n",
            "\u001b[32m[I 2022-05-16 15:01:42,569]\u001b[0m Trial 112 finished with value: 0.5923913592794533 and parameters: {'colsample_bylevel': 0.08562463476341879, 'l2_leaf_reg': 0.05570983037810801, 'depth': 7, 'boosting_type': 'Ordered', 'bootstrap_type': 'MVS', 'min_data_in_leaf': 17, 'one_hot_max_size': 8, 'scale_pos_weight': 2.0805094968581916}. Best is trial 55 with value: 0.6127350558229557.\u001b[0m\n",
            "\u001b[32m[I 2022-05-16 15:01:42,956]\u001b[0m Trial 113 pruned. Trial was pruned at iteration 5.\u001b[0m\n",
            "\u001b[32m[I 2022-05-16 15:01:43,336]\u001b[0m Trial 114 pruned. Trial was pruned at iteration 5.\u001b[0m\n",
            "\u001b[32m[I 2022-05-16 15:01:46,811]\u001b[0m Trial 115 finished with value: 0.4862058951648032 and parameters: {'colsample_bylevel': 0.07908205890690698, 'l2_leaf_reg': 0.022686675481149863, 'depth': 6, 'boosting_type': 'Ordered', 'bootstrap_type': 'MVS', 'min_data_in_leaf': 15, 'one_hot_max_size': 8, 'scale_pos_weight': 2.078586578237188}. Best is trial 55 with value: 0.6127350558229557.\u001b[0m\n",
            "\u001b[32m[I 2022-05-16 15:01:49,756]\u001b[0m Trial 116 finished with value: 0.4862058951648032 and parameters: {'colsample_bylevel': 0.014961012099084067, 'l2_leaf_reg': 0.05766934972774677, 'depth': 8, 'boosting_type': 'Ordered', 'bootstrap_type': 'MVS', 'min_data_in_leaf': 2, 'one_hot_max_size': 9, 'scale_pos_weight': 2.094749872536138}. Best is trial 55 with value: 0.6127350558229557.\u001b[0m\n",
            "\u001b[32m[I 2022-05-16 15:01:53,253]\u001b[0m Trial 117 finished with value: 0.4862058951648032 and parameters: {'colsample_bylevel': 0.081602006686711, 'l2_leaf_reg': 0.036497090206059506, 'depth': 7, 'boosting_type': 'Ordered', 'bootstrap_type': 'MVS', 'min_data_in_leaf': 17, 'one_hot_max_size': 7, 'scale_pos_weight': 2.010539491957067}. Best is trial 55 with value: 0.6127350558229557.\u001b[0m\n",
            "\u001b[32m[I 2022-05-16 15:01:56,852]\u001b[0m Trial 118 finished with value: 0.4862058951648032 and parameters: {'colsample_bylevel': 0.092575235184093, 'l2_leaf_reg': 0.05753790743655947, 'depth': 8, 'boosting_type': 'Ordered', 'bootstrap_type': 'MVS', 'min_data_in_leaf': 16, 'one_hot_max_size': 9, 'scale_pos_weight': 2.0818978749340835}. Best is trial 55 with value: 0.6127350558229557.\u001b[0m\n",
            "\u001b[32m[I 2022-05-16 15:02:00,422]\u001b[0m Trial 119 finished with value: 0.4862058951648032 and parameters: {'colsample_bylevel': 0.0818910046455659, 'l2_leaf_reg': 0.029776177531107523, 'depth': 7, 'boosting_type': 'Ordered', 'bootstrap_type': 'MVS', 'min_data_in_leaf': 12, 'one_hot_max_size': 7, 'scale_pos_weight': 2.0459737307305716}. Best is trial 55 with value: 0.6127350558229557.\u001b[0m\n",
            "\u001b[32m[I 2022-05-16 15:02:00,846]\u001b[0m Trial 120 pruned. Trial was pruned at iteration 5.\u001b[0m\n",
            "\u001b[32m[I 2022-05-16 15:02:01,242]\u001b[0m Trial 121 pruned. Trial was pruned at iteration 5.\u001b[0m\n",
            "\u001b[32m[I 2022-05-16 15:02:01,639]\u001b[0m Trial 122 pruned. Trial was pruned at iteration 5.\u001b[0m\n",
            "\u001b[32m[I 2022-05-16 15:02:04,725]\u001b[0m Trial 123 finished with value: 0.4862058951648032 and parameters: {'colsample_bylevel': 0.037391034638993445, 'l2_leaf_reg': 0.09671668670636106, 'depth': 10, 'boosting_type': 'Ordered', 'bootstrap_type': 'MVS', 'min_data_in_leaf': 14, 'one_hot_max_size': 10, 'scale_pos_weight': 2.0004734668413984}. Best is trial 55 with value: 0.6127350558229557.\u001b[0m\n",
            "\u001b[32m[I 2022-05-16 15:02:05,204]\u001b[0m Trial 124 pruned. Trial was pruned at iteration 5.\u001b[0m\n",
            "\u001b[32m[I 2022-05-16 15:02:05,569]\u001b[0m Trial 125 pruned. Trial was pruned at iteration 5.\u001b[0m\n",
            "\u001b[32m[I 2022-05-16 15:02:08,895]\u001b[0m Trial 126 finished with value: 0.4862058951648032 and parameters: {'colsample_bylevel': 0.06868577087434793, 'l2_leaf_reg': 0.1854017016535782, 'depth': 9, 'boosting_type': 'Ordered', 'bootstrap_type': 'MVS', 'min_data_in_leaf': 17, 'one_hot_max_size': 11, 'scale_pos_weight': 2.103071181990837}. Best is trial 55 with value: 0.6127350558229557.\u001b[0m\n",
            "\u001b[32m[I 2022-05-16 15:02:20,759]\u001b[0m Trial 127 finished with value: 0.6016664904500986 and parameters: {'colsample_bylevel': 0.0948839751296888, 'l2_leaf_reg': 0.05166190732277598, 'depth': 7, 'boosting_type': 'Plain', 'bootstrap_type': 'MVS', 'min_data_in_leaf': 13, 'one_hot_max_size': 10, 'scale_pos_weight': 2.0564231534092343}. Best is trial 55 with value: 0.6127350558229557.\u001b[0m\n",
            "\u001b[32m[I 2022-05-16 15:02:21,132]\u001b[0m Trial 128 pruned. Trial was pruned at iteration 5.\u001b[0m\n",
            "\u001b[32m[I 2022-05-16 15:02:21,484]\u001b[0m Trial 129 pruned. Trial was pruned at iteration 5.\u001b[0m\n",
            "\u001b[32m[I 2022-05-16 15:02:25,394]\u001b[0m Trial 130 pruned. Trial was pruned at iteration 111.\u001b[0m\n",
            "\u001b[32m[I 2022-05-16 15:02:25,777]\u001b[0m Trial 131 pruned. Trial was pruned at iteration 5.\u001b[0m\n",
            "\u001b[32m[I 2022-05-16 15:02:26,119]\u001b[0m Trial 132 pruned. Trial was pruned at iteration 5.\u001b[0m\n",
            "\u001b[32m[I 2022-05-16 15:02:26,506]\u001b[0m Trial 133 pruned. Trial was pruned at iteration 5.\u001b[0m\n",
            "\u001b[32m[I 2022-05-16 15:02:26,902]\u001b[0m Trial 134 pruned. Trial was pruned at iteration 5.\u001b[0m\n",
            "\u001b[32m[I 2022-05-16 15:02:29,844]\u001b[0m Trial 135 finished with value: 0.4862058951648032 and parameters: {'colsample_bylevel': 0.02461232295071506, 'l2_leaf_reg': 0.13292617635796664, 'depth': 6, 'boosting_type': 'Ordered', 'bootstrap_type': 'Bernoulli', 'min_data_in_leaf': 6, 'one_hot_max_size': 13, 'scale_pos_weight': 2.0907759084319584, 'subsample': 0.1001328560574354}. Best is trial 55 with value: 0.6127350558229557.\u001b[0m\n",
            "\u001b[32m[I 2022-05-16 15:02:32,924]\u001b[0m Trial 136 finished with value: 0.4862058951648032 and parameters: {'colsample_bylevel': 0.03931705426068249, 'l2_leaf_reg': 0.2258701621408129, 'depth': 10, 'boosting_type': 'Ordered', 'bootstrap_type': 'MVS', 'min_data_in_leaf': 18, 'one_hot_max_size': 11, 'scale_pos_weight': 2.0099358989543314}. Best is trial 55 with value: 0.6127350558229557.\u001b[0m\n",
            "\u001b[32m[I 2022-05-16 15:02:33,329]\u001b[0m Trial 137 pruned. Trial was pruned at iteration 5.\u001b[0m\n",
            "\u001b[32m[I 2022-05-16 15:02:33,706]\u001b[0m Trial 138 pruned. Trial was pruned at iteration 5.\u001b[0m\n",
            "\u001b[32m[I 2022-05-16 15:02:37,136]\u001b[0m Trial 139 finished with value: 0.4862058951648032 and parameters: {'colsample_bylevel': 0.0819970111163322, 'l2_leaf_reg': 0.03809419503851765, 'depth': 7, 'boosting_type': 'Ordered', 'bootstrap_type': 'MVS', 'min_data_in_leaf': 13, 'one_hot_max_size': 18, 'scale_pos_weight': 2.007274906283668}. Best is trial 55 with value: 0.6127350558229557.\u001b[0m\n",
            "\u001b[32m[I 2022-05-16 15:02:37,521]\u001b[0m Trial 140 pruned. Trial was pruned at iteration 5.\u001b[0m\n",
            "\u001b[32m[I 2022-05-16 15:02:37,917]\u001b[0m Trial 141 pruned. Trial was pruned at iteration 5.\u001b[0m\n",
            "\u001b[32m[I 2022-05-16 15:02:50,668]\u001b[0m Trial 142 finished with value: 0.5941159470624707 and parameters: {'colsample_bylevel': 0.08963618543235063, 'l2_leaf_reg': 0.01118869895782567, 'depth': 7, 'boosting_type': 'Ordered', 'bootstrap_type': 'Bernoulli', 'min_data_in_leaf': 15, 'one_hot_max_size': 16, 'scale_pos_weight': 2.069139054337057, 'subsample': 0.1505629660846507}. Best is trial 55 with value: 0.6127350558229557.\u001b[0m\n",
            "\u001b[32m[I 2022-05-16 15:02:53,495]\u001b[0m Trial 143 finished with value: 0.4862058951648032 and parameters: {'colsample_bylevel': 0.011230043248987168, 'l2_leaf_reg': 0.053647308386755084, 'depth': 7, 'boosting_type': 'Ordered', 'bootstrap_type': 'Bernoulli', 'min_data_in_leaf': 15, 'one_hot_max_size': 17, 'scale_pos_weight': 2.0038399189516696, 'subsample': 0.23869800732268515}. Best is trial 55 with value: 0.6127350558229557.\u001b[0m\n",
            "\u001b[32m[I 2022-05-16 15:03:06,466]\u001b[0m Trial 144 finished with value: 0.6050216598982098 and parameters: {'colsample_bylevel': 0.0998161745663762, 'l2_leaf_reg': 0.01183017163343069, 'depth': 10, 'boosting_type': 'Ordered', 'bootstrap_type': 'MVS', 'min_data_in_leaf': 15, 'one_hot_max_size': 4, 'scale_pos_weight': 2.075880380490927}. Best is trial 55 with value: 0.6127350558229557.\u001b[0m\n",
            "\u001b[32m[I 2022-05-16 15:03:06,899]\u001b[0m Trial 145 pruned. Trial was pruned at iteration 5.\u001b[0m\n",
            "\u001b[32m[I 2022-05-16 15:03:20,492]\u001b[0m Trial 146 finished with value: 0.6108628712488066 and parameters: {'colsample_bylevel': 0.09981163580279225, 'l2_leaf_reg': 0.013177703327086262, 'depth': 6, 'boosting_type': 'Ordered', 'bootstrap_type': 'MVS', 'min_data_in_leaf': 15, 'one_hot_max_size': 4, 'scale_pos_weight': 2.0669884626180965}. Best is trial 55 with value: 0.6127350558229557.\u001b[0m\n",
            "\u001b[32m[I 2022-05-16 15:03:20,901]\u001b[0m Trial 147 pruned. Trial was pruned at iteration 5.\u001b[0m\n",
            "\u001b[32m[I 2022-05-16 15:03:21,291]\u001b[0m Trial 148 pruned. Trial was pruned at iteration 5.\u001b[0m\n",
            "\u001b[32m[I 2022-05-16 15:03:37,354]\u001b[0m Trial 149 finished with value: 0.6095742726173998 and parameters: {'colsample_bylevel': 0.09357647421333916, 'l2_leaf_reg': 0.013353836298201327, 'depth': 6, 'boosting_type': 'Ordered', 'bootstrap_type': 'MVS', 'min_data_in_leaf': 15, 'one_hot_max_size': 5, 'scale_pos_weight': 2.077798466175173}. Best is trial 55 with value: 0.6127350558229557.\u001b[0m\n"
          ]
        },
        {
          "name": "stdout",
          "output_type": "stream",
          "text": [
            "Number of finished trials: 150\n",
            "Best trial:\n",
            "  Value: 0.6127350558229557\n",
            "  Params: \n",
            "    colsample_bylevel: 0.08908426637103391\n",
            "    l2_leaf_reg: 0.6107873397068175\n",
            "    depth: 10\n",
            "    boosting_type: Ordered\n",
            "    bootstrap_type: MVS\n",
            "    min_data_in_leaf: 15\n",
            "    one_hot_max_size: 6\n",
            "    scale_pos_weight: 2.259791773792851\n"
          ]
        }
      ],
      "source": [
        "study = optuna.create_study(\n",
        "    pruner=optuna.pruners.MedianPruner(n_warmup_steps=5), direction=\"maximize\"\n",
        ")\n",
        "study.optimize(objective, n_trials=150, timeout=600)\n",
        "\n",
        "print(\"Number of finished trials: {}\".format(len(study.trials)))\n",
        "\n",
        "print(\"Best trial:\")\n",
        "trial = study.best_trial\n",
        "\n",
        "print(\"  Value: {}\".format(trial.value))\n",
        "\n",
        "print(\"  Params: \")\n",
        "for key, value in trial.params.items():\n",
        "    print(\"    {}: {}\".format(key, value))"
      ]
    },
    {
      "cell_type": "code",
      "execution_count": null,
      "metadata": {
        "colab": {
          "base_uri": "https://localhost:8080/"
        },
        "id": "LIiuZ9sKjl0f",
        "outputId": "d58447c0-e879-40b9-f165-8623f6440b79"
      },
      "outputs": [
        {
          "data": {
            "text/plain": [
              "{'boosting_type': 'Ordered',\n",
              " 'bootstrap_type': 'MVS',\n",
              " 'colsample_bylevel': 0.08908426637103391,\n",
              " 'depth': 10,\n",
              " 'l2_leaf_reg': 0.6107873397068175,\n",
              " 'min_data_in_leaf': 15,\n",
              " 'one_hot_max_size': 6,\n",
              " 'scale_pos_weight': 2.259791773792851}"
            ]
          },
          "execution_count": 117,
          "metadata": {},
          "output_type": "execute_result"
        }
      ],
      "source": [
        "study.best_trial.params"
      ]
    },
    {
      "cell_type": "code",
      "execution_count": null,
      "metadata": {
        "id": "rUn0vcJZXrgB"
      },
      "outputs": [],
      "source": [
        "param = {'boosting_type': 'Ordered',\n",
        " 'bootstrap_type': 'MVS',\n",
        " 'colsample_bylevel': 0.08908426637103391,\n",
        " 'depth': 10,\n",
        " 'l2_leaf_reg': 0.6107873397068175,\n",
        " 'min_data_in_leaf': 15,\n",
        " 'one_hot_max_size': 6,\n",
        " 'scale_pos_weight': 2.259791773792851}"
      ]
    },
    {
      "cell_type": "code",
      "execution_count": null,
      "metadata": {
        "colab": {
          "base_uri": "https://localhost:8080/"
        },
        "id": "qtxaiKbNjpP2",
        "outputId": "4f87b42b-b8ce-43ff-fb9b-a7dd57b70daf"
      },
      "outputs": [
        {
          "data": {
            "text/plain": [
              "<catboost.core.CatBoostClassifier at 0x7fb6987eccd0>"
            ]
          },
          "execution_count": 83,
          "metadata": {},
          "output_type": "execute_result"
        }
      ],
      "source": [
        "cbc_model = CatBoostClassifier(random_state=1, silent=True,       \n",
        "                            cat_features=categorical_col.values, \n",
        "                            **param)\n",
        "cbc_model.fit(train_norm, target)"
      ]
    },
    {
      "cell_type": "code",
      "execution_count": null,
      "metadata": {
        "id": "vJCrkr3Cst39"
      },
      "outputs": [],
      "source": [
        "pred = cbc_model.predict(test_norm)"
      ]
    },
    {
      "cell_type": "code",
      "execution_count": null,
      "metadata": {
        "colab": {
          "base_uri": "https://localhost:8080/",
          "height": 206
        },
        "id": "hjiCT-4htbC9",
        "outputId": "2842524d-03df-449d-83d8-ab51f5c03f0b"
      },
      "outputs": [
        {
          "data": {
            "text/html": [
              "\n",
              "  <div id=\"df-4d0e0dd4-83ae-4eaa-8190-65d6e7ab4d9f\">\n",
              "    <div class=\"colab-df-container\">\n",
              "      <div>\n",
              "<style scoped>\n",
              "    .dataframe tbody tr th:only-of-type {\n",
              "        vertical-align: middle;\n",
              "    }\n",
              "\n",
              "    .dataframe tbody tr th {\n",
              "        vertical-align: top;\n",
              "    }\n",
              "\n",
              "    .dataframe thead th {\n",
              "        text-align: right;\n",
              "    }\n",
              "</style>\n",
              "<table border=\"1\" class=\"dataframe\">\n",
              "  <thead>\n",
              "    <tr style=\"text-align: right;\">\n",
              "      <th></th>\n",
              "      <th>order_id</th>\n",
              "      <th>is_cross_sell</th>\n",
              "    </tr>\n",
              "  </thead>\n",
              "  <tbody>\n",
              "    <tr>\n",
              "      <th>0</th>\n",
              "      <td>02efb2c726c1e8d4f4864a9b3caa8e6b</td>\n",
              "      <td>0</td>\n",
              "    </tr>\n",
              "    <tr>\n",
              "      <th>1</th>\n",
              "      <td>eaad55e145547cc9e66e99c46632c208</td>\n",
              "      <td>0</td>\n",
              "    </tr>\n",
              "    <tr>\n",
              "      <th>2</th>\n",
              "      <td>a6b998a7d55e3b83481f4b87f209a127</td>\n",
              "      <td>0</td>\n",
              "    </tr>\n",
              "    <tr>\n",
              "      <th>3</th>\n",
              "      <td>b8a015f14e20263fe4114f7ae7c60f00</td>\n",
              "      <td>0</td>\n",
              "    </tr>\n",
              "    <tr>\n",
              "      <th>4</th>\n",
              "      <td>ea7285763494be096bde7ca1b97c9075</td>\n",
              "      <td>0</td>\n",
              "    </tr>\n",
              "  </tbody>\n",
              "</table>\n",
              "</div>\n",
              "      <button class=\"colab-df-convert\" onclick=\"convertToInteractive('df-4d0e0dd4-83ae-4eaa-8190-65d6e7ab4d9f')\"\n",
              "              title=\"Convert this dataframe to an interactive table.\"\n",
              "              style=\"display:none;\">\n",
              "        \n",
              "  <svg xmlns=\"http://www.w3.org/2000/svg\" height=\"24px\"viewBox=\"0 0 24 24\"\n",
              "       width=\"24px\">\n",
              "    <path d=\"M0 0h24v24H0V0z\" fill=\"none\"/>\n",
              "    <path d=\"M18.56 5.44l.94 2.06.94-2.06 2.06-.94-2.06-.94-.94-2.06-.94 2.06-2.06.94zm-11 1L8.5 8.5l.94-2.06 2.06-.94-2.06-.94L8.5 2.5l-.94 2.06-2.06.94zm10 10l.94 2.06.94-2.06 2.06-.94-2.06-.94-.94-2.06-.94 2.06-2.06.94z\"/><path d=\"M17.41 7.96l-1.37-1.37c-.4-.4-.92-.59-1.43-.59-.52 0-1.04.2-1.43.59L10.3 9.45l-7.72 7.72c-.78.78-.78 2.05 0 2.83L4 21.41c.39.39.9.59 1.41.59.51 0 1.02-.2 1.41-.59l7.78-7.78 2.81-2.81c.8-.78.8-2.07 0-2.86zM5.41 20L4 18.59l7.72-7.72 1.47 1.35L5.41 20z\"/>\n",
              "  </svg>\n",
              "      </button>\n",
              "      \n",
              "  <style>\n",
              "    .colab-df-container {\n",
              "      display:flex;\n",
              "      flex-wrap:wrap;\n",
              "      gap: 12px;\n",
              "    }\n",
              "\n",
              "    .colab-df-convert {\n",
              "      background-color: #E8F0FE;\n",
              "      border: none;\n",
              "      border-radius: 50%;\n",
              "      cursor: pointer;\n",
              "      display: none;\n",
              "      fill: #1967D2;\n",
              "      height: 32px;\n",
              "      padding: 0 0 0 0;\n",
              "      width: 32px;\n",
              "    }\n",
              "\n",
              "    .colab-df-convert:hover {\n",
              "      background-color: #E2EBFA;\n",
              "      box-shadow: 0px 1px 2px rgba(60, 64, 67, 0.3), 0px 1px 3px 1px rgba(60, 64, 67, 0.15);\n",
              "      fill: #174EA6;\n",
              "    }\n",
              "\n",
              "    [theme=dark] .colab-df-convert {\n",
              "      background-color: #3B4455;\n",
              "      fill: #D2E3FC;\n",
              "    }\n",
              "\n",
              "    [theme=dark] .colab-df-convert:hover {\n",
              "      background-color: #434B5C;\n",
              "      box-shadow: 0px 1px 3px 1px rgba(0, 0, 0, 0.15);\n",
              "      filter: drop-shadow(0px 1px 2px rgba(0, 0, 0, 0.3));\n",
              "      fill: #FFFFFF;\n",
              "    }\n",
              "  </style>\n",
              "\n",
              "      <script>\n",
              "        const buttonEl =\n",
              "          document.querySelector('#df-4d0e0dd4-83ae-4eaa-8190-65d6e7ab4d9f button.colab-df-convert');\n",
              "        buttonEl.style.display =\n",
              "          google.colab.kernel.accessAllowed ? 'block' : 'none';\n",
              "\n",
              "        async function convertToInteractive(key) {\n",
              "          const element = document.querySelector('#df-4d0e0dd4-83ae-4eaa-8190-65d6e7ab4d9f');\n",
              "          const dataTable =\n",
              "            await google.colab.kernel.invokeFunction('convertToInteractive',\n",
              "                                                     [key], {});\n",
              "          if (!dataTable) return;\n",
              "\n",
              "          const docLinkHtml = 'Like what you see? Visit the ' +\n",
              "            '<a target=\"_blank\" href=https://colab.research.google.com/notebooks/data_table.ipynb>data table notebook</a>'\n",
              "            + ' to learn more about interactive tables.';\n",
              "          element.innerHTML = '';\n",
              "          dataTable['output_type'] = 'display_data';\n",
              "          await google.colab.output.renderOutput(dataTable, element);\n",
              "          const docLink = document.createElement('div');\n",
              "          docLink.innerHTML = docLinkHtml;\n",
              "          element.appendChild(docLink);\n",
              "        }\n",
              "      </script>\n",
              "    </div>\n",
              "  </div>\n",
              "  "
            ],
            "text/plain": [
              "                           order_id  is_cross_sell\n",
              "0  02efb2c726c1e8d4f4864a9b3caa8e6b              0\n",
              "1  eaad55e145547cc9e66e99c46632c208              0\n",
              "2  a6b998a7d55e3b83481f4b87f209a127              0\n",
              "3  b8a015f14e20263fe4114f7ae7c60f00              0\n",
              "4  ea7285763494be096bde7ca1b97c9075              0"
            ]
          },
          "execution_count": 85,
          "metadata": {},
          "output_type": "execute_result"
        }
      ],
      "source": [
        "submission = pd.DataFrame({'order_id':test.order_id,\n",
        "                           'is_cross_sell':pred})\n",
        "submission.to_csv('sub.csv', index=False)\n",
        "submission.head()"
      ]
    }
  ],
  "metadata": {
    "colab": {
      "collapsed_sections": [
        "xC--DurkhNu1",
        "E_vb2jaIiAsN",
        "ifEhFEc6jcTR",
        "gzz_9xkjijKq"
      ],
      "name": "Assignment2_BryanTjandra.ipynb",
      "provenance": []
    },
    "kernelspec": {
      "display_name": "Python 3",
      "name": "python3"
    },
    "language_info": {
      "name": "python"
    }
  },
  "nbformat": 4,
  "nbformat_minor": 0
}