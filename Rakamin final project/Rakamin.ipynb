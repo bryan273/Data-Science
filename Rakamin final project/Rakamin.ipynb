{
  "nbformat": 4,
  "nbformat_minor": 0,
  "metadata": {
    "colab": {
      "name": "Rakamin.ipynb",
      "provenance": [],
      "collapsed_sections": []
    },
    "kernelspec": {
      "name": "python3",
      "display_name": "Python 3"
    },
    "language_info": {
      "name": "python"
    },
    "widgets": {
      "application/vnd.jupyter.widget-state+json": {
        "b4acfad49de5414288b75994d8a5fde8": {
          "model_module": "catboost-widget",
          "model_name": "CatboostWidgetModel",
          "model_module_version": "^1.0.0",
          "state": {
            "_dom_classes": [],
            "_model_module": "catboost-widget",
            "_model_module_version": "^1.0.0",
            "_model_name": "CatboostWidgetModel",
            "_view_count": null,
            "_view_module": "catboost-widget",
            "_view_module_version": "^1.0.0",
            "_view_name": "CatboostWidgetView",
            "data": {
              "catboost_info": {
                "path": "catboost_info",
                "name": "catboost_info",
                "content": {
                  "passed_iterations": 999,
                  "total_iterations": 1000,
                  "data": {
                    "iterations": [
                      {
                        "learn": [
                          0.3235463374
                        ],
                        "iteration": 0,
                        "passed_time": 1.475674282,
                        "remaining_time": 1474.198608,
                        "test": [
                          0.3232962951
                        ]
                      },
                      {
                        "learn": [
                          0.1656772732
                        ],
                        "iteration": 1,
                        "passed_time": 2.888239894,
                        "remaining_time": 1441.231707,
                        "test": [
                          0.1658270402
                        ]
                      },
                      {
                        "learn": [
                          0.09521231657
                        ],
                        "iteration": 2,
                        "passed_time": 3.964209196,
                        "remaining_time": 1317.438856,
                        "test": [
                          0.09558792271
                        ]
                      },
                      {
                        "learn": [
                          0.06940246175
                        ],
                        "iteration": 3,
                        "passed_time": 5.29099357,
                        "remaining_time": 1317.457399,
                        "test": [
                          0.06984274844
                        ]
                      },
                      {
                        "learn": [
                          0.05709323329
                        ],
                        "iteration": 4,
                        "passed_time": 6.502235691,
                        "remaining_time": 1293.944902,
                        "test": [
                          0.05750609679
                        ]
                      },
                      {
                        "learn": [
                          0.04103176235
                        ],
                        "iteration": 5,
                        "passed_time": 7.652867457,
                        "remaining_time": 1267.825042,
                        "test": [
                          0.04134883
                        ]
                      },
                      {
                        "learn": [
                          0.03340782605
                        ],
                        "iteration": 6,
                        "passed_time": 8.723006937,
                        "remaining_time": 1237.420841,
                        "test": [
                          0.03354378587
                        ]
                      },
                      {
                        "learn": [
                          0.02720232639
                        ],
                        "iteration": 7,
                        "passed_time": 10.05154024,
                        "remaining_time": 1246.390989,
                        "test": [
                          0.0276128246
                        ]
                      },
                      {
                        "learn": [
                          0.02405889629
                        ],
                        "iteration": 8,
                        "passed_time": 10.78066025,
                        "remaining_time": 1187.070479,
                        "test": [
                          0.02441827749
                        ]
                      },
                      {
                        "learn": [
                          0.0221904784
                        ],
                        "iteration": 9,
                        "passed_time": 11.94388953,
                        "remaining_time": 1182.445063,
                        "test": [
                          0.02256401859
                        ]
                      },
                      {
                        "learn": [
                          0.02022505009
                        ],
                        "iteration": 10,
                        "passed_time": 12.95107356,
                        "remaining_time": 1164.41925,
                        "test": [
                          0.02057921462
                        ]
                      },
                      {
                        "learn": [
                          0.01832407395
                        ],
                        "iteration": 11,
                        "passed_time": 14.16090451,
                        "remaining_time": 1165.914471,
                        "test": [
                          0.01866869702
                        ]
                      },
                      {
                        "learn": [
                          0.01693931643
                        ],
                        "iteration": 12,
                        "passed_time": 15.10100478,
                        "remaining_time": 1146.514748,
                        "test": [
                          0.01731807211
                        ]
                      },
                      {
                        "learn": [
                          0.01516720254
                        ],
                        "iteration": 13,
                        "passed_time": 16.23027715,
                        "remaining_time": 1143.075233,
                        "test": [
                          0.0154815682
                        ]
                      },
                      {
                        "learn": [
                          0.0146512218
                        ],
                        "iteration": 14,
                        "passed_time": 17.16108995,
                        "remaining_time": 1126.911573,
                        "test": [
                          0.01491985586
                        ]
                      },
                      {
                        "learn": [
                          0.01380034103
                        ],
                        "iteration": 15,
                        "passed_time": 18.101295,
                        "remaining_time": 1113.229643,
                        "test": [
                          0.01409577121
                        ]
                      },
                      {
                        "learn": [
                          0.01292652288
                        ],
                        "iteration": 16,
                        "passed_time": 19.25045317,
                        "remaining_time": 1113.129145,
                        "test": [
                          0.01325723399
                        ]
                      },
                      {
                        "learn": [
                          0.01265431709
                        ],
                        "iteration": 17,
                        "passed_time": 20.43487196,
                        "remaining_time": 1114.835792,
                        "test": [
                          0.01298197857
                        ]
                      },
                      {
                        "learn": [
                          0.01183504004
                        ],
                        "iteration": 18,
                        "passed_time": 21.66455051,
                        "remaining_time": 1118.57495,
                        "test": [
                          0.0121890694
                        ]
                      },
                      {
                        "learn": [
                          0.01122141217
                        ],
                        "iteration": 19,
                        "passed_time": 22.77153586,
                        "remaining_time": 1115.805257,
                        "test": [
                          0.01157183048
                        ]
                      },
                      {
                        "learn": [
                          0.01036778701
                        ],
                        "iteration": 20,
                        "passed_time": 23.76990165,
                        "remaining_time": 1108.130177,
                        "test": [
                          0.01076745665
                        ]
                      },
                      {
                        "learn": [
                          0.01023084169
                        ],
                        "iteration": 21,
                        "passed_time": 24.8497075,
                        "remaining_time": 1104.682452,
                        "test": [
                          0.01061374453
                        ]
                      },
                      {
                        "learn": [
                          0.009686839608
                        ],
                        "iteration": 22,
                        "passed_time": 25.99458415,
                        "remaining_time": 1104.204727,
                        "test": [
                          0.01005460943
                        ]
                      },
                      {
                        "learn": [
                          0.009033035847
                        ],
                        "iteration": 23,
                        "passed_time": 27.04472293,
                        "remaining_time": 1099.818733,
                        "test": [
                          0.009494158372
                        ]
                      },
                      {
                        "learn": [
                          0.008416096112
                        ],
                        "iteration": 24,
                        "passed_time": 28.08325741,
                        "remaining_time": 1095.247039,
                        "test": [
                          0.008862651302
                        ]
                      },
                      {
                        "learn": [
                          0.008226883126
                        ],
                        "iteration": 25,
                        "passed_time": 29.1653848,
                        "remaining_time": 1092.580185,
                        "test": [
                          0.008665526481
                        ]
                      },
                      {
                        "learn": [
                          0.007972316442
                        ],
                        "iteration": 26,
                        "passed_time": 30.28837233,
                        "remaining_time": 1091.503195,
                        "test": [
                          0.008413984061
                        ]
                      },
                      {
                        "learn": [
                          0.007810529909
                        ],
                        "iteration": 27,
                        "passed_time": 31.73839557,
                        "remaining_time": 1101.775732,
                        "test": [
                          0.008247437601
                        ]
                      },
                      {
                        "learn": [
                          0.007624680098
                        ],
                        "iteration": 28,
                        "passed_time": 33.33297699,
                        "remaining_time": 1116.080023,
                        "test": [
                          0.008067017094
                        ]
                      },
                      {
                        "learn": [
                          0.007415224654
                        ],
                        "iteration": 29,
                        "passed_time": 34.37960064,
                        "remaining_time": 1111.607087,
                        "test": [
                          0.007893533296
                        ]
                      },
                      {
                        "learn": [
                          0.007227227687
                        ],
                        "iteration": 30,
                        "passed_time": 35.91079469,
                        "remaining_time": 1122.501937,
                        "test": [
                          0.007724727824
                        ]
                      },
                      {
                        "learn": [
                          0.00687712953
                        ],
                        "iteration": 31,
                        "passed_time": 37.04823469,
                        "remaining_time": 1120.709099,
                        "test": [
                          0.007402178067
                        ]
                      },
                      {
                        "learn": [
                          0.006572364578
                        ],
                        "iteration": 32,
                        "passed_time": 38.26415502,
                        "remaining_time": 1121.255694,
                        "test": [
                          0.007132067888
                        ]
                      },
                      {
                        "learn": [
                          0.006448932288
                        ],
                        "iteration": 33,
                        "passed_time": 39.22566411,
                        "remaining_time": 1114.470339,
                        "test": [
                          0.00700674169
                        ]
                      },
                      {
                        "learn": [
                          0.00613776452
                        ],
                        "iteration": 34,
                        "passed_time": 40.35514687,
                        "remaining_time": 1112.649049,
                        "test": [
                          0.006766986647
                        ]
                      },
                      {
                        "learn": [
                          0.005975942881
                        ],
                        "iteration": 35,
                        "passed_time": 41.3945213,
                        "remaining_time": 1108.453292,
                        "test": [
                          0.006606735163
                        ]
                      },
                      {
                        "learn": [
                          0.005887394995
                        ],
                        "iteration": 36,
                        "passed_time": 42.44858282,
                        "remaining_time": 1104.810412,
                        "test": [
                          0.006488525537
                        ]
                      },
                      {
                        "learn": [
                          0.005782358249
                        ],
                        "iteration": 37,
                        "passed_time": 43.53430783,
                        "remaining_time": 1102.105372,
                        "test": [
                          0.006397948051
                        ]
                      },
                      {
                        "learn": [
                          0.005782347885
                        ],
                        "iteration": 38,
                        "passed_time": 44.4776772,
                        "remaining_time": 1095.975584,
                        "test": [
                          0.006397915271
                        ]
                      },
                      {
                        "learn": [
                          0.005536163209
                        ],
                        "iteration": 39,
                        "passed_time": 45.62023481,
                        "remaining_time": 1094.885635,
                        "test": [
                          0.006132313668
                        ]
                      },
                      {
                        "learn": [
                          0.005471393403
                        ],
                        "iteration": 40,
                        "passed_time": 46.4761586,
                        "remaining_time": 1087.088685,
                        "test": [
                          0.006079817589
                        ]
                      },
                      {
                        "learn": [
                          0.005425036939
                        ],
                        "iteration": 41,
                        "passed_time": 47.56238333,
                        "remaining_time": 1084.875315,
                        "test": [
                          0.006030397355
                        ]
                      },
                      {
                        "learn": [
                          0.005152424501
                        ],
                        "iteration": 42,
                        "passed_time": 48.56088712,
                        "remaining_time": 1080.762069,
                        "test": [
                          0.005766117075
                        ]
                      },
                      {
                        "learn": [
                          0.005093999451
                        ],
                        "iteration": 43,
                        "passed_time": 49.54849502,
                        "remaining_time": 1076.553665,
                        "test": [
                          0.005708705677
                        ]
                      },
                      {
                        "learn": [
                          0.004959493211
                        ],
                        "iteration": 44,
                        "passed_time": 50.60386208,
                        "remaining_time": 1073.926406,
                        "test": [
                          0.005567990408
                        ]
                      },
                      {
                        "learn": [
                          0.004954251489
                        ],
                        "iteration": 45,
                        "passed_time": 51.77115411,
                        "remaining_time": 1073.688718,
                        "test": [
                          0.005560179151
                        ]
                      },
                      {
                        "learn": [
                          0.004798449047
                        ],
                        "iteration": 46,
                        "passed_time": 52.93443466,
                        "remaining_time": 1073.330133,
                        "test": [
                          0.005397350677
                        ]
                      },
                      {
                        "learn": [
                          0.004787084809
                        ],
                        "iteration": 47,
                        "passed_time": 54.00328373,
                        "remaining_time": 1071.065127,
                        "test": [
                          0.005386483598
                        ]
                      },
                      {
                        "learn": [
                          0.0047278831
                        ],
                        "iteration": 48,
                        "passed_time": 55.06020717,
                        "remaining_time": 1068.61749,
                        "test": [
                          0.005317683733
                        ]
                      },
                      {
                        "learn": [
                          0.004578103148
                        ],
                        "iteration": 49,
                        "passed_time": 56.14151525,
                        "remaining_time": 1066.68879,
                        "test": [
                          0.005174110897
                        ]
                      },
                      {
                        "learn": [
                          0.004517202152
                        ],
                        "iteration": 50,
                        "passed_time": 57.25896358,
                        "remaining_time": 1065.465812,
                        "test": [
                          0.005120063524
                        ]
                      },
                      {
                        "learn": [
                          0.004493155778
                        ],
                        "iteration": 51,
                        "passed_time": 58.34237351,
                        "remaining_time": 1063.626348,
                        "test": [
                          0.005089900865
                        ]
                      },
                      {
                        "learn": [
                          0.004321130474
                        ],
                        "iteration": 52,
                        "passed_time": 59.50511836,
                        "remaining_time": 1063.232964,
                        "test": [
                          0.004907697362
                        ]
                      },
                      {
                        "learn": [
                          0.004295227555
                        ],
                        "iteration": 53,
                        "passed_time": 60.5178714,
                        "remaining_time": 1060.183451,
                        "test": [
                          0.004887334825
                        ]
                      },
                      {
                        "learn": [
                          0.004267422971
                        ],
                        "iteration": 54,
                        "passed_time": 61.56123829,
                        "remaining_time": 1057.734003,
                        "test": [
                          0.00486235401
                        ]
                      },
                      {
                        "learn": [
                          0.004264573022
                        ],
                        "iteration": 55,
                        "passed_time": 62.63888004,
                        "remaining_time": 1055.912549,
                        "test": [
                          0.004859171576
                        ]
                      },
                      {
                        "learn": [
                          0.004187434768
                        ],
                        "iteration": 56,
                        "passed_time": 63.70248161,
                        "remaining_time": 1053.884915,
                        "test": [
                          0.004783532829
                        ]
                      },
                      {
                        "learn": [
                          0.004118014557
                        ],
                        "iteration": 57,
                        "passed_time": 64.88812919,
                        "remaining_time": 1053.872719,
                        "test": [
                          0.004733040249
                        ]
                      },
                      {
                        "learn": [
                          0.004118011653
                        ],
                        "iteration": 58,
                        "passed_time": 65.20636255,
                        "remaining_time": 1039.986223,
                        "test": [
                          0.004733026167
                        ]
                      },
                      {
                        "learn": [
                          0.004085210714
                        ],
                        "iteration": 59,
                        "passed_time": 66.48930806,
                        "remaining_time": 1041.665826,
                        "test": [
                          0.004697012311
                        ]
                      },
                      {
                        "learn": [
                          0.003991334464
                        ],
                        "iteration": 60,
                        "passed_time": 67.61641139,
                        "remaining_time": 1040.849349,
                        "test": [
                          0.004603576563
                        ]
                      },
                      {
                        "learn": [
                          0.003975829021
                        ],
                        "iteration": 61,
                        "passed_time": 68.73557063,
                        "remaining_time": 1039.902665,
                        "test": [
                          0.004589347529
                        ]
                      },
                      {
                        "learn": [
                          0.00397149159
                        ],
                        "iteration": 62,
                        "passed_time": 69.77405445,
                        "remaining_time": 1037.750619,
                        "test": [
                          0.004585988278
                        ]
                      },
                      {
                        "learn": [
                          0.00391465839
                        ],
                        "iteration": 63,
                        "passed_time": 70.85832353,
                        "remaining_time": 1036.302982,
                        "test": [
                          0.004515343194
                        ]
                      },
                      {
                        "learn": [
                          0.003890444655
                        ],
                        "iteration": 64,
                        "passed_time": 71.93651121,
                        "remaining_time": 1034.779046,
                        "test": [
                          0.004492504542
                        ]
                      },
                      {
                        "learn": [
                          0.003889245337
                        ],
                        "iteration": 65,
                        "passed_time": 72.3846571,
                        "remaining_time": 1024.352572,
                        "test": [
                          0.004491767251
                        ]
                      },
                      {
                        "learn": [
                          0.003831277794
                        ],
                        "iteration": 66,
                        "passed_time": 73.47971238,
                        "remaining_time": 1023.232413,
                        "test": [
                          0.004444358739
                        ]
                      },
                      {
                        "learn": [
                          0.003831272101
                        ],
                        "iteration": 67,
                        "passed_time": 74.20870493,
                        "remaining_time": 1017.095779,
                        "test": [
                          0.004444360722
                        ]
                      },
                      {
                        "learn": [
                          0.003826516241
                        ],
                        "iteration": 68,
                        "passed_time": 75.18821258,
                        "remaining_time": 1014.496028,
                        "test": [
                          0.004440837426
                        ]
                      },
                      {
                        "learn": [
                          0.003794994952
                        ],
                        "iteration": 69,
                        "passed_time": 76.24635031,
                        "remaining_time": 1012.987226,
                        "test": [
                          0.004419733945
                        ]
                      },
                      {
                        "learn": [
                          0.003734690927
                        ],
                        "iteration": 70,
                        "passed_time": 77.36182076,
                        "remaining_time": 1012.241289,
                        "test": [
                          0.004363104917
                        ]
                      },
                      {
                        "learn": [
                          0.00373389247
                        ],
                        "iteration": 71,
                        "passed_time": 78.10677794,
                        "remaining_time": 1006.709582,
                        "test": [
                          0.004362825091
                        ]
                      },
                      {
                        "learn": [
                          0.003726811269
                        ],
                        "iteration": 72,
                        "passed_time": 79.08480329,
                        "remaining_time": 1004.268666,
                        "test": [
                          0.004355859507
                        ]
                      },
                      {
                        "learn": [
                          0.003726769636
                        ],
                        "iteration": 73,
                        "passed_time": 79.67621129,
                        "remaining_time": 997.0293466,
                        "test": [
                          0.004355702825
                        ]
                      },
                      {
                        "learn": [
                          0.003666856369
                        ],
                        "iteration": 74,
                        "passed_time": 80.81812363,
                        "remaining_time": 996.7568581,
                        "test": [
                          0.004298968233
                        ]
                      },
                      {
                        "learn": [
                          0.003633334657
                        ],
                        "iteration": 75,
                        "passed_time": 82.16150764,
                        "remaining_time": 998.9109614,
                        "test": [
                          0.004276804022
                        ]
                      },
                      {
                        "learn": [
                          0.003529130263
                        ],
                        "iteration": 76,
                        "passed_time": 83.29488437,
                        "remaining_time": 998.4568607,
                        "test": [
                          0.004199715169
                        ]
                      },
                      {
                        "learn": [
                          0.00352854499
                        ],
                        "iteration": 77,
                        "passed_time": 84.32717881,
                        "remaining_time": 996.7904982,
                        "test": [
                          0.004199476127
                        ]
                      },
                      {
                        "learn": [
                          0.003528541113
                        ],
                        "iteration": 78,
                        "passed_time": 85.87991903,
                        "remaining_time": 1001.207664,
                        "test": [
                          0.004199475552
                        ]
                      },
                      {
                        "learn": [
                          0.003508043199
                        ],
                        "iteration": 79,
                        "passed_time": 86.99742142,
                        "remaining_time": 1000.470346,
                        "test": [
                          0.004182829986
                        ]
                      },
                      {
                        "learn": [
                          0.00348601655
                        ],
                        "iteration": 80,
                        "passed_time": 88.22210282,
                        "remaining_time": 1000.93966,
                        "test": [
                          0.004155557832
                        ]
                      },
                      {
                        "learn": [
                          0.003479711767
                        ],
                        "iteration": 81,
                        "passed_time": 89.0925144,
                        "remaining_time": 997.4015636,
                        "test": [
                          0.004154480189
                        ]
                      },
                      {
                        "learn": [
                          0.003478086541
                        ],
                        "iteration": 82,
                        "passed_time": 89.95219849,
                        "remaining_time": 993.8092292,
                        "test": [
                          0.00415216149
                        ]
                      },
                      {
                        "learn": [
                          0.003436324189
                        ],
                        "iteration": 83,
                        "passed_time": 91.01971399,
                        "remaining_time": 992.5483097,
                        "test": [
                          0.00411717358
                        ]
                      },
                      {
                        "learn": [
                          0.003436315162
                        ],
                        "iteration": 84,
                        "passed_time": 92.13092695,
                        "remaining_time": 991.7623313,
                        "test": [
                          0.004117158954
                        ]
                      },
                      {
                        "learn": [
                          0.003434196914
                        ],
                        "iteration": 85,
                        "passed_time": 93.16263319,
                        "remaining_time": 990.1237993,
                        "test": [
                          0.00411322274
                        ]
                      },
                      {
                        "learn": [
                          0.003432295939
                        ],
                        "iteration": 86,
                        "passed_time": 93.99038295,
                        "remaining_time": 986.3588464,
                        "test": [
                          0.004112409221
                        ]
                      },
                      {
                        "learn": [
                          0.003297205561
                        ],
                        "iteration": 87,
                        "passed_time": 95.19965129,
                        "remaining_time": 986.6145679,
                        "test": [
                          0.003970546358
                        ]
                      },
                      {
                        "learn": [
                          0.003297200473
                        ],
                        "iteration": 88,
                        "passed_time": 96.10820503,
                        "remaining_time": 983.7592672,
                        "test": [
                          0.003970555114
                        ]
                      },
                      {
                        "learn": [
                          0.003297191536
                        ],
                        "iteration": 89,
                        "passed_time": 97.20076003,
                        "remaining_time": 982.8076847,
                        "test": [
                          0.003970558005
                        ]
                      },
                      {
                        "learn": [
                          0.003296874636
                        ],
                        "iteration": 90,
                        "passed_time": 98.08541433,
                        "remaining_time": 979.7762816,
                        "test": [
                          0.003970427294
                        ]
                      },
                      {
                        "learn": [
                          0.003296874488
                        ],
                        "iteration": 91,
                        "passed_time": 99.01200045,
                        "remaining_time": 977.2053958,
                        "test": [
                          0.003970426293
                        ]
                      },
                      {
                        "learn": [
                          0.003295171942
                        ],
                        "iteration": 92,
                        "passed_time": 100.0856893,
                        "remaining_time": 976.1045185,
                        "test": [
                          0.003968407195
                        ]
                      },
                      {
                        "learn": [
                          0.003295167304
                        ],
                        "iteration": 93,
                        "passed_time": 100.8490405,
                        "remaining_time": 972.0130929,
                        "test": [
                          0.00396836695
                        ]
                      },
                      {
                        "learn": [
                          0.00326680969
                        ],
                        "iteration": 94,
                        "passed_time": 101.9653403,
                        "remaining_time": 971.3540316,
                        "test": [
                          0.003947756158
                        ]
                      },
                      {
                        "learn": [
                          0.003266787744
                        ],
                        "iteration": 95,
                        "passed_time": 102.837465,
                        "remaining_time": 968.3861284,
                        "test": [
                          0.003947741555
                        ]
                      },
                      {
                        "learn": [
                          0.003266779633
                        ],
                        "iteration": 96,
                        "passed_time": 103.8852413,
                        "remaining_time": 967.0966278,
                        "test": [
                          0.003947743828
                        ]
                      },
                      {
                        "learn": [
                          0.003265965267
                        ],
                        "iteration": 97,
                        "passed_time": 104.8022316,
                        "remaining_time": 964.6082952,
                        "test": [
                          0.003946587866
                        ]
                      },
                      {
                        "learn": [
                          0.003192017432
                        ],
                        "iteration": 98,
                        "passed_time": 105.9459116,
                        "remaining_time": 964.2148117,
                        "test": [
                          0.003862752036
                        ]
                      },
                      {
                        "learn": [
                          0.003168010848
                        ],
                        "iteration": 99,
                        "passed_time": 106.9810858,
                        "remaining_time": 962.8297721,
                        "test": [
                          0.003849081945
                        ]
                      },
                      {
                        "learn": [
                          0.003167494338
                        ],
                        "iteration": 100,
                        "passed_time": 107.6639172,
                        "remaining_time": 958.3154611,
                        "test": [
                          0.00384807493
                        ]
                      },
                      {
                        "learn": [
                          0.003167492452
                        ],
                        "iteration": 101,
                        "passed_time": 108.404399,
                        "remaining_time": 954.3838267,
                        "test": [
                          0.003848053569
                        ]
                      },
                      {
                        "learn": [
                          0.003166996938
                        ],
                        "iteration": 102,
                        "passed_time": 109.1120028,
                        "remaining_time": 950.2278298,
                        "test": [
                          0.003847050771
                        ]
                      },
                      {
                        "learn": [
                          0.003166996375
                        ],
                        "iteration": 103,
                        "passed_time": 109.4683581,
                        "remaining_time": 943.1120084,
                        "test": [
                          0.003847049537
                        ]
                      },
                      {
                        "learn": [
                          0.003166994435
                        ],
                        "iteration": 104,
                        "passed_time": 110.3061773,
                        "remaining_time": 940.2288442,
                        "test": [
                          0.00384704261
                        ]
                      },
                      {
                        "learn": [
                          0.003163325907
                        ],
                        "iteration": 105,
                        "passed_time": 111.4820406,
                        "remaining_time": 940.2353238,
                        "test": [
                          0.003844395238
                        ]
                      },
                      {
                        "learn": [
                          0.003150859685
                        ],
                        "iteration": 106,
                        "passed_time": 112.6116672,
                        "remaining_time": 939.833821,
                        "test": [
                          0.00383309699
                        ]
                      },
                      {
                        "learn": [
                          0.003145117143
                        ],
                        "iteration": 107,
                        "passed_time": 113.675115,
                        "remaining_time": 938.8722464,
                        "test": [
                          0.003822593286
                        ]
                      },
                      {
                        "learn": [
                          0.003144866676
                        ],
                        "iteration": 108,
                        "passed_time": 114.3102108,
                        "remaining_time": 934.4073198,
                        "test": [
                          0.003822507714
                        ]
                      },
                      {
                        "learn": [
                          0.003144844757
                        ],
                        "iteration": 109,
                        "passed_time": 115.1555526,
                        "remaining_time": 931.7131073,
                        "test": [
                          0.003822517585
                        ]
                      },
                      {
                        "learn": [
                          0.003091806472
                        ],
                        "iteration": 110,
                        "passed_time": 116.3199508,
                        "remaining_time": 931.6075342,
                        "test": [
                          0.003765213347
                        ]
                      },
                      {
                        "learn": [
                          0.003090547786
                        ],
                        "iteration": 111,
                        "passed_time": 117.1052102,
                        "remaining_time": 928.4770234,
                        "test": [
                          0.00376538636
                        ]
                      },
                      {
                        "learn": [
                          0.003090126768
                        ],
                        "iteration": 112,
                        "passed_time": 117.7077635,
                        "remaining_time": 923.9538606,
                        "test": [
                          0.003765108721
                        ]
                      },
                      {
                        "learn": [
                          0.003090126116
                        ],
                        "iteration": 113,
                        "passed_time": 118.2657048,
                        "remaining_time": 919.1527584,
                        "test": [
                          0.003765100408
                        ]
                      },
                      {
                        "learn": [
                          0.002999061324
                        ],
                        "iteration": 114,
                        "passed_time": 119.4143852,
                        "remaining_time": 918.9715728,
                        "test": [
                          0.003718561482
                        ]
                      },
                      {
                        "learn": [
                          0.002997456009
                        ],
                        "iteration": 115,
                        "passed_time": 120.3209105,
                        "remaining_time": 916.9283177,
                        "test": [
                          0.003716688796
                        ]
                      },
                      {
                        "learn": [
                          0.002996053393
                        ],
                        "iteration": 116,
                        "passed_time": 121.0120209,
                        "remaining_time": 913.2787561,
                        "test": [
                          0.003716433662
                        ]
                      },
                      {
                        "learn": [
                          0.002992619188
                        ],
                        "iteration": 117,
                        "passed_time": 122.0618691,
                        "remaining_time": 912.3607504,
                        "test": [
                          0.003714213294
                        ]
                      },
                      {
                        "learn": [
                          0.002985691248
                        ],
                        "iteration": 118,
                        "passed_time": 123.1367939,
                        "remaining_time": 911.62618,
                        "test": [
                          0.003709903154
                        ]
                      },
                      {
                        "learn": [
                          0.002985691081
                        ],
                        "iteration": 119,
                        "passed_time": 123.7727744,
                        "remaining_time": 907.6670119,
                        "test": [
                          0.003709900944
                        ]
                      },
                      {
                        "learn": [
                          0.002985690772
                        ],
                        "iteration": 120,
                        "passed_time": 124.5890976,
                        "remaining_time": 905.0728662,
                        "test": [
                          0.003709898967
                        ]
                      },
                      {
                        "learn": [
                          0.002985690039
                        ],
                        "iteration": 121,
                        "passed_time": 124.8699387,
                        "remaining_time": 898.6541488,
                        "test": [
                          0.003709888958
                        ]
                      },
                      {
                        "learn": [
                          0.002984975407
                        ],
                        "iteration": 122,
                        "passed_time": 125.8165125,
                        "remaining_time": 897.0819631,
                        "test": [
                          0.003709981061
                        ]
                      },
                      {
                        "learn": [
                          0.00298496584
                        ],
                        "iteration": 123,
                        "passed_time": 126.7713035,
                        "remaining_time": 895.577918,
                        "test": [
                          0.003709939894
                        ]
                      },
                      {
                        "learn": [
                          0.002984965313
                        ],
                        "iteration": 124,
                        "passed_time": 127.74002,
                        "remaining_time": 894.1801399,
                        "test": [
                          0.0037099368
                        ]
                      },
                      {
                        "learn": [
                          0.002984965313
                        ],
                        "iteration": 125,
                        "passed_time": 128.1555369,
                        "remaining_time": 888.9518985,
                        "test": [
                          0.0037099368
                        ]
                      },
                      {
                        "learn": [
                          0.002984907444
                        ],
                        "iteration": 126,
                        "passed_time": 129.053107,
                        "remaining_time": 887.1130899,
                        "test": [
                          0.003709780065
                        ]
                      },
                      {
                        "learn": [
                          0.002984904198
                        ],
                        "iteration": 127,
                        "passed_time": 129.9259833,
                        "remaining_time": 885.1207612,
                        "test": [
                          0.003709775955
                        ]
                      },
                      {
                        "learn": [
                          0.002984874796
                        ],
                        "iteration": 128,
                        "passed_time": 130.6832309,
                        "remaining_time": 882.3650708,
                        "test": [
                          0.003709681632
                        ]
                      },
                      {
                        "learn": [
                          0.002984870427
                        ],
                        "iteration": 129,
                        "passed_time": 131.7273771,
                        "remaining_time": 881.5601388,
                        "test": [
                          0.003709644263
                        ]
                      },
                      {
                        "learn": [
                          0.002984865735
                        ],
                        "iteration": 130,
                        "passed_time": 132.4474581,
                        "remaining_time": 878.6018406,
                        "test": [
                          0.003709614182
                        ]
                      },
                      {
                        "learn": [
                          0.002984861362
                        ],
                        "iteration": 131,
                        "passed_time": 133.231998,
                        "remaining_time": 876.1013205,
                        "test": [
                          0.003709610514
                        ]
                      },
                      {
                        "learn": [
                          0.002984860287
                        ],
                        "iteration": 132,
                        "passed_time": 134.0040371,
                        "remaining_time": 873.5451138,
                        "test": [
                          0.003709594905
                        ]
                      },
                      {
                        "learn": [
                          0.002984859877
                        ],
                        "iteration": 133,
                        "passed_time": 134.507048,
                        "remaining_time": 869.2768921,
                        "test": [
                          0.003709591737
                        ]
                      },
                      {
                        "learn": [
                          0.002984840503
                        ],
                        "iteration": 134,
                        "passed_time": 135.2451271,
                        "remaining_time": 866.5706295,
                        "test": [
                          0.003709545327
                        ]
                      },
                      {
                        "learn": [
                          0.002984838231
                        ],
                        "iteration": 135,
                        "passed_time": 136.3252476,
                        "remaining_time": 866.0662789,
                        "test": [
                          0.003709539255
                        ]
                      },
                      {
                        "learn": [
                          0.002984834365
                        ],
                        "iteration": 136,
                        "passed_time": 137.2325484,
                        "remaining_time": 864.4648849,
                        "test": [
                          0.00370952994
                        ]
                      },
                      {
                        "learn": [
                          0.002984734607
                        ],
                        "iteration": 137,
                        "passed_time": 138.1385157,
                        "remaining_time": 862.8652214,
                        "test": [
                          0.003709442482
                        ]
                      },
                      {
                        "learn": [
                          0.002984733847
                        ],
                        "iteration": 138,
                        "passed_time": 139.0091744,
                        "remaining_time": 861.0568285,
                        "test": [
                          0.003709439906
                        ]
                      },
                      {
                        "learn": [
                          0.002984697834
                        ],
                        "iteration": 139,
                        "passed_time": 139.9398902,
                        "remaining_time": 859.6307543,
                        "test": [
                          0.003709346814
                        ]
                      },
                      {
                        "learn": [
                          0.00298448866
                        ],
                        "iteration": 140,
                        "passed_time": 140.6567901,
                        "remaining_time": 856.9090972,
                        "test": [
                          0.00370855644
                        ]
                      },
                      {
                        "learn": [
                          0.002984486939
                        ],
                        "iteration": 141,
                        "passed_time": 141.5595955,
                        "remaining_time": 855.3389642,
                        "test": [
                          0.003708556068
                        ]
                      },
                      {
                        "learn": [
                          0.002984482896
                        ],
                        "iteration": 142,
                        "passed_time": 142.4356369,
                        "remaining_time": 853.6177679,
                        "test": [
                          0.003708553178
                        ]
                      },
                      {
                        "learn": [
                          0.002977936973
                        ],
                        "iteration": 143,
                        "passed_time": 143.5430258,
                        "remaining_time": 853.2835421,
                        "test": [
                          0.003707858246
                        ]
                      },
                      {
                        "learn": [
                          0.002935730015
                        ],
                        "iteration": 144,
                        "passed_time": 144.7626257,
                        "remaining_time": 853.6003099,
                        "test": [
                          0.003674857108
                        ]
                      },
                      {
                        "learn": [
                          0.002932107986
                        ],
                        "iteration": 145,
                        "passed_time": 145.9356499,
                        "remaining_time": 853.6235957,
                        "test": [
                          0.003670168483
                        ]
                      },
                      {
                        "learn": [
                          0.002932104536
                        ],
                        "iteration": 146,
                        "passed_time": 146.537466,
                        "remaining_time": 850.316044,
                        "test": [
                          0.003670161933
                        ]
                      },
                      {
                        "learn": [
                          0.00293210192
                        ],
                        "iteration": 147,
                        "passed_time": 147.2831418,
                        "remaining_time": 847.8732219,
                        "test": [
                          0.003670154656
                        ]
                      },
                      {
                        "learn": [
                          0.002932094691
                        ],
                        "iteration": 148,
                        "passed_time": 148.0493987,
                        "remaining_time": 845.5707268,
                        "test": [
                          0.003670150369
                        ]
                      },
                      {
                        "learn": [
                          0.002932093769
                        ],
                        "iteration": 149,
                        "passed_time": 148.6871578,
                        "remaining_time": 842.5605606,
                        "test": [
                          0.00367013848
                        ]
                      },
                      {
                        "learn": [
                          0.002927095742
                        ],
                        "iteration": 150,
                        "passed_time": 149.7826217,
                        "remaining_time": 842.1552703,
                        "test": [
                          0.00366714989
                        ]
                      },
                      {
                        "learn": [
                          0.002927092489
                        ],
                        "iteration": 151,
                        "passed_time": 150.6507345,
                        "remaining_time": 840.472519,
                        "test": [
                          0.003667144968
                        ]
                      },
                      {
                        "learn": [
                          0.00292259889
                        ],
                        "iteration": 152,
                        "passed_time": 151.7617663,
                        "remaining_time": 840.1452032,
                        "test": [
                          0.003667470385
                        ]
                      },
                      {
                        "learn": [
                          0.002922597305
                        ],
                        "iteration": 153,
                        "passed_time": 152.6608328,
                        "remaining_time": 838.643276,
                        "test": [
                          0.003667463561
                        ]
                      },
                      {
                        "learn": [
                          0.002920400622
                        ],
                        "iteration": 154,
                        "passed_time": 153.745208,
                        "remaining_time": 838.15936,
                        "test": [
                          0.003666391071
                        ]
                      },
                      {
                        "learn": [
                          0.002852228017
                        ],
                        "iteration": 155,
                        "passed_time": 154.8514355,
                        "remaining_time": 837.7859716,
                        "test": [
                          0.003586628202
                        ]
                      },
                      {
                        "learn": [
                          0.002852226673
                        ],
                        "iteration": 156,
                        "passed_time": 155.7283079,
                        "remaining_time": 836.1717426,
                        "test": [
                          0.003586607926
                        ]
                      },
                      {
                        "learn": [
                          0.002852224047
                        ],
                        "iteration": 157,
                        "passed_time": 156.4168101,
                        "remaining_time": 833.5630009,
                        "test": [
                          0.003586603721
                        ]
                      },
                      {
                        "learn": [
                          0.002852222542
                        ],
                        "iteration": 158,
                        "passed_time": 157.3556143,
                        "remaining_time": 832.3023372,
                        "test": [
                          0.003586593766
                        ]
                      },
                      {
                        "learn": [
                          0.002852221242
                        ],
                        "iteration": 159,
                        "passed_time": 158.1806862,
                        "remaining_time": 830.4486023,
                        "test": [
                          0.003586573969
                        ]
                      },
                      {
                        "learn": [
                          0.002852220599
                        ],
                        "iteration": 160,
                        "passed_time": 159.227817,
                        "remaining_time": 829.7648353,
                        "test": [
                          0.003586564159
                        ]
                      },
                      {
                        "learn": [
                          0.002852215187
                        ],
                        "iteration": 161,
                        "passed_time": 160.2021846,
                        "remaining_time": 828.7001893,
                        "test": [
                          0.003586554702
                        ]
                      },
                      {
                        "learn": [
                          0.002841819182
                        ],
                        "iteration": 162,
                        "passed_time": 161.6493739,
                        "remaining_time": 830.0645762,
                        "test": [
                          0.003582610056
                        ]
                      },
                      {
                        "learn": [
                          0.002828038047
                        ],
                        "iteration": 163,
                        "passed_time": 163.4064661,
                        "remaining_time": 832.9744247,
                        "test": [
                          0.003573969232
                        ]
                      },
                      {
                        "learn": [
                          0.002828034582
                        ],
                        "iteration": 164,
                        "passed_time": 164.3323592,
                        "remaining_time": 831.6213329,
                        "test": [
                          0.003573952981
                        ]
                      },
                      {
                        "learn": [
                          0.002828033829
                        ],
                        "iteration": 165,
                        "passed_time": 165.2249501,
                        "remaining_time": 830.1060744,
                        "test": [
                          0.00357394856
                        ]
                      },
                      {
                        "learn": [
                          0.002828033605
                        ],
                        "iteration": 166,
                        "passed_time": 166.0986247,
                        "remaining_time": 828.5039187,
                        "test": [
                          0.003573945457
                        ]
                      },
                      {
                        "learn": [
                          0.002828032714
                        ],
                        "iteration": 167,
                        "passed_time": 167.0349882,
                        "remaining_time": 827.2208938,
                        "test": [
                          0.003573933112
                        ]
                      },
                      {
                        "learn": [
                          0.002826660259
                        ],
                        "iteration": 168,
                        "passed_time": 168.095655,
                        "remaining_time": 826.5531911,
                        "test": [
                          0.003573922204
                        ]
                      },
                      {
                        "learn": [
                          0.00282665851
                        ],
                        "iteration": 169,
                        "passed_time": 168.9462749,
                        "remaining_time": 824.8553424,
                        "test": [
                          0.003573919253
                        ]
                      },
                      {
                        "learn": [
                          0.002819669148
                        ],
                        "iteration": 170,
                        "passed_time": 170.002547,
                        "remaining_time": 824.1643946,
                        "test": [
                          0.003567754265
                        ]
                      },
                      {
                        "learn": [
                          0.002819663662
                        ],
                        "iteration": 171,
                        "passed_time": 170.5679246,
                        "remaining_time": 821.1060555,
                        "test": [
                          0.003567743747
                        ]
                      },
                      {
                        "learn": [
                          0.002813229419
                        ],
                        "iteration": 172,
                        "passed_time": 171.7399088,
                        "remaining_time": 820.9763271,
                        "test": [
                          0.003564111601
                        ]
                      },
                      {
                        "learn": [
                          0.002813141234
                        ],
                        "iteration": 173,
                        "passed_time": 172.7412991,
                        "remaining_time": 820.0247877,
                        "test": [
                          0.003564054111
                        ]
                      },
                      {
                        "learn": [
                          0.002813137131
                        ],
                        "iteration": 174,
                        "passed_time": 173.6277368,
                        "remaining_time": 818.5307593,
                        "test": [
                          0.003564042185
                        ]
                      },
                      {
                        "learn": [
                          0.002813028562
                        ],
                        "iteration": 175,
                        "passed_time": 174.5562357,
                        "remaining_time": 817.2405578,
                        "test": [
                          0.003563890326
                        ]
                      },
                      {
                        "learn": [
                          0.002813012882
                        ],
                        "iteration": 176,
                        "passed_time": 175.4500903,
                        "remaining_time": 815.7933575,
                        "test": [
                          0.003563846081
                        ]
                      },
                      {
                        "learn": [
                          0.002794429852
                        ],
                        "iteration": 177,
                        "passed_time": 176.5813915,
                        "remaining_time": 815.4488979,
                        "test": [
                          0.003557625717
                        ]
                      },
                      {
                        "learn": [
                          0.002794426759
                        ],
                        "iteration": 178,
                        "passed_time": 177.3332559,
                        "remaining_time": 813.3553246,
                        "test": [
                          0.003557622426
                        ]
                      },
                      {
                        "learn": [
                          0.002794426297
                        ],
                        "iteration": 179,
                        "passed_time": 178.2844772,
                        "remaining_time": 812.1848406,
                        "test": [
                          0.00355761595
                        ]
                      },
                      {
                        "learn": [
                          0.002794416566
                        ],
                        "iteration": 180,
                        "passed_time": 179.108129,
                        "remaining_time": 810.4395449,
                        "test": [
                          0.003557589529
                        ]
                      },
                      {
                        "learn": [
                          0.002794398894
                        ],
                        "iteration": 181,
                        "passed_time": 179.9540129,
                        "remaining_time": 808.8042995,
                        "test": [
                          0.003557540956
                        ]
                      },
                      {
                        "learn": [
                          0.00279434634
                        ],
                        "iteration": 182,
                        "passed_time": 180.8980025,
                        "remaining_time": 807.6156723,
                        "test": [
                          0.003557447586
                        ]
                      },
                      {
                        "learn": [
                          0.002790425951
                        ],
                        "iteration": 183,
                        "passed_time": 181.9666305,
                        "remaining_time": 806.9824481,
                        "test": [
                          0.003548640949
                        ]
                      },
                      {
                        "learn": [
                          0.002790424023
                        ],
                        "iteration": 184,
                        "passed_time": 182.649232,
                        "remaining_time": 804.6439142,
                        "test": [
                          0.003548638081
                        ]
                      },
                      {
                        "learn": [
                          0.002790407597
                        ],
                        "iteration": 185,
                        "passed_time": 183.5536653,
                        "remaining_time": 803.2939977,
                        "test": [
                          0.00354860924
                        ]
                      },
                      {
                        "learn": [
                          0.002788990421
                        ],
                        "iteration": 186,
                        "passed_time": 184.2630385,
                        "remaining_time": 801.1008039,
                        "test": [
                          0.00354787397
                        ]
                      },
                      {
                        "learn": [
                          0.002746372332
                        ],
                        "iteration": 187,
                        "passed_time": 185.4659368,
                        "remaining_time": 801.0550036,
                        "test": [
                          0.003500228319
                        ]
                      },
                      {
                        "learn": [
                          0.002736158508
                        ],
                        "iteration": 188,
                        "passed_time": 186.6136823,
                        "remaining_time": 800.7602981,
                        "test": [
                          0.00349482874
                        ]
                      },
                      {
                        "learn": [
                          0.002704165998
                        ],
                        "iteration": 189,
                        "passed_time": 187.7925728,
                        "remaining_time": 800.5893893,
                        "test": [
                          0.003460042999
                        ]
                      },
                      {
                        "learn": [
                          0.002701040779
                        ],
                        "iteration": 190,
                        "passed_time": 188.9002164,
                        "remaining_time": 800.1061521,
                        "test": [
                          0.003455706054
                        ]
                      },
                      {
                        "learn": [
                          0.002701039062
                        ],
                        "iteration": 191,
                        "passed_time": 189.6817766,
                        "remaining_time": 798.2441434,
                        "test": [
                          0.00345569801
                        ]
                      },
                      {
                        "learn": [
                          0.002701032044
                        ],
                        "iteration": 192,
                        "passed_time": 190.5815896,
                        "remaining_time": 796.8877866,
                        "test": [
                          0.003455682793
                        ]
                      },
                      {
                        "learn": [
                          0.002701025214
                        ],
                        "iteration": 193,
                        "passed_time": 191.1083869,
                        "remaining_time": 793.986391,
                        "test": [
                          0.003455650782
                        ]
                      },
                      {
                        "learn": [
                          0.002690614951
                        ],
                        "iteration": 194,
                        "passed_time": 192.186854,
                        "remaining_time": 793.3867561,
                        "test": [
                          0.003450630976
                        ]
                      },
                      {
                        "learn": [
                          0.002690568057
                        ],
                        "iteration": 195,
                        "passed_time": 192.9537986,
                        "remaining_time": 791.5043577,
                        "test": [
                          0.003450507917
                        ]
                      },
                      {
                        "learn": [
                          0.002681637746
                        ],
                        "iteration": 196,
                        "passed_time": 193.7757366,
                        "remaining_time": 789.8574441,
                        "test": [
                          0.003442532354
                        ]
                      },
                      {
                        "learn": [
                          0.00265784598
                        ],
                        "iteration": 197,
                        "passed_time": 194.783925,
                        "remaining_time": 788.973272,
                        "test": [
                          0.003432537262
                        ]
                      },
                      {
                        "learn": [
                          0.002657838148
                        ],
                        "iteration": 198,
                        "passed_time": 195.6611542,
                        "remaining_time": 787.5607263,
                        "test": [
                          0.003432513599
                        ]
                      },
                      {
                        "learn": [
                          0.002655449189
                        ],
                        "iteration": 199,
                        "passed_time": 196.6894701,
                        "remaining_time": 786.7578802,
                        "test": [
                          0.003430833764
                        ]
                      },
                      {
                        "learn": [
                          0.002634115771
                        ],
                        "iteration": 200,
                        "passed_time": 197.7306467,
                        "remaining_time": 786.0039139,
                        "test": [
                          0.00341728348
                        ]
                      },
                      {
                        "learn": [
                          0.002627488111
                        ],
                        "iteration": 201,
                        "passed_time": 198.8844895,
                        "remaining_time": 785.6921912,
                        "test": [
                          0.003418349961
                        ]
                      },
                      {
                        "learn": [
                          0.002611711
                        ],
                        "iteration": 202,
                        "passed_time": 199.9077589,
                        "remaining_time": 784.8595263,
                        "test": [
                          0.003409296317
                        ]
                      },
                      {
                        "learn": [
                          0.002611695866
                        ],
                        "iteration": 203,
                        "passed_time": 200.8978696,
                        "remaining_time": 783.8956087,
                        "test": [
                          0.003409228833
                        ]
                      },
                      {
                        "learn": [
                          0.002593455381
                        ],
                        "iteration": 204,
                        "passed_time": 202.0494321,
                        "remaining_time": 783.5575538,
                        "test": [
                          0.003394001545
                        ]
                      },
                      {
                        "learn": [
                          0.002593442227
                        ],
                        "iteration": 205,
                        "passed_time": 202.8028002,
                        "remaining_time": 781.6768124,
                        "test": [
                          0.00339395163
                        ]
                      },
                      {
                        "learn": [
                          0.002593440591
                        ],
                        "iteration": 206,
                        "passed_time": 203.709007,
                        "remaining_time": 780.3924761,
                        "test": [
                          0.003393936858
                        ]
                      },
                      {
                        "learn": [
                          0.002588593862
                        ],
                        "iteration": 207,
                        "passed_time": 204.7086722,
                        "remaining_time": 779.4676364,
                        "test": [
                          0.00339427311
                        ]
                      },
                      {
                        "learn": [
                          0.002583805802
                        ],
                        "iteration": 208,
                        "passed_time": 205.757213,
                        "remaining_time": 778.7270597,
                        "test": [
                          0.00339043978
                        ]
                      },
                      {
                        "learn": [
                          0.002577284936
                        ],
                        "iteration": 209,
                        "passed_time": 206.7545197,
                        "remaining_time": 777.7908123,
                        "test": [
                          0.003385007902
                        ]
                      },
                      {
                        "learn": [
                          0.002522772632
                        ],
                        "iteration": 210,
                        "passed_time": 207.8525486,
                        "remaining_time": 777.2306202,
                        "test": [
                          0.003317226558
                        ]
                      },
                      {
                        "learn": [
                          0.002522768254
                        ],
                        "iteration": 211,
                        "passed_time": 208.8940824,
                        "remaining_time": 776.4553629,
                        "test": [
                          0.003317215894
                        ]
                      },
                      {
                        "learn": [
                          0.002522766398
                        ],
                        "iteration": 212,
                        "passed_time": 209.7141315,
                        "remaining_time": 774.8592557,
                        "test": [
                          0.003317207081
                        ]
                      },
                      {
                        "learn": [
                          0.002505305753
                        ],
                        "iteration": 213,
                        "passed_time": 210.9562859,
                        "remaining_time": 774.8207509,
                        "test": [
                          0.003302176767
                        ]
                      },
                      {
                        "learn": [
                          0.002505301553
                        ],
                        "iteration": 214,
                        "passed_time": 211.8534187,
                        "remaining_time": 773.5113196,
                        "test": [
                          0.003302145219
                        ]
                      },
                      {
                        "learn": [
                          0.002504574256
                        ],
                        "iteration": 215,
                        "passed_time": 212.9557964,
                        "remaining_time": 772.9506685,
                        "test": [
                          0.003301587495
                        ]
                      },
                      {
                        "learn": [
                          0.002447049041
                        ],
                        "iteration": 216,
                        "passed_time": 214.0469116,
                        "remaining_time": 772.344386,
                        "test": [
                          0.003257893363
                        ]
                      },
                      {
                        "learn": [
                          0.002447007961
                        ],
                        "iteration": 217,
                        "passed_time": 214.9251163,
                        "remaining_time": 770.9699128,
                        "test": [
                          0.003257773592
                        ]
                      },
                      {
                        "learn": [
                          0.002445985064
                        ],
                        "iteration": 218,
                        "passed_time": 215.9513954,
                        "remaining_time": 770.1280357,
                        "test": [
                          0.003257327201
                        ]
                      },
                      {
                        "learn": [
                          0.002441888064
                        ],
                        "iteration": 219,
                        "passed_time": 216.9934379,
                        "remaining_time": 769.3403707,
                        "test": [
                          0.003254222537
                        ]
                      },
                      {
                        "learn": [
                          0.002440107979
                        ],
                        "iteration": 220,
                        "passed_time": 217.9802757,
                        "remaining_time": 768.3558134,
                        "test": [
                          0.00325336344
                        ]
                      },
                      {
                        "learn": [
                          0.002440099349
                        ],
                        "iteration": 221,
                        "passed_time": 218.9629141,
                        "remaining_time": 767.356519,
                        "test": [
                          0.003253342032
                        ]
                      },
                      {
                        "learn": [
                          0.002440097358
                        ],
                        "iteration": 222,
                        "passed_time": 219.7633999,
                        "remaining_time": 765.7226982,
                        "test": [
                          0.003253339113
                        ]
                      },
                      {
                        "learn": [
                          0.002440093064
                        ],
                        "iteration": 223,
                        "passed_time": 220.7383743,
                        "remaining_time": 764.7007966,
                        "test": [
                          0.003253328471
                        ]
                      },
                      {
                        "learn": [
                          0.002440090622
                        ],
                        "iteration": 224,
                        "passed_time": 221.5759506,
                        "remaining_time": 763.2060519,
                        "test": [
                          0.003253314497
                        ]
                      },
                      {
                        "learn": [
                          0.002436664493
                        ],
                        "iteration": 225,
                        "passed_time": 222.5947908,
                        "remaining_time": 762.3379117,
                        "test": [
                          0.003250702696
                        ]
                      },
                      {
                        "learn": [
                          0.002436638926
                        ],
                        "iteration": 226,
                        "passed_time": 223.5416442,
                        "remaining_time": 761.2233083,
                        "test": [
                          0.003250634862
                        ]
                      },
                      {
                        "learn": [
                          0.002436630312
                        ],
                        "iteration": 227,
                        "passed_time": 224.5544539,
                        "remaining_time": 760.3335019,
                        "test": [
                          0.003250615287
                        ]
                      },
                      {
                        "learn": [
                          0.002436623721
                        ],
                        "iteration": 228,
                        "passed_time": 225.3760531,
                        "remaining_time": 758.7988513,
                        "test": [
                          0.003250605452
                        ]
                      },
                      {
                        "learn": [
                          0.002432006963
                        ],
                        "iteration": 229,
                        "passed_time": 226.4423791,
                        "remaining_time": 758.0897039,
                        "test": [
                          0.00324770927
                        ]
                      },
                      {
                        "learn": [
                          0.00243200616
                        ],
                        "iteration": 230,
                        "passed_time": 227.4767575,
                        "remaining_time": 757.2711106,
                        "test": [
                          0.003247707207
                        ]
                      },
                      {
                        "learn": [
                          0.002426336714
                        ],
                        "iteration": 231,
                        "passed_time": 228.6090653,
                        "remaining_time": 756.7748369,
                        "test": [
                          0.003250194032
                        ]
                      },
                      {
                        "learn": [
                          0.002426330669
                        ],
                        "iteration": 232,
                        "passed_time": 229.4220797,
                        "remaining_time": 755.2220393,
                        "test": [
                          0.00325014137
                        ]
                      },
                      {
                        "learn": [
                          0.002426330039
                        ],
                        "iteration": 233,
                        "passed_time": 230.1620037,
                        "remaining_time": 753.4363028,
                        "test": [
                          0.003250139153
                        ]
                      },
                      {
                        "learn": [
                          0.002391574351
                        ],
                        "iteration": 234,
                        "passed_time": 231.3301681,
                        "remaining_time": 753.0535258,
                        "test": [
                          0.003222247313
                        ]
                      },
                      {
                        "learn": [
                          0.00239153201
                        ],
                        "iteration": 235,
                        "passed_time": 232.0696562,
                        "remaining_time": 751.2763448,
                        "test": [
                          0.003222197148
                        ]
                      },
                      {
                        "learn": [
                          0.002391371263
                        ],
                        "iteration": 236,
                        "passed_time": 233.0432353,
                        "remaining_time": 750.2615551,
                        "test": [
                          0.003221915852
                        ]
                      },
                      {
                        "learn": [
                          0.002391317032
                        ],
                        "iteration": 237,
                        "passed_time": 234.0151295,
                        "remaining_time": 749.2417172,
                        "test": [
                          0.003221883208
                        ]
                      },
                      {
                        "learn": [
                          0.002391303334
                        ],
                        "iteration": 238,
                        "passed_time": 234.7545571,
                        "remaining_time": 747.4820833,
                        "test": [
                          0.003221777694
                        ]
                      },
                      {
                        "learn": [
                          0.002380640182
                        ],
                        "iteration": 239,
                        "passed_time": 235.9229239,
                        "remaining_time": 747.089259,
                        "test": [
                          0.003222180402
                        ]
                      },
                      {
                        "learn": [
                          0.00238025301
                        ],
                        "iteration": 240,
                        "passed_time": 236.496358,
                        "remaining_time": 744.8163307,
                        "test": [
                          0.003221642385
                        ]
                      },
                      {
                        "learn": [
                          0.002380248645
                        ],
                        "iteration": 241,
                        "passed_time": 237.2001742,
                        "remaining_time": 742.965835,
                        "test": [
                          0.003221619713
                        ]
                      },
                      {
                        "learn": [
                          0.00235509245
                        ],
                        "iteration": 242,
                        "passed_time": 238.3041697,
                        "remaining_time": 742.3714257,
                        "test": [
                          0.003193119405
                        ]
                      },
                      {
                        "learn": [
                          0.002355080933
                        ],
                        "iteration": 243,
                        "passed_time": 239.1791304,
                        "remaining_time": 741.0632074,
                        "test": [
                          0.003193085543
                        ]
                      },
                      {
                        "learn": [
                          0.002355080362
                        ],
                        "iteration": 244,
                        "passed_time": 240.1077768,
                        "remaining_time": 739.9239652,
                        "test": [
                          0.003193084857
                        ]
                      },
                      {
                        "learn": [
                          0.002355079831
                        ],
                        "iteration": 245,
                        "passed_time": 241.0090454,
                        "remaining_time": 738.7025213,
                        "test": [
                          0.003193083684
                        ]
                      },
                      {
                        "learn": [
                          0.002355079277
                        ],
                        "iteration": 246,
                        "passed_time": 241.8378738,
                        "remaining_time": 737.2628297,
                        "test": [
                          0.003193077816
                        ]
                      },
                      {
                        "learn": [
                          0.002355077073
                        ],
                        "iteration": 247,
                        "passed_time": 242.2795199,
                        "remaining_time": 734.654028,
                        "test": [
                          0.003193054401
                        ]
                      },
                      {
                        "learn": [
                          0.002355075747
                        ],
                        "iteration": 248,
                        "passed_time": 242.8443978,
                        "remaining_time": 732.4343082,
                        "test": [
                          0.003193049025
                        ]
                      },
                      {
                        "learn": [
                          0.002355067517
                        ],
                        "iteration": 249,
                        "passed_time": 243.7994471,
                        "remaining_time": 731.3983412,
                        "test": [
                          0.003193030283
                        ]
                      },
                      {
                        "learn": [
                          0.002355065763
                        ],
                        "iteration": 250,
                        "passed_time": 244.3762145,
                        "remaining_time": 729.2342019,
                        "test": [
                          0.003193015718
                        ]
                      },
                      {
                        "learn": [
                          0.002355016761
                        ],
                        "iteration": 251,
                        "passed_time": 244.9706913,
                        "remaining_time": 727.1352266,
                        "test": [
                          0.00319291003
                        ]
                      },
                      {
                        "learn": [
                          0.002355016761
                        ],
                        "iteration": 252,
                        "passed_time": 245.8976309,
                        "remaining_time": 726.029764,
                        "test": [
                          0.00319291003
                        ]
                      },
                      {
                        "learn": [
                          0.002355016274
                        ],
                        "iteration": 253,
                        "passed_time": 246.6546768,
                        "remaining_time": 724.4267279,
                        "test": [
                          0.003192907163
                        ]
                      },
                      {
                        "learn": [
                          0.002355014188
                        ],
                        "iteration": 254,
                        "passed_time": 247.1540107,
                        "remaining_time": 722.0774037,
                        "test": [
                          0.003192884967
                        ]
                      },
                      {
                        "learn": [
                          0.0023550082
                        ],
                        "iteration": 255,
                        "passed_time": 248.0705573,
                        "remaining_time": 720.9550573,
                        "test": [
                          0.0031928734
                        ]
                      },
                      {
                        "learn": [
                          0.00235500717
                        ],
                        "iteration": 256,
                        "passed_time": 248.5308731,
                        "remaining_time": 718.5153258,
                        "test": [
                          0.003192862425
                        ]
                      },
                      {
                        "learn": [
                          0.00235500283
                        ],
                        "iteration": 257,
                        "passed_time": 249.4564372,
                        "remaining_time": 717.4289782,
                        "test": [
                          0.003192848292
                        ]
                      },
                      {
                        "learn": [
                          0.002355001498
                        ],
                        "iteration": 258,
                        "passed_time": 250.3056028,
                        "remaining_time": 716.125296,
                        "test": [
                          0.00319284031
                        ]
                      },
                      {
                        "learn": [
                          0.002355001244
                        ],
                        "iteration": 259,
                        "passed_time": 251.1445863,
                        "remaining_time": 714.7961303,
                        "test": [
                          0.003192837598
                        ]
                      },
                      {
                        "learn": [
                          0.002355000225
                        ],
                        "iteration": 260,
                        "passed_time": 252.0866987,
                        "remaining_time": 713.7627215,
                        "test": [
                          0.003192835403
                        ]
                      },
                      {
                        "learn": [
                          0.002354999971
                        ],
                        "iteration": 261,
                        "passed_time": 252.5334985,
                        "remaining_time": 711.3348164,
                        "test": [
                          0.003192832687
                        ]
                      },
                      {
                        "learn": [
                          0.002354999464
                        ],
                        "iteration": 262,
                        "passed_time": 252.9708855,
                        "remaining_time": 708.8955994,
                        "test": [
                          0.003192827278
                        ]
                      },
                      {
                        "learn": [
                          0.002354998454
                        ],
                        "iteration": 263,
                        "passed_time": 253.4443342,
                        "remaining_time": 706.5720831,
                        "test": [
                          0.003192816485
                        ]
                      },
                      {
                        "learn": [
                          0.0023549925
                        ],
                        "iteration": 264,
                        "passed_time": 254.3564476,
                        "remaining_time": 705.4792037,
                        "test": [
                          0.003192805076
                        ]
                      },
                      {
                        "learn": [
                          0.002354991497
                        ],
                        "iteration": 265,
                        "passed_time": 254.8098122,
                        "remaining_time": 703.1218126,
                        "test": [
                          0.003192794324
                        ]
                      },
                      {
                        "learn": [
                          0.00235499051
                        ],
                        "iteration": 266,
                        "passed_time": 255.4827702,
                        "remaining_time": 701.3815378,
                        "test": [
                          0.003192792135
                        ]
                      },
                      {
                        "learn": [
                          0.002354988522
                        ],
                        "iteration": 267,
                        "passed_time": 255.937566,
                        "remaining_time": 699.0533519,
                        "test": [
                          0.003192770808
                        ]
                      },
                      {
                        "learn": [
                          0.002354987253
                        ],
                        "iteration": 268,
                        "passed_time": 256.8398132,
                        "remaining_time": 697.9550315,
                        "test": [
                          0.003192765959
                        ]
                      },
                      {
                        "learn": [
                          0.002354985151
                        ],
                        "iteration": 269,
                        "passed_time": 257.7284207,
                        "remaining_time": 696.8212857,
                        "test": [
                          0.00319275584
                        ]
                      },
                      {
                        "learn": [
                          0.002354981225
                        ],
                        "iteration": 270,
                        "passed_time": 258.6806729,
                        "remaining_time": 695.8605554,
                        "test": [
                          0.003192755539
                        ]
                      },
                      {
                        "learn": [
                          0.002354980248
                        ],
                        "iteration": 271,
                        "passed_time": 259.1577881,
                        "remaining_time": 693.6281975,
                        "test": [
                          0.003192745032
                        ]
                      },
                      {
                        "learn": [
                          0.002354933142
                        ],
                        "iteration": 272,
                        "passed_time": 260.0810215,
                        "remaining_time": 692.596713,
                        "test": [
                          0.003192647091
                        ]
                      },
                      {
                        "learn": [
                          0.002354924264
                        ],
                        "iteration": 273,
                        "passed_time": 260.7050711,
                        "remaining_time": 690.7732905,
                        "test": [
                          0.003192635546
                        ]
                      },
                      {
                        "learn": [
                          0.002354923
                        ],
                        "iteration": 274,
                        "passed_time": 261.5971395,
                        "remaining_time": 689.665186,
                        "test": [
                          0.003192630963
                        ]
                      },
                      {
                        "learn": [
                          0.002354919206
                        ],
                        "iteration": 275,
                        "passed_time": 262.3289914,
                        "remaining_time": 688.1383687,
                        "test": [
                          0.003192622675
                        ]
                      },
                      {
                        "learn": [
                          0.002354917946
                        ],
                        "iteration": 276,
                        "passed_time": 263.2300288,
                        "remaining_time": 687.0588838,
                        "test": [
                          0.003192618117
                        ]
                      },
                      {
                        "learn": [
                          0.002354917015
                        ],
                        "iteration": 277,
                        "passed_time": 263.7244449,
                        "remaining_time": 684.9246376,
                        "test": [
                          0.003192608153
                        ]
                      },
                      {
                        "learn": [
                          0.002353673655
                        ],
                        "iteration": 278,
                        "passed_time": 264.7303256,
                        "remaining_time": 684.123888,
                        "test": [
                          0.003192543829
                        ]
                      },
                      {
                        "learn": [
                          0.002353665963
                        ],
                        "iteration": 279,
                        "passed_time": 265.5466658,
                        "remaining_time": 682.8342836,
                        "test": [
                          0.003192537118
                        ]
                      },
                      {
                        "learn": [
                          0.002353624907
                        ],
                        "iteration": 280,
                        "passed_time": 266.5577974,
                        "remaining_time": 682.0464637,
                        "test": [
                          0.00319250961
                        ]
                      },
                      {
                        "learn": [
                          0.002353584416
                        ],
                        "iteration": 281,
                        "passed_time": 267.6239342,
                        "remaining_time": 681.397109,
                        "test": [
                          0.003192483034
                        ]
                      },
                      {
                        "learn": [
                          0.002353583353
                        ],
                        "iteration": 282,
                        "passed_time": 268.3782654,
                        "remaining_time": 679.9548279,
                        "test": [
                          0.003192476941
                        ]
                      },
                      {
                        "learn": [
                          0.002353484392
                        ],
                        "iteration": 283,
                        "passed_time": 269.0902508,
                        "remaining_time": 678.4106323,
                        "test": [
                          0.003192455451
                        ]
                      },
                      {
                        "learn": [
                          0.002353481723
                        ],
                        "iteration": 284,
                        "passed_time": 269.9762346,
                        "remaining_time": 677.308799,
                        "test": [
                          0.00319244837
                        ]
                      },
                      {
                        "learn": [
                          0.002353475516
                        ],
                        "iteration": 285,
                        "passed_time": 271.0246512,
                        "remaining_time": 676.6139894,
                        "test": [
                          0.003192436183
                        ]
                      },
                      {
                        "learn": [
                          0.002353474724
                        ],
                        "iteration": 286,
                        "passed_time": 271.9378851,
                        "remaining_time": 675.5808784,
                        "test": [
                          0.003192432732
                        ]
                      },
                      {
                        "learn": [
                          0.002353468522
                        ],
                        "iteration": 287,
                        "passed_time": 272.9542321,
                        "remaining_time": 674.8035183,
                        "test": [
                          0.003192420556
                        ]
                      },
                      {
                        "learn": [
                          0.002353460826
                        ],
                        "iteration": 288,
                        "passed_time": 273.8621794,
                        "remaining_time": 673.7578186,
                        "test": [
                          0.003192421627
                        ]
                      },
                      {
                        "learn": [
                          0.00235345445
                        ],
                        "iteration": 289,
                        "passed_time": 274.6504355,
                        "remaining_time": 672.4200318,
                        "test": [
                          0.00319238506
                        ]
                      },
                      {
                        "learn": [
                          0.002353453983
                        ],
                        "iteration": 290,
                        "passed_time": 275.6461723,
                        "remaining_time": 671.5915332,
                        "test": [
                          0.003192384317
                        ]
                      },
                      {
                        "learn": [
                          0.002353451745
                        ],
                        "iteration": 291,
                        "passed_time": 276.5783758,
                        "remaining_time": 670.6078426,
                        "test": [
                          0.003192380248
                        ]
                      },
                      {
                        "learn": [
                          0.002353448308
                        ],
                        "iteration": 292,
                        "passed_time": 277.5746222,
                        "remaining_time": 669.7790373,
                        "test": [
                          0.003192379339
                        ]
                      },
                      {
                        "learn": [
                          0.002353415859
                        ],
                        "iteration": 293,
                        "passed_time": 278.2012625,
                        "remaining_time": 668.0615352,
                        "test": [
                          0.003192346833
                        ]
                      },
                      {
                        "learn": [
                          0.002350908036
                        ],
                        "iteration": 294,
                        "passed_time": 279.2422056,
                        "remaining_time": 667.3415421,
                        "test": [
                          0.003187645588
                        ]
                      },
                      {
                        "learn": [
                          0.002350890862
                        ],
                        "iteration": 295,
                        "passed_time": 280.419144,
                        "remaining_time": 666.9428291,
                        "test": [
                          0.003187619991
                        ]
                      },
                      {
                        "learn": [
                          0.00235059641
                        ],
                        "iteration": 296,
                        "passed_time": 281.4169928,
                        "remaining_time": 666.1149695,
                        "test": [
                          0.003187298156
                        ]
                      },
                      {
                        "learn": [
                          0.002350584845
                        ],
                        "iteration": 297,
                        "passed_time": 282.3283244,
                        "remaining_time": 665.0821602,
                        "test": [
                          0.003187280666
                        ]
                      },
                      {
                        "learn": [
                          0.002350575045
                        ],
                        "iteration": 298,
                        "passed_time": 283.2414795,
                        "remaining_time": 664.0544385,
                        "test": [
                          0.003187264947
                        ]
                      },
                      {
                        "learn": [
                          0.002347869116
                        ],
                        "iteration": 299,
                        "passed_time": 284.2043528,
                        "remaining_time": 663.1434898,
                        "test": [
                          0.003185058639
                        ]
                      },
                      {
                        "learn": [
                          0.002347805482
                        ],
                        "iteration": 300,
                        "passed_time": 284.9676533,
                        "remaining_time": 661.7687363,
                        "test": [
                          0.003184573539
                        ]
                      },
                      {
                        "learn": [
                          0.002335449983
                        ],
                        "iteration": 301,
                        "passed_time": 286.1205962,
                        "remaining_time": 661.2985965,
                        "test": [
                          0.003175736486
                        ]
                      },
                      {
                        "learn": [
                          0.002335104326
                        ],
                        "iteration": 302,
                        "passed_time": 286.9418384,
                        "remaining_time": 660.0609285,
                        "test": [
                          0.003175831301
                        ]
                      },
                      {
                        "learn": [
                          0.002331616159
                        ],
                        "iteration": 303,
                        "passed_time": 288.0870546,
                        "remaining_time": 659.5677302,
                        "test": [
                          0.003174189582
                        ]
                      },
                      {
                        "learn": [
                          0.00232816234
                        ],
                        "iteration": 304,
                        "passed_time": 289.8329928,
                        "remaining_time": 660.4391148,
                        "test": [
                          0.003170671829
                        ]
                      },
                      {
                        "learn": [
                          0.002318156338
                        ],
                        "iteration": 305,
                        "passed_time": 291.4484704,
                        "remaining_time": 660.9975113,
                        "test": [
                          0.003158337296
                        ]
                      },
                      {
                        "learn": [
                          0.002318146528
                        ],
                        "iteration": 306,
                        "passed_time": 292.3468762,
                        "remaining_time": 659.9230787,
                        "test": [
                          0.003158316835
                        ]
                      },
                      {
                        "learn": [
                          0.002318069545
                        ],
                        "iteration": 307,
                        "passed_time": 293.1914918,
                        "remaining_time": 658.7289362,
                        "test": [
                          0.003158288751
                        ]
                      },
                      {
                        "learn": [
                          0.002318065407
                        ],
                        "iteration": 308,
                        "passed_time": 293.9008534,
                        "remaining_time": 657.2345946,
                        "test": [
                          0.00315826521
                        ]
                      },
                      {
                        "learn": [
                          0.002318059948
                        ],
                        "iteration": 309,
                        "passed_time": 294.6380231,
                        "remaining_time": 655.8072127,
                        "test": [
                          0.003158255211
                        ]
                      },
                      {
                        "learn": [
                          0.00231804976
                        ],
                        "iteration": 310,
                        "passed_time": 295.5377486,
                        "remaining_time": 654.7444013,
                        "test": [
                          0.003158216387
                        ]
                      },
                      {
                        "learn": [
                          0.002314134242
                        ],
                        "iteration": 311,
                        "passed_time": 296.6567591,
                        "remaining_time": 654.1661866,
                        "test": [
                          0.003158839651
                        ]
                      },
                      {
                        "learn": [
                          0.002311488644
                        ],
                        "iteration": 312,
                        "passed_time": 297.5670993,
                        "remaining_time": 653.1265087,
                        "test": [
                          0.003156988142
                        ]
                      },
                      {
                        "learn": [
                          0.002311477788
                        ],
                        "iteration": 313,
                        "passed_time": 298.5953483,
                        "remaining_time": 652.3452514,
                        "test": [
                          0.003156968987
                        ]
                      },
                      {
                        "learn": [
                          0.002311476222
                        ],
                        "iteration": 314,
                        "passed_time": 299.1992773,
                        "remaining_time": 650.6396984,
                        "test": [
                          0.003156967384
                        ]
                      },
                      {
                        "learn": [
                          0.002311465141
                        ],
                        "iteration": 315,
                        "passed_time": 300.0464289,
                        "remaining_time": 649.4675865,
                        "test": [
                          0.003156948715
                        ]
                      },
                      {
                        "learn": [
                          0.00231145741
                        ],
                        "iteration": 316,
                        "passed_time": 300.7585102,
                        "remaining_time": 648.0065061,
                        "test": [
                          0.0031569252
                        ]
                      },
                      {
                        "learn": [
                          0.002307264999
                        ],
                        "iteration": 317,
                        "passed_time": 302.0404984,
                        "remaining_time": 647.7723896,
                        "test": [
                          0.003155166072
                        ]
                      },
                      {
                        "learn": [
                          0.002307264534
                        ],
                        "iteration": 318,
                        "passed_time": 302.9007716,
                        "remaining_time": 646.6314279,
                        "test": [
                          0.003155159324
                        ]
                      },
                      {
                        "learn": [
                          0.002307205958
                        ],
                        "iteration": 319,
                        "passed_time": 303.8940023,
                        "remaining_time": 645.7747549,
                        "test": [
                          0.003155141791
                        ]
                      },
                      {
                        "learn": [
                          0.002307199687
                        ],
                        "iteration": 320,
                        "passed_time": 304.8239845,
                        "remaining_time": 644.7834439,
                        "test": [
                          0.003155138115
                        ]
                      },
                      {
                        "learn": [
                          0.002306399438
                        ],
                        "iteration": 321,
                        "passed_time": 305.900697,
                        "remaining_time": 644.1014676,
                        "test": [
                          0.003155252083
                        ]
                      },
                      {
                        "learn": [
                          0.002306397302
                        ],
                        "iteration": 322,
                        "passed_time": 306.737438,
                        "remaining_time": 642.9140727,
                        "test": [
                          0.003155251026
                        ]
                      },
                      {
                        "learn": [
                          0.002306164242
                        ],
                        "iteration": 323,
                        "passed_time": 307.7052216,
                        "remaining_time": 642.0022525,
                        "test": [
                          0.003155021886
                        ]
                      },
                      {
                        "learn": [
                          0.00230616338
                        ],
                        "iteration": 324,
                        "passed_time": 308.4471683,
                        "remaining_time": 640.6210418,
                        "test": [
                          0.003155021136
                        ]
                      },
                      {
                        "learn": [
                          0.002306159926
                        ],
                        "iteration": 325,
                        "passed_time": 309.3943379,
                        "remaining_time": 639.6680482,
                        "test": [
                          0.003155020762
                        ]
                      },
                      {
                        "learn": [
                          0.002306125486
                        ],
                        "iteration": 326,
                        "passed_time": 310.1440553,
                        "remaining_time": 638.3087132,
                        "test": [
                          0.003154974958
                        ]
                      },
                      {
                        "learn": [
                          0.002306121395
                        ],
                        "iteration": 327,
                        "passed_time": 311.1179759,
                        "remaining_time": 637.4124385,
                        "test": [
                          0.003154978062
                        ]
                      },
                      {
                        "learn": [
                          0.002306096001
                        ],
                        "iteration": 328,
                        "passed_time": 312.0324396,
                        "remaining_time": 636.3944284,
                        "test": [
                          0.003154944382
                        ]
                      },
                      {
                        "learn": [
                          0.002297922822
                        ],
                        "iteration": 329,
                        "passed_time": 313.2421302,
                        "remaining_time": 635.9764461,
                        "test": [
                          0.003151104254
                        ]
                      },
                      {
                        "learn": [
                          0.002273173319
                        ],
                        "iteration": 330,
                        "passed_time": 314.3001194,
                        "remaining_time": 635.2470691,
                        "test": [
                          0.003128438139
                        ]
                      },
                      {
                        "learn": [
                          0.002273126181
                        ],
                        "iteration": 331,
                        "passed_time": 314.9661344,
                        "remaining_time": 633.7270415,
                        "test": [
                          0.003128026493
                        ]
                      },
                      {
                        "learn": [
                          0.002272110764
                        ],
                        "iteration": 332,
                        "passed_time": 315.992542,
                        "remaining_time": 632.9340105,
                        "test": [
                          0.003123469782
                        ]
                      },
                      {
                        "learn": [
                          0.002272109633
                        ],
                        "iteration": 333,
                        "passed_time": 316.8605749,
                        "remaining_time": 631.8237811,
                        "test": [
                          0.003123463776
                        ]
                      },
                      {
                        "learn": [
                          0.002261460609
                        ],
                        "iteration": 334,
                        "passed_time": 318.0986294,
                        "remaining_time": 631.449518,
                        "test": [
                          0.003107340461
                        ]
                      },
                      {
                        "learn": [
                          0.002261460044
                        ],
                        "iteration": 335,
                        "passed_time": 318.9933724,
                        "remaining_time": 630.3916646,
                        "test": [
                          0.003107331573
                        ]
                      },
                      {
                        "learn": [
                          0.002261459481
                        ],
                        "iteration": 336,
                        "passed_time": 319.4657595,
                        "remaining_time": 628.5038532,
                        "test": [
                          0.003107322725
                        ]
                      },
                      {
                        "learn": [
                          0.002261458923
                        ],
                        "iteration": 337,
                        "passed_time": 319.9091884,
                        "remaining_time": 626.5677004,
                        "test": [
                          0.003107313917
                        ]
                      },
                      {
                        "learn": [
                          0.002258963679
                        ],
                        "iteration": 338,
                        "passed_time": 320.9829793,
                        "remaining_time": 625.869467,
                        "test": [
                          0.003105198148
                        ]
                      },
                      {
                        "learn": [
                          0.002237090882
                        ],
                        "iteration": 339,
                        "passed_time": 322.2364775,
                        "remaining_time": 625.5178681,
                        "test": [
                          0.003091530551
                        ]
                      },
                      {
                        "learn": [
                          0.00223709004
                        ],
                        "iteration": 340,
                        "passed_time": 322.8944568,
                        "remaining_time": 624.0101085,
                        "test": [
                          0.003091521104
                        ]
                      },
                      {
                        "learn": [
                          0.002237089772
                        ],
                        "iteration": 341,
                        "passed_time": 323.7694471,
                        "remaining_time": 622.9248427,
                        "test": [
                          0.003091517423
                        ]
                      },
                      {
                        "learn": [
                          0.002233375012
                        ],
                        "iteration": 342,
                        "passed_time": 324.9015853,
                        "remaining_time": 622.3333572,
                        "test": [
                          0.003088495889
                        ]
                      },
                      {
                        "learn": [
                          0.002233373054
                        ],
                        "iteration": 343,
                        "passed_time": 325.3927296,
                        "remaining_time": 620.5163681,
                        "test": [
                          0.003088468488
                        ]
                      },
                      {
                        "learn": [
                          0.002230587629
                        ],
                        "iteration": 344,
                        "passed_time": 326.4869541,
                        "remaining_time": 619.8520433,
                        "test": [
                          0.003086775246
                        ]
                      },
                      {
                        "learn": [
                          0.002230587629
                        ],
                        "iteration": 345,
                        "passed_time": 327.4661975,
                        "remaining_time": 618.9678993,
                        "test": [
                          0.003086775246
                        ]
                      },
                      {
                        "learn": [
                          0.002230586708
                        ],
                        "iteration": 346,
                        "passed_time": 327.9226807,
                        "remaining_time": 617.0994538,
                        "test": [
                          0.003086762355
                        ]
                      },
                      {
                        "learn": [
                          0.002228416356
                        ],
                        "iteration": 347,
                        "passed_time": 329.0766181,
                        "remaining_time": 616.5458477,
                        "test": [
                          0.003085473192
                        ]
                      },
                      {
                        "learn": [
                          0.00217120845
                        ],
                        "iteration": 348,
                        "passed_time": 330.2720001,
                        "remaining_time": 616.066109,
                        "test": [
                          0.003044745565
                        ]
                      },
                      {
                        "learn": [
                          0.002166480924
                        ],
                        "iteration": 349,
                        "passed_time": 331.4332613,
                        "remaining_time": 615.5189138,
                        "test": [
                          0.003040617004
                        ]
                      },
                      {
                        "learn": [
                          0.00216647961
                        ],
                        "iteration": 350,
                        "passed_time": 332.3770125,
                        "remaining_time": 614.5660431,
                        "test": [
                          0.003040615149
                        ]
                      },
                      {
                        "learn": [
                          0.002165692648
                        ],
                        "iteration": 351,
                        "passed_time": 333.2751587,
                        "remaining_time": 613.5292695,
                        "test": [
                          0.003038780971
                        ]
                      },
                      {
                        "learn": [
                          0.00215558687
                        ],
                        "iteration": 352,
                        "passed_time": 334.4302417,
                        "remaining_time": 612.9642107,
                        "test": [
                          0.003031407447
                        ]
                      },
                      {
                        "learn": [
                          0.002155586706
                        ],
                        "iteration": 353,
                        "passed_time": 335.3993358,
                        "remaining_time": 612.0564151,
                        "test": [
                          0.003031406105
                        ]
                      },
                      {
                        "learn": [
                          0.002155579654
                        ],
                        "iteration": 354,
                        "passed_time": 336.2854358,
                        "remaining_time": 610.9974819,
                        "test": [
                          0.003031384352
                        ]
                      },
                      {
                        "learn": [
                          0.002155577201
                        ],
                        "iteration": 355,
                        "passed_time": 337.1827725,
                        "remaining_time": 609.959847,
                        "test": [
                          0.00303135423
                        ]
                      },
                      {
                        "learn": [
                          0.002148163396
                        ],
                        "iteration": 356,
                        "passed_time": 338.3448461,
                        "remaining_time": 609.3998208,
                        "test": [
                          0.003022799473
                        ]
                      },
                      {
                        "learn": [
                          0.002148157591
                        ],
                        "iteration": 357,
                        "passed_time": 339.2759032,
                        "remaining_time": 608.4221504,
                        "test": [
                          0.003022793373
                        ]
                      },
                      {
                        "learn": [
                          0.002148143841
                        ],
                        "iteration": 358,
                        "passed_time": 340.4864807,
                        "remaining_time": 607.9438277,
                        "test": [
                          0.003022774274
                        ]
                      },
                      {
                        "learn": [
                          0.002148141212
                        ],
                        "iteration": 359,
                        "passed_time": 341.4044818,
                        "remaining_time": 606.9413009,
                        "test": [
                          0.003022742493
                        ]
                      },
                      {
                        "learn": [
                          0.002148138621
                        ],
                        "iteration": 360,
                        "passed_time": 341.8569929,
                        "remaining_time": 605.1152866,
                        "test": [
                          0.003022711006
                        ]
                      },
                      {
                        "learn": [
                          0.002148138621
                        ],
                        "iteration": 361,
                        "passed_time": 342.8112383,
                        "remaining_time": 604.1811327,
                        "test": [
                          0.003022711006
                        ]
                      },
                      {
                        "learn": [
                          0.002148135884
                        ],
                        "iteration": 362,
                        "passed_time": 343.7950005,
                        "remaining_time": 603.2986648,
                        "test": [
                          0.003022686906
                        ]
                      },
                      {
                        "learn": [
                          0.002148132676
                        ],
                        "iteration": 363,
                        "passed_time": 344.7008675,
                        "remaining_time": 602.2795376,
                        "test": [
                          0.003022664525
                        ]
                      },
                      {
                        "learn": [
                          0.002148130025
                        ],
                        "iteration": 364,
                        "passed_time": 345.3321377,
                        "remaining_time": 600.783308,
                        "test": [
                          0.003022640854
                        ]
                      },
                      {
                        "learn": [
                          0.002148126714
                        ],
                        "iteration": 365,
                        "passed_time": 345.8409375,
                        "remaining_time": 599.0796568,
                        "test": [
                          0.003022635776
                        ]
                      },
                      {
                        "learn": [
                          0.002148119832
                        ],
                        "iteration": 366,
                        "passed_time": 346.635239,
                        "remaining_time": 597.8749491,
                        "test": [
                          0.003022627455
                        ]
                      },
                      {
                        "learn": [
                          0.002148116384
                        ],
                        "iteration": 367,
                        "passed_time": 347.549802,
                        "remaining_time": 596.8790079,
                        "test": [
                          0.003022616757
                        ]
                      },
                      {
                        "learn": [
                          0.002148109534
                        ],
                        "iteration": 368,
                        "passed_time": 348.7195523,
                        "remaining_time": 596.3198848,
                        "test": [
                          0.003022608574
                        ]
                      },
                      {
                        "learn": [
                          0.002145545197
                        ],
                        "iteration": 369,
                        "passed_time": 349.6786061,
                        "remaining_time": 595.3987077,
                        "test": [
                          0.003023905903
                        ]
                      },
                      {
                        "learn": [
                          0.002145542979
                        ],
                        "iteration": 370,
                        "passed_time": 350.3216083,
                        "remaining_time": 593.9414869,
                        "test": [
                          0.003023878106
                        ]
                      },
                      {
                        "learn": [
                          0.002145538725
                        ],
                        "iteration": 371,
                        "passed_time": 351.2114372,
                        "remaining_time": 592.9053295,
                        "test": [
                          0.003023824742
                        ]
                      },
                      {
                        "learn": [
                          0.002142488841
                        ],
                        "iteration": 372,
                        "passed_time": 352.3994831,
                        "remaining_time": 592.3712491,
                        "test": [
                          0.003023319006
                        ]
                      },
                      {
                        "learn": [
                          0.002138170531
                        ],
                        "iteration": 373,
                        "passed_time": 353.8592129,
                        "remaining_time": 592.2884151,
                        "test": [
                          0.003022414172
                        ]
                      },
                      {
                        "learn": [
                          0.00213816591
                        ],
                        "iteration": 374,
                        "passed_time": 354.6988421,
                        "remaining_time": 591.1647368,
                        "test": [
                          0.003022413215
                        ]
                      },
                      {
                        "learn": [
                          0.002136010448
                        ],
                        "iteration": 375,
                        "passed_time": 355.7338181,
                        "remaining_time": 590.366762,
                        "test": [
                          0.003020923012
                        ]
                      },
                      {
                        "learn": [
                          0.002136009529
                        ],
                        "iteration": 376,
                        "passed_time": 356.2375408,
                        "remaining_time": 588.6896232,
                        "test": [
                          0.00302091187
                        ]
                      },
                      {
                        "learn": [
                          0.002136004254
                        ],
                        "iteration": 377,
                        "passed_time": 356.6860665,
                        "remaining_time": 586.9278661,
                        "test": [
                          0.00302084811
                        ]
                      },
                      {
                        "learn": [
                          0.002131361169
                        ],
                        "iteration": 378,
                        "passed_time": 358.0144608,
                        "remaining_time": 586.6147233,
                        "test": [
                          0.003020247864
                        ]
                      },
                      {
                        "learn": [
                          0.002131354008
                        ],
                        "iteration": 379,
                        "passed_time": 358.8993958,
                        "remaining_time": 585.5726984,
                        "test": [
                          0.003020234206
                        ]
                      },
                      {
                        "learn": [
                          0.002131353557
                        ],
                        "iteration": 380,
                        "passed_time": 359.8072865,
                        "remaining_time": 584.5687935,
                        "test": [
                          0.0030202288
                        ]
                      },
                      {
                        "learn": [
                          0.002120453733
                        ],
                        "iteration": 381,
                        "passed_time": 360.9073616,
                        "remaining_time": 583.8763075,
                        "test": [
                          0.00300765971
                        ]
                      },
                      {
                        "learn": [
                          0.002111095972
                        ],
                        "iteration": 382,
                        "passed_time": 362.1882612,
                        "remaining_time": 583.4729952,
                        "test": [
                          0.002997228171
                        ]
                      },
                      {
                        "learn": [
                          0.002107027888
                        ],
                        "iteration": 383,
                        "passed_time": 363.0240552,
                        "remaining_time": 582.3510886,
                        "test": [
                          0.002993157986
                        ]
                      },
                      {
                        "learn": [
                          0.002107025225
                        ],
                        "iteration": 384,
                        "passed_time": 364.1244814,
                        "remaining_time": 581.6533924,
                        "test": [
                          0.002993153649
                        ]
                      },
                      {
                        "learn": [
                          0.002094999101
                        ],
                        "iteration": 385,
                        "passed_time": 365.2611834,
                        "remaining_time": 581.0113124,
                        "test": [
                          0.002981845138
                        ]
                      },
                      {
                        "learn": [
                          0.00209499791
                        ],
                        "iteration": 386,
                        "passed_time": 366.1720252,
                        "remaining_time": 580.0089184,
                        "test": [
                          0.002981821513
                        ]
                      },
                      {
                        "learn": [
                          0.002085254431
                        ],
                        "iteration": 387,
                        "passed_time": 367.3686913,
                        "remaining_time": 579.4578327,
                        "test": [
                          0.002971354812
                        ]
                      },
                      {
                        "learn": [
                          0.002085250955
                        ],
                        "iteration": 388,
                        "passed_time": 368.2405386,
                        "remaining_time": 578.3932368,
                        "test": [
                          0.002971316157
                        ]
                      },
                      {
                        "learn": [
                          0.002085250305
                        ],
                        "iteration": 389,
                        "passed_time": 368.7192575,
                        "remaining_time": 576.714736,
                        "test": [
                          0.002971308569
                        ]
                      },
                      {
                        "learn": [
                          0.002083948339
                        ],
                        "iteration": 390,
                        "passed_time": 369.7827062,
                        "remaining_time": 575.9531153,
                        "test": [
                          0.002970481125
                        ]
                      },
                      {
                        "learn": [
                          0.002083946073
                        ],
                        "iteration": 391,
                        "passed_time": 370.6576359,
                        "remaining_time": 574.8975577,
                        "test": [
                          0.002970454473
                        ]
                      },
                      {
                        "learn": [
                          0.002078230785
                        ],
                        "iteration": 392,
                        "passed_time": 371.6886986,
                        "remaining_time": 574.0840715,
                        "test": [
                          0.002966311925
                        ]
                      },
                      {
                        "learn": [
                          0.002078009865
                        ],
                        "iteration": 393,
                        "passed_time": 372.7327344,
                        "remaining_time": 573.2894342,
                        "test": [
                          0.002965974746
                        ]
                      },
                      {
                        "learn": [
                          0.002077997245
                        ],
                        "iteration": 394,
                        "passed_time": 373.7177178,
                        "remaining_time": 572.4030867,
                        "test": [
                          0.002965957814
                        ]
                      },
                      {
                        "learn": [
                          0.002075932525
                        ],
                        "iteration": 395,
                        "passed_time": 374.7120968,
                        "remaining_time": 571.5305719,
                        "test": [
                          0.002964545822
                        ]
                      },
                      {
                        "learn": [
                          0.002075930411
                        ],
                        "iteration": 396,
                        "passed_time": 375.1631528,
                        "remaining_time": 569.8321943,
                        "test": [
                          0.002964523462
                        ]
                      },
                      {
                        "learn": [
                          0.002075929365
                        ],
                        "iteration": 397,
                        "passed_time": 375.6216553,
                        "remaining_time": 568.151348,
                        "test": [
                          0.002964512383
                        ]
                      },
                      {
                        "learn": [
                          0.002075928325
                        ],
                        "iteration": 398,
                        "passed_time": 376.0903868,
                        "remaining_time": 566.4920362,
                        "test": [
                          0.002964501353
                        ]
                      },
                      {
                        "learn": [
                          0.002075920458
                        ],
                        "iteration": 399,
                        "passed_time": 377.1486339,
                        "remaining_time": 565.7229508,
                        "test": [
                          0.002964488096
                        ]
                      },
                      {
                        "learn": [
                          0.002073613516
                        ],
                        "iteration": 400,
                        "passed_time": 378.1092174,
                        "remaining_time": 564.8065367,
                        "test": [
                          0.002962680658
                        ]
                      },
                      {
                        "learn": [
                          0.002073613
                        ],
                        "iteration": 401,
                        "passed_time": 378.5605998,
                        "remaining_time": 563.1324346,
                        "test": [
                          0.002962675366
                        ]
                      },
                      {
                        "learn": [
                          0.002073612485
                        ],
                        "iteration": 402,
                        "passed_time": 379.0429307,
                        "remaining_time": 561.5102472,
                        "test": [
                          0.002962670089
                        ]
                      },
                      {
                        "learn": [
                          0.002068422669
                        ],
                        "iteration": 403,
                        "passed_time": 380.2534609,
                        "remaining_time": 560.967977,
                        "test": [
                          0.002961077976
                        ]
                      },
                      {
                        "learn": [
                          0.00206842065
                        ],
                        "iteration": 404,
                        "passed_time": 380.7162913,
                        "remaining_time": 559.3239342,
                        "test": [
                          0.002961056583
                        ]
                      },
                      {
                        "learn": [
                          0.002063143348
                        ],
                        "iteration": 405,
                        "passed_time": 381.8462046,
                        "remaining_time": 558.6616884,
                        "test": [
                          0.002958033622
                        ]
                      },
                      {
                        "learn": [
                          0.00206118785
                        ],
                        "iteration": 406,
                        "passed_time": 382.648582,
                        "remaining_time": 557.5199241,
                        "test": [
                          0.002957009905
                        ]
                      },
                      {
                        "learn": [
                          0.002055892557
                        ],
                        "iteration": 407,
                        "passed_time": 383.8105223,
                        "remaining_time": 556.9015422,
                        "test": [
                          0.002951375128
                        ]
                      },
                      {
                        "learn": [
                          0.0020558923
                        ],
                        "iteration": 408,
                        "passed_time": 384.2972067,
                        "remaining_time": 555.3047657,
                        "test": [
                          0.002951372264
                        ]
                      },
                      {
                        "learn": [
                          0.002052426063
                        ],
                        "iteration": 409,
                        "passed_time": 385.4135279,
                        "remaining_time": 554.6194669,
                        "test": [
                          0.002953287079
                        ]
                      },
                      {
                        "learn": [
                          0.002015642132
                        ],
                        "iteration": 410,
                        "passed_time": 386.5819989,
                        "remaining_time": 554.0068062,
                        "test": [
                          0.00293586076
                        ]
                      },
                      {
                        "learn": [
                          0.002015640819
                        ],
                        "iteration": 411,
                        "passed_time": 387.4728017,
                        "remaining_time": 552.9951636,
                        "test": [
                          0.002935845806
                        ]
                      },
                      {
                        "learn": [
                          0.002015638216
                        ],
                        "iteration": 412,
                        "passed_time": 387.9221584,
                        "remaining_time": 551.3566755,
                        "test": [
                          0.002935816039
                        ]
                      },
                      {
                        "learn": [
                          0.002015635647
                        ],
                        "iteration": 413,
                        "passed_time": 388.3982652,
                        "remaining_time": 549.7617956,
                        "test": [
                          0.002935786545
                        ]
                      },
                      {
                        "learn": [
                          0.002006125824
                        ],
                        "iteration": 414,
                        "passed_time": 389.5473963,
                        "remaining_time": 549.1210285,
                        "test": [
                          0.002927582204
                        ]
                      },
                      {
                        "learn": [
                          0.001996246545
                        ],
                        "iteration": 415,
                        "passed_time": 390.5501037,
                        "remaining_time": 548.2722609,
                        "test": [
                          0.002920068073
                        ]
                      },
                      {
                        "learn": [
                          0.001975427625
                        ],
                        "iteration": 416,
                        "passed_time": 391.7737356,
                        "remaining_time": 547.7316256,
                        "test": [
                          0.002895885778
                        ]
                      },
                      {
                        "learn": [
                          0.001970807442
                        ],
                        "iteration": 417,
                        "passed_time": 392.9198375,
                        "remaining_time": 547.0797737,
                        "test": [
                          0.002890640585
                        ]
                      },
                      {
                        "learn": [
                          0.001970787523
                        ],
                        "iteration": 418,
                        "passed_time": 393.9365064,
                        "remaining_time": 546.2460864,
                        "test": [
                          0.002890605016
                        ]
                      },
                      {
                        "learn": [
                          0.001962086365
                        ],
                        "iteration": 419,
                        "passed_time": 395.027535,
                        "remaining_time": 545.514215,
                        "test": [
                          0.002884339159
                        ]
                      },
                      {
                        "learn": [
                          0.001962075789
                        ],
                        "iteration": 420,
                        "passed_time": 396.0449133,
                        "remaining_time": 544.6793464,
                        "test": [
                          0.002884320017
                        ]
                      },
                      {
                        "learn": [
                          0.001962075302
                        ],
                        "iteration": 421,
                        "passed_time": 396.9464409,
                        "remaining_time": 543.6849357,
                        "test": [
                          0.002884314555
                        ]
                      },
                      {
                        "learn": [
                          0.001962064841
                        ],
                        "iteration": 422,
                        "passed_time": 397.807666,
                        "remaining_time": 542.6359889,
                        "test": [
                          0.002884295503
                        ]
                      },
                      {
                        "learn": [
                          0.001962022744
                        ],
                        "iteration": 423,
                        "passed_time": 398.8081883,
                        "remaining_time": 541.7771615,
                        "test": [
                          0.002884217802
                        ]
                      },
                      {
                        "learn": [
                          0.001961783596
                        ],
                        "iteration": 424,
                        "passed_time": 399.8008752,
                        "remaining_time": 540.9070665,
                        "test": [
                          0.002883776674
                        ]
                      },
                      {
                        "learn": [
                          0.001961783478
                        ],
                        "iteration": 425,
                        "passed_time": 400.3098788,
                        "remaining_time": 539.3846724,
                        "test": [
                          0.002883775346
                        ]
                      },
                      {
                        "learn": [
                          0.001921712015
                        ],
                        "iteration": 426,
                        "passed_time": 401.5463326,
                        "remaining_time": 538.8432051,
                        "test": [
                          0.002851873637
                        ]
                      },
                      {
                        "learn": [
                          0.001921658606
                        ],
                        "iteration": 427,
                        "passed_time": 402.6002261,
                        "remaining_time": 538.0545078,
                        "test": [
                          0.002851781847
                        ]
                      },
                      {
                        "learn": [
                          0.001921638968
                        ],
                        "iteration": 428,
                        "passed_time": 403.6342898,
                        "remaining_time": 537.2381805,
                        "test": [
                          0.002851758404
                        ]
                      },
                      {
                        "learn": [
                          0.001921637799
                        ],
                        "iteration": 429,
                        "passed_time": 404.086328,
                        "remaining_time": 535.6493185,
                        "test": [
                          0.002851745684
                        ]
                      },
                      {
                        "learn": [
                          0.001921584385
                        ],
                        "iteration": 430,
                        "passed_time": 405.0228792,
                        "remaining_time": 534.7053788,
                        "test": [
                          0.00285160635
                        ]
                      },
                      {
                        "learn": [
                          0.001921548028
                        ],
                        "iteration": 431,
                        "passed_time": 405.9487603,
                        "remaining_time": 533.7474441,
                        "test": [
                          0.002851523667
                        ]
                      },
                      {
                        "learn": [
                          0.001916125425
                        ],
                        "iteration": 432,
                        "passed_time": 407.1159208,
                        "remaining_time": 533.1056053,
                        "test": [
                          0.002843815956
                        ]
                      },
                      {
                        "learn": [
                          0.001916123502
                        ],
                        "iteration": 433,
                        "passed_time": 407.6327893,
                        "remaining_time": 531.613269,
                        "test": [
                          0.002843793995
                        ]
                      },
                      {
                        "learn": [
                          0.001916123263
                        ],
                        "iteration": 434,
                        "passed_time": 408.0725584,
                        "remaining_time": 530.025277,
                        "test": [
                          0.002843791262
                        ]
                      },
                      {
                        "learn": [
                          0.001916122657
                        ],
                        "iteration": 435,
                        "passed_time": 408.992108,
                        "remaining_time": 529.0631855,
                        "test": [
                          0.002843782219
                        ]
                      },
                      {
                        "learn": [
                          0.001916114092
                        ],
                        "iteration": 436,
                        "passed_time": 409.8763316,
                        "remaining_time": 528.0557774,
                        "test": [
                          0.002843752009
                        ]
                      },
                      {
                        "learn": [
                          0.001916113145
                        ],
                        "iteration": 437,
                        "passed_time": 410.736157,
                        "remaining_time": 527.0176261,
                        "test": [
                          0.002843741141
                        ]
                      },
                      {
                        "learn": [
                          0.001916113052
                        ],
                        "iteration": 438,
                        "passed_time": 411.7473158,
                        "remaining_time": 526.173677,
                        "test": [
                          0.002843740232
                        ]
                      },
                      {
                        "learn": [
                          0.001916111569
                        ],
                        "iteration": 439,
                        "passed_time": 412.7397178,
                        "remaining_time": 525.3050954,
                        "test": [
                          0.002843725689
                        ]
                      },
                      {
                        "learn": [
                          0.001916111478
                        ],
                        "iteration": 440,
                        "passed_time": 413.7279322,
                        "remaining_time": 524.4306443,
                        "test": [
                          0.002843724793
                        ]
                      },
                      {
                        "learn": [
                          0.001916109602
                        ],
                        "iteration": 441,
                        "passed_time": 414.2119066,
                        "remaining_time": 522.9191038,
                        "test": [
                          0.002843703197
                        ]
                      },
                      {
                        "learn": [
                          0.00191610867
                        ],
                        "iteration": 442,
                        "passed_time": 414.6586427,
                        "remaining_time": 521.3653815,
                        "test": [
                          0.002843692447
                        ]
                      },
                      {
                        "learn": [
                          0.001916107742
                        ],
                        "iteration": 443,
                        "passed_time": 415.1425685,
                        "remaining_time": 519.8632165,
                        "test": [
                          0.002843681723
                        ]
                      },
                      {
                        "learn": [
                          0.001916106303
                        ],
                        "iteration": 444,
                        "passed_time": 416.1922429,
                        "remaining_time": 519.0712242,
                        "test": [
                          0.00284366758
                        ]
                      },
                      {
                        "learn": [
                          0.001916104463
                        ],
                        "iteration": 445,
                        "passed_time": 416.6425844,
                        "remaining_time": 517.5336138,
                        "test": [
                          0.002843646258
                        ]
                      },
                      {
                        "learn": [
                          0.001916104006
                        ],
                        "iteration": 446,
                        "passed_time": 417.132826,
                        "remaining_time": 516.0502299,
                        "test": [
                          0.002843640952
                        ]
                      },
                      {
                        "learn": [
                          0.001916103422
                        ],
                        "iteration": 447,
                        "passed_time": 418.1601265,
                        "remaining_time": 515.233013,
                        "test": [
                          0.002843638067
                        ]
                      },
                      {
                        "learn": [
                          0.001916102518
                        ],
                        "iteration": 448,
                        "passed_time": 418.8276556,
                        "remaining_time": 513.9733591,
                        "test": [
                          0.002843627528
                        ]
                      },
                      {
                        "learn": [
                          0.001916099686
                        ],
                        "iteration": 449,
                        "passed_time": 419.8269412,
                        "remaining_time": 513.121817,
                        "test": [
                          0.002843599699
                        ]
                      },
                      {
                        "learn": [
                          0.001916071888
                        ],
                        "iteration": 450,
                        "passed_time": 420.7371227,
                        "remaining_time": 512.1611539,
                        "test": [
                          0.002843537386
                        ]
                      },
                      {
                        "learn": [
                          0.001916071203
                        ],
                        "iteration": 451,
                        "passed_time": 421.7347,
                        "remaining_time": 511.3066717,
                        "test": [
                          0.002843530645
                        ]
                      },
                      {
                        "learn": [
                          0.001916070519
                        ],
                        "iteration": 452,
                        "passed_time": 422.734164,
                        "remaining_time": 510.453836,
                        "test": [
                          0.002843523914
                        ]
                      },
                      {
                        "learn": [
                          0.001916070409
                        ],
                        "iteration": 453,
                        "passed_time": 423.5967756,
                        "remaining_time": 509.4357698,
                        "test": [
                          0.002843522627
                        ]
                      },
                      {
                        "learn": [
                          0.001916070153
                        ],
                        "iteration": 454,
                        "passed_time": 424.2451167,
                        "remaining_time": 508.1617332,
                        "test": [
                          0.002843520441
                        ]
                      },
                      {
                        "learn": [
                          0.001916069983
                        ],
                        "iteration": 455,
                        "passed_time": 425.2275416,
                        "remaining_time": 507.2889969,
                        "test": [
                          0.002843518763
                        ]
                      },
                      {
                        "learn": [
                          0.001916069812
                        ],
                        "iteration": 456,
                        "passed_time": 426.1967608,
                        "remaining_time": 506.40009,
                        "test": [
                          0.002843517086
                        ]
                      },
                      {
                        "learn": [
                          0.001916069812
                        ],
                        "iteration": 457,
                        "passed_time": 427.0485161,
                        "remaining_time": 505.3718247,
                        "test": [
                          0.002843517086
                        ]
                      },
                      {
                        "learn": [
                          0.001916064284
                        ],
                        "iteration": 458,
                        "passed_time": 427.9664355,
                        "remaining_time": 504.4223129,
                        "test": [
                          0.002843504718
                        ]
                      },
                      {
                        "learn": [
                          0.001916062932
                        ],
                        "iteration": 459,
                        "passed_time": 428.9496183,
                        "remaining_time": 503.5495519,
                        "test": [
                          0.002843491393
                        ]
                      },
                      {
                        "learn": [
                          0.001916062763
                        ],
                        "iteration": 460,
                        "passed_time": 429.9208221,
                        "remaining_time": 502.6623061,
                        "test": [
                          0.002843489734
                        ]
                      },
                      {
                        "learn": [
                          0.001916060866
                        ],
                        "iteration": 461,
                        "passed_time": 430.8655732,
                        "remaining_time": 501.7438926,
                        "test": [
                          0.002843473193
                        ]
                      },
                      {
                        "learn": [
                          0.001915670092
                        ],
                        "iteration": 462,
                        "passed_time": 431.8770398,
                        "remaining_time": 500.9027438,
                        "test": [
                          0.002843015506
                        ]
                      },
                      {
                        "learn": [
                          0.001899486106
                        ],
                        "iteration": 463,
                        "passed_time": 432.9135543,
                        "remaining_time": 500.0897954,
                        "test": [
                          0.002834231597
                        ]
                      },
                      {
                        "learn": [
                          0.001899485567
                        ],
                        "iteration": 464,
                        "passed_time": 433.4453114,
                        "remaining_time": 498.6951432,
                        "test": [
                          0.002834225687
                        ]
                      },
                      {
                        "learn": [
                          0.00189948439
                        ],
                        "iteration": 465,
                        "passed_time": 434.3931664,
                        "remaining_time": 497.7810105,
                        "test": [
                          0.002834215809
                        ]
                      },
                      {
                        "learn": [
                          0.001899483852
                        ],
                        "iteration": 466,
                        "passed_time": 434.8376996,
                        "remaining_time": 496.2922782,
                        "test": [
                          0.002834209919
                        ]
                      },
                      {
                        "learn": [
                          0.001899483852
                        ],
                        "iteration": 467,
                        "passed_time": 435.8874314,
                        "remaining_time": 495.4959691,
                        "test": [
                          0.002834209919
                        ]
                      },
                      {
                        "learn": [
                          0.001891198168
                        ],
                        "iteration": 468,
                        "passed_time": 436.9148637,
                        "remaining_time": 494.6733319,
                        "test": [
                          0.002829146024
                        ]
                      },
                      {
                        "learn": [
                          0.001891195238
                        ],
                        "iteration": 469,
                        "passed_time": 437.8102499,
                        "remaining_time": 493.7009201,
                        "test": [
                          0.002829136875
                        ]
                      },
                      {
                        "learn": [
                          0.001891194202
                        ],
                        "iteration": 470,
                        "passed_time": 438.7195508,
                        "remaining_time": 492.7444636,
                        "test": [
                          0.0028291254
                        ]
                      },
                      {
                        "learn": [
                          0.001891141897
                        ],
                        "iteration": 471,
                        "passed_time": 439.7704959,
                        "remaining_time": 491.9466564,
                        "test": [
                          0.002829062693
                        ]
                      },
                      {
                        "learn": [
                          0.001887685397
                        ],
                        "iteration": 472,
                        "passed_time": 440.7621146,
                        "remaining_time": 491.0816795,
                        "test": [
                          0.002827183341
                        ]
                      },
                      {
                        "learn": [
                          0.001887684472
                        ],
                        "iteration": 473,
                        "passed_time": 441.2269482,
                        "remaining_time": 489.6315923,
                        "test": [
                          0.002827172882
                        ]
                      },
                      {
                        "learn": [
                          0.001887683592
                        ],
                        "iteration": 474,
                        "passed_time": 442.2365221,
                        "remaining_time": 488.787735,
                        "test": [
                          0.002827167314
                        ]
                      },
                      {
                        "learn": [
                          0.001887681754
                        ],
                        "iteration": 475,
                        "passed_time": 442.749987,
                        "remaining_time": 487.3970445,
                        "test": [
                          0.002827146482
                        ]
                      },
                      {
                        "learn": [
                          0.001887679249
                        ],
                        "iteration": 476,
                        "passed_time": 443.7473365,
                        "remaining_time": 486.5405807,
                        "test": [
                          0.002827144769
                        ]
                      },
                      {
                        "learn": [
                          0.001887679134
                        ],
                        "iteration": 477,
                        "passed_time": 444.2079398,
                        "remaining_time": 485.0973736,
                        "test": [
                          0.002827143473
                        ]
                      },
                      {
                        "learn": [
                          0.00188767902
                        ],
                        "iteration": 478,
                        "passed_time": 444.6597547,
                        "remaining_time": 483.6487103,
                        "test": [
                          0.002827142178
                        ]
                      },
                      {
                        "learn": [
                          0.001887673475
                        ],
                        "iteration": 479,
                        "passed_time": 445.5819072,
                        "remaining_time": 482.7137328,
                        "test": [
                          0.00282713025
                        ]
                      },
                      {
                        "learn": [
                          0.001887673361
                        ],
                        "iteration": 480,
                        "passed_time": 446.1465623,
                        "remaining_time": 481.3930683,
                        "test": [
                          0.00282712896
                        ]
                      },
                      {
                        "learn": [
                          0.001887673144
                        ],
                        "iteration": 481,
                        "passed_time": 447.129025,
                        "remaining_time": 480.5245538,
                        "test": [
                          0.00282712759
                        ]
                      },
                      {
                        "learn": [
                          0.001887672927
                        ],
                        "iteration": 482,
                        "passed_time": 448.1405382,
                        "remaining_time": 479.686663,
                        "test": [
                          0.002827126222
                        ]
                      },
                      {
                        "learn": [
                          0.001887672581
                        ],
                        "iteration": 483,
                        "passed_time": 449.0780657,
                        "remaining_time": 478.7691775,
                        "test": [
                          0.002827125482
                        ]
                      },
                      {
                        "learn": [
                          0.001887670769
                        ],
                        "iteration": 484,
                        "passed_time": 450.0260618,
                        "remaining_time": 477.8627254,
                        "test": [
                          0.002827109201
                        ]
                      },
                      {
                        "learn": [
                          0.001887669866
                        ],
                        "iteration": 485,
                        "passed_time": 450.5168483,
                        "remaining_time": 476.4725515,
                        "test": [
                          0.002827098929
                        ]
                      },
                      {
                        "learn": [
                          0.001887669436
                        ],
                        "iteration": 486,
                        "passed_time": 451.5079129,
                        "remaining_time": 475.6130581,
                        "test": [
                          0.002827096227
                        ]
                      },
                      {
                        "learn": [
                          0.001887668291
                        ],
                        "iteration": 487,
                        "passed_time": 452.1835632,
                        "remaining_time": 474.4220991,
                        "test": [
                          0.002827087718
                        ]
                      },
                      {
                        "learn": [
                          0.001887667035
                        ],
                        "iteration": 488,
                        "passed_time": 452.9237951,
                        "remaining_time": 473.3007347,
                        "test": [
                          0.002827069582
                        ]
                      },
                      {
                        "learn": [
                          0.001887624577
                        ],
                        "iteration": 489,
                        "passed_time": 453.8739454,
                        "remaining_time": 472.3994125,
                        "test": [
                          0.00282698297
                        ]
                      },
                      {
                        "learn": [
                          0.001887622846
                        ],
                        "iteration": 490,
                        "passed_time": 454.7527781,
                        "remaining_time": 471.4239594,
                        "test": [
                          0.002826963097
                        ]
                      },
                      {
                        "learn": [
                          0.00188760375
                        ],
                        "iteration": 491,
                        "passed_time": 455.7264994,
                        "remaining_time": 470.5468733,
                        "test": [
                          0.002826918431
                        ]
                      },
                      {
                        "learn": [
                          0.001887599197
                        ],
                        "iteration": 492,
                        "passed_time": 456.6460897,
                        "remaining_time": 469.6137272,
                        "test": [
                          0.002826851489
                        ]
                      },
                      {
                        "learn": [
                          0.001887597532
                        ],
                        "iteration": 493,
                        "passed_time": 457.1053689,
                        "remaining_time": 468.2091431,
                        "test": [
                          0.002826832242
                        ]
                      },
                      {
                        "learn": [
                          0.00188759674
                        ],
                        "iteration": 494,
                        "passed_time": 458.1012532,
                        "remaining_time": 467.3558239,
                        "test": [
                          0.002826827422
                        ]
                      },
                      {
                        "learn": [
                          0.001887595915
                        ],
                        "iteration": 495,
                        "passed_time": 458.562282,
                        "remaining_time": 465.9584479,
                        "test": [
                          0.002826817859
                        ]
                      },
                      {
                        "learn": [
                          0.00188759552
                        ],
                        "iteration": 496,
                        "passed_time": 459.5468084,
                        "remaining_time": 465.0946572,
                        "test": [
                          0.002826815461
                        ]
                      },
                      {
                        "learn": [
                          0.001887570551
                        ],
                        "iteration": 497,
                        "passed_time": 460.4659665,
                        "remaining_time": 464.1644883,
                        "test": [
                          0.002826767123
                        ]
                      },
                      {
                        "learn": [
                          0.001887570551
                        ],
                        "iteration": 498,
                        "passed_time": 460.9716102,
                        "remaining_time": 462.8191918,
                        "test": [
                          0.002826767123
                        ]
                      },
                      {
                        "learn": [
                          0.001887514637
                        ],
                        "iteration": 499,
                        "passed_time": 461.9423488,
                        "remaining_time": 461.9423488,
                        "test": [
                          0.00282653513
                        ]
                      },
                      {
                        "learn": [
                          0.001887513066
                        ],
                        "iteration": 500,
                        "passed_time": 462.4097635,
                        "remaining_time": 460.5638164,
                        "test": [
                          0.002826516792
                        ]
                      },
                      {
                        "learn": [
                          0.001887512692
                        ],
                        "iteration": 501,
                        "passed_time": 463.4122783,
                        "remaining_time": 459.7197502,
                        "test": [
                          0.002826514583
                        ]
                      },
                      {
                        "learn": [
                          0.001887509961
                        ],
                        "iteration": 502,
                        "passed_time": 464.4223433,
                        "remaining_time": 458.8825142,
                        "test": [
                          0.002826508491
                        ]
                      },
                      {
                        "learn": [
                          0.001883971075
                        ],
                        "iteration": 503,
                        "passed_time": 465.7182961,
                        "remaining_time": 458.3259422,
                        "test": [
                          0.00282676555
                        ]
                      },
                      {
                        "learn": [
                          0.001883970895
                        ],
                        "iteration": 504,
                        "passed_time": 466.2433087,
                        "remaining_time": 457.0107679,
                        "test": [
                          0.002826763416
                        ]
                      },
                      {
                        "learn": [
                          0.001883964269
                        ],
                        "iteration": 505,
                        "passed_time": 467.3579483,
                        "remaining_time": 456.2743606,
                        "test": [
                          0.002826753201
                        ]
                      },
                      {
                        "learn": [
                          0.001844258921
                        ],
                        "iteration": 506,
                        "passed_time": 468.476916,
                        "remaining_time": 455.5406698,
                        "test": [
                          0.002801935817
                        ]
                      },
                      {
                        "learn": [
                          0.001844256942
                        ],
                        "iteration": 507,
                        "passed_time": 469.5505668,
                        "remaining_time": 454.7615726,
                        "test": [
                          0.002801900489
                        ]
                      },
                      {
                        "learn": [
                          0.001825391134
                        ],
                        "iteration": 508,
                        "passed_time": 470.8592806,
                        "remaining_time": 454.2080683,
                        "test": [
                          0.002770916243
                        ]
                      },
                      {
                        "learn": [
                          0.001825391134
                        ],
                        "iteration": 509,
                        "passed_time": 471.8447568,
                        "remaining_time": 453.3410409,
                        "test": [
                          0.002770916243
                        ]
                      },
                      {
                        "learn": [
                          0.001825389379
                        ],
                        "iteration": 510,
                        "passed_time": 472.9660814,
                        "remaining_time": 452.6035495,
                        "test": [
                          0.002770911217
                        ]
                      },
                      {
                        "learn": [
                          0.001823648
                        ],
                        "iteration": 511,
                        "passed_time": 474.048584,
                        "remaining_time": 451.8275566,
                        "test": [
                          0.002769382132
                        ]
                      },
                      {
                        "learn": [
                          0.001811659327
                        ],
                        "iteration": 512,
                        "passed_time": 475.2656288,
                        "remaining_time": 451.1780921,
                        "test": [
                          0.002754740954
                        ]
                      },
                      {
                        "learn": [
                          0.001811653592
                        ],
                        "iteration": 513,
                        "passed_time": 476.3786987,
                        "remaining_time": 450.4281081,
                        "test": [
                          0.002754731106
                        ]
                      },
                      {
                        "learn": [
                          0.001811647664
                        ],
                        "iteration": 514,
                        "passed_time": 477.3230999,
                        "remaining_time": 449.5178708,
                        "test": [
                          0.002754710744
                        ]
                      },
                      {
                        "learn": [
                          0.001811646976
                        ],
                        "iteration": 515,
                        "passed_time": 477.9496418,
                        "remaining_time": 448.309354,
                        "test": [
                          0.002754705216
                        ]
                      },
                      {
                        "learn": [
                          0.001809988045
                        ],
                        "iteration": 516,
                        "passed_time": 478.8713009,
                        "remaining_time": 447.3787975,
                        "test": [
                          0.002753207511
                        ]
                      },
                      {
                        "learn": [
                          0.001809962955
                        ],
                        "iteration": 517,
                        "passed_time": 479.8254396,
                        "remaining_time": 446.4784979,
                        "test": [
                          0.002753142153
                        ]
                      },
                      {
                        "learn": [
                          0.001809962384
                        ],
                        "iteration": 518,
                        "passed_time": 480.7117965,
                        "remaining_time": 445.5151717,
                        "test": [
                          0.002753136228
                        ]
                      },
                      {
                        "learn": [
                          0.001809961814
                        ],
                        "iteration": 519,
                        "passed_time": 481.1833309,
                        "remaining_time": 444.1692285,
                        "test": [
                          0.00275313031
                        ]
                      },
                      {
                        "learn": [
                          0.001807114052
                        ],
                        "iteration": 520,
                        "passed_time": 482.3647076,
                        "remaining_time": 443.479261,
                        "test": [
                          0.002752053758
                        ]
                      },
                      {
                        "learn": [
                          0.001807113445
                        ],
                        "iteration": 521,
                        "passed_time": 483.323106,
                        "remaining_time": 442.5832274,
                        "test": [
                          0.00275204753
                        ]
                      },
                      {
                        "learn": [
                          0.001807113296
                        ],
                        "iteration": 522,
                        "passed_time": 484.117398,
                        "remaining_time": 441.5372827,
                        "test": [
                          0.002752045553
                        ]
                      },
                      {
                        "learn": [
                          0.001807112791
                        ],
                        "iteration": 523,
                        "passed_time": 484.6036174,
                        "remaining_time": 440.2124463,
                        "test": [
                          0.002752040215
                        ]
                      },
                      {
                        "learn": [
                          0.00180711235
                        ],
                        "iteration": 524,
                        "passed_time": 485.2728126,
                        "remaining_time": 439.0563543,
                        "test": [
                          0.002752036616
                        ]
                      },
                      {
                        "learn": [
                          0.001807111723
                        ],
                        "iteration": 525,
                        "passed_time": 486.2224699,
                        "remaining_time": 438.1548493,
                        "test": [
                          0.002752032172
                        ]
                      },
                      {
                        "learn": [
                          0.001807111648
                        ],
                        "iteration": 526,
                        "passed_time": 486.7059034,
                        "remaining_time": 436.8347102,
                        "test": [
                          0.002752031187
                        ]
                      },
                      {
                        "learn": [
                          0.001807111146
                        ],
                        "iteration": 527,
                        "passed_time": 487.2286384,
                        "remaining_time": 435.5528737,
                        "test": [
                          0.002752025865
                        ]
                      },
                      {
                        "learn": [
                          0.001807109044
                        ],
                        "iteration": 528,
                        "passed_time": 488.2159498,
                        "remaining_time": 434.687547,
                        "test": [
                          0.002752019707
                        ]
                      },
                      {
                        "learn": [
                          0.001807108043
                        ],
                        "iteration": 529,
                        "passed_time": 489.0826167,
                        "remaining_time": 433.7147733,
                        "test": [
                          0.002752009096
                        ]
                      },
                      {
                        "learn": [
                          0.00180531084
                        ],
                        "iteration": 530,
                        "passed_time": 490.1132532,
                        "remaining_time": 432.8872236,
                        "test": [
                          0.002750617124
                        ]
                      },
                      {
                        "learn": [
                          0.00180530994
                        ],
                        "iteration": 531,
                        "passed_time": 490.5622312,
                        "remaining_time": 431.5472259,
                        "test": [
                          0.002750607577
                        ]
                      },
                      {
                        "learn": [
                          0.001805264662
                        ],
                        "iteration": 532,
                        "passed_time": 491.5004951,
                        "remaining_time": 430.6392706,
                        "test": [
                          0.002750504791
                        ]
                      },
                      {
                        "learn": [
                          0.001795374705
                        ],
                        "iteration": 533,
                        "passed_time": 492.6253069,
                        "remaining_time": 429.8939944,
                        "test": [
                          0.002748786736
                        ]
                      },
                      {
                        "learn": [
                          0.001794318511
                        ],
                        "iteration": 534,
                        "passed_time": 493.6658748,
                        "remaining_time": 429.0740781,
                        "test": [
                          0.002746753075
                        ]
                      },
                      {
                        "learn": [
                          0.00176514663
                        ],
                        "iteration": 535,
                        "passed_time": 494.8917864,
                        "remaining_time": 428.4137853,
                        "test": [
                          0.002727133459
                        ]
                      },
                      {
                        "learn": [
                          0.001765145693
                        ],
                        "iteration": 536,
                        "passed_time": 495.4319865,
                        "remaining_time": 427.1601671,
                        "test": [
                          0.002727123245
                        ]
                      },
                      {
                        "learn": [
                          0.001762511212
                        ],
                        "iteration": 537,
                        "passed_time": 496.620472,
                        "remaining_time": 426.4659072,
                        "test": [
                          0.00272401215
                        ]
                      },
                      {
                        "learn": [
                          0.001758975083
                        ],
                        "iteration": 538,
                        "passed_time": 497.6282633,
                        "remaining_time": 425.6152678,
                        "test": [
                          0.002719283117
                        ]
                      },
                      {
                        "learn": [
                          0.001758973058
                        ],
                        "iteration": 539,
                        "passed_time": 498.6147051,
                        "remaining_time": 424.7458599,
                        "test": [
                          0.002719253995
                        ]
                      },
                      {
                        "learn": [
                          0.001758969795
                        ],
                        "iteration": 540,
                        "passed_time": 499.5355089,
                        "remaining_time": 423.8203301,
                        "test": [
                          0.002719218694
                        ]
                      },
                      {
                        "learn": [
                          0.001758964866
                        ],
                        "iteration": 541,
                        "passed_time": 500.6724163,
                        "remaining_time": 423.0774293,
                        "test": [
                          0.00271921512
                        ]
                      },
                      {
                        "learn": [
                          0.001758962321
                        ],
                        "iteration": 542,
                        "passed_time": 501.5742808,
                        "remaining_time": 422.1352603,
                        "test": [
                          0.002719212457
                        ]
                      },
                      {
                        "learn": [
                          0.00175896071
                        ],
                        "iteration": 543,
                        "passed_time": 502.0887195,
                        "remaining_time": 420.8684855,
                        "test": [
                          0.002719194993
                        ]
                      },
                      {
                        "learn": [
                          0.001753124258
                        ],
                        "iteration": 544,
                        "passed_time": 503.2964095,
                        "remaining_time": 420.183241,
                        "test": [
                          0.002718488024
                        ]
                      },
                      {
                        "learn": [
                          0.001753123661
                        ],
                        "iteration": 545,
                        "passed_time": 504.1795063,
                        "remaining_time": 419.2261829,
                        "test": [
                          0.002718482455
                        ]
                      },
                      {
                        "learn": [
                          0.001753123182
                        ],
                        "iteration": 546,
                        "passed_time": 505.162568,
                        "remaining_time": 418.3521816,
                        "test": [
                          0.002718481453
                        ]
                      },
                      {
                        "learn": [
                          0.001753121615
                        ],
                        "iteration": 547,
                        "passed_time": 505.644307,
                        "remaining_time": 417.0642824,
                        "test": [
                          0.002718464531
                        ]
                      },
                      {
                        "learn": [
                          0.001753120836
                        ],
                        "iteration": 548,
                        "passed_time": 506.1447022,
                        "remaining_time": 415.7946461,
                        "test": [
                          0.002718456108
                        ]
                      },
                      {
                        "learn": [
                          0.001753117415
                        ],
                        "iteration": 549,
                        "passed_time": 507.1717013,
                        "remaining_time": 414.9586647,
                        "test": [
                          0.002718442384
                        ]
                      },
                      {
                        "learn": [
                          0.001753106569
                        ],
                        "iteration": 550,
                        "passed_time": 508.0327246,
                        "remaining_time": 413.9867393,
                        "test": [
                          0.002718359911
                        ]
                      },
                      {
                        "learn": [
                          0.001753100714
                        ],
                        "iteration": 551,
                        "passed_time": 508.9494944,
                        "remaining_time": 413.0604592,
                        "test": [
                          0.002718335364
                        ]
                      },
                      {
                        "learn": [
                          0.001753097686
                        ],
                        "iteration": 552,
                        "passed_time": 509.8279175,
                        "remaining_time": 412.1032172,
                        "test": [
                          0.002718302633
                        ]
                      },
                      {
                        "learn": [
                          0.001753096743
                        ],
                        "iteration": 553,
                        "passed_time": 510.8441595,
                        "remaining_time": 411.2572115,
                        "test": [
                          0.002718300794
                        ]
                      },
                      {
                        "learn": [
                          0.001753093945
                        ],
                        "iteration": 554,
                        "passed_time": 511.7508914,
                        "remaining_time": 410.3227868,
                        "test": [
                          0.002718287201
                        ]
                      },
                      {
                        "learn": [
                          0.001753093199
                        ],
                        "iteration": 555,
                        "passed_time": 512.2229,
                        "remaining_time": 409.0413087,
                        "test": [
                          0.002718279125
                        ]
                      },
                      {
                        "learn": [
                          0.001753093106
                        ],
                        "iteration": 556,
                        "passed_time": 512.7166678,
                        "remaining_time": 407.7800428,
                        "test": [
                          0.002718278117
                        ]
                      },
                      {
                        "learn": [
                          0.001753093012
                        ],
                        "iteration": 557,
                        "passed_time": 513.1515374,
                        "remaining_time": 406.4748737,
                        "test": [
                          0.00271827711
                        ]
                      },
                      {
                        "learn": [
                          0.001753085507
                        ],
                        "iteration": 558,
                        "passed_time": 514.1603767,
                        "remaining_time": 405.6256281,
                        "test": [
                          0.002718262614
                        ]
                      },
                      {
                        "learn": [
                          0.001753081785
                        ],
                        "iteration": 559,
                        "passed_time": 515.1572281,
                        "remaining_time": 404.7663935,
                        "test": [
                          0.002718255434
                        ]
                      },
                      {
                        "learn": [
                          0.001753081169
                        ],
                        "iteration": 560,
                        "passed_time": 516.1320554,
                        "remaining_time": 403.8894337,
                        "test": [
                          0.002718252532
                        ]
                      },
                      {
                        "learn": [
                          0.001753081077
                        ],
                        "iteration": 561,
                        "passed_time": 516.6074993,
                        "remaining_time": 402.6229265,
                        "test": [
                          0.002718251537
                        ]
                      },
                      {
                        "learn": [
                          0.001753066315
                        ],
                        "iteration": 562,
                        "passed_time": 517.6061809,
                        "remaining_time": 401.765366,
                        "test": [
                          0.002718223062
                        ]
                      },
                      {
                        "learn": [
                          0.00175306559
                        ],
                        "iteration": 563,
                        "passed_time": 518.1146661,
                        "remaining_time": 400.5283589,
                        "test": [
                          0.002718215229
                        ]
                      },
                      {
                        "learn": [
                          0.001753060359
                        ],
                        "iteration": 564,
                        "passed_time": 519.0946095,
                        "remaining_time": 399.6569118,
                        "test": [
                          0.002718206948
                        ]
                      },
                      {
                        "learn": [
                          0.001753060359
                        ],
                        "iteration": 565,
                        "passed_time": 520.0257514,
                        "remaining_time": 398.7476609,
                        "test": [
                          0.002718206948
                        ]
                      },
                      {
                        "learn": [
                          0.001753031278
                        ],
                        "iteration": 566,
                        "passed_time": 520.8662331,
                        "remaining_time": 397.7690987,
                        "test": [
                          0.002718126487
                        ]
                      },
                      {
                        "learn": [
                          0.001753029456
                        ],
                        "iteration": 567,
                        "passed_time": 521.8953844,
                        "remaining_time": 396.9345178,
                        "test": [
                          0.002718124245
                        ]
                      },
                      {
                        "learn": [
                          0.001753028049
                        ],
                        "iteration": 568,
                        "passed_time": 522.4039192,
                        "remaining_time": 395.7049019,
                        "test": [
                          0.002718109103
                        ]
                      },
                      {
                        "learn": [
                          0.001753013689
                        ],
                        "iteration": 569,
                        "passed_time": 523.3148246,
                        "remaining_time": 394.7813589,
                        "test": [
                          0.002718046573
                        ]
                      },
                      {
                        "learn": [
                          0.001753007836
                        ],
                        "iteration": 570,
                        "passed_time": 524.259776,
                        "remaining_time": 393.8834394,
                        "test": [
                          0.002718025656
                        ]
                      },
                      {
                        "learn": [
                          0.001753000743
                        ],
                        "iteration": 571,
                        "passed_time": 525.2104071,
                        "remaining_time": 392.9896053,
                        "test": [
                          0.002718013524
                        ]
                      },
                      {
                        "learn": [
                          0.001753000571
                        ],
                        "iteration": 572,
                        "passed_time": 526.1616163,
                        "remaining_time": 392.0960038,
                        "test": [
                          0.002718010389
                        ]
                      },
                      {
                        "learn": [
                          0.001752999923
                        ],
                        "iteration": 573,
                        "passed_time": 527.1744084,
                        "remaining_time": 391.2479059,
                        "test": [
                          0.002718009422
                        ]
                      },
                      {
                        "learn": [
                          0.001752998566
                        ],
                        "iteration": 574,
                        "passed_time": 528.0895286,
                        "remaining_time": 390.3270429,
                        "test": [
                          0.002717994895
                        ]
                      },
                      {
                        "learn": [
                          0.001752989067
                        ],
                        "iteration": 575,
                        "passed_time": 529.0087291,
                        "remaining_time": 389.4092034,
                        "test": [
                          0.002717953923
                        ]
                      },
                      {
                        "learn": [
                          0.001752987702
                        ],
                        "iteration": 576,
                        "passed_time": 529.7604412,
                        "remaining_time": 388.368573,
                        "test": [
                          0.002717941929
                        ]
                      },
                      {
                        "learn": [
                          0.001752982869
                        ],
                        "iteration": 577,
                        "passed_time": 530.7519833,
                        "remaining_time": 387.5040432,
                        "test": [
                          0.002717931615
                        ]
                      },
                      {
                        "learn": [
                          0.001752980219
                        ],
                        "iteration": 578,
                        "passed_time": 531.5761757,
                        "remaining_time": 386.517392,
                        "test": [
                          0.002717903238
                        ]
                      },
                      {
                        "learn": [
                          0.001752979346
                        ],
                        "iteration": 579,
                        "passed_time": 532.5776965,
                        "remaining_time": 385.6597113,
                        "test": [
                          0.002717901847
                        ]
                      },
                      {
                        "learn": [
                          0.001752978035
                        ],
                        "iteration": 580,
                        "passed_time": 533.0901952,
                        "remaining_time": 384.4488671,
                        "test": [
                          0.002717887798
                        ]
                      },
                      {
                        "learn": [
                          0.001752977589
                        ],
                        "iteration": 581,
                        "passed_time": 534.1303392,
                        "remaining_time": 383.6193845,
                        "test": [
                          0.002717887377
                        ]
                      },
                      {
                        "learn": [
                          0.001752976472
                        ],
                        "iteration": 582,
                        "passed_time": 535.1056527,
                        "remaining_time": 382.7428082,
                        "test": [
                          0.002717876982
                        ]
                      },
                      {
                        "learn": [
                          0.001752928647
                        ],
                        "iteration": 583,
                        "passed_time": 535.9839879,
                        "remaining_time": 381.7968133,
                        "test": [
                          0.002717754109
                        ]
                      },
                      {
                        "learn": [
                          0.00175292695
                        ],
                        "iteration": 584,
                        "passed_time": 537.0788521,
                        "remaining_time": 381.0046558,
                        "test": [
                          0.002717749672
                        ]
                      },
                      {
                        "learn": [
                          0.00175292194
                        ],
                        "iteration": 585,
                        "passed_time": 537.5950887,
                        "remaining_time": 379.8026736,
                        "test": [
                          0.002717696491
                        ]
                      },
                      {
                        "learn": [
                          0.001752918268
                        ],
                        "iteration": 586,
                        "passed_time": 538.5116538,
                        "remaining_time": 378.88469,
                        "test": [
                          0.002717692059
                        ]
                      },
                      {
                        "learn": [
                          0.001752917013
                        ],
                        "iteration": 587,
                        "passed_time": 538.9657984,
                        "remaining_time": 377.6427023,
                        "test": [
                          0.002717678589
                        ]
                      },
                      {
                        "learn": [
                          0.001752917013
                        ],
                        "iteration": 588,
                        "passed_time": 539.9357575,
                        "remaining_time": 376.7633215,
                        "test": [
                          0.002717678589
                        ]
                      },
                      {
                        "learn": [
                          0.0017513846
                        ],
                        "iteration": 589,
                        "passed_time": 541.0553792,
                        "remaining_time": 375.9876364,
                        "test": [
                          0.002716017832
                        ]
                      },
                      {
                        "learn": [
                          0.001750233524
                        ],
                        "iteration": 590,
                        "passed_time": 542.0649899,
                        "remaining_time": 375.1346546,
                        "test": [
                          0.002715277091
                        ]
                      },
                      {
                        "learn": [
                          0.00175023307
                        ],
                        "iteration": 591,
                        "passed_time": 543.0067706,
                        "remaining_time": 374.2343959,
                        "test": [
                          0.002715269821
                        ]
                      },
                      {
                        "learn": [
                          0.001750232991
                        ],
                        "iteration": 592,
                        "passed_time": 544.1108308,
                        "remaining_time": 373.4453763,
                        "test": [
                          0.002715267892
                        ]
                      },
                      {
                        "learn": [
                          0.001750213959
                        ],
                        "iteration": 593,
                        "passed_time": 545.8818636,
                        "remaining_time": 373.1111727,
                        "test": [
                          0.002715259234
                        ]
                      },
                      {
                        "learn": [
                          0.001750213431
                        ],
                        "iteration": 594,
                        "passed_time": 546.9054212,
                        "remaining_time": 372.2633539,
                        "test": [
                          0.002715254625
                        ]
                      },
                      {
                        "learn": [
                          0.001750213376
                        ],
                        "iteration": 595,
                        "passed_time": 547.8747826,
                        "remaining_time": 371.3782083,
                        "test": [
                          0.002715253739
                        ]
                      },
                      {
                        "learn": [
                          0.001750212116
                        ],
                        "iteration": 596,
                        "passed_time": 548.8591429,
                        "remaining_time": 370.5029055,
                        "test": [
                          0.002715232628
                        ]
                      },
                      {
                        "learn": [
                          0.001750211237
                        ],
                        "iteration": 597,
                        "passed_time": 549.8156105,
                        "remaining_time": 369.6084873,
                        "test": [
                          0.002715218568
                        ]
                      },
                      {
                        "learn": [
                          0.001750210177
                        ],
                        "iteration": 598,
                        "passed_time": 550.3801285,
                        "remaining_time": 368.4514717,
                        "test": [
                          0.002715208101
                        ]
                      },
                      {
                        "learn": [
                          0.001750205257
                        ],
                        "iteration": 599,
                        "passed_time": 551.3316111,
                        "remaining_time": 367.5544074,
                        "test": [
                          0.002715209357
                        ]
                      },
                      {
                        "learn": [
                          0.001750204203
                        ],
                        "iteration": 600,
                        "passed_time": 552.2045945,
                        "remaining_time": 366.605047,
                        "test": [
                          0.002715198944
                        ]
                      },
                      {
                        "learn": [
                          0.001750202109
                        ],
                        "iteration": 601,
                        "passed_time": 552.6559739,
                        "remaining_time": 365.3772053,
                        "test": [
                          0.002715178213
                        ]
                      },
                      {
                        "learn": [
                          0.00175020159
                        ],
                        "iteration": 602,
                        "passed_time": 553.1314968,
                        "remaining_time": 364.1678346,
                        "test": [
                          0.002715173076
                        ]
                      },
                      {
                        "learn": [
                          0.001750196685
                        ],
                        "iteration": 603,
                        "passed_time": 554.0377116,
                        "remaining_time": 363.2432679,
                        "test": [
                          0.00271517446
                        ]
                      },
                      {
                        "learn": [
                          0.001750196666
                        ],
                        "iteration": 604,
                        "passed_time": 555.0157878,
                        "remaining_time": 362.3656796,
                        "test": [
                          0.00271517414
                        ]
                      },
                      {
                        "learn": [
                          0.001750193222
                        ],
                        "iteration": 605,
                        "passed_time": 555.9597319,
                        "remaining_time": 361.4655683,
                        "test": [
                          0.002715118939
                        ]
                      },
                      {
                        "learn": [
                          0.00175019191
                        ],
                        "iteration": 606,
                        "passed_time": 556.8183215,
                        "remaining_time": 360.51005,
                        "test": [
                          0.002715085523
                        ]
                      },
                      {
                        "learn": [
                          0.001750191501
                        ],
                        "iteration": 607,
                        "passed_time": 557.8874,
                        "remaining_time": 359.6905605,
                        "test": [
                          0.002715080102
                        ]
                      },
                      {
                        "learn": [
                          0.001750182168
                        ],
                        "iteration": 608,
                        "passed_time": 558.7623392,
                        "remaining_time": 358.7456069,
                        "test": [
                          0.002715051208
                        ]
                      },
                      {
                        "learn": [
                          0.00175018111
                        ],
                        "iteration": 609,
                        "passed_time": 559.7592571,
                        "remaining_time": 357.8788693,
                        "test": [
                          0.002715026551
                        ]
                      },
                      {
                        "learn": [
                          0.001750180553
                        ],
                        "iteration": 610,
                        "passed_time": 560.7314171,
                        "remaining_time": 356.9959431,
                        "test": [
                          0.002715018398
                        ]
                      },
                      {
                        "learn": [
                          0.001750179705
                        ],
                        "iteration": 611,
                        "passed_time": 561.7462868,
                        "remaining_time": 356.1398027,
                        "test": [
                          0.002715005314
                        ]
                      },
                      {
                        "learn": [
                          0.001750179268
                        ],
                        "iteration": 612,
                        "passed_time": 562.7754943,
                        "remaining_time": 355.2921963,
                        "test": [
                          0.002715000097
                        ]
                      },
                      {
                        "learn": [
                          0.001750177495
                        ],
                        "iteration": 613,
                        "passed_time": 563.6732811,
                        "remaining_time": 354.3613787,
                        "test": [
                          0.002714998376
                        ]
                      },
                      {
                        "learn": [
                          0.001750175722
                        ],
                        "iteration": 614,
                        "passed_time": 564.533774,
                        "remaining_time": 353.4073219,
                        "test": [
                          0.002714996658
                        ]
                      },
                      {
                        "learn": [
                          0.001750173951
                        ],
                        "iteration": 615,
                        "passed_time": 565.419708,
                        "remaining_time": 352.4694284,
                        "test": [
                          0.00271499494
                        ]
                      },
                      {
                        "learn": [
                          0.001750172436
                        ],
                        "iteration": 616,
                        "passed_time": 566.4282434,
                        "remaining_time": 351.6078075,
                        "test": [
                          0.002714959214
                        ]
                      },
                      {
                        "learn": [
                          0.001750169072
                        ],
                        "iteration": 617,
                        "passed_time": 567.4132915,
                        "remaining_time": 350.7311931,
                        "test": [
                          0.002714907322
                        ]
                      },
                      {
                        "learn": [
                          0.001750169072
                        ],
                        "iteration": 618,
                        "passed_time": 568.3446864,
                        "remaining_time": 349.8212044,
                        "test": [
                          0.002714907322
                        ]
                      },
                      {
                        "learn": [
                          0.001750169072
                        ],
                        "iteration": 619,
                        "passed_time": 569.0397543,
                        "remaining_time": 348.766301,
                        "test": [
                          0.002714907322
                        ]
                      },
                      {
                        "learn": [
                          0.001750169072
                        ],
                        "iteration": 620,
                        "passed_time": 569.8675846,
                        "remaining_time": 347.7935822,
                        "test": [
                          0.002714907322
                        ]
                      },
                      {
                        "learn": [
                          0.001750168737
                        ],
                        "iteration": 621,
                        "passed_time": 570.795521,
                        "remaining_time": 346.8821655,
                        "test": [
                          0.002714904082
                        ]
                      },
                      {
                        "learn": [
                          0.001750161669
                        ],
                        "iteration": 622,
                        "passed_time": 571.7502092,
                        "remaining_time": 345.9868842,
                        "test": [
                          0.002714897328
                        ]
                      },
                      {
                        "learn": [
                          0.001750152862
                        ],
                        "iteration": 623,
                        "passed_time": 572.683611,
                        "remaining_time": 345.0785861,
                        "test": [
                          0.002714875167
                        ]
                      },
                      {
                        "learn": [
                          0.001750128932
                        ],
                        "iteration": 624,
                        "passed_time": 573.7235029,
                        "remaining_time": 344.2341017,
                        "test": [
                          0.002714863959
                        ]
                      },
                      {
                        "learn": [
                          0.001750127226
                        ],
                        "iteration": 625,
                        "passed_time": 574.7259727,
                        "remaining_time": 343.3666355,
                        "test": [
                          0.002714835815
                        ]
                      },
                      {
                        "learn": [
                          0.001750125724
                        ],
                        "iteration": 626,
                        "passed_time": 575.7482361,
                        "remaining_time": 342.5105137,
                        "test": [
                          0.002714835178
                        ]
                      },
                      {
                        "learn": [
                          0.001750121944
                        ],
                        "iteration": 627,
                        "passed_time": 576.2259376,
                        "remaining_time": 341.3312879,
                        "test": [
                          0.002714800577
                        ]
                      },
                      {
                        "learn": [
                          0.001750121116
                        ],
                        "iteration": 628,
                        "passed_time": 577.3527134,
                        "remaining_time": 340.537133,
                        "test": [
                          0.002714787959
                        ]
                      },
                      {
                        "learn": [
                          0.001750118064
                        ],
                        "iteration": 629,
                        "passed_time": 578.3508713,
                        "remaining_time": 339.6663847,
                        "test": [
                          0.002714757724
                        ]
                      },
                      {
                        "learn": [
                          0.001750117594
                        ],
                        "iteration": 630,
                        "passed_time": 579.286818,
                        "remaining_time": 338.7588523,
                        "test": [
                          0.002714753415
                        ]
                      },
                      {
                        "learn": [
                          0.001749987938
                        ],
                        "iteration": 631,
                        "passed_time": 580.2513921,
                        "remaining_time": 337.8678992,
                        "test": [
                          0.002714567335
                        ]
                      },
                      {
                        "learn": [
                          0.00174997387
                        ],
                        "iteration": 632,
                        "passed_time": 581.0966969,
                        "remaining_time": 336.9075636,
                        "test": [
                          0.002714555493
                        ]
                      },
                      {
                        "learn": [
                          0.001749972973
                        ],
                        "iteration": 633,
                        "passed_time": 581.6273074,
                        "remaining_time": 335.7659219,
                        "test": [
                          0.002714547781
                        ]
                      },
                      {
                        "learn": [
                          0.001749965978
                        ],
                        "iteration": 634,
                        "passed_time": 582.547711,
                        "remaining_time": 334.8502591,
                        "test": [
                          0.002714541917
                        ]
                      },
                      {
                        "learn": [
                          0.001749964196
                        ],
                        "iteration": 635,
                        "passed_time": 583.0281648,
                        "remaining_time": 333.6827861,
                        "test": [
                          0.002714526608
                        ]
                      },
                      {
                        "learn": [
                          0.001749963313
                        ],
                        "iteration": 636,
                        "passed_time": 583.5277379,
                        "remaining_time": 332.5283656,
                        "test": [
                          0.00271451902
                        ]
                      },
                      {
                        "learn": [
                          0.001749959809
                        ],
                        "iteration": 637,
                        "passed_time": 584.016566,
                        "remaining_time": 331.3699011,
                        "test": [
                          0.002714488806
                        ]
                      },
                      {
                        "learn": [
                          0.001749956566
                        ],
                        "iteration": 638,
                        "passed_time": 585.0789106,
                        "remaining_time": 330.5375379,
                        "test": [
                          0.002714440809
                        ]
                      },
                      {
                        "learn": [
                          0.001749956566
                        ],
                        "iteration": 639,
                        "passed_time": 586.0304074,
                        "remaining_time": 329.6421041,
                        "test": [
                          0.002714440809
                        ]
                      },
                      {
                        "learn": [
                          0.001749951533
                        ],
                        "iteration": 640,
                        "passed_time": 586.8882796,
                        "remaining_time": 328.6940598,
                        "test": [
                          0.002714398522
                        ]
                      },
                      {
                        "learn": [
                          0.001749948577
                        ],
                        "iteration": 641,
                        "passed_time": 587.9521352,
                        "remaining_time": 327.8611595,
                        "test": [
                          0.002714381998
                        ]
                      },
                      {
                        "learn": [
                          0.001749948293
                        ],
                        "iteration": 642,
                        "passed_time": 589.0512319,
                        "remaining_time": 327.047107,
                        "test": [
                          0.002714373393
                        ]
                      },
                      {
                        "learn": [
                          0.001749945022
                        ],
                        "iteration": 643,
                        "passed_time": 590.0008156,
                        "remaining_time": 326.1495192,
                        "test": [
                          0.002714345698
                        ]
                      },
                      {
                        "learn": [
                          0.001749941542
                        ],
                        "iteration": 644,
                        "passed_time": 590.9815058,
                        "remaining_time": 325.2688908,
                        "test": [
                          0.002714342921
                        ]
                      },
                      {
                        "learn": [
                          0.001749941132
                        ],
                        "iteration": 645,
                        "passed_time": 591.4780382,
                        "remaining_time": 324.1226401,
                        "test": [
                          0.002714339414
                        ]
                      },
                      {
                        "learn": [
                          0.001749939785
                        ],
                        "iteration": 646,
                        "passed_time": 592.5466519,
                        "remaining_time": 323.2905226,
                        "test": [
                          0.002714299991
                        ]
                      },
                      {
                        "learn": [
                          0.001749938028
                        ],
                        "iteration": 647,
                        "passed_time": 593.552661,
                        "remaining_time": 322.4236677,
                        "test": [
                          0.002714297607
                        ]
                      },
                      {
                        "learn": [
                          0.00174993485
                        ],
                        "iteration": 648,
                        "passed_time": 594.0831206,
                        "remaining_time": 321.2991916,
                        "test": [
                          0.002714271131
                        ]
                      },
                      {
                        "learn": [
                          0.001749934051
                        ],
                        "iteration": 649,
                        "passed_time": 595.1360648,
                        "remaining_time": 320.4578811,
                        "test": [
                          0.002714259489
                        ]
                      },
                      {
                        "learn": [
                          0.001748711811
                        ],
                        "iteration": 650,
                        "passed_time": 596.4722305,
                        "remaining_time": 319.7677549,
                        "test": [
                          0.002714001825
                        ]
                      },
                      {
                        "learn": [
                          0.001748711631
                        ],
                        "iteration": 651,
                        "passed_time": 597.5115889,
                        "remaining_time": 318.9172284,
                        "test": [
                          0.00271400174
                        ]
                      },
                      {
                        "learn": [
                          0.001744515219
                        ],
                        "iteration": 652,
                        "passed_time": 598.6818154,
                        "remaining_time": 318.135666,
                        "test": [
                          0.002712052817
                        ]
                      },
                      {
                        "learn": [
                          0.001742817358
                        ],
                        "iteration": 653,
                        "passed_time": 599.7710757,
                        "remaining_time": 317.3100798,
                        "test": [
                          0.002712466353
                        ]
                      },
                      {
                        "learn": [
                          0.001742817161
                        ],
                        "iteration": 654,
                        "passed_time": 600.6957688,
                        "remaining_time": 316.397008,
                        "test": [
                          0.002712464556
                        ]
                      },
                      {
                        "learn": [
                          0.00174281568
                        ],
                        "iteration": 655,
                        "passed_time": 601.6670929,
                        "remaining_time": 315.5083536,
                        "test": [
                          0.002712443145
                        ]
                      },
                      {
                        "learn": [
                          0.001742815312
                        ],
                        "iteration": 656,
                        "passed_time": 602.5835801,
                        "remaining_time": 314.5908188,
                        "test": [
                          0.002712437832
                        ]
                      },
                      {
                        "learn": [
                          0.00174281499
                        ],
                        "iteration": 657,
                        "passed_time": 603.7082029,
                        "remaining_time": 313.7814672,
                        "test": [
                          0.002712429103
                        ]
                      },
                      {
                        "learn": [
                          0.001742811924
                        ],
                        "iteration": 658,
                        "passed_time": 604.1682769,
                        "remaining_time": 312.6272874,
                        "test": [
                          0.002712401565
                        ]
                      },
                      {
                        "learn": [
                          0.001742808897
                        ],
                        "iteration": 659,
                        "passed_time": 605.1396628,
                        "remaining_time": 311.7386142,
                        "test": [
                          0.002712357641
                        ]
                      },
                      {
                        "learn": [
                          0.001742807468
                        ],
                        "iteration": 660,
                        "passed_time": 606.0933093,
                        "remaining_time": 310.8405928,
                        "test": [
                          0.00271233702
                        ]
                      },
                      {
                        "learn": [
                          0.001742807289
                        ],
                        "iteration": 661,
                        "passed_time": 607.062534,
                        "remaining_time": 309.9503572,
                        "test": [
                          0.002712335284
                        ]
                      },
                      {
                        "learn": [
                          0.001742806395
                        ],
                        "iteration": 662,
                        "passed_time": 607.9609305,
                        "remaining_time": 309.0238817,
                        "test": [
                          0.002712324147
                        ]
                      },
                      {
                        "learn": [
                          0.001742806218
                        ],
                        "iteration": 663,
                        "passed_time": 608.9028356,
                        "remaining_time": 308.1195072,
                        "test": [
                          0.0027123216
                        ]
                      },
                      {
                        "learn": [
                          0.001742801782
                        ],
                        "iteration": 664,
                        "passed_time": 609.8610807,
                        "remaining_time": 307.2232512,
                        "test": [
                          0.002712282471
                        ]
                      },
                      {
                        "learn": [
                          0.001742798883
                        ],
                        "iteration": 665,
                        "passed_time": 610.3569219,
                        "remaining_time": 306.0949128,
                        "test": [
                          0.002712256769
                        ]
                      },
                      {
                        "learn": [
                          0.001742797402
                        ],
                        "iteration": 666,
                        "passed_time": 611.3886162,
                        "remaining_time": 305.2359958,
                        "test": [
                          0.002712235274
                        ]
                      },
                      {
                        "learn": [
                          0.001742797055
                        ],
                        "iteration": 667,
                        "passed_time": 612.3433751,
                        "remaining_time": 304.3383241,
                        "test": [
                          0.002712230339
                        ]
                      },
                      {
                        "learn": [
                          0.001742796322
                        ],
                        "iteration": 668,
                        "passed_time": 613.299994,
                        "remaining_time": 303.4414021,
                        "test": [
                          0.00271221969
                        ]
                      },
                      {
                        "learn": [
                          0.001742789088
                        ],
                        "iteration": 669,
                        "passed_time": 614.2392873,
                        "remaining_time": 302.5357684,
                        "test": [
                          0.002712210169
                        ]
                      },
                      {
                        "learn": [
                          0.00174278824
                        ],
                        "iteration": 670,
                        "passed_time": 615.2566079,
                        "remaining_time": 301.6682921,
                        "test": [
                          0.002712209543
                        ]
                      },
                      {
                        "learn": [
                          0.001742787896
                        ],
                        "iteration": 671,
                        "passed_time": 616.2213413,
                        "remaining_time": 300.7747023,
                        "test": [
                          0.002712204648
                        ]
                      },
                      {
                        "learn": [
                          0.001742787173
                        ],
                        "iteration": 672,
                        "passed_time": 616.7456379,
                        "remaining_time": 299.6668998,
                        "test": [
                          0.002712198226
                        ]
                      },
                      {
                        "learn": [
                          0.001742783494
                        ],
                        "iteration": 673,
                        "passed_time": 617.61794,
                        "remaining_time": 298.729152,
                        "test": [
                          0.002712193291
                        ]
                      },
                      {
                        "learn": [
                          0.001742782646
                        ],
                        "iteration": 674,
                        "passed_time": 618.5243773,
                        "remaining_time": 297.8080335,
                        "test": [
                          0.002712192668
                        ]
                      },
                      {
                        "learn": [
                          0.0017427818
                        ],
                        "iteration": 675,
                        "passed_time": 619.4302031,
                        "remaining_time": 296.8866654,
                        "test": [
                          0.002712192045
                        ]
                      },
                      {
                        "learn": [
                          0.001742777797
                        ],
                        "iteration": 676,
                        "passed_time": 620.4231046,
                        "remaining_time": 296.0068874,
                        "test": [
                          0.002712135667
                        ]
                      },
                      {
                        "learn": [
                          0.001742777082
                        ],
                        "iteration": 677,
                        "passed_time": 620.9056021,
                        "remaining_time": 294.8843715,
                        "test": [
                          0.002712129392
                        ]
                      },
                      {
                        "learn": [
                          0.001742776415
                        ],
                        "iteration": 678,
                        "passed_time": 621.8510243,
                        "remaining_time": 293.9825903,
                        "test": [
                          0.002712119888
                        ]
                      },
                      {
                        "learn": [
                          0.001742769993
                        ],
                        "iteration": 679,
                        "passed_time": 622.8066981,
                        "remaining_time": 293.085505,
                        "test": [
                          0.00271202917
                        ]
                      },
                      {
                        "learn": [
                          0.001742763227
                        ],
                        "iteration": 680,
                        "passed_time": 623.7382495,
                        "remaining_time": 292.176948,
                        "test": [
                          0.002712024354
                        ]
                      },
                      {
                        "learn": [
                          0.001742757828
                        ],
                        "iteration": 681,
                        "passed_time": 624.2187936,
                        "remaining_time": 291.0580298,
                        "test": [
                          0.002711979031
                        ]
                      },
                      {
                        "learn": [
                          0.001742752445
                        ],
                        "iteration": 682,
                        "passed_time": 624.721916,
                        "remaining_time": 289.9514603,
                        "test": [
                          0.002711932304
                        ]
                      },
                      {
                        "learn": [
                          0.001742746702
                        ],
                        "iteration": 683,
                        "passed_time": 625.1823005,
                        "remaining_time": 288.8269108,
                        "test": [
                          0.00271188299
                        ]
                      },
                      {
                        "learn": [
                          0.00174273503
                        ],
                        "iteration": 684,
                        "passed_time": 626.3215099,
                        "remaining_time": 288.0164608,
                        "test": [
                          0.002711848632
                        ]
                      },
                      {
                        "learn": [
                          0.001742733777
                        ],
                        "iteration": 685,
                        "passed_time": 626.8274652,
                        "remaining_time": 286.9151955,
                        "test": [
                          0.002711837821
                        ]
                      },
                      {
                        "learn": [
                          0.001742732343
                        ],
                        "iteration": 686,
                        "passed_time": 627.7971562,
                        "remaining_time": 286.0269431,
                        "test": [
                          0.00271183687
                        ]
                      },
                      {
                        "learn": [
                          0.001742731835
                        ],
                        "iteration": 687,
                        "passed_time": 628.8811523,
                        "remaining_time": 285.19029,
                        "test": [
                          0.00271182331
                        ]
                      },
                      {
                        "learn": [
                          0.001742731506
                        ],
                        "iteration": 688,
                        "passed_time": 629.8427839,
                        "remaining_time": 284.2976862,
                        "test": [
                          0.002711818654
                        ]
                      },
                      {
                        "learn": [
                          0.001742725525
                        ],
                        "iteration": 689,
                        "passed_time": 630.8205946,
                        "remaining_time": 283.4121512,
                        "test": [
                          0.002711737084
                        ]
                      },
                      {
                        "learn": [
                          0.001742723845
                        ],
                        "iteration": 690,
                        "passed_time": 631.6901739,
                        "remaining_time": 282.4779504,
                        "test": [
                          0.002711735979
                        ]
                      },
                      {
                        "learn": [
                          0.001742711046
                        ],
                        "iteration": 691,
                        "passed_time": 632.667643,
                        "remaining_time": 281.5919567,
                        "test": [
                          0.002711681789
                        ]
                      },
                      {
                        "learn": [
                          0.001742705325
                        ],
                        "iteration": 692,
                        "passed_time": 633.6831541,
                        "remaining_time": 280.7225517,
                        "test": [
                          0.002711678231
                        ]
                      },
                      {
                        "learn": [
                          0.001742702472
                        ],
                        "iteration": 693,
                        "passed_time": 634.6089117,
                        "remaining_time": 279.8131513,
                        "test": [
                          0.002711676461
                        ]
                      },
                      {
                        "learn": [
                          0.001742699623
                        ],
                        "iteration": 694,
                        "passed_time": 635.5343997,
                        "remaining_time": 278.9035855,
                        "test": [
                          0.002711674696
                        ]
                      },
                      {
                        "learn": [
                          0.001742696986
                        ],
                        "iteration": 695,
                        "passed_time": 636.6070637,
                        "remaining_time": 278.0582577,
                        "test": [
                          0.002711606297
                        ]
                      },
                      {
                        "learn": [
                          0.001742696632
                        ],
                        "iteration": 696,
                        "passed_time": 637.6432214,
                        "remaining_time": 277.1964076,
                        "test": [
                          0.002711594504
                        ]
                      },
                      {
                        "learn": [
                          0.001742674874
                        ],
                        "iteration": 697,
                        "passed_time": 638.6078498,
                        "remaining_time": 276.3031098,
                        "test": [
                          0.002711573382
                        ]
                      },
                      {
                        "learn": [
                          0.001742673675
                        ],
                        "iteration": 698,
                        "passed_time": 639.44722,
                        "remaining_time": 275.3556698,
                        "test": [
                          0.002711564214
                        ]
                      },
                      {
                        "learn": [
                          0.001742660338
                        ],
                        "iteration": 699,
                        "passed_time": 640.2937457,
                        "remaining_time": 274.4116053,
                        "test": [
                          0.002711556085
                        ]
                      },
                      {
                        "learn": [
                          0.001742660055
                        ],
                        "iteration": 700,
                        "passed_time": 641.2793834,
                        "remaining_time": 273.527155,
                        "test": [
                          0.0027115524
                        ]
                      },
                      {
                        "learn": [
                          0.001742653595
                        ],
                        "iteration": 701,
                        "passed_time": 642.2351632,
                        "remaining_time": 272.6297416,
                        "test": [
                          0.002711470094
                        ]
                      },
                      {
                        "learn": [
                          0.001742649057
                        ],
                        "iteration": 702,
                        "passed_time": 643.1454103,
                        "remaining_time": 271.7129258,
                        "test": [
                          0.00271143717
                        ]
                      },
                      {
                        "learn": [
                          0.001742648923
                        ],
                        "iteration": 703,
                        "passed_time": 644.1027744,
                        "remaining_time": 270.8159392,
                        "test": [
                          0.002711435428
                        ]
                      },
                      {
                        "learn": [
                          0.001742644763
                        ],
                        "iteration": 704,
                        "passed_time": 645.0595635,
                        "remaining_time": 269.9185408,
                        "test": [
                          0.002711382665
                        ]
                      },
                      {
                        "learn": [
                          0.001742641445
                        ],
                        "iteration": 705,
                        "passed_time": 645.5226817,
                        "remaining_time": 268.8153943,
                        "test": [
                          0.002711358698
                        ]
                      },
                      {
                        "learn": [
                          0.001742633639
                        ],
                        "iteration": 706,
                        "passed_time": 646.4761907,
                        "remaining_time": 267.9172898,
                        "test": [
                          0.002711262579
                        ]
                      },
                      {
                        "learn": [
                          0.001742627009
                        ],
                        "iteration": 707,
                        "passed_time": 647.3872039,
                        "remaining_time": 267.0015022,
                        "test": [
                          0.002711258822
                        ]
                      },
                      {
                        "learn": [
                          0.001742626741
                        ],
                        "iteration": 708,
                        "passed_time": 648.389884,
                        "remaining_time": 266.1233515,
                        "test": [
                          0.002711257322
                        ]
                      },
                      {
                        "learn": [
                          0.00174260781
                        ],
                        "iteration": 709,
                        "passed_time": 649.3087671,
                        "remaining_time": 265.2106232,
                        "test": [
                          0.002711057911
                        ]
                      },
                      {
                        "learn": [
                          0.001742603953
                        ],
                        "iteration": 710,
                        "passed_time": 650.5682179,
                        "remaining_time": 264.436308,
                        "test": [
                          0.002711055478
                        ]
                      },
                      {
                        "learn": [
                          0.00174260269
                        ],
                        "iteration": 711,
                        "passed_time": 651.5704386,
                        "remaining_time": 263.5565819,
                        "test": [
                          0.002711037752
                        ]
                      },
                      {
                        "learn": [
                          0.00174259245
                        ],
                        "iteration": 712,
                        "passed_time": 652.5093053,
                        "remaining_time": 262.6510107,
                        "test": [
                          0.002710917391
                        ]
                      },
                      {
                        "learn": [
                          0.001742590322
                        ],
                        "iteration": 713,
                        "passed_time": 653.1017724,
                        "remaining_time": 261.6065923,
                        "test": [
                          0.002710903657
                        ]
                      },
                      {
                        "learn": [
                          0.001742590222
                        ],
                        "iteration": 714,
                        "passed_time": 654.0732468,
                        "remaining_time": 260.714511,
                        "test": [
                          0.002710902392
                        ]
                      },
                      {
                        "learn": [
                          0.001742197321
                        ],
                        "iteration": 715,
                        "passed_time": 654.9878833,
                        "remaining_time": 259.7996632,
                        "test": [
                          0.002710946145
                        ]
                      },
                      {
                        "learn": [
                          0.001742192785
                        ],
                        "iteration": 716,
                        "passed_time": 655.922125,
                        "remaining_time": 258.8925542,
                        "test": [
                          0.002710891841
                        ]
                      },
                      {
                        "learn": [
                          0.001742181536
                        ],
                        "iteration": 717,
                        "passed_time": 656.8460788,
                        "remaining_time": 257.981329,
                        "test": [
                          0.00271088645
                        ]
                      },
                      {
                        "learn": [
                          0.001742180779
                        ],
                        "iteration": 718,
                        "passed_time": 657.8076583,
                        "remaining_time": 257.0847733,
                        "test": [
                          0.002710877167
                        ]
                      },
                      {
                        "learn": [
                          0.001742179379
                        ],
                        "iteration": 719,
                        "passed_time": 658.7573145,
                        "remaining_time": 256.1834001,
                        "test": [
                          0.002710876501
                        ]
                      },
                      {
                        "learn": [
                          0.001742163841
                        ],
                        "iteration": 720,
                        "passed_time": 659.8943005,
                        "remaining_time": 255.3543826,
                        "test": [
                          0.002710866864
                        ]
                      },
                      {
                        "learn": [
                          0.001742162198
                        ],
                        "iteration": 721,
                        "passed_time": 660.8166187,
                        "remaining_time": 254.4418559,
                        "test": [
                          0.002710866024
                        ]
                      },
                      {
                        "learn": [
                          0.001742147768
                        ],
                        "iteration": 722,
                        "passed_time": 661.8390831,
                        "remaining_time": 253.5676708,
                        "test": [
                          0.0027108723
                        ]
                      },
                      {
                        "learn": [
                          0.001742146732
                        ],
                        "iteration": 723,
                        "passed_time": 662.7606978,
                        "remaining_time": 252.6546306,
                        "test": [
                          0.002710866194
                        ]
                      },
                      {
                        "learn": [
                          0.001742140916
                        ],
                        "iteration": 724,
                        "passed_time": 663.8056616,
                        "remaining_time": 251.7883544,
                        "test": [
                          0.00271077899
                        ]
                      },
                      {
                        "learn": [
                          0.001742137905
                        ],
                        "iteration": 725,
                        "passed_time": 664.2740656,
                        "remaining_time": 250.7039862,
                        "test": [
                          0.002710761589
                        ]
                      },
                      {
                        "learn": [
                          0.001742128307
                        ],
                        "iteration": 726,
                        "passed_time": 665.2815812,
                        "remaining_time": 249.8237574,
                        "test": [
                          0.002710775921
                        ]
                      },
                      {
                        "learn": [
                          0.001742122178
                        ],
                        "iteration": 727,
                        "passed_time": 666.3109341,
                        "remaining_time": 248.951338,
                        "test": [
                          0.002710773638
                        ]
                      },
                      {
                        "learn": [
                          0.001742120208
                        ],
                        "iteration": 728,
                        "passed_time": 666.9210225,
                        "remaining_time": 247.9226298,
                        "test": [
                          0.00271076714
                        ]
                      },
                      {
                        "learn": [
                          0.001740396637
                        ],
                        "iteration": 729,
                        "passed_time": 668.0728046,
                        "remaining_time": 247.0954209,
                        "test": [
                          0.002711028585
                        ]
                      },
                      {
                        "learn": [
                          0.001740394903
                        ],
                        "iteration": 730,
                        "passed_time": 669.051562,
                        "remaining_time": 246.2036528,
                        "test": [
                          0.002711033042
                        ]
                      },
                      {
                        "learn": [
                          0.00174038945
                        ],
                        "iteration": 731,
                        "passed_time": 669.9149061,
                        "remaining_time": 245.2693918,
                        "test": [
                          0.002710997587
                        ]
                      },
                      {
                        "learn": [
                          0.001740388496
                        ],
                        "iteration": 732,
                        "passed_time": 670.6662127,
                        "remaining_time": 244.294514,
                        "test": [
                          0.002710990995
                        ]
                      },
                      {
                        "learn": [
                          0.00174037528
                        ],
                        "iteration": 733,
                        "passed_time": 671.8660269,
                        "remaining_time": 243.4827836,
                        "test": [
                          0.002710984426
                        ]
                      },
                      {
                        "learn": [
                          0.001740374681
                        ],
                        "iteration": 734,
                        "passed_time": 672.8647626,
                        "remaining_time": 242.5974994,
                        "test": [
                          0.002710981442
                        ]
                      },
                      {
                        "learn": [
                          0.001740373792
                        ],
                        "iteration": 735,
                        "passed_time": 673.8138081,
                        "remaining_time": 241.6940833,
                        "test": [
                          0.002710971492
                        ]
                      },
                      {
                        "learn": [
                          0.001740362579
                        ],
                        "iteration": 736,
                        "passed_time": 674.7769324,
                        "remaining_time": 240.7955675,
                        "test": [
                          0.002710966276
                        ]
                      },
                      {
                        "learn": [
                          0.001740336246
                        ],
                        "iteration": 737,
                        "passed_time": 675.9458328,
                        "remaining_time": 239.9699298,
                        "test": [
                          0.002710953274
                        ]
                      },
                      {
                        "learn": [
                          0.001740335344
                        ],
                        "iteration": 738,
                        "passed_time": 676.8677717,
                        "remaining_time": 239.0561413,
                        "test": [
                          0.002710947187
                        ]
                      },
                      {
                        "learn": [
                          0.001740332726
                        ],
                        "iteration": 739,
                        "passed_time": 677.3326634,
                        "remaining_time": 237.9817466,
                        "test": [
                          0.002710929835
                        ]
                      },
                      {
                        "learn": [
                          0.001740330577
                        ],
                        "iteration": 740,
                        "passed_time": 677.8513014,
                        "remaining_time": 236.9277828,
                        "test": [
                          0.002710915499
                        ]
                      },
                      {
                        "learn": [
                          0.001740263897
                        ],
                        "iteration": 741,
                        "passed_time": 678.8311026,
                        "remaining_time": 236.0356125,
                        "test": [
                          0.002710897331
                        ]
                      },
                      {
                        "learn": [
                          0.001740263628
                        ],
                        "iteration": 742,
                        "passed_time": 679.5164984,
                        "remaining_time": 235.0413729,
                        "test": [
                          0.002710896968
                        ]
                      },
                      {
                        "learn": [
                          0.001740257734
                        ],
                        "iteration": 743,
                        "passed_time": 680.6808021,
                        "remaining_time": 234.2127491,
                        "test": [
                          0.002710894066
                        ]
                      },
                      {
                        "learn": [
                          0.001740254246
                        ],
                        "iteration": 744,
                        "passed_time": 681.7619384,
                        "remaining_time": 233.3547575,
                        "test": [
                          0.002710872528
                        ]
                      },
                      {
                        "learn": [
                          0.001740252264
                        ],
                        "iteration": 745,
                        "passed_time": 682.6665501,
                        "remaining_time": 232.436064,
                        "test": [
                          0.00271086936
                        ]
                      },
                      {
                        "learn": [
                          0.001740251604
                        ],
                        "iteration": 746,
                        "passed_time": 683.6933389,
                        "remaining_time": 231.5587881,
                        "test": [
                          0.002710867613
                        ]
                      },
                      {
                        "learn": [
                          0.001740248398
                        ],
                        "iteration": 747,
                        "passed_time": 684.8577585,
                        "remaining_time": 230.7274801,
                        "test": [
                          0.00271086756
                        ]
                      },
                      {
                        "learn": [
                          0.001740235116
                        ],
                        "iteration": 748,
                        "passed_time": 686.007104,
                        "remaining_time": 229.8902311,
                        "test": [
                          0.002710872829
                        ]
                      },
                      {
                        "learn": [
                          0.001740233498
                        ],
                        "iteration": 749,
                        "passed_time": 686.9291165,
                        "remaining_time": 228.9763722,
                        "test": [
                          0.00271086238
                        ]
                      },
                      {
                        "learn": [
                          0.001740207481
                        ],
                        "iteration": 750,
                        "passed_time": 688.124749,
                        "remaining_time": 228.1532124,
                        "test": [
                          0.002710850067
                        ]
                      },
                      {
                        "learn": [
                          0.001740195402
                        ],
                        "iteration": 751,
                        "passed_time": 689.1592478,
                        "remaining_time": 227.2759221,
                        "test": [
                          0.002710874572
                        ]
                      },
                      {
                        "learn": [
                          0.001740188846
                        ],
                        "iteration": 752,
                        "passed_time": 690.0861527,
                        "remaining_time": 226.3629213,
                        "test": [
                          0.002710871465
                        ]
                      },
                      {
                        "learn": [
                          0.001740187242
                        ],
                        "iteration": 753,
                        "passed_time": 690.7641959,
                        "remaining_time": 225.3686899,
                        "test": [
                          0.002710861533
                        ]
                      },
                      {
                        "learn": [
                          0.001740180666
                        ],
                        "iteration": 754,
                        "passed_time": 691.9501807,
                        "remaining_time": 224.5401249,
                        "test": [
                          0.002710861261
                        ]
                      },
                      {
                        "learn": [
                          0.001740180161
                        ],
                        "iteration": 755,
                        "passed_time": 693.010957,
                        "remaining_time": 223.6702031,
                        "test": [
                          0.002710856456
                        ]
                      },
                      {
                        "learn": [
                          0.00173894692
                        ],
                        "iteration": 756,
                        "passed_time": 694.1391536,
                        "remaining_time": 222.8214192,
                        "test": [
                          0.002710365231
                        ]
                      },
                      {
                        "learn": [
                          0.00173894634
                        ],
                        "iteration": 757,
                        "passed_time": 695.0623273,
                        "remaining_time": 221.9064422,
                        "test": [
                          0.002710366631
                        ]
                      },
                      {
                        "learn": [
                          0.001738946188
                        ],
                        "iteration": 758,
                        "passed_time": 696.0047195,
                        "remaining_time": 220.997546,
                        "test": [
                          0.002710365683
                        ]
                      },
                      {
                        "learn": [
                          0.001738945576
                        ],
                        "iteration": 759,
                        "passed_time": 696.9910052,
                        "remaining_time": 220.1024227,
                        "test": [
                          0.002710361849
                        ]
                      },
                      {
                        "learn": [
                          0.001736706414
                        ],
                        "iteration": 760,
                        "passed_time": 697.9541485,
                        "remaining_time": 219.1997917,
                        "test": [
                          0.002709816725
                        ]
                      },
                      {
                        "learn": [
                          0.001736706281
                        ],
                        "iteration": 761,
                        "passed_time": 698.7443528,
                        "remaining_time": 218.2429868,
                        "test": [
                          0.002709816369
                        ]
                      },
                      {
                        "learn": [
                          0.001732677462
                        ],
                        "iteration": 762,
                        "passed_time": 699.9231967,
                        "remaining_time": 217.4073363,
                        "test": [
                          0.002704361467
                        ]
                      },
                      {
                        "learn": [
                          0.001730612743
                        ],
                        "iteration": 763,
                        "passed_time": 700.9436067,
                        "remaining_time": 216.5218471,
                        "test": [
                          0.002705002302
                        ]
                      },
                      {
                        "learn": [
                          0.001730611878
                        ],
                        "iteration": 764,
                        "passed_time": 701.5523748,
                        "remaining_time": 215.5095531,
                        "test": [
                          0.002704988211
                        ]
                      },
                      {
                        "learn": [
                          0.001719160796
                        ],
                        "iteration": 765,
                        "passed_time": 702.774399,
                        "remaining_time": 214.6856519,
                        "test": [
                          0.002690292057
                        ]
                      },
                      {
                        "learn": [
                          0.001719160626
                        ],
                        "iteration": 766,
                        "passed_time": 703.783026,
                        "remaining_time": 213.7958867,
                        "test": [
                          0.002690286267
                        ]
                      },
                      {
                        "learn": [
                          0.001715013831
                        ],
                        "iteration": 767,
                        "passed_time": 704.8212939,
                        "remaining_time": 212.9147659,
                        "test": [
                          0.00268678374
                        ]
                      },
                      {
                        "learn": [
                          0.001715009178
                        ],
                        "iteration": 768,
                        "passed_time": 705.944272,
                        "remaining_time": 212.0586825,
                        "test": [
                          0.002686779454
                        ]
                      },
                      {
                        "learn": [
                          0.001715008252
                        ],
                        "iteration": 769,
                        "passed_time": 706.9274116,
                        "remaining_time": 211.1601359,
                        "test": [
                          0.002686748697
                        ]
                      },
                      {
                        "learn": [
                          0.00171500563
                        ],
                        "iteration": 770,
                        "passed_time": 707.933017,
                        "remaining_time": 210.2680427,
                        "test": [
                          0.002686741225
                        ]
                      },
                      {
                        "learn": [
                          0.00171135083
                        ],
                        "iteration": 771,
                        "passed_time": 709.1136734,
                        "remaining_time": 209.4273543,
                        "test": [
                          0.002685253933
                        ]
                      },
                      {
                        "learn": [
                          0.001711349225
                        ],
                        "iteration": 772,
                        "passed_time": 710.1556134,
                        "remaining_time": 208.5450508,
                        "test": [
                          0.002685250796
                        ]
                      },
                      {
                        "learn": [
                          0.001711348851
                        ],
                        "iteration": 773,
                        "passed_time": 711.1586859,
                        "remaining_time": 207.6509858,
                        "test": [
                          0.002685238159
                        ]
                      },
                      {
                        "learn": [
                          0.001706892078
                        ],
                        "iteration": 774,
                        "passed_time": 712.354108,
                        "remaining_time": 206.812483,
                        "test": [
                          0.002685064155
                        ]
                      },
                      {
                        "learn": [
                          0.00170689138
                        ],
                        "iteration": 775,
                        "passed_time": 713.4733095,
                        "remaining_time": 205.9510584,
                        "test": [
                          0.002685060644
                        ]
                      },
                      {
                        "learn": [
                          0.001703089238
                        ],
                        "iteration": 776,
                        "passed_time": 714.6430069,
                        "remaining_time": 205.1034627,
                        "test": [
                          0.002680377326
                        ]
                      },
                      {
                        "learn": [
                          0.001686234796
                        ],
                        "iteration": 777,
                        "passed_time": 716.0357499,
                        "remaining_time": 204.3186844,
                        "test": [
                          0.002670425959
                        ]
                      },
                      {
                        "learn": [
                          0.001675247347
                        ],
                        "iteration": 778,
                        "passed_time": 717.1097943,
                        "remaining_time": 203.4419314,
                        "test": [
                          0.002673110181
                        ]
                      },
                      {
                        "learn": [
                          0.001665179945
                        ],
                        "iteration": 779,
                        "passed_time": 718.1872757,
                        "remaining_time": 202.5656419,
                        "test": [
                          0.002668799707
                        ]
                      },
                      {
                        "learn": [
                          0.001653043089
                        ],
                        "iteration": 780,
                        "passed_time": 719.3188131,
                        "remaining_time": 201.703995,
                        "test": [
                          0.002658205936
                        ]
                      },
                      {
                        "learn": [
                          0.001647832933
                        ],
                        "iteration": 781,
                        "passed_time": 720.3992535,
                        "remaining_time": 200.8274134,
                        "test": [
                          0.002655402689
                        ]
                      },
                      {
                        "learn": [
                          0.001643800561
                        ],
                        "iteration": 782,
                        "passed_time": 721.4461539,
                        "remaining_time": 199.9410158,
                        "test": [
                          0.002647762512
                        ]
                      },
                      {
                        "learn": [
                          0.001639997565
                        ],
                        "iteration": 783,
                        "passed_time": 722.5036134,
                        "remaining_time": 199.057118,
                        "test": [
                          0.002647173566
                        ]
                      },
                      {
                        "learn": [
                          0.001639994624
                        ],
                        "iteration": 784,
                        "passed_time": 723.3886468,
                        "remaining_time": 198.1255529,
                        "test": [
                          0.002647163439
                        ]
                      },
                      {
                        "learn": [
                          0.001622467879
                        ],
                        "iteration": 785,
                        "passed_time": 724.559259,
                        "remaining_time": 197.2718593,
                        "test": [
                          0.002637513396
                        ]
                      },
                      {
                        "learn": [
                          0.001620405121
                        ],
                        "iteration": 786,
                        "passed_time": 725.7566835,
                        "remaining_time": 196.424617,
                        "test": [
                          0.00263620336
                        ]
                      },
                      {
                        "learn": [
                          0.001620398887
                        ],
                        "iteration": 787,
                        "passed_time": 726.6718249,
                        "remaining_time": 195.5005417,
                        "test": [
                          0.002636191394
                        ]
                      },
                      {
                        "learn": [
                          0.001615969817
                        ],
                        "iteration": 788,
                        "passed_time": 727.9364034,
                        "remaining_time": 194.669938,
                        "test": [
                          0.002637812168
                        ]
                      },
                      {
                        "learn": [
                          0.001615969278
                        ],
                        "iteration": 789,
                        "passed_time": 728.9544847,
                        "remaining_time": 193.7727111,
                        "test": [
                          0.002637807647
                        ]
                      },
                      {
                        "learn": [
                          0.001615966896
                        ],
                        "iteration": 790,
                        "passed_time": 729.9047504,
                        "remaining_time": 192.8572602,
                        "test": [
                          0.002637771942
                        ]
                      },
                      {
                        "learn": [
                          0.001615965478
                        ],
                        "iteration": 791,
                        "passed_time": 730.597467,
                        "remaining_time": 191.8740822,
                        "test": [
                          0.002637759145
                        ]
                      },
                      {
                        "learn": [
                          0.001615961259
                        ],
                        "iteration": 792,
                        "passed_time": 731.5856466,
                        "remaining_time": 190.9687627,
                        "test": [
                          0.002637729486
                        ]
                      },
                      {
                        "learn": [
                          0.001615259918
                        ],
                        "iteration": 793,
                        "passed_time": 732.6069565,
                        "remaining_time": 190.07183,
                        "test": [
                          0.002637398855
                        ]
                      },
                      {
                        "learn": [
                          0.001615256902
                        ],
                        "iteration": 794,
                        "passed_time": 733.8158553,
                        "remaining_time": 189.2229564,
                        "test": [
                          0.002637395869
                        ]
                      },
                      {
                        "learn": [
                          0.001615255221
                        ],
                        "iteration": 795,
                        "passed_time": 734.8787848,
                        "remaining_time": 188.335769,
                        "test": [
                          0.002637365306
                        ]
                      },
                      {
                        "learn": [
                          0.001615253358
                        ],
                        "iteration": 796,
                        "passed_time": 735.9895187,
                        "remaining_time": 187.4603165,
                        "test": [
                          0.002637363872
                        ]
                      },
                      {
                        "learn": [
                          0.001614302647
                        ],
                        "iteration": 797,
                        "passed_time": 737.0733674,
                        "remaining_time": 186.5774689,
                        "test": [
                          0.002636432491
                        ]
                      },
                      {
                        "learn": [
                          0.001614302096
                        ],
                        "iteration": 798,
                        "passed_time": 738.110182,
                        "remaining_time": 185.6822861,
                        "test": [
                          0.002636431411
                        ]
                      },
                      {
                        "learn": [
                          0.001610132983
                        ],
                        "iteration": 799,
                        "passed_time": 739.4000957,
                        "remaining_time": 184.8500239,
                        "test": [
                          0.002631470081
                        ]
                      },
                      {
                        "learn": [
                          0.001610132543
                        ],
                        "iteration": 800,
                        "passed_time": 740.3944757,
                        "remaining_time": 183.9431968,
                        "test": [
                          0.002631459711
                        ]
                      },
                      {
                        "learn": [
                          0.001610131733
                        ],
                        "iteration": 801,
                        "passed_time": 741.4904843,
                        "remaining_time": 183.0612417,
                        "test": [
                          0.002631447123
                        ]
                      },
                      {
                        "learn": [
                          0.001608002096
                        ],
                        "iteration": 802,
                        "passed_time": 742.5533027,
                        "remaining_time": 182.170611,
                        "test": [
                          0.002632500298
                        ]
                      },
                      {
                        "learn": [
                          0.001607978344
                        ],
                        "iteration": 803,
                        "passed_time": 743.7612478,
                        "remaining_time": 181.314931,
                        "test": [
                          0.002632477627
                        ]
                      },
                      {
                        "learn": [
                          0.001607974755
                        ],
                        "iteration": 804,
                        "passed_time": 744.3637865,
                        "remaining_time": 180.3117247,
                        "test": [
                          0.002632421466
                        ]
                      },
                      {
                        "learn": [
                          0.001607973401
                        ],
                        "iteration": 805,
                        "passed_time": 745.4327923,
                        "remaining_time": 179.4217887,
                        "test": [
                          0.00263239958
                        ]
                      },
                      {
                        "learn": [
                          0.001607972317
                        ],
                        "iteration": 806,
                        "passed_time": 746.0578205,
                        "remaining_time": 178.4252285,
                        "test": [
                          0.002632378002
                        ]
                      },
                      {
                        "learn": [
                          0.001607963732
                        ],
                        "iteration": 807,
                        "passed_time": 747.0512723,
                        "remaining_time": 177.517134,
                        "test": [
                          0.002632377379
                        ]
                      },
                      {
                        "learn": [
                          0.001589433017
                        ],
                        "iteration": 808,
                        "passed_time": 748.1709172,
                        "remaining_time": 176.638622,
                        "test": [
                          0.002620299277
                        ]
                      },
                      {
                        "learn": [
                          0.001581975808
                        ],
                        "iteration": 809,
                        "passed_time": 749.4748641,
                        "remaining_time": 175.8027459,
                        "test": [
                          0.002610171881
                        ]
                      },
                      {
                        "learn": [
                          0.001581964607
                        ],
                        "iteration": 810,
                        "passed_time": 750.4816425,
                        "remaining_time": 174.8964617,
                        "test": [
                          0.002610151123
                        ]
                      },
                      {
                        "learn": [
                          0.001576246395
                        ],
                        "iteration": 811,
                        "passed_time": 751.5989833,
                        "remaining_time": 174.0155282,
                        "test": [
                          0.002606111877
                        ]
                      },
                      {
                        "learn": [
                          0.001576245863
                        ],
                        "iteration": 812,
                        "passed_time": 752.619731,
                        "remaining_time": 173.1117954,
                        "test": [
                          0.002606102881
                        ]
                      },
                      {
                        "learn": [
                          0.001576240531
                        ],
                        "iteration": 813,
                        "passed_time": 753.7271938,
                        "remaining_time": 172.2275897,
                        "test": [
                          0.00260609685
                        ]
                      },
                      {
                        "learn": [
                          0.001576235216
                        ],
                        "iteration": 814,
                        "passed_time": 754.808383,
                        "remaining_time": 171.3368722,
                        "test": [
                          0.002606090848
                        ]
                      },
                      {
                        "learn": [
                          0.001570861162
                        ],
                        "iteration": 815,
                        "passed_time": 756.046018,
                        "remaining_time": 170.4809649,
                        "test": [
                          0.002599397341
                        ]
                      },
                      {
                        "learn": [
                          0.001566024795
                        ],
                        "iteration": 816,
                        "passed_time": 757.2065702,
                        "remaining_time": 169.6068572,
                        "test": [
                          0.002595106546
                        ]
                      },
                      {
                        "learn": [
                          0.001566022676
                        ],
                        "iteration": 817,
                        "passed_time": 758.2029556,
                        "remaining_time": 168.6955231,
                        "test": [
                          0.002595070687
                        ]
                      },
                      {
                        "learn": [
                          0.001561887036
                        ],
                        "iteration": 818,
                        "passed_time": 759.2441386,
                        "remaining_time": 167.7938817,
                        "test": [
                          0.00259547531
                        ]
                      },
                      {
                        "learn": [
                          0.001561886629
                        ],
                        "iteration": 819,
                        "passed_time": 760.3522886,
                        "remaining_time": 166.9065999,
                        "test": [
                          0.002595468828
                        ]
                      },
                      {
                        "learn": [
                          0.001560753705
                        ],
                        "iteration": 820,
                        "passed_time": 761.4039315,
                        "remaining_time": 166.0064601,
                        "test": [
                          0.002594722375
                        ]
                      },
                      {
                        "learn": [
                          0.001560751397
                        ],
                        "iteration": 821,
                        "passed_time": 762.3648874,
                        "remaining_time": 165.0863138,
                        "test": [
                          0.002594704023
                        ]
                      },
                      {
                        "learn": [
                          0.001560750545
                        ],
                        "iteration": 822,
                        "passed_time": 762.8826728,
                        "remaining_time": 164.0707571,
                        "test": [
                          0.002594697673
                        ]
                      },
                      {
                        "learn": [
                          0.001560086558
                        ],
                        "iteration": 823,
                        "passed_time": 763.886113,
                        "remaining_time": 163.1601406,
                        "test": [
                          0.002594437819
                        ]
                      },
                      {
                        "learn": [
                          0.001560084288
                        ],
                        "iteration": 824,
                        "passed_time": 765.043335,
                        "remaining_time": 162.2819195,
                        "test": [
                          0.00259443625
                        ]
                      },
                      {
                        "learn": [
                          0.001560084288
                        ],
                        "iteration": 825,
                        "passed_time": 766.0644341,
                        "remaining_time": 161.3743481,
                        "test": [
                          0.00259443625
                        ]
                      },
                      {
                        "learn": [
                          0.001560082026
                        ],
                        "iteration": 826,
                        "passed_time": 767.2283695,
                        "remaining_time": 160.496382,
                        "test": [
                          0.00259443454
                        ]
                      },
                      {
                        "learn": [
                          0.001560073094
                        ],
                        "iteration": 827,
                        "passed_time": 768.264519,
                        "remaining_time": 159.5911803,
                        "test": [
                          0.002594427181
                        ]
                      },
                      {
                        "learn": [
                          0.001559252509
                        ],
                        "iteration": 828,
                        "passed_time": 769.2938946,
                        "remaining_time": 158.6842653,
                        "test": [
                          0.002594071709
                        ]
                      },
                      {
                        "learn": [
                          0.001559237063
                        ],
                        "iteration": 829,
                        "passed_time": 770.1433973,
                        "remaining_time": 157.7402139,
                        "test": [
                          0.002594030041
                        ]
                      },
                      {
                        "learn": [
                          0.001559236363
                        ],
                        "iteration": 830,
                        "passed_time": 771.2256715,
                        "remaining_time": 156.8437286,
                        "test": [
                          0.002594027731
                        ]
                      },
                      {
                        "learn": [
                          0.001559235246
                        ],
                        "iteration": 831,
                        "passed_time": 772.2693891,
                        "remaining_time": 155.9390113,
                        "test": [
                          0.002594004662
                        ]
                      },
                      {
                        "learn": [
                          0.001559235246
                        ],
                        "iteration": 832,
                        "passed_time": 773.4040939,
                        "remaining_time": 155.0522013,
                        "test": [
                          0.002594004662
                        ]
                      },
                      {
                        "learn": [
                          0.001559234694
                        ],
                        "iteration": 833,
                        "passed_time": 774.40446,
                        "remaining_time": 154.138058,
                        "test": [
                          0.002593993231
                        ]
                      },
                      {
                        "learn": [
                          0.001559234146
                        ],
                        "iteration": 834,
                        "passed_time": 774.8614207,
                        "remaining_time": 153.1163286,
                        "test": [
                          0.00259398185
                        ]
                      },
                      {
                        "learn": [
                          0.0015592161
                        ],
                        "iteration": 835,
                        "passed_time": 776.0914969,
                        "remaining_time": 152.2476142,
                        "test": [
                          0.002593969585
                        ]
                      },
                      {
                        "learn": [
                          0.001559207228
                        ],
                        "iteration": 836,
                        "passed_time": 777.1573214,
                        "remaining_time": 151.3460494,
                        "test": [
                          0.002593962966
                        ]
                      },
                      {
                        "learn": [
                          0.001559205705
                        ],
                        "iteration": 837,
                        "passed_time": 777.7751879,
                        "remaining_time": 150.3574946,
                        "test": [
                          0.002593953352
                        ]
                      },
                      {
                        "learn": [
                          0.00155920562
                        ],
                        "iteration": 838,
                        "passed_time": 778.620928,
                        "remaining_time": 149.4135511,
                        "test": [
                          0.002593951877
                        ]
                      },
                      {
                        "learn": [
                          0.001559204503
                        ],
                        "iteration": 839,
                        "passed_time": 779.7769179,
                        "remaining_time": 148.5289367,
                        "test": [
                          0.002593951124
                        ]
                      },
                      {
                        "learn": [
                          0.001559204368
                        ],
                        "iteration": 840,
                        "passed_time": 780.4267632,
                        "remaining_time": 147.547985,
                        "test": [
                          0.002593948316
                        ]
                      },
                      {
                        "learn": [
                          0.001558571613
                        ],
                        "iteration": 841,
                        "passed_time": 781.4464068,
                        "remaining_time": 146.6372117,
                        "test": [
                          0.002593756191
                        ]
                      },
                      {
                        "learn": [
                          0.001558568648
                        ],
                        "iteration": 842,
                        "passed_time": 782.320563,
                        "remaining_time": 145.6990847,
                        "test": [
                          0.002593704457
                        ]
                      },
                      {
                        "learn": [
                          0.001558559779
                        ],
                        "iteration": 843,
                        "passed_time": 783.3606768,
                        "remaining_time": 144.7917839,
                        "test": [
                          0.002593698444
                        ]
                      },
                      {
                        "learn": [
                          0.001558541937
                        ],
                        "iteration": 844,
                        "passed_time": 784.5103054,
                        "remaining_time": 143.9042572,
                        "test": [
                          0.002593687612
                        ]
                      },
                      {
                        "learn": [
                          0.001558532157
                        ],
                        "iteration": 845,
                        "passed_time": 785.649522,
                        "remaining_time": 143.0142156,
                        "test": [
                          0.002593685967
                        ]
                      },
                      {
                        "learn": [
                          0.001558522412
                        ],
                        "iteration": 846,
                        "passed_time": 786.82713,
                        "remaining_time": 142.1305205,
                        "test": [
                          0.002593684358
                        ]
                      },
                      {
                        "learn": [
                          0.001558521242
                        ],
                        "iteration": 847,
                        "passed_time": 787.3023978,
                        "remaining_time": 141.1202411,
                        "test": [
                          0.002593663702
                        ]
                      },
                      {
                        "learn": [
                          0.001558503654
                        ],
                        "iteration": 848,
                        "passed_time": 788.4585211,
                        "remaining_time": 140.2323165,
                        "test": [
                          0.002593653222
                        ]
                      },
                      {
                        "learn": [
                          0.001558468783
                        ],
                        "iteration": 849,
                        "passed_time": 789.6131613,
                        "remaining_time": 139.343499,
                        "test": [
                          0.002593632607
                        ]
                      },
                      {
                        "learn": [
                          0.001558468681
                        ],
                        "iteration": 850,
                        "passed_time": 790.3002749,
                        "remaining_time": 138.3721985,
                        "test": [
                          0.002593632106
                        ]
                      },
                      {
                        "learn": [
                          0.001558464371
                        ],
                        "iteration": 851,
                        "passed_time": 791.4533614,
                        "remaining_time": 137.4825088,
                        "test": [
                          0.002593629576
                        ]
                      },
                      {
                        "learn": [
                          0.001558112671
                        ],
                        "iteration": 852,
                        "passed_time": 792.4376409,
                        "remaining_time": 136.5631104,
                        "test": [
                          0.002593568918
                        ]
                      },
                      {
                        "learn": [
                          0.001558104051
                        ],
                        "iteration": 853,
                        "passed_time": 793.6009894,
                        "remaining_time": 135.6741738,
                        "test": [
                          0.002593564768
                        ]
                      },
                      {
                        "learn": [
                          0.001558103787
                        ],
                        "iteration": 854,
                        "passed_time": 794.5240833,
                        "remaining_time": 134.7438504,
                        "test": [
                          0.002593560098
                        ]
                      },
                      {
                        "learn": [
                          0.001558093495
                        ],
                        "iteration": 855,
                        "passed_time": 795.5152554,
                        "remaining_time": 133.8249962,
                        "test": [
                          0.00259355953
                        ]
                      },
                      {
                        "learn": [
                          0.001558076394
                        ],
                        "iteration": 856,
                        "passed_time": 796.6982457,
                        "remaining_time": 132.9379803,
                        "test": [
                          0.002593551381
                        ]
                      },
                      {
                        "learn": [
                          0.001558059411
                        ],
                        "iteration": 857,
                        "passed_time": 797.8859791,
                        "remaining_time": 132.0510595,
                        "test": [
                          0.002593543357
                        ]
                      },
                      {
                        "learn": [
                          0.001558054259
                        ],
                        "iteration": 858,
                        "passed_time": 798.8006999,
                        "remaining_time": 131.1186248,
                        "test": [
                          0.002593545016
                        ]
                      },
                      {
                        "learn": [
                          0.00155804592
                        ],
                        "iteration": 859,
                        "passed_time": 799.787337,
                        "remaining_time": 130.1979386,
                        "test": [
                          0.002593539909
                        ]
                      },
                      {
                        "learn": [
                          0.001558025707
                        ],
                        "iteration": 860,
                        "passed_time": 800.8113444,
                        "remaining_time": 129.2831323,
                        "test": [
                          0.002593539112
                        ]
                      },
                      {
                        "learn": [
                          0.001558024131
                        ],
                        "iteration": 861,
                        "passed_time": 801.8349595,
                        "remaining_time": 128.3680098,
                        "test": [
                          0.002593548217
                        ]
                      },
                      {
                        "learn": [
                          0.001558019949
                        ],
                        "iteration": 862,
                        "passed_time": 802.9886403,
                        "remaining_time": 127.4732836,
                        "test": [
                          0.002593546277
                        ]
                      },
                      {
                        "learn": [
                          0.001558015775
                        ],
                        "iteration": 863,
                        "passed_time": 804.178025,
                        "remaining_time": 126.583578,
                        "test": [
                          0.002593544344
                        ]
                      },
                      {
                        "learn": [
                          0.001558014302
                        ],
                        "iteration": 864,
                        "passed_time": 805.0935824,
                        "remaining_time": 125.6504435,
                        "test": [
                          0.002593491851
                        ]
                      },
                      {
                        "learn": [
                          0.001557590279
                        ],
                        "iteration": 865,
                        "passed_time": 806.1034401,
                        "remaining_time": 124.7319411,
                        "test": [
                          0.002593435285
                        ]
                      },
                      {
                        "learn": [
                          0.001557581049
                        ],
                        "iteration": 866,
                        "passed_time": 807.2428674,
                        "remaining_time": 123.8331042,
                        "test": [
                          0.002593434895
                        ]
                      },
                      {
                        "learn": [
                          0.00155758073
                        ],
                        "iteration": 867,
                        "passed_time": 808.2465863,
                        "remaining_time": 122.9130753,
                        "test": [
                          0.002593422783
                        ]
                      },
                      {
                        "learn": [
                          0.001557580255
                        ],
                        "iteration": 868,
                        "passed_time": 809.1722983,
                        "remaining_time": 121.9810944,
                        "test": [
                          0.002593414605
                        ]
                      },
                      {
                        "learn": [
                          0.0015575636
                        ],
                        "iteration": 869,
                        "passed_time": 810.3123614,
                        "remaining_time": 121.0811574,
                        "test": [
                          0.002593407793
                        ]
                      },
                      {
                        "learn": [
                          0.001557562657
                        ],
                        "iteration": 870,
                        "passed_time": 810.784233,
                        "remaining_time": 120.0817062,
                        "test": [
                          0.002593391538
                        ]
                      },
                      {
                        "learn": [
                          0.001557554488
                        ],
                        "iteration": 871,
                        "passed_time": 811.8063495,
                        "remaining_time": 119.1642348,
                        "test": [
                          0.002593387072
                        ]
                      },
                      {
                        "learn": [
                          0.001557550363
                        ],
                        "iteration": 872,
                        "passed_time": 812.9605496,
                        "remaining_time": 118.2657386,
                        "test": [
                          0.002593385417
                        ]
                      },
                      {
                        "learn": [
                          0.001557550172
                        ],
                        "iteration": 873,
                        "passed_time": 814.0322118,
                        "remaining_time": 117.3547582,
                        "test": [
                          0.002593386688
                        ]
                      },
                      {
                        "learn": [
                          0.001557546107
                        ],
                        "iteration": 874,
                        "passed_time": 815.0531006,
                        "remaining_time": 116.4361572,
                        "test": [
                          0.002593384474
                        ]
                      },
                      {
                        "learn": [
                          0.001557537889
                        ],
                        "iteration": 875,
                        "passed_time": 816.2018075,
                        "remaining_time": 115.5354157,
                        "test": [
                          0.002593381203
                        ]
                      },
                      {
                        "learn": [
                          0.0015575297
                        ],
                        "iteration": 876,
                        "passed_time": 817.4097443,
                        "remaining_time": 114.6424157,
                        "test": [
                          0.002593377959
                        ]
                      },
                      {
                        "learn": [
                          0.0015575271
                        ],
                        "iteration": 877,
                        "passed_time": 818.5678984,
                        "remaining_time": 113.7417809,
                        "test": [
                          0.002593378453
                        ]
                      },
                      {
                        "learn": [
                          0.001557524828
                        ],
                        "iteration": 878,
                        "passed_time": 819.0828995,
                        "remaining_time": 112.752026,
                        "test": [
                          0.002593339326
                        ]
                      },
                      {
                        "learn": [
                          0.00155752424
                        ],
                        "iteration": 879,
                        "passed_time": 819.9349366,
                        "remaining_time": 111.8093095,
                        "test": [
                          0.002593316505
                        ]
                      },
                      {
                        "learn": [
                          0.001557523796
                        ],
                        "iteration": 880,
                        "passed_time": 820.962451,
                        "remaining_time": 110.8905013,
                        "test": [
                          0.002593308939
                        ]
                      },
                      {
                        "learn": [
                          0.001557515646
                        ],
                        "iteration": 881,
                        "passed_time": 822.1013359,
                        "remaining_time": 109.9863465,
                        "test": [
                          0.002593305867
                        ]
                      },
                      {
                        "learn": [
                          0.001557507526
                        ],
                        "iteration": 882,
                        "passed_time": 823.2417926,
                        "remaining_time": 109.0818683,
                        "test": [
                          0.002593302818
                        ]
                      },
                      {
                        "learn": [
                          0.001557488713
                        ],
                        "iteration": 883,
                        "passed_time": 824.3805794,
                        "remaining_time": 108.1766371,
                        "test": [
                          0.002593301321
                        ]
                      },
                      {
                        "learn": [
                          0.00155748259
                        ],
                        "iteration": 884,
                        "passed_time": 825.4587845,
                        "remaining_time": 107.2630059,
                        "test": [
                          0.002593341832
                        ]
                      },
                      {
                        "learn": [
                          0.001557474657
                        ],
                        "iteration": 885,
                        "passed_time": 826.4863743,
                        "remaining_time": 106.3424906,
                        "test": [
                          0.002593337776
                        ]
                      },
                      {
                        "learn": [
                          0.001557470651
                        ],
                        "iteration": 886,
                        "passed_time": 827.6339521,
                        "remaining_time": 105.4370198,
                        "test": [
                          0.002593336326
                        ]
                      },
                      {
                        "learn": [
                          0.001557470213
                        ],
                        "iteration": 887,
                        "passed_time": 828.2529835,
                        "remaining_time": 104.4643403,
                        "test": [
                          0.002593328746
                        ]
                      },
                      {
                        "learn": [
                          0.001557468217
                        ],
                        "iteration": 888,
                        "passed_time": 829.2624285,
                        "remaining_time": 103.5412031,
                        "test": [
                          0.002593252964
                        ]
                      },
                      {
                        "learn": [
                          0.001557466515
                        ],
                        "iteration": 889,
                        "passed_time": 830.3226234,
                        "remaining_time": 102.6241445,
                        "test": [
                          0.002593225259
                        ]
                      },
                      {
                        "learn": [
                          0.001557464898
                        ],
                        "iteration": 890,
                        "passed_time": 830.8469512,
                        "remaining_time": 101.6412095,
                        "test": [
                          0.002593197778
                        ]
                      },
                      {
                        "learn": [
                          0.001557451374
                        ],
                        "iteration": 891,
                        "passed_time": 832.0801659,
                        "remaining_time": 100.7451322,
                        "test": [
                          0.002593170051
                        ]
                      },
                      {
                        "learn": [
                          0.001557443386
                        ],
                        "iteration": 892,
                        "passed_time": 833.2520973,
                        "remaining_time": 99.84095679,
                        "test": [
                          0.002593167455
                        ]
                      },
                      {
                        "learn": [
                          0.001557435529
                        ],
                        "iteration": 893,
                        "passed_time": 834.2831883,
                        "remaining_time": 98.91948317,
                        "test": [
                          0.002593163747
                        ]
                      },
                      {
                        "learn": [
                          0.001557428785
                        ],
                        "iteration": 894,
                        "passed_time": 835.3671679,
                        "remaining_time": 98.00396941,
                        "test": [
                          0.00259314992
                        ]
                      },
                      {
                        "learn": [
                          0.001557427255
                        ],
                        "iteration": 895,
                        "passed_time": 836.3541723,
                        "remaining_time": 97.07682356,
                        "test": [
                          0.002593134273
                        ]
                      },
                      {
                        "learn": [
                          0.001557411607
                        ],
                        "iteration": 896,
                        "passed_time": 837.4033825,
                        "remaining_time": 96.15668718,
                        "test": [
                          0.002593126954
                        ]
                      },
                      {
                        "learn": [
                          0.001557410802
                        ],
                        "iteration": 897,
                        "passed_time": 838.3369356,
                        "remaining_time": 95.22312632,
                        "test": [
                          0.002593113131
                        ]
                      },
                      {
                        "learn": [
                          0.001557410772
                        ],
                        "iteration": 898,
                        "passed_time": 839.5681173,
                        "remaining_time": 94.32300316,
                        "test": [
                          0.002593111943
                        ]
                      },
                      {
                        "learn": [
                          0.001557410583
                        ],
                        "iteration": 899,
                        "passed_time": 841.2697647,
                        "remaining_time": 93.4744183,
                        "test": [
                          0.00259311002
                        ]
                      },
                      {
                        "learn": [
                          0.001557410492
                        ],
                        "iteration": 900,
                        "passed_time": 842.3389691,
                        "remaining_time": 92.55444833,
                        "test": [
                          0.002593110709
                        ]
                      },
                      {
                        "learn": [
                          0.001557394955
                        ],
                        "iteration": 901,
                        "passed_time": 843.3792735,
                        "remaining_time": 91.63100754,
                        "test": [
                          0.002593103557
                        ]
                      },
                      {
                        "learn": [
                          0.001557394199
                        ],
                        "iteration": 902,
                        "passed_time": 844.3659359,
                        "remaining_time": 90.70154571,
                        "test": [
                          0.002593095873
                        ]
                      },
                      {
                        "learn": [
                          0.001557394182
                        ],
                        "iteration": 903,
                        "passed_time": 845.4188367,
                        "remaining_time": 89.77899151,
                        "test": [
                          0.00259309548
                        ]
                      },
                      {
                        "learn": [
                          0.001557378548
                        ],
                        "iteration": 904,
                        "passed_time": 846.5835256,
                        "remaining_time": 88.86788391,
                        "test": [
                          0.002593090718
                        ]
                      },
                      {
                        "learn": [
                          0.001557377975
                        ],
                        "iteration": 905,
                        "passed_time": 847.4848553,
                        "remaining_time": 87.92889227,
                        "test": [
                          0.002593067782
                        ]
                      },
                      {
                        "learn": [
                          0.001557368546
                        ],
                        "iteration": 906,
                        "passed_time": 848.5053885,
                        "remaining_time": 87.00220632,
                        "test": [
                          0.002593068972
                        ]
                      },
                      {
                        "learn": [
                          0.00155736835
                        ],
                        "iteration": 907,
                        "passed_time": 849.455915,
                        "remaining_time": 86.06822046,
                        "test": [
                          0.002593065622
                        ]
                      },
                      {
                        "learn": [
                          0.001557366075
                        ],
                        "iteration": 908,
                        "passed_time": 849.9093472,
                        "remaining_time": 85.0844341,
                        "test": [
                          0.002593027176
                        ]
                      },
                      {
                        "learn": [
                          0.001557362709
                        ],
                        "iteration": 909,
                        "passed_time": 851.0178965,
                        "remaining_time": 84.16660515,
                        "test": [
                          0.002593020322
                        ]
                      },
                      {
                        "learn": [
                          0.00155735801
                        ],
                        "iteration": 910,
                        "passed_time": 852.0359413,
                        "remaining_time": 83.23951567,
                        "test": [
                          0.002593020965
                        ]
                      },
                      {
                        "learn": [
                          0.001557357252
                        ],
                        "iteration": 911,
                        "passed_time": 852.5073419,
                        "remaining_time": 82.25948036,
                        "test": [
                          0.002593007938
                        ]
                      },
                      {
                        "learn": [
                          0.001557353439
                        ],
                        "iteration": 912,
                        "passed_time": 853.5529933,
                        "remaining_time": 81.33527975,
                        "test": [
                          0.002593006291
                        ]
                      },
                      {
                        "learn": [
                          0.001557353439
                        ],
                        "iteration": 913,
                        "passed_time": 854.6030258,
                        "remaining_time": 80.41122562,
                        "test": [
                          0.002593006291
                        ]
                      },
                      {
                        "learn": [
                          0.001557347356
                        ],
                        "iteration": 914,
                        "passed_time": 855.5962991,
                        "remaining_time": 79.48162342,
                        "test": [
                          0.002593011697
                        ]
                      },
                      {
                        "learn": [
                          0.001557342894
                        ],
                        "iteration": 915,
                        "passed_time": 856.6599677,
                        "remaining_time": 78.55833765,
                        "test": [
                          0.002593002322
                        ]
                      },
                      {
                        "learn": [
                          0.001557339049
                        ],
                        "iteration": 916,
                        "passed_time": 857.8087233,
                        "remaining_time": 77.64244715,
                        "test": [
                          0.002593000968
                        ]
                      },
                      {
                        "learn": [
                          0.001557338674
                        ],
                        "iteration": 917,
                        "passed_time": 858.8030131,
                        "remaining_time": 76.71225172,
                        "test": [
                          0.00259299452
                        ]
                      },
                      {
                        "learn": [
                          0.001557330999
                        ],
                        "iteration": 918,
                        "passed_time": 859.9740623,
                        "remaining_time": 75.79749625,
                        "test": [
                          0.002592991845
                        ]
                      },
                      {
                        "learn": [
                          0.001557326336
                        ],
                        "iteration": 919,
                        "passed_time": 861.0068808,
                        "remaining_time": 74.87016355,
                        "test": [
                          0.002592992536
                        ]
                      },
                      {
                        "learn": [
                          0.001557323492
                        ],
                        "iteration": 920,
                        "passed_time": 861.476907,
                        "remaining_time": 73.89432752,
                        "test": [
                          0.002592944412
                        ]
                      },
                      {
                        "learn": [
                          0.001557321583
                        ],
                        "iteration": 921,
                        "passed_time": 862.6418546,
                        "remaining_time": 72.97837816,
                        "test": [
                          0.002592943773
                        ]
                      },
                      {
                        "learn": [
                          0.001557246934
                        ],
                        "iteration": 922,
                        "passed_time": 863.5290294,
                        "remaining_time": 72.03871643,
                        "test": [
                          0.002593034916
                        ]
                      },
                      {
                        "learn": [
                          0.001557230869
                        ],
                        "iteration": 923,
                        "passed_time": 864.3882914,
                        "remaining_time": 71.09687245,
                        "test": [
                          0.002593028919
                        ]
                      },
                      {
                        "learn": [
                          0.001557229432
                        ],
                        "iteration": 924,
                        "passed_time": 865.4768745,
                        "remaining_time": 70.17380064,
                        "test": [
                          0.002593040703
                        ]
                      },
                      {
                        "learn": [
                          0.001557221857
                        ],
                        "iteration": 925,
                        "passed_time": 866.6244846,
                        "remaining_time": 69.25508841,
                        "test": [
                          0.002593038302
                        ]
                      },
                      {
                        "learn": [
                          0.001557206772
                        ],
                        "iteration": 926,
                        "passed_time": 867.7768426,
                        "remaining_time": 68.33625621,
                        "test": [
                          0.002593033557
                        ]
                      },
                      {
                        "learn": [
                          0.001557202591
                        ],
                        "iteration": 927,
                        "passed_time": 868.9172108,
                        "remaining_time": 67.41599049,
                        "test": [
                          0.002593034181
                        ]
                      },
                      {
                        "learn": [
                          0.001557201195
                        ],
                        "iteration": 928,
                        "passed_time": 869.7925565,
                        "remaining_time": 66.47499624,
                        "test": [
                          0.002593043628
                        ]
                      },
                      {
                        "learn": [
                          0.00155719973
                        ],
                        "iteration": 929,
                        "passed_time": 870.6036922,
                        "remaining_time": 65.52931017,
                        "test": [
                          0.002593029989
                        ]
                      },
                      {
                        "learn": [
                          0.001557198585
                        ],
                        "iteration": 930,
                        "passed_time": 871.5730582,
                        "remaining_time": 64.59564019,
                        "test": [
                          0.002593030202
                        ]
                      },
                      {
                        "learn": [
                          0.001557191103
                        ],
                        "iteration": 931,
                        "passed_time": 872.8254006,
                        "remaining_time": 63.68253996,
                        "test": [
                          0.002593027897
                        ]
                      },
                      {
                        "learn": [
                          0.001557174921
                        ],
                        "iteration": 932,
                        "passed_time": 873.8484282,
                        "remaining_time": 62.75224511,
                        "test": [
                          0.002593020252
                        ]
                      },
                      {
                        "learn": [
                          0.00155716361
                        ],
                        "iteration": 933,
                        "passed_time": 874.7783639,
                        "remaining_time": 61.81517347,
                        "test": [
                          0.002593019637
                        ]
                      },
                      {
                        "learn": [
                          0.001557163371
                        ],
                        "iteration": 934,
                        "passed_time": 875.8002926,
                        "remaining_time": 60.88451232,
                        "test": [
                          0.002593014272
                        ]
                      },
                      {
                        "learn": [
                          0.00155716054
                        ],
                        "iteration": 935,
                        "passed_time": 876.8837981,
                        "remaining_time": 59.95786654,
                        "test": [
                          0.002593037865
                        ]
                      },
                      {
                        "learn": [
                          0.001557160452
                        ],
                        "iteration": 936,
                        "passed_time": 877.4450747,
                        "remaining_time": 58.99577344,
                        "test": [
                          0.002593036408
                        ]
                      },
                      {
                        "learn": [
                          0.001557159979
                        ],
                        "iteration": 937,
                        "passed_time": 878.3804654,
                        "remaining_time": 58.05926317,
                        "test": [
                          0.002593025811
                        ]
                      },
                      {
                        "learn": [
                          0.001557159748
                        ],
                        "iteration": 938,
                        "passed_time": 879.334222,
                        "remaining_time": 57.12394839,
                        "test": [
                          0.002593025341
                        ]
                      },
                      {
                        "learn": [
                          0.001557151703
                        ],
                        "iteration": 939,
                        "passed_time": 880.3831366,
                        "remaining_time": 56.19466829,
                        "test": [
                          0.00259302161
                        ]
                      },
                      {
                        "learn": [
                          0.001555132302
                        ],
                        "iteration": 940,
                        "passed_time": 881.4193713,
                        "remaining_time": 55.2643389,
                        "test": [
                          0.002591448347
                        ]
                      },
                      {
                        "learn": [
                          0.001555128167
                        ],
                        "iteration": 941,
                        "passed_time": 882.4361001,
                        "remaining_time": 54.33258366,
                        "test": [
                          0.002591447306
                        ]
                      },
                      {
                        "learn": [
                          0.001555126765
                        ],
                        "iteration": 942,
                        "passed_time": 883.4339915,
                        "remaining_time": 53.39950956,
                        "test": [
                          0.002591434153
                        ]
                      },
                      {
                        "learn": [
                          0.001555125394
                        ],
                        "iteration": 943,
                        "passed_time": 884.4126722,
                        "remaining_time": 52.46515852,
                        "test": [
                          0.002591411228
                        ]
                      },
                      {
                        "learn": [
                          0.001555125057
                        ],
                        "iteration": 944,
                        "passed_time": 884.8694563,
                        "remaining_time": 51.50033873,
                        "test": [
                          0.002591405597
                        ]
                      },
                      {
                        "learn": [
                          0.001555124194
                        ],
                        "iteration": 945,
                        "passed_time": 885.8030387,
                        "remaining_time": 50.56380982,
                        "test": [
                          0.002591371615
                        ]
                      },
                      {
                        "learn": [
                          0.001555122784
                        ],
                        "iteration": 946,
                        "passed_time": 886.9018871,
                        "remaining_time": 49.63653645,
                        "test": [
                          0.002591383671
                        ]
                      },
                      {
                        "learn": [
                          0.001555121384
                        ],
                        "iteration": 947,
                        "passed_time": 888.02002,
                        "remaining_time": 48.7099589,
                        "test": [
                          0.002591395698
                        ]
                      },
                      {
                        "learn": [
                          0.001555117917
                        ],
                        "iteration": 948,
                        "passed_time": 889.0254773,
                        "remaining_time": 47.77692239,
                        "test": [
                          0.002591388418
                        ]
                      },
                      {
                        "learn": [
                          0.001555103385
                        ],
                        "iteration": 949,
                        "passed_time": 890.2109572,
                        "remaining_time": 46.85320827,
                        "test": [
                          0.002591386061
                        ]
                      },
                      {
                        "learn": [
                          0.00155510334
                        ],
                        "iteration": 950,
                        "passed_time": 891.164574,
                        "remaining_time": 45.91699698,
                        "test": [
                          0.00259138436
                        ]
                      },
                      {
                        "learn": [
                          0.001555102845
                        ],
                        "iteration": 951,
                        "passed_time": 892.1714069,
                        "remaining_time": 44.98343228,
                        "test": [
                          0.002591365042
                        ]
                      },
                      {
                        "learn": [
                          0.001555101995
                        ],
                        "iteration": 952,
                        "passed_time": 893.2737671,
                        "remaining_time": 44.05442503,
                        "test": [
                          0.002591346468
                        ]
                      },
                      {
                        "learn": [
                          0.001555099226
                        ],
                        "iteration": 953,
                        "passed_time": 894.4085805,
                        "remaining_time": 43.12661919,
                        "test": [
                          0.002591370809
                        ]
                      },
                      {
                        "learn": [
                          0.001555073914
                        ],
                        "iteration": 954,
                        "passed_time": 895.4707649,
                        "remaining_time": 42.19495751,
                        "test": [
                          0.002591355205
                        ]
                      },
                      {
                        "learn": [
                          0.001555073273
                        ],
                        "iteration": 955,
                        "passed_time": 896.030172,
                        "remaining_time": 41.23988239,
                        "test": [
                          0.002591344824
                        ]
                      },
                      {
                        "learn": [
                          0.001555067622
                        ],
                        "iteration": 956,
                        "passed_time": 897.1718578,
                        "remaining_time": 40.31179716,
                        "test": [
                          0.002591339949
                        ]
                      },
                      {
                        "learn": [
                          0.001555064565
                        ],
                        "iteration": 957,
                        "passed_time": 898.0974006,
                        "remaining_time": 39.37379001,
                        "test": [
                          0.00259129106
                        ]
                      },
                      {
                        "learn": [
                          0.001555063969
                        ],
                        "iteration": 958,
                        "passed_time": 899.0406059,
                        "remaining_time": 38.43656396,
                        "test": [
                          0.00259129101
                        ]
                      },
                      {
                        "learn": [
                          0.001555062482
                        ],
                        "iteration": 959,
                        "passed_time": 899.5303051,
                        "remaining_time": 37.48042938,
                        "test": [
                          0.002591266966
                        ]
                      },
                      {
                        "learn": [
                          0.001555061886
                        ],
                        "iteration": 960,
                        "passed_time": 900.4970353,
                        "remaining_time": 36.54462474,
                        "test": [
                          0.002591244163
                        ]
                      },
                      {
                        "learn": [
                          0.001555061547
                        ],
                        "iteration": 961,
                        "passed_time": 901.641898,
                        "remaining_time": 35.61579223,
                        "test": [
                          0.002591247279
                        ]
                      },
                      {
                        "learn": [
                          0.001555061393
                        ],
                        "iteration": 962,
                        "passed_time": 902.5545144,
                        "remaining_time": 34.67758778,
                        "test": [
                          0.002591241676
                        ]
                      },
                      {
                        "learn": [
                          0.001555038838
                        ],
                        "iteration": 963,
                        "passed_time": 903.6163084,
                        "remaining_time": 33.74500737,
                        "test": [
                          0.002591222437
                        ]
                      },
                      {
                        "learn": [
                          0.001555038838
                        ],
                        "iteration": 964,
                        "passed_time": 904.5334888,
                        "remaining_time": 32.8069141,
                        "test": [
                          0.002591222437
                        ]
                      },
                      {
                        "learn": [
                          0.001555018986
                        ],
                        "iteration": 965,
                        "passed_time": 905.4625012,
                        "remaining_time": 31.86928058,
                        "test": [
                          0.002591195686
                        ]
                      },
                      {
                        "learn": [
                          0.001555017828
                        ],
                        "iteration": 966,
                        "passed_time": 905.9723717,
                        "remaining_time": 30.91736119,
                        "test": [
                          0.002591177241
                        ]
                      },
                      {
                        "learn": [
                          0.001555016711
                        ],
                        "iteration": 967,
                        "passed_time": 906.4351348,
                        "remaining_time": 29.96479784,
                        "test": [
                          0.002591159685
                        ]
                      },
                      {
                        "learn": [
                          0.001554985308
                        ],
                        "iteration": 968,
                        "passed_time": 907.399165,
                        "remaining_time": 29.02928185,
                        "test": [
                          0.002591099286
                        ]
                      },
                      {
                        "learn": [
                          0.001554985094
                        ],
                        "iteration": 969,
                        "passed_time": 908.4290392,
                        "remaining_time": 28.09574348,
                        "test": [
                          0.002591095238
                        ]
                      },
                      {
                        "learn": [
                          0.001554983283
                        ],
                        "iteration": 970,
                        "passed_time": 909.6834113,
                        "remaining_time": 27.16871156,
                        "test": [
                          0.002591095066
                        ]
                      },
                      {
                        "learn": [
                          0.001554982211
                        ],
                        "iteration": 971,
                        "passed_time": 910.2516273,
                        "remaining_time": 26.22124029,
                        "test": [
                          0.002591078577
                        ]
                      },
                      {
                        "learn": [
                          0.001554931878
                        ],
                        "iteration": 972,
                        "passed_time": 911.3024955,
                        "remaining_time": 25.28794181,
                        "test": [
                          0.002591144491
                        ]
                      },
                      {
                        "learn": [
                          0.001554915763
                        ],
                        "iteration": 973,
                        "passed_time": 912.5361707,
                        "remaining_time": 24.35928176,
                        "test": [
                          0.002591149138
                        ]
                      },
                      {
                        "learn": [
                          0.001554904505
                        ],
                        "iteration": 974,
                        "passed_time": 913.5931433,
                        "remaining_time": 23.42546521,
                        "test": [
                          0.002591139685
                        ]
                      },
                      {
                        "learn": [
                          0.001554903447
                        ],
                        "iteration": 975,
                        "passed_time": 914.4347466,
                        "remaining_time": 22.48610033,
                        "test": [
                          0.002591123178
                        ]
                      },
                      {
                        "learn": [
                          0.001554903447
                        ],
                        "iteration": 976,
                        "passed_time": 914.9681737,
                        "remaining_time": 21.53968065,
                        "test": [
                          0.002591123178
                        ]
                      },
                      {
                        "learn": [
                          0.001554900136
                        ],
                        "iteration": 977,
                        "passed_time": 915.9426822,
                        "remaining_time": 20.60402762,
                        "test": [
                          0.002591119298
                        ]
                      },
                      {
                        "learn": [
                          0.001554898811
                        ],
                        "iteration": 978,
                        "passed_time": 916.7175304,
                        "remaining_time": 19.6640124,
                        "test": [
                          0.002591111482
                        ]
                      },
                      {
                        "learn": [
                          0.00155489749
                        ],
                        "iteration": 979,
                        "passed_time": 917.737852,
                        "remaining_time": 18.72934392,
                        "test": [
                          0.002591084083
                        ]
                      },
                      {
                        "learn": [
                          0.001554767631
                        ],
                        "iteration": 980,
                        "passed_time": 918.7787643,
                        "remaining_time": 17.79489961,
                        "test": [
                          0.002590901997
                        ]
                      },
                      {
                        "learn": [
                          0.001554753239
                        ],
                        "iteration": 981,
                        "passed_time": 919.9549543,
                        "remaining_time": 16.8627181,
                        "test": [
                          0.002590900993
                        ]
                      },
                      {
                        "learn": [
                          0.001554752731
                        ],
                        "iteration": 982,
                        "passed_time": 920.5657796,
                        "remaining_time": 15.92026272,
                        "test": [
                          0.002590893254
                        ]
                      },
                      {
                        "learn": [
                          0.001554751026
                        ],
                        "iteration": 983,
                        "passed_time": 921.5976266,
                        "remaining_time": 14.98532726,
                        "test": [
                          0.002590850428
                        ]
                      },
                      {
                        "learn": [
                          0.001554745423
                        ],
                        "iteration": 984,
                        "passed_time": 922.6836781,
                        "remaining_time": 14.05102048,
                        "test": [
                          0.002590845765
                        ]
                      },
                      {
                        "learn": [
                          0.001554744444
                        ],
                        "iteration": 985,
                        "passed_time": 923.801081,
                        "remaining_time": 13.11685105,
                        "test": [
                          0.002590831472
                        ]
                      },
                      {
                        "learn": [
                          0.001554733174
                        ],
                        "iteration": 986,
                        "passed_time": 924.6785525,
                        "remaining_time": 12.17915013,
                        "test": [
                          0.002590831442
                        ]
                      },
                      {
                        "learn": [
                          0.001554721925
                        ],
                        "iteration": 987,
                        "passed_time": 925.1893201,
                        "remaining_time": 11.23711725,
                        "test": [
                          0.002590831423
                        ]
                      },
                      {
                        "learn": [
                          0.001554721925
                        ],
                        "iteration": 988,
                        "passed_time": 926.3498474,
                        "remaining_time": 10.30318334,
                        "test": [
                          0.002590831423
                        ]
                      },
                      {
                        "learn": [
                          0.001554720558
                        ],
                        "iteration": 989,
                        "passed_time": 927.4677735,
                        "remaining_time": 9.368361349,
                        "test": [
                          0.00259084391
                        ]
                      },
                      {
                        "learn": [
                          0.001554698258
                        ],
                        "iteration": 990,
                        "passed_time": 928.4743453,
                        "remaining_time": 8.432158535,
                        "test": [
                          0.002590825385
                        ]
                      },
                      {
                        "learn": [
                          0.001554698106
                        ],
                        "iteration": 991,
                        "passed_time": 929.3669174,
                        "remaining_time": 7.494894495,
                        "test": [
                          0.002590826751
                        ]
                      },
                      {
                        "learn": [
                          0.001554697619
                        ],
                        "iteration": 992,
                        "passed_time": 930.2556546,
                        "remaining_time": 6.557693436,
                        "test": [
                          0.00259081959
                        ]
                      },
                      {
                        "learn": [
                          0.001554697313
                        ],
                        "iteration": 993,
                        "passed_time": 930.9011122,
                        "remaining_time": 5.619121401,
                        "test": [
                          0.002590813507
                        ]
                      },
                      {
                        "learn": [
                          0.001554697072
                        ],
                        "iteration": 994,
                        "passed_time": 931.8061505,
                        "remaining_time": 4.682442967,
                        "test": [
                          0.002590809987
                        ]
                      },
                      {
                        "learn": [
                          0.001554693871
                        ],
                        "iteration": 995,
                        "passed_time": 932.7877491,
                        "remaining_time": 3.746135539,
                        "test": [
                          0.002590806521
                        ]
                      },
                      {
                        "learn": [
                          0.001554691974
                        ],
                        "iteration": 996,
                        "passed_time": 933.2407868,
                        "remaining_time": 2.808146801,
                        "test": [
                          0.002590778553
                        ]
                      },
                      {
                        "learn": [
                          0.001554677672
                        ],
                        "iteration": 997,
                        "passed_time": 934.4781515,
                        "remaining_time": 1.872701706,
                        "test": [
                          0.002590778051
                        ]
                      },
                      {
                        "learn": [
                          0.001554676637
                        ],
                        "iteration": 998,
                        "passed_time": 935.1088912,
                        "remaining_time": 0.9360449361,
                        "test": [
                          0.002590784222
                        ]
                      },
                      {
                        "learn": [
                          0.001554676181
                        ],
                        "iteration": 999,
                        "passed_time": 936.0222433,
                        "remaining_time": 0,
                        "test": [
                          0.002590777529
                        ]
                      }
                    ],
                    "meta": {
                      "test_sets": [
                        "test"
                      ],
                      "test_metrics": [
                        {
                          "best_value": "Min",
                          "name": "Logloss"
                        }
                      ],
                      "learn_metrics": [
                        {
                          "best_value": "Min",
                          "name": "Logloss"
                        }
                      ],
                      "launch_mode": "Train",
                      "parameters": "",
                      "iteration_count": 1000,
                      "learn_sets": [
                        "learn"
                      ],
                      "name": "experiment"
                    }
                  }
                }
              }
            },
            "layout": "IPY_MODEL_5178de8a086f4409912ae02395aa5450"
          }
        }
      }
    }
  },
  "cells": [
    {
      "cell_type": "markdown",
      "source": [
        "Data preparation from google drive"
      ],
      "metadata": {
        "id": "KItzSfy5km5c"
      }
    },
    {
      "cell_type": "code",
      "execution_count": null,
      "metadata": {
        "colab": {
          "base_uri": "https://localhost:8080/"
        },
        "id": "lBGendZsYp5Q",
        "outputId": "4b263b9f-3124-46d0-bace-f3bc02b6d26e"
      },
      "outputs": [
        {
          "output_type": "stream",
          "name": "stderr",
          "text": [
            "/usr/local/lib/python3.7/dist-packages/IPython/core/interactiveshell.py:2882: DtypeWarning: Columns (20) have mixed types.Specify dtype option on import or set low_memory=False.\n",
            "  exec(code_obj, self.user_global_ns, self.user_ns)\n"
          ]
        }
      ],
      "source": [
        "import pandas as pd\n",
        "import gdown\n",
        "\n",
        "meta_url = 'https://drive.google.com/uc?export=download&confirm=pbef&id='\n",
        "link = \"1Mx4L0JvFRqboRuB6H7Fp9lO4l-DnJXDU\"\n",
        "url = meta_url + link\n",
        "output = 'data.csv'\n",
        "gdown.download(url, output, quiet=True)\n",
        "data = pd.read_csv(output)"
      ]
    },
    {
      "cell_type": "markdown",
      "source": [
        "Make target from loan status to 1 and 0 -> still loaning and not loaning again"
      ],
      "metadata": {
        "id": "oBkfLkNCksWW"
      }
    },
    {
      "cell_type": "code",
      "source": [
        "data['loan_status'].value_counts()"
      ],
      "metadata": {
        "colab": {
          "base_uri": "https://localhost:8080/"
        },
        "id": "eeMpFJDTfS45",
        "outputId": "cb538067-3d25-4506-d7c0-722a2abd9fe4"
      },
      "execution_count": null,
      "outputs": [
        {
          "output_type": "execute_result",
          "data": {
            "text/plain": [
              "Current                                                224226\n",
              "Fully Paid                                             184739\n",
              "Charged Off                                             42475\n",
              "Late (31-120 days)                                       6900\n",
              "In Grace Period                                          3146\n",
              "Does not meet the credit policy. Status:Fully Paid       1988\n",
              "Late (16-30 days)                                        1218\n",
              "Default                                                   832\n",
              "Does not meet the credit policy. Status:Charged Off       761\n",
              "Name: loan_status, dtype: int64"
            ]
          },
          "metadata": {},
          "execution_count": 2
        }
      ]
    },
    {
      "cell_type": "code",
      "source": [
        "target = data['loan_status'].str.contains('Charged Off').astype(int)\n",
        "data['loan_status'] = target"
      ],
      "metadata": {
        "id": "5ovcEMEzhvID"
      },
      "execution_count": null,
      "outputs": []
    },
    {
      "cell_type": "markdown",
      "source": [
        "Drop the columns that has many missing value"
      ],
      "metadata": {
        "id": "4kp3qkrBlWXL"
      }
    },
    {
      "cell_type": "code",
      "source": [
        "data.nunique().sort_values(ascending=False)[:10]"
      ],
      "metadata": {
        "colab": {
          "base_uri": "https://localhost:8080/"
        },
        "id": "yrCie_Jjh_RB",
        "outputId": "318f7151-5b97-4c51-cb7d-f7609c1ce2e0"
      },
      "execution_count": null,
      "outputs": [
        {
          "output_type": "execute_result",
          "data": {
            "text/plain": [
              "Unnamed: 0         466285\n",
              "url                466285\n",
              "member_id          466285\n",
              "id                 466285\n",
              "total_pymnt        351609\n",
              "total_pymnt_inv    347659\n",
              "total_rec_int      270249\n",
              "tot_cur_bal        220690\n",
              "emp_title          205475\n",
              "last_pymnt_amnt    198194\n",
              "dtype: int64"
            ]
          },
          "metadata": {},
          "execution_count": 22
        }
      ]
    },
    {
      "cell_type": "code",
      "source": [
        "tmp = (data.isnull().sum().sort_values(ascending=False)>20000)\n",
        "data.drop(tmp[tmp].index, axis=1, inplace=True)"
      ],
      "metadata": {
        "id": "7a91JmldiXX5"
      },
      "execution_count": null,
      "outputs": []
    },
    {
      "cell_type": "markdown",
      "source": [
        "Drop columns that has many unique value for categorical"
      ],
      "metadata": {
        "id": "Uw9PK_8hlcFx"
      }
    },
    {
      "cell_type": "code",
      "source": [
        "data.select_dtypes('object').nunique().sort_values(ascending=False)[:10]"
      ],
      "metadata": {
        "colab": {
          "base_uri": "https://localhost:8080/"
        },
        "id": "S2NxcafQjMIO",
        "outputId": "2b9922ac-a2ed-4547-ce9b-e65bbcb7e2ee"
      },
      "execution_count": null,
      "outputs": [
        {
          "output_type": "execute_result",
          "data": {
            "text/plain": [
              "url                   466285\n",
              "title                  63099\n",
              "zip_code                 888\n",
              "earliest_cr_line         664\n",
              "last_credit_pull_d       103\n",
              "last_pymnt_d              98\n",
              "issue_d                   91\n",
              "addr_state                50\n",
              "sub_grade                 35\n",
              "purpose                   14\n",
              "dtype: int64"
            ]
          },
          "metadata": {},
          "execution_count": 51
        }
      ]
    },
    {
      "cell_type": "code",
      "source": [
        "tmp = (data.select_dtypes('object').nunique()>1000)\n",
        "data.drop(tmp[tmp].index, axis=1, inplace=True)"
      ],
      "metadata": {
        "id": "JhskfWQzkTAW"
      },
      "execution_count": null,
      "outputs": []
    },
    {
      "cell_type": "markdown",
      "source": [
        "Drop the first three columns because irrevelant"
      ],
      "metadata": {
        "id": "rFxXE9BUlqYQ"
      }
    },
    {
      "cell_type": "code",
      "source": [
        "data.drop(data.iloc[:,0:3].columns, axis=1, inplace=True)"
      ],
      "metadata": {
        "id": "gNP2kmnLkttg"
      },
      "execution_count": null,
      "outputs": []
    },
    {
      "cell_type": "markdown",
      "source": [
        "Imputer on the numerical missing value with iterative to learn pattern"
      ],
      "metadata": {
        "id": "Y7AE3IxVmiZp"
      }
    },
    {
      "cell_type": "code",
      "source": [
        "from sklearn.experimental import enable_iterative_imputer\n",
        "from sklearn.impute import IterativeImputer\n",
        "\n",
        "imputer = IterativeImputer()\n",
        "x = imputer.fit_transform(data.select_dtypes(exclude='object'))"
      ],
      "metadata": {
        "id": "U2NYXdb1opg9"
      },
      "execution_count": null,
      "outputs": []
    },
    {
      "cell_type": "markdown",
      "source": [
        "Impute the categorical with most frequent value"
      ],
      "metadata": {
        "id": "dg9pvjFMm80n"
      }
    },
    {
      "cell_type": "code",
      "source": [
        "import pandas as pd\n",
        "import numpy as np\n",
        "\n",
        "from sklearn.base import TransformerMixin\n",
        "\n",
        "class DataFrameImputer(TransformerMixin):\n",
        "\n",
        "    def __init__(self):\n",
        "        pass\n",
        "        \n",
        "    def fit(self, X, y=None):\n",
        "\n",
        "        self.fill = pd.Series([X[c].value_counts().index[0]\n",
        "            if X[c].dtype == np.dtype('O') else X[c].mean() for c in X],\n",
        "            index=X.columns)\n",
        "\n",
        "        return self\n",
        "\n",
        "    def transform(self, X, y=None):\n",
        "        return X.fillna(self.fill)\n",
        "\n",
        "z = DataFrameImputer().fit_transform(data.select_dtypes(include='object'))"
      ],
      "metadata": {
        "id": "0Wke3zbvpgYi"
      },
      "execution_count": null,
      "outputs": []
    },
    {
      "cell_type": "code",
      "source": [
        "pip install catboost --quiet"
      ],
      "metadata": {
        "id": "4ozdvGfTlfa-"
      },
      "execution_count": 2,
      "outputs": []
    },
    {
      "cell_type": "markdown",
      "source": [
        "Make the dataframe from numerical and categorical value"
      ],
      "metadata": {
        "id": "DYKjPcoRnIno"
      }
    },
    {
      "cell_type": "code",
      "source": [
        "num = pd.DataFrame(x ,columns = data.select_dtypes(exclude='object').columns)\n",
        "cat = pd.DataFrame(z ,columns = data.select_dtypes(include='object').columns)"
      ],
      "metadata": {
        "id": "bCqAYcPPo9-t"
      },
      "execution_count": null,
      "outputs": []
    },
    {
      "cell_type": "code",
      "source": [
        "num.drop(\"loan_status\", axis=1, inplace=True)\n",
        "data.drop(\"loan_status\", axis=1, inplace=True)"
      ],
      "metadata": {
        "id": "d9XXeF_ra64O"
      },
      "execution_count": null,
      "outputs": []
    },
    {
      "cell_type": "markdown",
      "source": [
        "Standardize the numerical columns"
      ],
      "metadata": {
        "id": "DOk4oRL9noVR"
      }
    },
    {
      "cell_type": "code",
      "source": [
        "from sklearn.preprocessing import StandardScaler\n",
        "\n",
        "scaler = StandardScaler()\n",
        "num = scaler.fit_transform(num)\n",
        "num = pd.DataFrame(num ,columns = data.select_dtypes(exclude='object').columns)"
      ],
      "metadata": {
        "id": "zFtcfMEWq60-"
      },
      "execution_count": null,
      "outputs": []
    },
    {
      "cell_type": "code",
      "source": [
        "data = pd.concat([num, cat], axis=1)"
      ],
      "metadata": {
        "id": "V7LuMB-orRrW"
      },
      "execution_count": null,
      "outputs": []
    },
    {
      "cell_type": "markdown",
      "source": [
        "Data preview"
      ],
      "metadata": {
        "id": "U6ejRBUwnx6Y"
      }
    },
    {
      "cell_type": "code",
      "source": [
        "data"
      ],
      "metadata": {
        "colab": {
          "base_uri": "https://localhost:8080/",
          "height": 483
        },
        "id": "RF_U86Q9oaqv",
        "outputId": "6a46e0fb-64af-4fce-bff0-d9b2ad1e6481"
      },
      "execution_count": null,
      "outputs": [
        {
          "output_type": "execute_result",
          "data": {
            "text/plain": [
              "        loan_amnt  funded_amnt  funded_amnt_inv  int_rate  installment  \\\n",
              "0       -1.124392    -1.122963        -1.114455 -0.729587    -1.105575   \n",
              "1       -1.426088    -1.425101        -1.412732  0.330634    -1.528763   \n",
              "2       -1.438156    -1.437186        -1.424784  0.488979    -1.428140   \n",
              "3       -0.521001    -0.518687        -0.508860 -0.077850    -0.380931   \n",
              "4       -1.365749    -1.364673        -1.352474 -0.261438    -1.496071   \n",
              "...           ...          ...              ...       ...          ...   \n",
              "466280   0.492696     0.496497         0.503478  0.147046     0.002377   \n",
              "466281   0.927137     0.931576         0.937336  1.409214     0.617856   \n",
              "466282   0.770256     0.774464         0.780665  0.725348     0.337921   \n",
              "466283  -1.486427    -1.485528        -1.472991 -1.360671    -1.517427   \n",
              "466284  -0.521001    -0.518687        -0.511873  1.232510    -0.264826   \n",
              "\n",
              "        annual_inc       dti  delinq_2yrs  inq_last_6mths  open_acc  ...  \\\n",
              "0        -0.896551  1.328632    -0.357034        0.178864 -1.641510  ...   \n",
              "1        -0.787387 -2.065791    -0.357034        3.843321 -1.641510  ...   \n",
              "2        -1.110294 -1.082491    -0.357034        1.094978 -1.842014  ...   \n",
              "3        -0.438063  0.354248    -0.357034        0.178864 -0.237978  ...   \n",
              "4         0.122311  0.091865    -0.357034       -0.737250  0.764544  ...   \n",
              "...            ...       ...          ...             ...       ...  ...   \n",
              "466280    0.668130  0.335143    -0.357034        1.094978  1.366058  ...   \n",
              "466281    0.085923  0.156824    -0.357034        3.843321  1.366058  ...   \n",
              "466282   -0.496284  1.073891    -0.357034        1.094978  1.366058  ...   \n",
              "466283    0.176893 -1.506635     3.405477        0.178864  1.967571  ...   \n",
              "466284   -0.496284  0.708338     0.897136       -0.737250 -1.039996  ...   \n",
              "\n",
              "        issue_d  pymnt_plan             purpose  zip_code  addr_state  \\\n",
              "0        Dec-11           n         credit_card     860xx          AZ   \n",
              "1        Dec-11           n                 car     309xx          GA   \n",
              "2        Dec-11           n      small_business     606xx          IL   \n",
              "3        Dec-11           n               other     917xx          CA   \n",
              "4        Dec-11           n               other     972xx          OR   \n",
              "...         ...         ...                 ...       ...         ...   \n",
              "466280   Jan-14           n  debt_consolidation     773xx          TX   \n",
              "466281   Jan-14           n  debt_consolidation     377xx          TN   \n",
              "466282   Jan-14           n  debt_consolidation     458xx          OH   \n",
              "466283   Jan-14           n         credit_card     913xx          CA   \n",
              "466284   Jan-14           n               other     950xx          CA   \n",
              "\n",
              "        earliest_cr_line  initial_list_status  last_pymnt_d  \\\n",
              "0                 Jan-85                    f        Jan-15   \n",
              "1                 Apr-99                    f        Apr-13   \n",
              "2                 Nov-01                    f        Jun-14   \n",
              "3                 Feb-96                    f        Jan-15   \n",
              "4                 Jan-96                    f        Jan-16   \n",
              "...                  ...                  ...           ...   \n",
              "466280            Apr-03                    w        Jan-16   \n",
              "466281            Jun-97                    f        Dec-14   \n",
              "466282            Dec-01                    f        Jan-16   \n",
              "466283            Feb-03                    w        Dec-14   \n",
              "466284            Feb-00                    f        Jan-16   \n",
              "\n",
              "        last_credit_pull_d  application_type  \n",
              "0                   Jan-16        INDIVIDUAL  \n",
              "1                   Sep-13        INDIVIDUAL  \n",
              "2                   Jan-16        INDIVIDUAL  \n",
              "3                   Jan-15        INDIVIDUAL  \n",
              "4                   Jan-16        INDIVIDUAL  \n",
              "...                    ...               ...  \n",
              "466280              Jan-16        INDIVIDUAL  \n",
              "466281              Jan-16        INDIVIDUAL  \n",
              "466282              Dec-15        INDIVIDUAL  \n",
              "466283              Apr-15        INDIVIDUAL  \n",
              "466284              Jan-16        INDIVIDUAL  \n",
              "\n",
              "[466285 rows x 42 columns]"
            ],
            "text/html": [
              "\n",
              "  <div id=\"df-21333ec3-2f0c-4ff9-b750-03b5bb288dad\">\n",
              "    <div class=\"colab-df-container\">\n",
              "      <div>\n",
              "<style scoped>\n",
              "    .dataframe tbody tr th:only-of-type {\n",
              "        vertical-align: middle;\n",
              "    }\n",
              "\n",
              "    .dataframe tbody tr th {\n",
              "        vertical-align: top;\n",
              "    }\n",
              "\n",
              "    .dataframe thead th {\n",
              "        text-align: right;\n",
              "    }\n",
              "</style>\n",
              "<table border=\"1\" class=\"dataframe\">\n",
              "  <thead>\n",
              "    <tr style=\"text-align: right;\">\n",
              "      <th></th>\n",
              "      <th>loan_amnt</th>\n",
              "      <th>funded_amnt</th>\n",
              "      <th>funded_amnt_inv</th>\n",
              "      <th>int_rate</th>\n",
              "      <th>installment</th>\n",
              "      <th>annual_inc</th>\n",
              "      <th>dti</th>\n",
              "      <th>delinq_2yrs</th>\n",
              "      <th>inq_last_6mths</th>\n",
              "      <th>open_acc</th>\n",
              "      <th>...</th>\n",
              "      <th>issue_d</th>\n",
              "      <th>pymnt_plan</th>\n",
              "      <th>purpose</th>\n",
              "      <th>zip_code</th>\n",
              "      <th>addr_state</th>\n",
              "      <th>earliest_cr_line</th>\n",
              "      <th>initial_list_status</th>\n",
              "      <th>last_pymnt_d</th>\n",
              "      <th>last_credit_pull_d</th>\n",
              "      <th>application_type</th>\n",
              "    </tr>\n",
              "  </thead>\n",
              "  <tbody>\n",
              "    <tr>\n",
              "      <th>0</th>\n",
              "      <td>-1.124392</td>\n",
              "      <td>-1.122963</td>\n",
              "      <td>-1.114455</td>\n",
              "      <td>-0.729587</td>\n",
              "      <td>-1.105575</td>\n",
              "      <td>-0.896551</td>\n",
              "      <td>1.328632</td>\n",
              "      <td>-0.357034</td>\n",
              "      <td>0.178864</td>\n",
              "      <td>-1.641510</td>\n",
              "      <td>...</td>\n",
              "      <td>Dec-11</td>\n",
              "      <td>n</td>\n",
              "      <td>credit_card</td>\n",
              "      <td>860xx</td>\n",
              "      <td>AZ</td>\n",
              "      <td>Jan-85</td>\n",
              "      <td>f</td>\n",
              "      <td>Jan-15</td>\n",
              "      <td>Jan-16</td>\n",
              "      <td>INDIVIDUAL</td>\n",
              "    </tr>\n",
              "    <tr>\n",
              "      <th>1</th>\n",
              "      <td>-1.426088</td>\n",
              "      <td>-1.425101</td>\n",
              "      <td>-1.412732</td>\n",
              "      <td>0.330634</td>\n",
              "      <td>-1.528763</td>\n",
              "      <td>-0.787387</td>\n",
              "      <td>-2.065791</td>\n",
              "      <td>-0.357034</td>\n",
              "      <td>3.843321</td>\n",
              "      <td>-1.641510</td>\n",
              "      <td>...</td>\n",
              "      <td>Dec-11</td>\n",
              "      <td>n</td>\n",
              "      <td>car</td>\n",
              "      <td>309xx</td>\n",
              "      <td>GA</td>\n",
              "      <td>Apr-99</td>\n",
              "      <td>f</td>\n",
              "      <td>Apr-13</td>\n",
              "      <td>Sep-13</td>\n",
              "      <td>INDIVIDUAL</td>\n",
              "    </tr>\n",
              "    <tr>\n",
              "      <th>2</th>\n",
              "      <td>-1.438156</td>\n",
              "      <td>-1.437186</td>\n",
              "      <td>-1.424784</td>\n",
              "      <td>0.488979</td>\n",
              "      <td>-1.428140</td>\n",
              "      <td>-1.110294</td>\n",
              "      <td>-1.082491</td>\n",
              "      <td>-0.357034</td>\n",
              "      <td>1.094978</td>\n",
              "      <td>-1.842014</td>\n",
              "      <td>...</td>\n",
              "      <td>Dec-11</td>\n",
              "      <td>n</td>\n",
              "      <td>small_business</td>\n",
              "      <td>606xx</td>\n",
              "      <td>IL</td>\n",
              "      <td>Nov-01</td>\n",
              "      <td>f</td>\n",
              "      <td>Jun-14</td>\n",
              "      <td>Jan-16</td>\n",
              "      <td>INDIVIDUAL</td>\n",
              "    </tr>\n",
              "    <tr>\n",
              "      <th>3</th>\n",
              "      <td>-0.521001</td>\n",
              "      <td>-0.518687</td>\n",
              "      <td>-0.508860</td>\n",
              "      <td>-0.077850</td>\n",
              "      <td>-0.380931</td>\n",
              "      <td>-0.438063</td>\n",
              "      <td>0.354248</td>\n",
              "      <td>-0.357034</td>\n",
              "      <td>0.178864</td>\n",
              "      <td>-0.237978</td>\n",
              "      <td>...</td>\n",
              "      <td>Dec-11</td>\n",
              "      <td>n</td>\n",
              "      <td>other</td>\n",
              "      <td>917xx</td>\n",
              "      <td>CA</td>\n",
              "      <td>Feb-96</td>\n",
              "      <td>f</td>\n",
              "      <td>Jan-15</td>\n",
              "      <td>Jan-15</td>\n",
              "      <td>INDIVIDUAL</td>\n",
              "    </tr>\n",
              "    <tr>\n",
              "      <th>4</th>\n",
              "      <td>-1.365749</td>\n",
              "      <td>-1.364673</td>\n",
              "      <td>-1.352474</td>\n",
              "      <td>-0.261438</td>\n",
              "      <td>-1.496071</td>\n",
              "      <td>0.122311</td>\n",
              "      <td>0.091865</td>\n",
              "      <td>-0.357034</td>\n",
              "      <td>-0.737250</td>\n",
              "      <td>0.764544</td>\n",
              "      <td>...</td>\n",
              "      <td>Dec-11</td>\n",
              "      <td>n</td>\n",
              "      <td>other</td>\n",
              "      <td>972xx</td>\n",
              "      <td>OR</td>\n",
              "      <td>Jan-96</td>\n",
              "      <td>f</td>\n",
              "      <td>Jan-16</td>\n",
              "      <td>Jan-16</td>\n",
              "      <td>INDIVIDUAL</td>\n",
              "    </tr>\n",
              "    <tr>\n",
              "      <th>...</th>\n",
              "      <td>...</td>\n",
              "      <td>...</td>\n",
              "      <td>...</td>\n",
              "      <td>...</td>\n",
              "      <td>...</td>\n",
              "      <td>...</td>\n",
              "      <td>...</td>\n",
              "      <td>...</td>\n",
              "      <td>...</td>\n",
              "      <td>...</td>\n",
              "      <td>...</td>\n",
              "      <td>...</td>\n",
              "      <td>...</td>\n",
              "      <td>...</td>\n",
              "      <td>...</td>\n",
              "      <td>...</td>\n",
              "      <td>...</td>\n",
              "      <td>...</td>\n",
              "      <td>...</td>\n",
              "      <td>...</td>\n",
              "      <td>...</td>\n",
              "    </tr>\n",
              "    <tr>\n",
              "      <th>466280</th>\n",
              "      <td>0.492696</td>\n",
              "      <td>0.496497</td>\n",
              "      <td>0.503478</td>\n",
              "      <td>0.147046</td>\n",
              "      <td>0.002377</td>\n",
              "      <td>0.668130</td>\n",
              "      <td>0.335143</td>\n",
              "      <td>-0.357034</td>\n",
              "      <td>1.094978</td>\n",
              "      <td>1.366058</td>\n",
              "      <td>...</td>\n",
              "      <td>Jan-14</td>\n",
              "      <td>n</td>\n",
              "      <td>debt_consolidation</td>\n",
              "      <td>773xx</td>\n",
              "      <td>TX</td>\n",
              "      <td>Apr-03</td>\n",
              "      <td>w</td>\n",
              "      <td>Jan-16</td>\n",
              "      <td>Jan-16</td>\n",
              "      <td>INDIVIDUAL</td>\n",
              "    </tr>\n",
              "    <tr>\n",
              "      <th>466281</th>\n",
              "      <td>0.927137</td>\n",
              "      <td>0.931576</td>\n",
              "      <td>0.937336</td>\n",
              "      <td>1.409214</td>\n",
              "      <td>0.617856</td>\n",
              "      <td>0.085923</td>\n",
              "      <td>0.156824</td>\n",
              "      <td>-0.357034</td>\n",
              "      <td>3.843321</td>\n",
              "      <td>1.366058</td>\n",
              "      <td>...</td>\n",
              "      <td>Jan-14</td>\n",
              "      <td>n</td>\n",
              "      <td>debt_consolidation</td>\n",
              "      <td>377xx</td>\n",
              "      <td>TN</td>\n",
              "      <td>Jun-97</td>\n",
              "      <td>f</td>\n",
              "      <td>Dec-14</td>\n",
              "      <td>Jan-16</td>\n",
              "      <td>INDIVIDUAL</td>\n",
              "    </tr>\n",
              "    <tr>\n",
              "      <th>466282</th>\n",
              "      <td>0.770256</td>\n",
              "      <td>0.774464</td>\n",
              "      <td>0.780665</td>\n",
              "      <td>0.725348</td>\n",
              "      <td>0.337921</td>\n",
              "      <td>-0.496284</td>\n",
              "      <td>1.073891</td>\n",
              "      <td>-0.357034</td>\n",
              "      <td>1.094978</td>\n",
              "      <td>1.366058</td>\n",
              "      <td>...</td>\n",
              "      <td>Jan-14</td>\n",
              "      <td>n</td>\n",
              "      <td>debt_consolidation</td>\n",
              "      <td>458xx</td>\n",
              "      <td>OH</td>\n",
              "      <td>Dec-01</td>\n",
              "      <td>f</td>\n",
              "      <td>Jan-16</td>\n",
              "      <td>Dec-15</td>\n",
              "      <td>INDIVIDUAL</td>\n",
              "    </tr>\n",
              "    <tr>\n",
              "      <th>466283</th>\n",
              "      <td>-1.486427</td>\n",
              "      <td>-1.485528</td>\n",
              "      <td>-1.472991</td>\n",
              "      <td>-1.360671</td>\n",
              "      <td>-1.517427</td>\n",
              "      <td>0.176893</td>\n",
              "      <td>-1.506635</td>\n",
              "      <td>3.405477</td>\n",
              "      <td>0.178864</td>\n",
              "      <td>1.967571</td>\n",
              "      <td>...</td>\n",
              "      <td>Jan-14</td>\n",
              "      <td>n</td>\n",
              "      <td>credit_card</td>\n",
              "      <td>913xx</td>\n",
              "      <td>CA</td>\n",
              "      <td>Feb-03</td>\n",
              "      <td>w</td>\n",
              "      <td>Dec-14</td>\n",
              "      <td>Apr-15</td>\n",
              "      <td>INDIVIDUAL</td>\n",
              "    </tr>\n",
              "    <tr>\n",
              "      <th>466284</th>\n",
              "      <td>-0.521001</td>\n",
              "      <td>-0.518687</td>\n",
              "      <td>-0.511873</td>\n",
              "      <td>1.232510</td>\n",
              "      <td>-0.264826</td>\n",
              "      <td>-0.496284</td>\n",
              "      <td>0.708338</td>\n",
              "      <td>0.897136</td>\n",
              "      <td>-0.737250</td>\n",
              "      <td>-1.039996</td>\n",
              "      <td>...</td>\n",
              "      <td>Jan-14</td>\n",
              "      <td>n</td>\n",
              "      <td>other</td>\n",
              "      <td>950xx</td>\n",
              "      <td>CA</td>\n",
              "      <td>Feb-00</td>\n",
              "      <td>f</td>\n",
              "      <td>Jan-16</td>\n",
              "      <td>Jan-16</td>\n",
              "      <td>INDIVIDUAL</td>\n",
              "    </tr>\n",
              "  </tbody>\n",
              "</table>\n",
              "<p>466285 rows × 42 columns</p>\n",
              "</div>\n",
              "      <button class=\"colab-df-convert\" onclick=\"convertToInteractive('df-21333ec3-2f0c-4ff9-b750-03b5bb288dad')\"\n",
              "              title=\"Convert this dataframe to an interactive table.\"\n",
              "              style=\"display:none;\">\n",
              "        \n",
              "  <svg xmlns=\"http://www.w3.org/2000/svg\" height=\"24px\"viewBox=\"0 0 24 24\"\n",
              "       width=\"24px\">\n",
              "    <path d=\"M0 0h24v24H0V0z\" fill=\"none\"/>\n",
              "    <path d=\"M18.56 5.44l.94 2.06.94-2.06 2.06-.94-2.06-.94-.94-2.06-.94 2.06-2.06.94zm-11 1L8.5 8.5l.94-2.06 2.06-.94-2.06-.94L8.5 2.5l-.94 2.06-2.06.94zm10 10l.94 2.06.94-2.06 2.06-.94-2.06-.94-.94-2.06-.94 2.06-2.06.94z\"/><path d=\"M17.41 7.96l-1.37-1.37c-.4-.4-.92-.59-1.43-.59-.52 0-1.04.2-1.43.59L10.3 9.45l-7.72 7.72c-.78.78-.78 2.05 0 2.83L4 21.41c.39.39.9.59 1.41.59.51 0 1.02-.2 1.41-.59l7.78-7.78 2.81-2.81c.8-.78.8-2.07 0-2.86zM5.41 20L4 18.59l7.72-7.72 1.47 1.35L5.41 20z\"/>\n",
              "  </svg>\n",
              "      </button>\n",
              "      \n",
              "  <style>\n",
              "    .colab-df-container {\n",
              "      display:flex;\n",
              "      flex-wrap:wrap;\n",
              "      gap: 12px;\n",
              "    }\n",
              "\n",
              "    .colab-df-convert {\n",
              "      background-color: #E8F0FE;\n",
              "      border: none;\n",
              "      border-radius: 50%;\n",
              "      cursor: pointer;\n",
              "      display: none;\n",
              "      fill: #1967D2;\n",
              "      height: 32px;\n",
              "      padding: 0 0 0 0;\n",
              "      width: 32px;\n",
              "    }\n",
              "\n",
              "    .colab-df-convert:hover {\n",
              "      background-color: #E2EBFA;\n",
              "      box-shadow: 0px 1px 2px rgba(60, 64, 67, 0.3), 0px 1px 3px 1px rgba(60, 64, 67, 0.15);\n",
              "      fill: #174EA6;\n",
              "    }\n",
              "\n",
              "    [theme=dark] .colab-df-convert {\n",
              "      background-color: #3B4455;\n",
              "      fill: #D2E3FC;\n",
              "    }\n",
              "\n",
              "    [theme=dark] .colab-df-convert:hover {\n",
              "      background-color: #434B5C;\n",
              "      box-shadow: 0px 1px 3px 1px rgba(0, 0, 0, 0.15);\n",
              "      filter: drop-shadow(0px 1px 2px rgba(0, 0, 0, 0.3));\n",
              "      fill: #FFFFFF;\n",
              "    }\n",
              "  </style>\n",
              "\n",
              "      <script>\n",
              "        const buttonEl =\n",
              "          document.querySelector('#df-21333ec3-2f0c-4ff9-b750-03b5bb288dad button.colab-df-convert');\n",
              "        buttonEl.style.display =\n",
              "          google.colab.kernel.accessAllowed ? 'block' : 'none';\n",
              "\n",
              "        async function convertToInteractive(key) {\n",
              "          const element = document.querySelector('#df-21333ec3-2f0c-4ff9-b750-03b5bb288dad');\n",
              "          const dataTable =\n",
              "            await google.colab.kernel.invokeFunction('convertToInteractive',\n",
              "                                                     [key], {});\n",
              "          if (!dataTable) return;\n",
              "\n",
              "          const docLinkHtml = 'Like what you see? Visit the ' +\n",
              "            '<a target=\"_blank\" href=https://colab.research.google.com/notebooks/data_table.ipynb>data table notebook</a>'\n",
              "            + ' to learn more about interactive tables.';\n",
              "          element.innerHTML = '';\n",
              "          dataTable['output_type'] = 'display_data';\n",
              "          await google.colab.output.renderOutput(dataTable, element);\n",
              "          const docLink = document.createElement('div');\n",
              "          docLink.innerHTML = docLinkHtml;\n",
              "          element.appendChild(docLink);\n",
              "        }\n",
              "      </script>\n",
              "    </div>\n",
              "  </div>\n",
              "  "
            ]
          },
          "metadata": {},
          "execution_count": 15
        }
      ]
    },
    {
      "cell_type": "markdown",
      "source": [
        "Split the data"
      ],
      "metadata": {
        "id": "poqMp5xTnt0N"
      }
    },
    {
      "cell_type": "code",
      "source": [
        "from sklearn.model_selection import train_test_split\n",
        "X_train, X_test, y_train, y_test = train_test_split(data, target, test_size=0.15, random_state=42)"
      ],
      "metadata": {
        "id": "xY2CORNnlqlB"
      },
      "execution_count": null,
      "outputs": []
    },
    {
      "cell_type": "code",
      "source": [
        "col = data.select_dtypes('object').columns.tolist()"
      ],
      "metadata": {
        "id": "F1wxWPpVmaKk"
      },
      "execution_count": null,
      "outputs": []
    },
    {
      "cell_type": "markdown",
      "source": [
        "Train the model with catboost"
      ],
      "metadata": {
        "id": "QjVhzVVYn0RF"
      }
    },
    {
      "cell_type": "code",
      "source": [
        "from catboost import CatBoostClassifier\n",
        "\n",
        "clf = CatBoostClassifier()\n",
        "\n",
        "clf.fit(\n",
        "    X_train, y_train,\n",
        "    cat_features=col,\n",
        "    eval_set=(X_test, y_test),\n",
        "    verbose=True,\n",
        "    plot=True\n",
        ")"
      ],
      "metadata": {
        "colab": {
          "base_uri": "https://localhost:8080/",
          "height": 1000,
          "referenced_widgets": [
            "b4acfad49de5414288b75994d8a5fde8"
          ]
        },
        "id": "-CoNYLLIlDCD",
        "outputId": "7f54728b-7611-4755-8a92-f6a89608384e"
      },
      "execution_count": null,
      "outputs": [
        {
          "output_type": "display_data",
          "data": {
            "text/plain": [
              "MetricVisualizer(layout=Layout(align_self='stretch', height='500px'))"
            ],
            "application/vnd.jupyter.widget-view+json": {
              "version_major": 2,
              "version_minor": 0,
              "model_id": "b4acfad49de5414288b75994d8a5fde8"
            }
          },
          "metadata": {}
        },
        {
          "output_type": "stream",
          "name": "stdout",
          "text": [
            "Learning rate set to 0.138878\n",
            "0:\tlearn: 0.3235463\ttest: 0.3232963\tbest: 0.3232963 (0)\ttotal: 1.48s\tremaining: 24m 34s\n",
            "1:\tlearn: 0.1656773\ttest: 0.1658270\tbest: 0.1658270 (1)\ttotal: 2.89s\tremaining: 24m 1s\n",
            "2:\tlearn: 0.0952123\ttest: 0.0955879\tbest: 0.0955879 (2)\ttotal: 3.96s\tremaining: 21m 57s\n",
            "3:\tlearn: 0.0694025\ttest: 0.0698427\tbest: 0.0698427 (3)\ttotal: 5.29s\tremaining: 21m 57s\n",
            "4:\tlearn: 0.0570932\ttest: 0.0575061\tbest: 0.0575061 (4)\ttotal: 6.5s\tremaining: 21m 33s\n",
            "5:\tlearn: 0.0410318\ttest: 0.0413488\tbest: 0.0413488 (5)\ttotal: 7.65s\tremaining: 21m 7s\n",
            "6:\tlearn: 0.0334078\ttest: 0.0335438\tbest: 0.0335438 (6)\ttotal: 8.72s\tremaining: 20m 37s\n",
            "7:\tlearn: 0.0272023\ttest: 0.0276128\tbest: 0.0276128 (7)\ttotal: 10.1s\tremaining: 20m 46s\n",
            "8:\tlearn: 0.0240589\ttest: 0.0244183\tbest: 0.0244183 (8)\ttotal: 10.8s\tremaining: 19m 47s\n",
            "9:\tlearn: 0.0221905\ttest: 0.0225640\tbest: 0.0225640 (9)\ttotal: 11.9s\tremaining: 19m 42s\n",
            "10:\tlearn: 0.0202251\ttest: 0.0205792\tbest: 0.0205792 (10)\ttotal: 13s\tremaining: 19m 24s\n",
            "11:\tlearn: 0.0183241\ttest: 0.0186687\tbest: 0.0186687 (11)\ttotal: 14.2s\tremaining: 19m 25s\n",
            "12:\tlearn: 0.0169393\ttest: 0.0173181\tbest: 0.0173181 (12)\ttotal: 15.1s\tremaining: 19m 6s\n",
            "13:\tlearn: 0.0151672\ttest: 0.0154816\tbest: 0.0154816 (13)\ttotal: 16.2s\tremaining: 19m 3s\n",
            "14:\tlearn: 0.0146512\ttest: 0.0149199\tbest: 0.0149199 (14)\ttotal: 17.2s\tremaining: 18m 46s\n",
            "15:\tlearn: 0.0138003\ttest: 0.0140958\tbest: 0.0140958 (15)\ttotal: 18.1s\tremaining: 18m 33s\n",
            "16:\tlearn: 0.0129265\ttest: 0.0132572\tbest: 0.0132572 (16)\ttotal: 19.3s\tremaining: 18m 33s\n",
            "17:\tlearn: 0.0126543\ttest: 0.0129820\tbest: 0.0129820 (17)\ttotal: 20.4s\tremaining: 18m 34s\n",
            "18:\tlearn: 0.0118350\ttest: 0.0121891\tbest: 0.0121891 (18)\ttotal: 21.7s\tremaining: 18m 38s\n",
            "19:\tlearn: 0.0112214\ttest: 0.0115718\tbest: 0.0115718 (19)\ttotal: 22.8s\tremaining: 18m 35s\n",
            "20:\tlearn: 0.0103678\ttest: 0.0107675\tbest: 0.0107675 (20)\ttotal: 23.8s\tremaining: 18m 28s\n",
            "21:\tlearn: 0.0102308\ttest: 0.0106137\tbest: 0.0106137 (21)\ttotal: 24.8s\tremaining: 18m 24s\n",
            "22:\tlearn: 0.0096868\ttest: 0.0100546\tbest: 0.0100546 (22)\ttotal: 26s\tremaining: 18m 24s\n",
            "23:\tlearn: 0.0090330\ttest: 0.0094942\tbest: 0.0094942 (23)\ttotal: 27s\tremaining: 18m 19s\n",
            "24:\tlearn: 0.0084161\ttest: 0.0088627\tbest: 0.0088627 (24)\ttotal: 28.1s\tremaining: 18m 15s\n",
            "25:\tlearn: 0.0082269\ttest: 0.0086655\tbest: 0.0086655 (25)\ttotal: 29.2s\tremaining: 18m 12s\n",
            "26:\tlearn: 0.0079723\ttest: 0.0084140\tbest: 0.0084140 (26)\ttotal: 30.3s\tremaining: 18m 11s\n",
            "27:\tlearn: 0.0078105\ttest: 0.0082474\tbest: 0.0082474 (27)\ttotal: 31.7s\tremaining: 18m 21s\n",
            "28:\tlearn: 0.0076247\ttest: 0.0080670\tbest: 0.0080670 (28)\ttotal: 33.3s\tremaining: 18m 36s\n",
            "29:\tlearn: 0.0074152\ttest: 0.0078935\tbest: 0.0078935 (29)\ttotal: 34.4s\tremaining: 18m 31s\n",
            "30:\tlearn: 0.0072272\ttest: 0.0077247\tbest: 0.0077247 (30)\ttotal: 35.9s\tremaining: 18m 42s\n",
            "31:\tlearn: 0.0068771\ttest: 0.0074022\tbest: 0.0074022 (31)\ttotal: 37s\tremaining: 18m 40s\n",
            "32:\tlearn: 0.0065724\ttest: 0.0071321\tbest: 0.0071321 (32)\ttotal: 38.3s\tremaining: 18m 41s\n",
            "33:\tlearn: 0.0064489\ttest: 0.0070067\tbest: 0.0070067 (33)\ttotal: 39.2s\tremaining: 18m 34s\n",
            "34:\tlearn: 0.0061378\ttest: 0.0067670\tbest: 0.0067670 (34)\ttotal: 40.4s\tremaining: 18m 32s\n",
            "35:\tlearn: 0.0059759\ttest: 0.0066067\tbest: 0.0066067 (35)\ttotal: 41.4s\tremaining: 18m 28s\n",
            "36:\tlearn: 0.0058874\ttest: 0.0064885\tbest: 0.0064885 (36)\ttotal: 42.4s\tremaining: 18m 24s\n",
            "37:\tlearn: 0.0057824\ttest: 0.0063979\tbest: 0.0063979 (37)\ttotal: 43.5s\tremaining: 18m 22s\n",
            "38:\tlearn: 0.0057823\ttest: 0.0063979\tbest: 0.0063979 (38)\ttotal: 44.5s\tremaining: 18m 15s\n",
            "39:\tlearn: 0.0055362\ttest: 0.0061323\tbest: 0.0061323 (39)\ttotal: 45.6s\tremaining: 18m 14s\n",
            "40:\tlearn: 0.0054714\ttest: 0.0060798\tbest: 0.0060798 (40)\ttotal: 46.5s\tremaining: 18m 7s\n",
            "41:\tlearn: 0.0054250\ttest: 0.0060304\tbest: 0.0060304 (41)\ttotal: 47.6s\tremaining: 18m 4s\n",
            "42:\tlearn: 0.0051524\ttest: 0.0057661\tbest: 0.0057661 (42)\ttotal: 48.6s\tremaining: 18m\n",
            "43:\tlearn: 0.0050940\ttest: 0.0057087\tbest: 0.0057087 (43)\ttotal: 49.5s\tremaining: 17m 56s\n",
            "44:\tlearn: 0.0049595\ttest: 0.0055680\tbest: 0.0055680 (44)\ttotal: 50.6s\tremaining: 17m 53s\n",
            "45:\tlearn: 0.0049543\ttest: 0.0055602\tbest: 0.0055602 (45)\ttotal: 51.8s\tremaining: 17m 53s\n",
            "46:\tlearn: 0.0047984\ttest: 0.0053974\tbest: 0.0053974 (46)\ttotal: 52.9s\tremaining: 17m 53s\n",
            "47:\tlearn: 0.0047871\ttest: 0.0053865\tbest: 0.0053865 (47)\ttotal: 54s\tremaining: 17m 51s\n",
            "48:\tlearn: 0.0047279\ttest: 0.0053177\tbest: 0.0053177 (48)\ttotal: 55.1s\tremaining: 17m 48s\n",
            "49:\tlearn: 0.0045781\ttest: 0.0051741\tbest: 0.0051741 (49)\ttotal: 56.1s\tremaining: 17m 46s\n",
            "50:\tlearn: 0.0045172\ttest: 0.0051201\tbest: 0.0051201 (50)\ttotal: 57.3s\tremaining: 17m 45s\n",
            "51:\tlearn: 0.0044932\ttest: 0.0050899\tbest: 0.0050899 (51)\ttotal: 58.3s\tremaining: 17m 43s\n",
            "52:\tlearn: 0.0043211\ttest: 0.0049077\tbest: 0.0049077 (52)\ttotal: 59.5s\tremaining: 17m 43s\n",
            "53:\tlearn: 0.0042952\ttest: 0.0048873\tbest: 0.0048873 (53)\ttotal: 1m\tremaining: 17m 40s\n",
            "54:\tlearn: 0.0042674\ttest: 0.0048624\tbest: 0.0048624 (54)\ttotal: 1m 1s\tremaining: 17m 37s\n",
            "55:\tlearn: 0.0042646\ttest: 0.0048592\tbest: 0.0048592 (55)\ttotal: 1m 2s\tremaining: 17m 35s\n",
            "56:\tlearn: 0.0041874\ttest: 0.0047835\tbest: 0.0047835 (56)\ttotal: 1m 3s\tremaining: 17m 33s\n",
            "57:\tlearn: 0.0041180\ttest: 0.0047330\tbest: 0.0047330 (57)\ttotal: 1m 4s\tremaining: 17m 33s\n",
            "58:\tlearn: 0.0041180\ttest: 0.0047330\tbest: 0.0047330 (58)\ttotal: 1m 5s\tremaining: 17m 19s\n",
            "59:\tlearn: 0.0040852\ttest: 0.0046970\tbest: 0.0046970 (59)\ttotal: 1m 6s\tremaining: 17m 21s\n",
            "60:\tlearn: 0.0039913\ttest: 0.0046036\tbest: 0.0046036 (60)\ttotal: 1m 7s\tremaining: 17m 20s\n",
            "61:\tlearn: 0.0039758\ttest: 0.0045893\tbest: 0.0045893 (61)\ttotal: 1m 8s\tremaining: 17m 19s\n",
            "62:\tlearn: 0.0039715\ttest: 0.0045860\tbest: 0.0045860 (62)\ttotal: 1m 9s\tremaining: 17m 17s\n",
            "63:\tlearn: 0.0039147\ttest: 0.0045153\tbest: 0.0045153 (63)\ttotal: 1m 10s\tremaining: 17m 16s\n",
            "64:\tlearn: 0.0038904\ttest: 0.0044925\tbest: 0.0044925 (64)\ttotal: 1m 11s\tremaining: 17m 14s\n",
            "65:\tlearn: 0.0038892\ttest: 0.0044918\tbest: 0.0044918 (65)\ttotal: 1m 12s\tremaining: 17m 4s\n",
            "66:\tlearn: 0.0038313\ttest: 0.0044444\tbest: 0.0044444 (66)\ttotal: 1m 13s\tremaining: 17m 3s\n",
            "67:\tlearn: 0.0038313\ttest: 0.0044444\tbest: 0.0044444 (66)\ttotal: 1m 14s\tremaining: 16m 57s\n",
            "68:\tlearn: 0.0038265\ttest: 0.0044408\tbest: 0.0044408 (68)\ttotal: 1m 15s\tremaining: 16m 54s\n",
            "69:\tlearn: 0.0037950\ttest: 0.0044197\tbest: 0.0044197 (69)\ttotal: 1m 16s\tremaining: 16m 52s\n",
            "70:\tlearn: 0.0037347\ttest: 0.0043631\tbest: 0.0043631 (70)\ttotal: 1m 17s\tremaining: 16m 52s\n",
            "71:\tlearn: 0.0037339\ttest: 0.0043628\tbest: 0.0043628 (71)\ttotal: 1m 18s\tremaining: 16m 46s\n",
            "72:\tlearn: 0.0037268\ttest: 0.0043559\tbest: 0.0043559 (72)\ttotal: 1m 19s\tremaining: 16m 44s\n",
            "73:\tlearn: 0.0037268\ttest: 0.0043557\tbest: 0.0043557 (73)\ttotal: 1m 19s\tremaining: 16m 37s\n",
            "74:\tlearn: 0.0036669\ttest: 0.0042990\tbest: 0.0042990 (74)\ttotal: 1m 20s\tremaining: 16m 36s\n",
            "75:\tlearn: 0.0036333\ttest: 0.0042768\tbest: 0.0042768 (75)\ttotal: 1m 22s\tremaining: 16m 38s\n",
            "76:\tlearn: 0.0035291\ttest: 0.0041997\tbest: 0.0041997 (76)\ttotal: 1m 23s\tremaining: 16m 38s\n",
            "77:\tlearn: 0.0035285\ttest: 0.0041995\tbest: 0.0041995 (77)\ttotal: 1m 24s\tremaining: 16m 36s\n",
            "78:\tlearn: 0.0035285\ttest: 0.0041995\tbest: 0.0041995 (78)\ttotal: 1m 25s\tremaining: 16m 41s\n",
            "79:\tlearn: 0.0035080\ttest: 0.0041828\tbest: 0.0041828 (79)\ttotal: 1m 26s\tremaining: 16m 40s\n",
            "80:\tlearn: 0.0034860\ttest: 0.0041556\tbest: 0.0041556 (80)\ttotal: 1m 28s\tremaining: 16m 40s\n",
            "81:\tlearn: 0.0034797\ttest: 0.0041545\tbest: 0.0041545 (81)\ttotal: 1m 29s\tremaining: 16m 37s\n",
            "82:\tlearn: 0.0034781\ttest: 0.0041522\tbest: 0.0041522 (82)\ttotal: 1m 29s\tremaining: 16m 33s\n",
            "83:\tlearn: 0.0034363\ttest: 0.0041172\tbest: 0.0041172 (83)\ttotal: 1m 31s\tremaining: 16m 32s\n",
            "84:\tlearn: 0.0034363\ttest: 0.0041172\tbest: 0.0041172 (84)\ttotal: 1m 32s\tremaining: 16m 31s\n",
            "85:\tlearn: 0.0034342\ttest: 0.0041132\tbest: 0.0041132 (85)\ttotal: 1m 33s\tremaining: 16m 30s\n",
            "86:\tlearn: 0.0034323\ttest: 0.0041124\tbest: 0.0041124 (86)\ttotal: 1m 33s\tremaining: 16m 26s\n",
            "87:\tlearn: 0.0032972\ttest: 0.0039705\tbest: 0.0039705 (87)\ttotal: 1m 35s\tremaining: 16m 26s\n",
            "88:\tlearn: 0.0032972\ttest: 0.0039706\tbest: 0.0039705 (87)\ttotal: 1m 36s\tremaining: 16m 23s\n",
            "89:\tlearn: 0.0032972\ttest: 0.0039706\tbest: 0.0039705 (87)\ttotal: 1m 37s\tremaining: 16m 22s\n",
            "90:\tlearn: 0.0032969\ttest: 0.0039704\tbest: 0.0039704 (90)\ttotal: 1m 38s\tremaining: 16m 19s\n",
            "91:\tlearn: 0.0032969\ttest: 0.0039704\tbest: 0.0039704 (91)\ttotal: 1m 39s\tremaining: 16m 17s\n",
            "92:\tlearn: 0.0032952\ttest: 0.0039684\tbest: 0.0039684 (92)\ttotal: 1m 40s\tremaining: 16m 16s\n",
            "93:\tlearn: 0.0032952\ttest: 0.0039684\tbest: 0.0039684 (93)\ttotal: 1m 40s\tremaining: 16m 12s\n",
            "94:\tlearn: 0.0032668\ttest: 0.0039478\tbest: 0.0039478 (94)\ttotal: 1m 41s\tremaining: 16m 11s\n",
            "95:\tlearn: 0.0032668\ttest: 0.0039477\tbest: 0.0039477 (95)\ttotal: 1m 42s\tremaining: 16m 8s\n",
            "96:\tlearn: 0.0032668\ttest: 0.0039477\tbest: 0.0039477 (95)\ttotal: 1m 43s\tremaining: 16m 7s\n",
            "97:\tlearn: 0.0032660\ttest: 0.0039466\tbest: 0.0039466 (97)\ttotal: 1m 44s\tremaining: 16m 4s\n",
            "98:\tlearn: 0.0031920\ttest: 0.0038628\tbest: 0.0038628 (98)\ttotal: 1m 45s\tremaining: 16m 4s\n",
            "99:\tlearn: 0.0031680\ttest: 0.0038491\tbest: 0.0038491 (99)\ttotal: 1m 46s\tremaining: 16m 2s\n",
            "100:\tlearn: 0.0031675\ttest: 0.0038481\tbest: 0.0038481 (100)\ttotal: 1m 47s\tremaining: 15m 58s\n",
            "101:\tlearn: 0.0031675\ttest: 0.0038481\tbest: 0.0038481 (101)\ttotal: 1m 48s\tremaining: 15m 54s\n",
            "102:\tlearn: 0.0031670\ttest: 0.0038471\tbest: 0.0038471 (102)\ttotal: 1m 49s\tremaining: 15m 50s\n",
            "103:\tlearn: 0.0031670\ttest: 0.0038470\tbest: 0.0038470 (103)\ttotal: 1m 49s\tremaining: 15m 43s\n",
            "104:\tlearn: 0.0031670\ttest: 0.0038470\tbest: 0.0038470 (104)\ttotal: 1m 50s\tremaining: 15m 40s\n",
            "105:\tlearn: 0.0031633\ttest: 0.0038444\tbest: 0.0038444 (105)\ttotal: 1m 51s\tremaining: 15m 40s\n",
            "106:\tlearn: 0.0031509\ttest: 0.0038331\tbest: 0.0038331 (106)\ttotal: 1m 52s\tremaining: 15m 39s\n",
            "107:\tlearn: 0.0031451\ttest: 0.0038226\tbest: 0.0038226 (107)\ttotal: 1m 53s\tremaining: 15m 38s\n",
            "108:\tlearn: 0.0031449\ttest: 0.0038225\tbest: 0.0038225 (108)\ttotal: 1m 54s\tremaining: 15m 34s\n",
            "109:\tlearn: 0.0031448\ttest: 0.0038225\tbest: 0.0038225 (108)\ttotal: 1m 55s\tremaining: 15m 31s\n",
            "110:\tlearn: 0.0030918\ttest: 0.0037652\tbest: 0.0037652 (110)\ttotal: 1m 56s\tremaining: 15m 31s\n",
            "111:\tlearn: 0.0030905\ttest: 0.0037654\tbest: 0.0037652 (110)\ttotal: 1m 57s\tremaining: 15m 28s\n",
            "112:\tlearn: 0.0030901\ttest: 0.0037651\tbest: 0.0037651 (112)\ttotal: 1m 57s\tremaining: 15m 23s\n",
            "113:\tlearn: 0.0030901\ttest: 0.0037651\tbest: 0.0037651 (113)\ttotal: 1m 58s\tremaining: 15m 19s\n",
            "114:\tlearn: 0.0029991\ttest: 0.0037186\tbest: 0.0037186 (114)\ttotal: 1m 59s\tremaining: 15m 18s\n",
            "115:\tlearn: 0.0029975\ttest: 0.0037167\tbest: 0.0037167 (115)\ttotal: 2m\tremaining: 15m 16s\n",
            "116:\tlearn: 0.0029961\ttest: 0.0037164\tbest: 0.0037164 (116)\ttotal: 2m 1s\tremaining: 15m 13s\n",
            "117:\tlearn: 0.0029926\ttest: 0.0037142\tbest: 0.0037142 (117)\ttotal: 2m 2s\tremaining: 15m 12s\n",
            "118:\tlearn: 0.0029857\ttest: 0.0037099\tbest: 0.0037099 (118)\ttotal: 2m 3s\tremaining: 15m 11s\n",
            "119:\tlearn: 0.0029857\ttest: 0.0037099\tbest: 0.0037099 (119)\ttotal: 2m 3s\tremaining: 15m 7s\n",
            "120:\tlearn: 0.0029857\ttest: 0.0037099\tbest: 0.0037099 (120)\ttotal: 2m 4s\tremaining: 15m 5s\n",
            "121:\tlearn: 0.0029857\ttest: 0.0037099\tbest: 0.0037099 (121)\ttotal: 2m 4s\tremaining: 14m 58s\n",
            "122:\tlearn: 0.0029850\ttest: 0.0037100\tbest: 0.0037099 (121)\ttotal: 2m 5s\tremaining: 14m 57s\n",
            "123:\tlearn: 0.0029850\ttest: 0.0037099\tbest: 0.0037099 (121)\ttotal: 2m 6s\tremaining: 14m 55s\n",
            "124:\tlearn: 0.0029850\ttest: 0.0037099\tbest: 0.0037099 (121)\ttotal: 2m 7s\tremaining: 14m 54s\n",
            "125:\tlearn: 0.0029850\ttest: 0.0037099\tbest: 0.0037099 (121)\ttotal: 2m 8s\tremaining: 14m 48s\n",
            "126:\tlearn: 0.0029849\ttest: 0.0037098\tbest: 0.0037098 (126)\ttotal: 2m 9s\tremaining: 14m 47s\n",
            "127:\tlearn: 0.0029849\ttest: 0.0037098\tbest: 0.0037098 (127)\ttotal: 2m 9s\tremaining: 14m 45s\n",
            "128:\tlearn: 0.0029849\ttest: 0.0037097\tbest: 0.0037097 (128)\ttotal: 2m 10s\tremaining: 14m 42s\n",
            "129:\tlearn: 0.0029849\ttest: 0.0037096\tbest: 0.0037096 (129)\ttotal: 2m 11s\tremaining: 14m 41s\n",
            "130:\tlearn: 0.0029849\ttest: 0.0037096\tbest: 0.0037096 (130)\ttotal: 2m 12s\tremaining: 14m 38s\n",
            "131:\tlearn: 0.0029849\ttest: 0.0037096\tbest: 0.0037096 (131)\ttotal: 2m 13s\tremaining: 14m 36s\n",
            "132:\tlearn: 0.0029849\ttest: 0.0037096\tbest: 0.0037096 (132)\ttotal: 2m 14s\tremaining: 14m 33s\n",
            "133:\tlearn: 0.0029849\ttest: 0.0037096\tbest: 0.0037096 (133)\ttotal: 2m 14s\tremaining: 14m 29s\n",
            "134:\tlearn: 0.0029848\ttest: 0.0037095\tbest: 0.0037095 (134)\ttotal: 2m 15s\tremaining: 14m 26s\n",
            "135:\tlearn: 0.0029848\ttest: 0.0037095\tbest: 0.0037095 (135)\ttotal: 2m 16s\tremaining: 14m 26s\n",
            "136:\tlearn: 0.0029848\ttest: 0.0037095\tbest: 0.0037095 (136)\ttotal: 2m 17s\tremaining: 14m 24s\n",
            "137:\tlearn: 0.0029847\ttest: 0.0037094\tbest: 0.0037094 (137)\ttotal: 2m 18s\tremaining: 14m 22s\n",
            "138:\tlearn: 0.0029847\ttest: 0.0037094\tbest: 0.0037094 (138)\ttotal: 2m 19s\tremaining: 14m 21s\n",
            "139:\tlearn: 0.0029847\ttest: 0.0037093\tbest: 0.0037093 (139)\ttotal: 2m 19s\tremaining: 14m 19s\n",
            "140:\tlearn: 0.0029845\ttest: 0.0037086\tbest: 0.0037086 (140)\ttotal: 2m 20s\tremaining: 14m 16s\n",
            "141:\tlearn: 0.0029845\ttest: 0.0037086\tbest: 0.0037086 (141)\ttotal: 2m 21s\tremaining: 14m 15s\n",
            "142:\tlearn: 0.0029845\ttest: 0.0037086\tbest: 0.0037086 (142)\ttotal: 2m 22s\tremaining: 14m 13s\n",
            "143:\tlearn: 0.0029779\ttest: 0.0037079\tbest: 0.0037079 (143)\ttotal: 2m 23s\tremaining: 14m 13s\n",
            "144:\tlearn: 0.0029357\ttest: 0.0036749\tbest: 0.0036749 (144)\ttotal: 2m 24s\tremaining: 14m 13s\n",
            "145:\tlearn: 0.0029321\ttest: 0.0036702\tbest: 0.0036702 (145)\ttotal: 2m 25s\tremaining: 14m 13s\n",
            "146:\tlearn: 0.0029321\ttest: 0.0036702\tbest: 0.0036702 (146)\ttotal: 2m 26s\tremaining: 14m 10s\n",
            "147:\tlearn: 0.0029321\ttest: 0.0036702\tbest: 0.0036702 (147)\ttotal: 2m 27s\tremaining: 14m 7s\n",
            "148:\tlearn: 0.0029321\ttest: 0.0036702\tbest: 0.0036702 (148)\ttotal: 2m 28s\tremaining: 14m 5s\n",
            "149:\tlearn: 0.0029321\ttest: 0.0036701\tbest: 0.0036701 (149)\ttotal: 2m 28s\tremaining: 14m 2s\n",
            "150:\tlearn: 0.0029271\ttest: 0.0036671\tbest: 0.0036671 (150)\ttotal: 2m 29s\tremaining: 14m 2s\n",
            "151:\tlearn: 0.0029271\ttest: 0.0036671\tbest: 0.0036671 (151)\ttotal: 2m 30s\tremaining: 14m\n",
            "152:\tlearn: 0.0029226\ttest: 0.0036675\tbest: 0.0036671 (151)\ttotal: 2m 31s\tremaining: 14m\n",
            "153:\tlearn: 0.0029226\ttest: 0.0036675\tbest: 0.0036671 (151)\ttotal: 2m 32s\tremaining: 13m 58s\n",
            "154:\tlearn: 0.0029204\ttest: 0.0036664\tbest: 0.0036664 (154)\ttotal: 2m 33s\tremaining: 13m 58s\n",
            "155:\tlearn: 0.0028522\ttest: 0.0035866\tbest: 0.0035866 (155)\ttotal: 2m 34s\tremaining: 13m 57s\n",
            "156:\tlearn: 0.0028522\ttest: 0.0035866\tbest: 0.0035866 (156)\ttotal: 2m 35s\tremaining: 13m 56s\n",
            "157:\tlearn: 0.0028522\ttest: 0.0035866\tbest: 0.0035866 (157)\ttotal: 2m 36s\tremaining: 13m 53s\n",
            "158:\tlearn: 0.0028522\ttest: 0.0035866\tbest: 0.0035866 (158)\ttotal: 2m 37s\tremaining: 13m 52s\n",
            "159:\tlearn: 0.0028522\ttest: 0.0035866\tbest: 0.0035866 (159)\ttotal: 2m 38s\tremaining: 13m 50s\n",
            "160:\tlearn: 0.0028522\ttest: 0.0035866\tbest: 0.0035866 (160)\ttotal: 2m 39s\tremaining: 13m 49s\n",
            "161:\tlearn: 0.0028522\ttest: 0.0035866\tbest: 0.0035866 (161)\ttotal: 2m 40s\tremaining: 13m 48s\n",
            "162:\tlearn: 0.0028418\ttest: 0.0035826\tbest: 0.0035826 (162)\ttotal: 2m 41s\tremaining: 13m 50s\n",
            "163:\tlearn: 0.0028280\ttest: 0.0035740\tbest: 0.0035740 (163)\ttotal: 2m 43s\tremaining: 13m 52s\n",
            "164:\tlearn: 0.0028280\ttest: 0.0035740\tbest: 0.0035740 (164)\ttotal: 2m 44s\tremaining: 13m 51s\n",
            "165:\tlearn: 0.0028280\ttest: 0.0035739\tbest: 0.0035739 (165)\ttotal: 2m 45s\tremaining: 13m 50s\n",
            "166:\tlearn: 0.0028280\ttest: 0.0035739\tbest: 0.0035739 (166)\ttotal: 2m 46s\tremaining: 13m 48s\n",
            "167:\tlearn: 0.0028280\ttest: 0.0035739\tbest: 0.0035739 (167)\ttotal: 2m 47s\tremaining: 13m 47s\n",
            "168:\tlearn: 0.0028267\ttest: 0.0035739\tbest: 0.0035739 (168)\ttotal: 2m 48s\tremaining: 13m 46s\n",
            "169:\tlearn: 0.0028267\ttest: 0.0035739\tbest: 0.0035739 (169)\ttotal: 2m 48s\tremaining: 13m 44s\n",
            "170:\tlearn: 0.0028197\ttest: 0.0035678\tbest: 0.0035678 (170)\ttotal: 2m 50s\tremaining: 13m 44s\n",
            "171:\tlearn: 0.0028197\ttest: 0.0035677\tbest: 0.0035677 (171)\ttotal: 2m 50s\tremaining: 13m 41s\n",
            "172:\tlearn: 0.0028132\ttest: 0.0035641\tbest: 0.0035641 (172)\ttotal: 2m 51s\tremaining: 13m 40s\n",
            "173:\tlearn: 0.0028131\ttest: 0.0035641\tbest: 0.0035641 (173)\ttotal: 2m 52s\tremaining: 13m 40s\n",
            "174:\tlearn: 0.0028131\ttest: 0.0035640\tbest: 0.0035640 (174)\ttotal: 2m 53s\tremaining: 13m 38s\n",
            "175:\tlearn: 0.0028130\ttest: 0.0035639\tbest: 0.0035639 (175)\ttotal: 2m 54s\tremaining: 13m 37s\n",
            "176:\tlearn: 0.0028130\ttest: 0.0035638\tbest: 0.0035638 (176)\ttotal: 2m 55s\tremaining: 13m 35s\n",
            "177:\tlearn: 0.0027944\ttest: 0.0035576\tbest: 0.0035576 (177)\ttotal: 2m 56s\tremaining: 13m 35s\n",
            "178:\tlearn: 0.0027944\ttest: 0.0035576\tbest: 0.0035576 (178)\ttotal: 2m 57s\tremaining: 13m 33s\n",
            "179:\tlearn: 0.0027944\ttest: 0.0035576\tbest: 0.0035576 (179)\ttotal: 2m 58s\tremaining: 13m 32s\n",
            "180:\tlearn: 0.0027944\ttest: 0.0035576\tbest: 0.0035576 (180)\ttotal: 2m 59s\tremaining: 13m 30s\n",
            "181:\tlearn: 0.0027944\ttest: 0.0035575\tbest: 0.0035575 (181)\ttotal: 2m 59s\tremaining: 13m 28s\n",
            "182:\tlearn: 0.0027943\ttest: 0.0035574\tbest: 0.0035574 (182)\ttotal: 3m\tremaining: 13m 27s\n",
            "183:\tlearn: 0.0027904\ttest: 0.0035486\tbest: 0.0035486 (183)\ttotal: 3m 1s\tremaining: 13m 26s\n",
            "184:\tlearn: 0.0027904\ttest: 0.0035486\tbest: 0.0035486 (184)\ttotal: 3m 2s\tremaining: 13m 24s\n",
            "185:\tlearn: 0.0027904\ttest: 0.0035486\tbest: 0.0035486 (185)\ttotal: 3m 3s\tremaining: 13m 23s\n",
            "186:\tlearn: 0.0027890\ttest: 0.0035479\tbest: 0.0035479 (186)\ttotal: 3m 4s\tremaining: 13m 21s\n",
            "187:\tlearn: 0.0027464\ttest: 0.0035002\tbest: 0.0035002 (187)\ttotal: 3m 5s\tremaining: 13m 21s\n",
            "188:\tlearn: 0.0027362\ttest: 0.0034948\tbest: 0.0034948 (188)\ttotal: 3m 6s\tremaining: 13m 20s\n",
            "189:\tlearn: 0.0027042\ttest: 0.0034600\tbest: 0.0034600 (189)\ttotal: 3m 7s\tremaining: 13m 20s\n",
            "190:\tlearn: 0.0027010\ttest: 0.0034557\tbest: 0.0034557 (190)\ttotal: 3m 8s\tremaining: 13m 20s\n",
            "191:\tlearn: 0.0027010\ttest: 0.0034557\tbest: 0.0034557 (191)\ttotal: 3m 9s\tremaining: 13m 18s\n",
            "192:\tlearn: 0.0027010\ttest: 0.0034557\tbest: 0.0034557 (192)\ttotal: 3m 10s\tremaining: 13m 16s\n",
            "193:\tlearn: 0.0027010\ttest: 0.0034557\tbest: 0.0034557 (193)\ttotal: 3m 11s\tremaining: 13m 13s\n",
            "194:\tlearn: 0.0026906\ttest: 0.0034506\tbest: 0.0034506 (194)\ttotal: 3m 12s\tremaining: 13m 13s\n",
            "195:\tlearn: 0.0026906\ttest: 0.0034505\tbest: 0.0034505 (195)\ttotal: 3m 12s\tremaining: 13m 11s\n",
            "196:\tlearn: 0.0026816\ttest: 0.0034425\tbest: 0.0034425 (196)\ttotal: 3m 13s\tremaining: 13m 9s\n",
            "197:\tlearn: 0.0026578\ttest: 0.0034325\tbest: 0.0034325 (197)\ttotal: 3m 14s\tremaining: 13m 8s\n",
            "198:\tlearn: 0.0026578\ttest: 0.0034325\tbest: 0.0034325 (198)\ttotal: 3m 15s\tremaining: 13m 7s\n",
            "199:\tlearn: 0.0026554\ttest: 0.0034308\tbest: 0.0034308 (199)\ttotal: 3m 16s\tremaining: 13m 6s\n",
            "200:\tlearn: 0.0026341\ttest: 0.0034173\tbest: 0.0034173 (200)\ttotal: 3m 17s\tremaining: 13m 6s\n",
            "201:\tlearn: 0.0026275\ttest: 0.0034183\tbest: 0.0034173 (200)\ttotal: 3m 18s\tremaining: 13m 5s\n",
            "202:\tlearn: 0.0026117\ttest: 0.0034093\tbest: 0.0034093 (202)\ttotal: 3m 19s\tremaining: 13m 4s\n",
            "203:\tlearn: 0.0026117\ttest: 0.0034092\tbest: 0.0034092 (203)\ttotal: 3m 20s\tremaining: 13m 3s\n",
            "204:\tlearn: 0.0025935\ttest: 0.0033940\tbest: 0.0033940 (204)\ttotal: 3m 22s\tremaining: 13m 3s\n",
            "205:\tlearn: 0.0025934\ttest: 0.0033940\tbest: 0.0033940 (205)\ttotal: 3m 22s\tremaining: 13m 1s\n",
            "206:\tlearn: 0.0025934\ttest: 0.0033939\tbest: 0.0033939 (206)\ttotal: 3m 23s\tremaining: 13m\n",
            "207:\tlearn: 0.0025886\ttest: 0.0033943\tbest: 0.0033939 (206)\ttotal: 3m 24s\tremaining: 12m 59s\n",
            "208:\tlearn: 0.0025838\ttest: 0.0033904\tbest: 0.0033904 (208)\ttotal: 3m 25s\tremaining: 12m 58s\n",
            "209:\tlearn: 0.0025773\ttest: 0.0033850\tbest: 0.0033850 (209)\ttotal: 3m 26s\tremaining: 12m 57s\n",
            "210:\tlearn: 0.0025228\ttest: 0.0033172\tbest: 0.0033172 (210)\ttotal: 3m 27s\tremaining: 12m 57s\n",
            "211:\tlearn: 0.0025228\ttest: 0.0033172\tbest: 0.0033172 (211)\ttotal: 3m 28s\tremaining: 12m 56s\n",
            "212:\tlearn: 0.0025228\ttest: 0.0033172\tbest: 0.0033172 (212)\ttotal: 3m 29s\tremaining: 12m 54s\n",
            "213:\tlearn: 0.0025053\ttest: 0.0033022\tbest: 0.0033022 (213)\ttotal: 3m 30s\tremaining: 12m 54s\n",
            "214:\tlearn: 0.0025053\ttest: 0.0033021\tbest: 0.0033021 (214)\ttotal: 3m 31s\tremaining: 12m 53s\n",
            "215:\tlearn: 0.0025046\ttest: 0.0033016\tbest: 0.0033016 (215)\ttotal: 3m 32s\tremaining: 12m 52s\n",
            "216:\tlearn: 0.0024470\ttest: 0.0032579\tbest: 0.0032579 (216)\ttotal: 3m 34s\tremaining: 12m 52s\n",
            "217:\tlearn: 0.0024470\ttest: 0.0032578\tbest: 0.0032578 (217)\ttotal: 3m 34s\tremaining: 12m 50s\n",
            "218:\tlearn: 0.0024460\ttest: 0.0032573\tbest: 0.0032573 (218)\ttotal: 3m 35s\tremaining: 12m 50s\n",
            "219:\tlearn: 0.0024419\ttest: 0.0032542\tbest: 0.0032542 (219)\ttotal: 3m 36s\tremaining: 12m 49s\n",
            "220:\tlearn: 0.0024401\ttest: 0.0032534\tbest: 0.0032534 (220)\ttotal: 3m 37s\tremaining: 12m 48s\n",
            "221:\tlearn: 0.0024401\ttest: 0.0032533\tbest: 0.0032533 (221)\ttotal: 3m 38s\tremaining: 12m 47s\n",
            "222:\tlearn: 0.0024401\ttest: 0.0032533\tbest: 0.0032533 (222)\ttotal: 3m 39s\tremaining: 12m 45s\n",
            "223:\tlearn: 0.0024401\ttest: 0.0032533\tbest: 0.0032533 (223)\ttotal: 3m 40s\tremaining: 12m 44s\n",
            "224:\tlearn: 0.0024401\ttest: 0.0032533\tbest: 0.0032533 (224)\ttotal: 3m 41s\tremaining: 12m 43s\n",
            "225:\tlearn: 0.0024367\ttest: 0.0032507\tbest: 0.0032507 (225)\ttotal: 3m 42s\tremaining: 12m 42s\n",
            "226:\tlearn: 0.0024366\ttest: 0.0032506\tbest: 0.0032506 (226)\ttotal: 3m 43s\tremaining: 12m 41s\n",
            "227:\tlearn: 0.0024366\ttest: 0.0032506\tbest: 0.0032506 (227)\ttotal: 3m 44s\tremaining: 12m 40s\n",
            "228:\tlearn: 0.0024366\ttest: 0.0032506\tbest: 0.0032506 (228)\ttotal: 3m 45s\tremaining: 12m 38s\n",
            "229:\tlearn: 0.0024320\ttest: 0.0032477\tbest: 0.0032477 (229)\ttotal: 3m 46s\tremaining: 12m 38s\n",
            "230:\tlearn: 0.0024320\ttest: 0.0032477\tbest: 0.0032477 (230)\ttotal: 3m 47s\tremaining: 12m 37s\n",
            "231:\tlearn: 0.0024263\ttest: 0.0032502\tbest: 0.0032477 (230)\ttotal: 3m 48s\tremaining: 12m 36s\n",
            "232:\tlearn: 0.0024263\ttest: 0.0032501\tbest: 0.0032477 (230)\ttotal: 3m 49s\tremaining: 12m 35s\n",
            "233:\tlearn: 0.0024263\ttest: 0.0032501\tbest: 0.0032477 (230)\ttotal: 3m 50s\tremaining: 12m 33s\n",
            "234:\tlearn: 0.0023916\ttest: 0.0032222\tbest: 0.0032222 (234)\ttotal: 3m 51s\tremaining: 12m 33s\n",
            "235:\tlearn: 0.0023915\ttest: 0.0032222\tbest: 0.0032222 (235)\ttotal: 3m 52s\tremaining: 12m 31s\n",
            "236:\tlearn: 0.0023914\ttest: 0.0032219\tbest: 0.0032219 (236)\ttotal: 3m 53s\tremaining: 12m 30s\n",
            "237:\tlearn: 0.0023913\ttest: 0.0032219\tbest: 0.0032219 (237)\ttotal: 3m 54s\tremaining: 12m 29s\n",
            "238:\tlearn: 0.0023913\ttest: 0.0032218\tbest: 0.0032218 (238)\ttotal: 3m 54s\tremaining: 12m 27s\n",
            "239:\tlearn: 0.0023806\ttest: 0.0032222\tbest: 0.0032218 (238)\ttotal: 3m 55s\tremaining: 12m 27s\n",
            "240:\tlearn: 0.0023803\ttest: 0.0032216\tbest: 0.0032216 (240)\ttotal: 3m 56s\tremaining: 12m 24s\n",
            "241:\tlearn: 0.0023802\ttest: 0.0032216\tbest: 0.0032216 (241)\ttotal: 3m 57s\tremaining: 12m 22s\n",
            "242:\tlearn: 0.0023551\ttest: 0.0031931\tbest: 0.0031931 (242)\ttotal: 3m 58s\tremaining: 12m 22s\n",
            "243:\tlearn: 0.0023551\ttest: 0.0031931\tbest: 0.0031931 (243)\ttotal: 3m 59s\tremaining: 12m 21s\n",
            "244:\tlearn: 0.0023551\ttest: 0.0031931\tbest: 0.0031931 (244)\ttotal: 4m\tremaining: 12m 19s\n",
            "245:\tlearn: 0.0023551\ttest: 0.0031931\tbest: 0.0031931 (245)\ttotal: 4m 1s\tremaining: 12m 18s\n",
            "246:\tlearn: 0.0023551\ttest: 0.0031931\tbest: 0.0031931 (246)\ttotal: 4m 1s\tremaining: 12m 17s\n",
            "247:\tlearn: 0.0023551\ttest: 0.0031931\tbest: 0.0031931 (247)\ttotal: 4m 2s\tremaining: 12m 14s\n",
            "248:\tlearn: 0.0023551\ttest: 0.0031930\tbest: 0.0031930 (248)\ttotal: 4m 2s\tremaining: 12m 12s\n",
            "249:\tlearn: 0.0023551\ttest: 0.0031930\tbest: 0.0031930 (249)\ttotal: 4m 3s\tremaining: 12m 11s\n",
            "250:\tlearn: 0.0023551\ttest: 0.0031930\tbest: 0.0031930 (250)\ttotal: 4m 4s\tremaining: 12m 9s\n",
            "251:\tlearn: 0.0023550\ttest: 0.0031929\tbest: 0.0031929 (251)\ttotal: 4m 4s\tremaining: 12m 7s\n",
            "252:\tlearn: 0.0023550\ttest: 0.0031929\tbest: 0.0031929 (251)\ttotal: 4m 5s\tremaining: 12m 6s\n",
            "253:\tlearn: 0.0023550\ttest: 0.0031929\tbest: 0.0031929 (253)\ttotal: 4m 6s\tremaining: 12m 4s\n",
            "254:\tlearn: 0.0023550\ttest: 0.0031929\tbest: 0.0031929 (254)\ttotal: 4m 7s\tremaining: 12m 2s\n",
            "255:\tlearn: 0.0023550\ttest: 0.0031929\tbest: 0.0031929 (255)\ttotal: 4m 8s\tremaining: 12m\n",
            "256:\tlearn: 0.0023550\ttest: 0.0031929\tbest: 0.0031929 (256)\ttotal: 4m 8s\tremaining: 11m 58s\n",
            "257:\tlearn: 0.0023550\ttest: 0.0031928\tbest: 0.0031928 (257)\ttotal: 4m 9s\tremaining: 11m 57s\n",
            "258:\tlearn: 0.0023550\ttest: 0.0031928\tbest: 0.0031928 (258)\ttotal: 4m 10s\tremaining: 11m 56s\n",
            "259:\tlearn: 0.0023550\ttest: 0.0031928\tbest: 0.0031928 (259)\ttotal: 4m 11s\tremaining: 11m 54s\n",
            "260:\tlearn: 0.0023550\ttest: 0.0031928\tbest: 0.0031928 (260)\ttotal: 4m 12s\tremaining: 11m 53s\n",
            "261:\tlearn: 0.0023550\ttest: 0.0031928\tbest: 0.0031928 (261)\ttotal: 4m 12s\tremaining: 11m 51s\n",
            "262:\tlearn: 0.0023550\ttest: 0.0031928\tbest: 0.0031928 (262)\ttotal: 4m 12s\tremaining: 11m 48s\n",
            "263:\tlearn: 0.0023550\ttest: 0.0031928\tbest: 0.0031928 (263)\ttotal: 4m 13s\tremaining: 11m 46s\n",
            "264:\tlearn: 0.0023550\ttest: 0.0031928\tbest: 0.0031928 (264)\ttotal: 4m 14s\tremaining: 11m 45s\n",
            "265:\tlearn: 0.0023550\ttest: 0.0031928\tbest: 0.0031928 (265)\ttotal: 4m 14s\tremaining: 11m 43s\n",
            "266:\tlearn: 0.0023550\ttest: 0.0031928\tbest: 0.0031928 (266)\ttotal: 4m 15s\tremaining: 11m 41s\n",
            "267:\tlearn: 0.0023550\ttest: 0.0031928\tbest: 0.0031928 (267)\ttotal: 4m 15s\tremaining: 11m 39s\n",
            "268:\tlearn: 0.0023550\ttest: 0.0031928\tbest: 0.0031928 (268)\ttotal: 4m 16s\tremaining: 11m 37s\n",
            "269:\tlearn: 0.0023550\ttest: 0.0031928\tbest: 0.0031928 (269)\ttotal: 4m 17s\tremaining: 11m 36s\n",
            "270:\tlearn: 0.0023550\ttest: 0.0031928\tbest: 0.0031928 (270)\ttotal: 4m 18s\tremaining: 11m 35s\n",
            "271:\tlearn: 0.0023550\ttest: 0.0031927\tbest: 0.0031927 (271)\ttotal: 4m 19s\tremaining: 11m 33s\n",
            "272:\tlearn: 0.0023549\ttest: 0.0031926\tbest: 0.0031926 (272)\ttotal: 4m 20s\tremaining: 11m 32s\n",
            "273:\tlearn: 0.0023549\ttest: 0.0031926\tbest: 0.0031926 (273)\ttotal: 4m 20s\tremaining: 11m 30s\n",
            "274:\tlearn: 0.0023549\ttest: 0.0031926\tbest: 0.0031926 (274)\ttotal: 4m 21s\tremaining: 11m 29s\n",
            "275:\tlearn: 0.0023549\ttest: 0.0031926\tbest: 0.0031926 (275)\ttotal: 4m 22s\tremaining: 11m 28s\n",
            "276:\tlearn: 0.0023549\ttest: 0.0031926\tbest: 0.0031926 (276)\ttotal: 4m 23s\tremaining: 11m 27s\n",
            "277:\tlearn: 0.0023549\ttest: 0.0031926\tbest: 0.0031926 (277)\ttotal: 4m 23s\tremaining: 11m 24s\n",
            "278:\tlearn: 0.0023537\ttest: 0.0031925\tbest: 0.0031925 (278)\ttotal: 4m 24s\tremaining: 11m 24s\n",
            "279:\tlearn: 0.0023537\ttest: 0.0031925\tbest: 0.0031925 (279)\ttotal: 4m 25s\tremaining: 11m 22s\n",
            "280:\tlearn: 0.0023536\ttest: 0.0031925\tbest: 0.0031925 (280)\ttotal: 4m 26s\tremaining: 11m 22s\n",
            "281:\tlearn: 0.0023536\ttest: 0.0031925\tbest: 0.0031925 (281)\ttotal: 4m 27s\tremaining: 11m 21s\n",
            "282:\tlearn: 0.0023536\ttest: 0.0031925\tbest: 0.0031925 (282)\ttotal: 4m 28s\tremaining: 11m 19s\n",
            "283:\tlearn: 0.0023535\ttest: 0.0031925\tbest: 0.0031925 (283)\ttotal: 4m 29s\tremaining: 11m 18s\n",
            "284:\tlearn: 0.0023535\ttest: 0.0031924\tbest: 0.0031924 (284)\ttotal: 4m 29s\tremaining: 11m 17s\n",
            "285:\tlearn: 0.0023535\ttest: 0.0031924\tbest: 0.0031924 (285)\ttotal: 4m 31s\tremaining: 11m 16s\n",
            "286:\tlearn: 0.0023535\ttest: 0.0031924\tbest: 0.0031924 (286)\ttotal: 4m 31s\tremaining: 11m 15s\n",
            "287:\tlearn: 0.0023535\ttest: 0.0031924\tbest: 0.0031924 (287)\ttotal: 4m 32s\tremaining: 11m 14s\n",
            "288:\tlearn: 0.0023535\ttest: 0.0031924\tbest: 0.0031924 (287)\ttotal: 4m 33s\tremaining: 11m 13s\n",
            "289:\tlearn: 0.0023535\ttest: 0.0031924\tbest: 0.0031924 (289)\ttotal: 4m 34s\tremaining: 11m 12s\n",
            "290:\tlearn: 0.0023535\ttest: 0.0031924\tbest: 0.0031924 (290)\ttotal: 4m 35s\tremaining: 11m 11s\n",
            "291:\tlearn: 0.0023535\ttest: 0.0031924\tbest: 0.0031924 (291)\ttotal: 4m 36s\tremaining: 11m 10s\n",
            "292:\tlearn: 0.0023534\ttest: 0.0031924\tbest: 0.0031924 (292)\ttotal: 4m 37s\tremaining: 11m 9s\n",
            "293:\tlearn: 0.0023534\ttest: 0.0031923\tbest: 0.0031923 (293)\ttotal: 4m 38s\tremaining: 11m 8s\n",
            "294:\tlearn: 0.0023509\ttest: 0.0031876\tbest: 0.0031876 (294)\ttotal: 4m 39s\tremaining: 11m 7s\n",
            "295:\tlearn: 0.0023509\ttest: 0.0031876\tbest: 0.0031876 (295)\ttotal: 4m 40s\tremaining: 11m 6s\n",
            "296:\tlearn: 0.0023506\ttest: 0.0031873\tbest: 0.0031873 (296)\ttotal: 4m 41s\tremaining: 11m 6s\n",
            "297:\tlearn: 0.0023506\ttest: 0.0031873\tbest: 0.0031873 (297)\ttotal: 4m 42s\tremaining: 11m 5s\n",
            "298:\tlearn: 0.0023506\ttest: 0.0031873\tbest: 0.0031873 (298)\ttotal: 4m 43s\tremaining: 11m 4s\n",
            "299:\tlearn: 0.0023479\ttest: 0.0031851\tbest: 0.0031851 (299)\ttotal: 4m 44s\tremaining: 11m 3s\n",
            "300:\tlearn: 0.0023478\ttest: 0.0031846\tbest: 0.0031846 (300)\ttotal: 4m 44s\tremaining: 11m 1s\n",
            "301:\tlearn: 0.0023354\ttest: 0.0031757\tbest: 0.0031757 (301)\ttotal: 4m 46s\tremaining: 11m 1s\n",
            "302:\tlearn: 0.0023351\ttest: 0.0031758\tbest: 0.0031757 (301)\ttotal: 4m 46s\tremaining: 11m\n",
            "303:\tlearn: 0.0023316\ttest: 0.0031742\tbest: 0.0031742 (303)\ttotal: 4m 48s\tremaining: 10m 59s\n",
            "304:\tlearn: 0.0023282\ttest: 0.0031707\tbest: 0.0031707 (304)\ttotal: 4m 49s\tremaining: 11m\n",
            "305:\tlearn: 0.0023182\ttest: 0.0031583\tbest: 0.0031583 (305)\ttotal: 4m 51s\tremaining: 11m\n",
            "306:\tlearn: 0.0023181\ttest: 0.0031583\tbest: 0.0031583 (306)\ttotal: 4m 52s\tremaining: 10m 59s\n",
            "307:\tlearn: 0.0023181\ttest: 0.0031583\tbest: 0.0031583 (307)\ttotal: 4m 53s\tremaining: 10m 58s\n",
            "308:\tlearn: 0.0023181\ttest: 0.0031583\tbest: 0.0031583 (308)\ttotal: 4m 53s\tremaining: 10m 57s\n",
            "309:\tlearn: 0.0023181\ttest: 0.0031583\tbest: 0.0031583 (309)\ttotal: 4m 54s\tremaining: 10m 55s\n",
            "310:\tlearn: 0.0023180\ttest: 0.0031582\tbest: 0.0031582 (310)\ttotal: 4m 55s\tremaining: 10m 54s\n",
            "311:\tlearn: 0.0023141\ttest: 0.0031588\tbest: 0.0031582 (310)\ttotal: 4m 56s\tremaining: 10m 54s\n",
            "312:\tlearn: 0.0023115\ttest: 0.0031570\tbest: 0.0031570 (312)\ttotal: 4m 57s\tremaining: 10m 53s\n",
            "313:\tlearn: 0.0023115\ttest: 0.0031570\tbest: 0.0031570 (313)\ttotal: 4m 58s\tremaining: 10m 52s\n",
            "314:\tlearn: 0.0023115\ttest: 0.0031570\tbest: 0.0031570 (314)\ttotal: 4m 59s\tremaining: 10m 50s\n",
            "315:\tlearn: 0.0023115\ttest: 0.0031569\tbest: 0.0031569 (315)\ttotal: 5m\tremaining: 10m 49s\n",
            "316:\tlearn: 0.0023115\ttest: 0.0031569\tbest: 0.0031569 (316)\ttotal: 5m\tremaining: 10m 48s\n",
            "317:\tlearn: 0.0023073\ttest: 0.0031552\tbest: 0.0031552 (317)\ttotal: 5m 2s\tremaining: 10m 47s\n",
            "318:\tlearn: 0.0023073\ttest: 0.0031552\tbest: 0.0031552 (318)\ttotal: 5m 2s\tremaining: 10m 46s\n",
            "319:\tlearn: 0.0023072\ttest: 0.0031551\tbest: 0.0031551 (319)\ttotal: 5m 3s\tremaining: 10m 45s\n",
            "320:\tlearn: 0.0023072\ttest: 0.0031551\tbest: 0.0031551 (320)\ttotal: 5m 4s\tremaining: 10m 44s\n",
            "321:\tlearn: 0.0023064\ttest: 0.0031553\tbest: 0.0031551 (320)\ttotal: 5m 5s\tremaining: 10m 44s\n",
            "322:\tlearn: 0.0023064\ttest: 0.0031553\tbest: 0.0031551 (320)\ttotal: 5m 6s\tremaining: 10m 42s\n",
            "323:\tlearn: 0.0023062\ttest: 0.0031550\tbest: 0.0031550 (323)\ttotal: 5m 7s\tremaining: 10m 42s\n",
            "324:\tlearn: 0.0023062\ttest: 0.0031550\tbest: 0.0031550 (324)\ttotal: 5m 8s\tremaining: 10m 40s\n",
            "325:\tlearn: 0.0023062\ttest: 0.0031550\tbest: 0.0031550 (325)\ttotal: 5m 9s\tremaining: 10m 39s\n",
            "326:\tlearn: 0.0023061\ttest: 0.0031550\tbest: 0.0031550 (326)\ttotal: 5m 10s\tremaining: 10m 38s\n",
            "327:\tlearn: 0.0023061\ttest: 0.0031550\tbest: 0.0031550 (326)\ttotal: 5m 11s\tremaining: 10m 37s\n",
            "328:\tlearn: 0.0023061\ttest: 0.0031549\tbest: 0.0031549 (328)\ttotal: 5m 12s\tremaining: 10m 36s\n",
            "329:\tlearn: 0.0022979\ttest: 0.0031511\tbest: 0.0031511 (329)\ttotal: 5m 13s\tremaining: 10m 35s\n",
            "330:\tlearn: 0.0022732\ttest: 0.0031284\tbest: 0.0031284 (330)\ttotal: 5m 14s\tremaining: 10m 35s\n",
            "331:\tlearn: 0.0022731\ttest: 0.0031280\tbest: 0.0031280 (331)\ttotal: 5m 14s\tremaining: 10m 33s\n",
            "332:\tlearn: 0.0022721\ttest: 0.0031235\tbest: 0.0031235 (332)\ttotal: 5m 15s\tremaining: 10m 32s\n",
            "333:\tlearn: 0.0022721\ttest: 0.0031235\tbest: 0.0031235 (333)\ttotal: 5m 16s\tremaining: 10m 31s\n",
            "334:\tlearn: 0.0022615\ttest: 0.0031073\tbest: 0.0031073 (334)\ttotal: 5m 18s\tremaining: 10m 31s\n",
            "335:\tlearn: 0.0022615\ttest: 0.0031073\tbest: 0.0031073 (335)\ttotal: 5m 18s\tremaining: 10m 30s\n",
            "336:\tlearn: 0.0022615\ttest: 0.0031073\tbest: 0.0031073 (336)\ttotal: 5m 19s\tremaining: 10m 28s\n",
            "337:\tlearn: 0.0022615\ttest: 0.0031073\tbest: 0.0031073 (337)\ttotal: 5m 19s\tremaining: 10m 26s\n",
            "338:\tlearn: 0.0022590\ttest: 0.0031052\tbest: 0.0031052 (338)\ttotal: 5m 20s\tremaining: 10m 25s\n",
            "339:\tlearn: 0.0022371\ttest: 0.0030915\tbest: 0.0030915 (339)\ttotal: 5m 22s\tremaining: 10m 25s\n",
            "340:\tlearn: 0.0022371\ttest: 0.0030915\tbest: 0.0030915 (340)\ttotal: 5m 22s\tremaining: 10m 24s\n",
            "341:\tlearn: 0.0022371\ttest: 0.0030915\tbest: 0.0030915 (341)\ttotal: 5m 23s\tremaining: 10m 22s\n",
            "342:\tlearn: 0.0022334\ttest: 0.0030885\tbest: 0.0030885 (342)\ttotal: 5m 24s\tremaining: 10m 22s\n",
            "343:\tlearn: 0.0022334\ttest: 0.0030885\tbest: 0.0030885 (343)\ttotal: 5m 25s\tremaining: 10m 20s\n",
            "344:\tlearn: 0.0022306\ttest: 0.0030868\tbest: 0.0030868 (344)\ttotal: 5m 26s\tremaining: 10m 19s\n",
            "345:\tlearn: 0.0022306\ttest: 0.0030868\tbest: 0.0030868 (344)\ttotal: 5m 27s\tremaining: 10m 18s\n",
            "346:\tlearn: 0.0022306\ttest: 0.0030868\tbest: 0.0030868 (346)\ttotal: 5m 27s\tremaining: 10m 17s\n",
            "347:\tlearn: 0.0022284\ttest: 0.0030855\tbest: 0.0030855 (347)\ttotal: 5m 29s\tremaining: 10m 16s\n",
            "348:\tlearn: 0.0021712\ttest: 0.0030447\tbest: 0.0030447 (348)\ttotal: 5m 30s\tremaining: 10m 16s\n",
            "349:\tlearn: 0.0021665\ttest: 0.0030406\tbest: 0.0030406 (349)\ttotal: 5m 31s\tremaining: 10m 15s\n",
            "350:\tlearn: 0.0021665\ttest: 0.0030406\tbest: 0.0030406 (350)\ttotal: 5m 32s\tremaining: 10m 14s\n",
            "351:\tlearn: 0.0021657\ttest: 0.0030388\tbest: 0.0030388 (351)\ttotal: 5m 33s\tremaining: 10m 13s\n",
            "352:\tlearn: 0.0021556\ttest: 0.0030314\tbest: 0.0030314 (352)\ttotal: 5m 34s\tremaining: 10m 12s\n",
            "353:\tlearn: 0.0021556\ttest: 0.0030314\tbest: 0.0030314 (353)\ttotal: 5m 35s\tremaining: 10m 12s\n",
            "354:\tlearn: 0.0021556\ttest: 0.0030314\tbest: 0.0030314 (354)\ttotal: 5m 36s\tremaining: 10m 10s\n",
            "355:\tlearn: 0.0021556\ttest: 0.0030314\tbest: 0.0030314 (355)\ttotal: 5m 37s\tremaining: 10m 9s\n",
            "356:\tlearn: 0.0021482\ttest: 0.0030228\tbest: 0.0030228 (356)\ttotal: 5m 38s\tremaining: 10m 9s\n",
            "357:\tlearn: 0.0021482\ttest: 0.0030228\tbest: 0.0030228 (357)\ttotal: 5m 39s\tremaining: 10m 8s\n",
            "358:\tlearn: 0.0021481\ttest: 0.0030228\tbest: 0.0030228 (358)\ttotal: 5m 40s\tremaining: 10m 7s\n",
            "359:\tlearn: 0.0021481\ttest: 0.0030227\tbest: 0.0030227 (359)\ttotal: 5m 41s\tremaining: 10m 6s\n",
            "360:\tlearn: 0.0021481\ttest: 0.0030227\tbest: 0.0030227 (360)\ttotal: 5m 41s\tremaining: 10m 5s\n",
            "361:\tlearn: 0.0021481\ttest: 0.0030227\tbest: 0.0030227 (360)\ttotal: 5m 42s\tremaining: 10m 4s\n",
            "362:\tlearn: 0.0021481\ttest: 0.0030227\tbest: 0.0030227 (362)\ttotal: 5m 43s\tremaining: 10m 3s\n",
            "363:\tlearn: 0.0021481\ttest: 0.0030227\tbest: 0.0030227 (363)\ttotal: 5m 44s\tremaining: 10m 2s\n",
            "364:\tlearn: 0.0021481\ttest: 0.0030226\tbest: 0.0030226 (364)\ttotal: 5m 45s\tremaining: 10m\n",
            "365:\tlearn: 0.0021481\ttest: 0.0030226\tbest: 0.0030226 (365)\ttotal: 5m 45s\tremaining: 9m 59s\n",
            "366:\tlearn: 0.0021481\ttest: 0.0030226\tbest: 0.0030226 (366)\ttotal: 5m 46s\tremaining: 9m 57s\n",
            "367:\tlearn: 0.0021481\ttest: 0.0030226\tbest: 0.0030226 (367)\ttotal: 5m 47s\tremaining: 9m 56s\n",
            "368:\tlearn: 0.0021481\ttest: 0.0030226\tbest: 0.0030226 (368)\ttotal: 5m 48s\tremaining: 9m 56s\n",
            "369:\tlearn: 0.0021455\ttest: 0.0030239\tbest: 0.0030226 (368)\ttotal: 5m 49s\tremaining: 9m 55s\n",
            "370:\tlearn: 0.0021455\ttest: 0.0030239\tbest: 0.0030226 (368)\ttotal: 5m 50s\tremaining: 9m 53s\n",
            "371:\tlearn: 0.0021455\ttest: 0.0030238\tbest: 0.0030226 (368)\ttotal: 5m 51s\tremaining: 9m 52s\n",
            "372:\tlearn: 0.0021425\ttest: 0.0030233\tbest: 0.0030226 (368)\ttotal: 5m 52s\tremaining: 9m 52s\n",
            "373:\tlearn: 0.0021382\ttest: 0.0030224\tbest: 0.0030224 (373)\ttotal: 5m 53s\tremaining: 9m 52s\n",
            "374:\tlearn: 0.0021382\ttest: 0.0030224\tbest: 0.0030224 (374)\ttotal: 5m 54s\tremaining: 9m 51s\n",
            "375:\tlearn: 0.0021360\ttest: 0.0030209\tbest: 0.0030209 (375)\ttotal: 5m 55s\tremaining: 9m 50s\n",
            "376:\tlearn: 0.0021360\ttest: 0.0030209\tbest: 0.0030209 (376)\ttotal: 5m 56s\tremaining: 9m 48s\n",
            "377:\tlearn: 0.0021360\ttest: 0.0030208\tbest: 0.0030208 (377)\ttotal: 5m 56s\tremaining: 9m 46s\n",
            "378:\tlearn: 0.0021314\ttest: 0.0030202\tbest: 0.0030202 (378)\ttotal: 5m 58s\tremaining: 9m 46s\n",
            "379:\tlearn: 0.0021314\ttest: 0.0030202\tbest: 0.0030202 (379)\ttotal: 5m 58s\tremaining: 9m 45s\n",
            "380:\tlearn: 0.0021314\ttest: 0.0030202\tbest: 0.0030202 (380)\ttotal: 5m 59s\tremaining: 9m 44s\n",
            "381:\tlearn: 0.0021205\ttest: 0.0030077\tbest: 0.0030077 (381)\ttotal: 6m\tremaining: 9m 43s\n",
            "382:\tlearn: 0.0021111\ttest: 0.0029972\tbest: 0.0029972 (382)\ttotal: 6m 2s\tremaining: 9m 43s\n",
            "383:\tlearn: 0.0021070\ttest: 0.0029932\tbest: 0.0029932 (383)\ttotal: 6m 3s\tremaining: 9m 42s\n",
            "384:\tlearn: 0.0021070\ttest: 0.0029932\tbest: 0.0029932 (384)\ttotal: 6m 4s\tremaining: 9m 41s\n",
            "385:\tlearn: 0.0020950\ttest: 0.0029818\tbest: 0.0029818 (385)\ttotal: 6m 5s\tremaining: 9m 41s\n",
            "386:\tlearn: 0.0020950\ttest: 0.0029818\tbest: 0.0029818 (386)\ttotal: 6m 6s\tremaining: 9m 40s\n",
            "387:\tlearn: 0.0020853\ttest: 0.0029714\tbest: 0.0029714 (387)\ttotal: 6m 7s\tremaining: 9m 39s\n",
            "388:\tlearn: 0.0020853\ttest: 0.0029713\tbest: 0.0029713 (388)\ttotal: 6m 8s\tremaining: 9m 38s\n",
            "389:\tlearn: 0.0020853\ttest: 0.0029713\tbest: 0.0029713 (389)\ttotal: 6m 8s\tremaining: 9m 36s\n",
            "390:\tlearn: 0.0020839\ttest: 0.0029705\tbest: 0.0029705 (390)\ttotal: 6m 9s\tremaining: 9m 35s\n",
            "391:\tlearn: 0.0020839\ttest: 0.0029705\tbest: 0.0029705 (391)\ttotal: 6m 10s\tremaining: 9m 34s\n",
            "392:\tlearn: 0.0020782\ttest: 0.0029663\tbest: 0.0029663 (392)\ttotal: 6m 11s\tremaining: 9m 34s\n",
            "393:\tlearn: 0.0020780\ttest: 0.0029660\tbest: 0.0029660 (393)\ttotal: 6m 12s\tremaining: 9m 33s\n",
            "394:\tlearn: 0.0020780\ttest: 0.0029660\tbest: 0.0029660 (394)\ttotal: 6m 13s\tremaining: 9m 32s\n",
            "395:\tlearn: 0.0020759\ttest: 0.0029645\tbest: 0.0029645 (395)\ttotal: 6m 14s\tremaining: 9m 31s\n",
            "396:\tlearn: 0.0020759\ttest: 0.0029645\tbest: 0.0029645 (396)\ttotal: 6m 15s\tremaining: 9m 29s\n",
            "397:\tlearn: 0.0020759\ttest: 0.0029645\tbest: 0.0029645 (397)\ttotal: 6m 15s\tremaining: 9m 28s\n",
            "398:\tlearn: 0.0020759\ttest: 0.0029645\tbest: 0.0029645 (398)\ttotal: 6m 16s\tremaining: 9m 26s\n",
            "399:\tlearn: 0.0020759\ttest: 0.0029645\tbest: 0.0029645 (399)\ttotal: 6m 17s\tremaining: 9m 25s\n",
            "400:\tlearn: 0.0020736\ttest: 0.0029627\tbest: 0.0029627 (400)\ttotal: 6m 18s\tremaining: 9m 24s\n",
            "401:\tlearn: 0.0020736\ttest: 0.0029627\tbest: 0.0029627 (401)\ttotal: 6m 18s\tremaining: 9m 23s\n",
            "402:\tlearn: 0.0020736\ttest: 0.0029627\tbest: 0.0029627 (402)\ttotal: 6m 19s\tremaining: 9m 21s\n",
            "403:\tlearn: 0.0020684\ttest: 0.0029611\tbest: 0.0029611 (403)\ttotal: 6m 20s\tremaining: 9m 20s\n",
            "404:\tlearn: 0.0020684\ttest: 0.0029611\tbest: 0.0029611 (404)\ttotal: 6m 20s\tremaining: 9m 19s\n",
            "405:\tlearn: 0.0020631\ttest: 0.0029580\tbest: 0.0029580 (405)\ttotal: 6m 21s\tremaining: 9m 18s\n",
            "406:\tlearn: 0.0020612\ttest: 0.0029570\tbest: 0.0029570 (406)\ttotal: 6m 22s\tremaining: 9m 17s\n",
            "407:\tlearn: 0.0020559\ttest: 0.0029514\tbest: 0.0029514 (407)\ttotal: 6m 23s\tremaining: 9m 16s\n",
            "408:\tlearn: 0.0020559\ttest: 0.0029514\tbest: 0.0029514 (408)\ttotal: 6m 24s\tremaining: 9m 15s\n",
            "409:\tlearn: 0.0020524\ttest: 0.0029533\tbest: 0.0029514 (408)\ttotal: 6m 25s\tremaining: 9m 14s\n",
            "410:\tlearn: 0.0020156\ttest: 0.0029359\tbest: 0.0029359 (410)\ttotal: 6m 26s\tremaining: 9m 14s\n",
            "411:\tlearn: 0.0020156\ttest: 0.0029358\tbest: 0.0029358 (411)\ttotal: 6m 27s\tremaining: 9m 12s\n",
            "412:\tlearn: 0.0020156\ttest: 0.0029358\tbest: 0.0029358 (412)\ttotal: 6m 27s\tremaining: 9m 11s\n",
            "413:\tlearn: 0.0020156\ttest: 0.0029358\tbest: 0.0029358 (413)\ttotal: 6m 28s\tremaining: 9m 9s\n",
            "414:\tlearn: 0.0020061\ttest: 0.0029276\tbest: 0.0029276 (414)\ttotal: 6m 29s\tremaining: 9m 9s\n",
            "415:\tlearn: 0.0019962\ttest: 0.0029201\tbest: 0.0029201 (415)\ttotal: 6m 30s\tremaining: 9m 8s\n",
            "416:\tlearn: 0.0019754\ttest: 0.0028959\tbest: 0.0028959 (416)\ttotal: 6m 31s\tremaining: 9m 7s\n",
            "417:\tlearn: 0.0019708\ttest: 0.0028906\tbest: 0.0028906 (417)\ttotal: 6m 32s\tremaining: 9m 7s\n",
            "418:\tlearn: 0.0019708\ttest: 0.0028906\tbest: 0.0028906 (418)\ttotal: 6m 33s\tremaining: 9m 6s\n",
            "419:\tlearn: 0.0019621\ttest: 0.0028843\tbest: 0.0028843 (419)\ttotal: 6m 35s\tremaining: 9m 5s\n",
            "420:\tlearn: 0.0019621\ttest: 0.0028843\tbest: 0.0028843 (420)\ttotal: 6m 36s\tremaining: 9m 4s\n",
            "421:\tlearn: 0.0019621\ttest: 0.0028843\tbest: 0.0028843 (421)\ttotal: 6m 36s\tremaining: 9m 3s\n",
            "422:\tlearn: 0.0019621\ttest: 0.0028843\tbest: 0.0028843 (422)\ttotal: 6m 37s\tremaining: 9m 2s\n",
            "423:\tlearn: 0.0019620\ttest: 0.0028842\tbest: 0.0028842 (423)\ttotal: 6m 38s\tremaining: 9m 1s\n",
            "424:\tlearn: 0.0019618\ttest: 0.0028838\tbest: 0.0028838 (424)\ttotal: 6m 39s\tremaining: 9m\n",
            "425:\tlearn: 0.0019618\ttest: 0.0028838\tbest: 0.0028838 (425)\ttotal: 6m 40s\tremaining: 8m 59s\n",
            "426:\tlearn: 0.0019217\ttest: 0.0028519\tbest: 0.0028519 (426)\ttotal: 6m 41s\tremaining: 8m 58s\n",
            "427:\tlearn: 0.0019217\ttest: 0.0028518\tbest: 0.0028518 (427)\ttotal: 6m 42s\tremaining: 8m 58s\n",
            "428:\tlearn: 0.0019216\ttest: 0.0028518\tbest: 0.0028518 (428)\ttotal: 6m 43s\tremaining: 8m 57s\n",
            "429:\tlearn: 0.0019216\ttest: 0.0028517\tbest: 0.0028517 (429)\ttotal: 6m 44s\tremaining: 8m 55s\n",
            "430:\tlearn: 0.0019216\ttest: 0.0028516\tbest: 0.0028516 (430)\ttotal: 6m 45s\tremaining: 8m 54s\n",
            "431:\tlearn: 0.0019215\ttest: 0.0028515\tbest: 0.0028515 (431)\ttotal: 6m 45s\tremaining: 8m 53s\n",
            "432:\tlearn: 0.0019161\ttest: 0.0028438\tbest: 0.0028438 (432)\ttotal: 6m 47s\tremaining: 8m 53s\n",
            "433:\tlearn: 0.0019161\ttest: 0.0028438\tbest: 0.0028438 (433)\ttotal: 6m 47s\tremaining: 8m 51s\n",
            "434:\tlearn: 0.0019161\ttest: 0.0028438\tbest: 0.0028438 (434)\ttotal: 6m 48s\tremaining: 8m 50s\n",
            "435:\tlearn: 0.0019161\ttest: 0.0028438\tbest: 0.0028438 (435)\ttotal: 6m 48s\tremaining: 8m 49s\n",
            "436:\tlearn: 0.0019161\ttest: 0.0028438\tbest: 0.0028438 (436)\ttotal: 6m 49s\tremaining: 8m 48s\n",
            "437:\tlearn: 0.0019161\ttest: 0.0028437\tbest: 0.0028437 (437)\ttotal: 6m 50s\tremaining: 8m 47s\n",
            "438:\tlearn: 0.0019161\ttest: 0.0028437\tbest: 0.0028437 (438)\ttotal: 6m 51s\tremaining: 8m 46s\n",
            "439:\tlearn: 0.0019161\ttest: 0.0028437\tbest: 0.0028437 (439)\ttotal: 6m 52s\tremaining: 8m 45s\n",
            "440:\tlearn: 0.0019161\ttest: 0.0028437\tbest: 0.0028437 (440)\ttotal: 6m 53s\tremaining: 8m 44s\n",
            "441:\tlearn: 0.0019161\ttest: 0.0028437\tbest: 0.0028437 (441)\ttotal: 6m 54s\tremaining: 8m 42s\n",
            "442:\tlearn: 0.0019161\ttest: 0.0028437\tbest: 0.0028437 (442)\ttotal: 6m 54s\tremaining: 8m 41s\n",
            "443:\tlearn: 0.0019161\ttest: 0.0028437\tbest: 0.0028437 (443)\ttotal: 6m 55s\tremaining: 8m 39s\n",
            "444:\tlearn: 0.0019161\ttest: 0.0028437\tbest: 0.0028437 (444)\ttotal: 6m 56s\tremaining: 8m 39s\n",
            "445:\tlearn: 0.0019161\ttest: 0.0028436\tbest: 0.0028436 (445)\ttotal: 6m 56s\tremaining: 8m 37s\n",
            "446:\tlearn: 0.0019161\ttest: 0.0028436\tbest: 0.0028436 (446)\ttotal: 6m 57s\tremaining: 8m 36s\n",
            "447:\tlearn: 0.0019161\ttest: 0.0028436\tbest: 0.0028436 (447)\ttotal: 6m 58s\tremaining: 8m 35s\n",
            "448:\tlearn: 0.0019161\ttest: 0.0028436\tbest: 0.0028436 (448)\ttotal: 6m 58s\tremaining: 8m 33s\n",
            "449:\tlearn: 0.0019161\ttest: 0.0028436\tbest: 0.0028436 (449)\ttotal: 6m 59s\tremaining: 8m 33s\n",
            "450:\tlearn: 0.0019161\ttest: 0.0028435\tbest: 0.0028435 (450)\ttotal: 7m\tremaining: 8m 32s\n",
            "451:\tlearn: 0.0019161\ttest: 0.0028435\tbest: 0.0028435 (451)\ttotal: 7m 1s\tremaining: 8m 31s\n",
            "452:\tlearn: 0.0019161\ttest: 0.0028435\tbest: 0.0028435 (452)\ttotal: 7m 2s\tremaining: 8m 30s\n",
            "453:\tlearn: 0.0019161\ttest: 0.0028435\tbest: 0.0028435 (453)\ttotal: 7m 3s\tremaining: 8m 29s\n",
            "454:\tlearn: 0.0019161\ttest: 0.0028435\tbest: 0.0028435 (454)\ttotal: 7m 4s\tremaining: 8m 28s\n",
            "455:\tlearn: 0.0019161\ttest: 0.0028435\tbest: 0.0028435 (455)\ttotal: 7m 5s\tremaining: 8m 27s\n",
            "456:\tlearn: 0.0019161\ttest: 0.0028435\tbest: 0.0028435 (456)\ttotal: 7m 6s\tremaining: 8m 26s\n",
            "457:\tlearn: 0.0019161\ttest: 0.0028435\tbest: 0.0028435 (456)\ttotal: 7m 7s\tremaining: 8m 25s\n",
            "458:\tlearn: 0.0019161\ttest: 0.0028435\tbest: 0.0028435 (458)\ttotal: 7m 7s\tremaining: 8m 24s\n",
            "459:\tlearn: 0.0019161\ttest: 0.0028435\tbest: 0.0028435 (459)\ttotal: 7m 8s\tremaining: 8m 23s\n",
            "460:\tlearn: 0.0019161\ttest: 0.0028435\tbest: 0.0028435 (460)\ttotal: 7m 9s\tremaining: 8m 22s\n",
            "461:\tlearn: 0.0019161\ttest: 0.0028435\tbest: 0.0028435 (461)\ttotal: 7m 10s\tremaining: 8m 21s\n",
            "462:\tlearn: 0.0019157\ttest: 0.0028430\tbest: 0.0028430 (462)\ttotal: 7m 11s\tremaining: 8m 20s\n",
            "463:\tlearn: 0.0018995\ttest: 0.0028342\tbest: 0.0028342 (463)\ttotal: 7m 12s\tremaining: 8m 20s\n",
            "464:\tlearn: 0.0018995\ttest: 0.0028342\tbest: 0.0028342 (464)\ttotal: 7m 13s\tremaining: 8m 18s\n",
            "465:\tlearn: 0.0018995\ttest: 0.0028342\tbest: 0.0028342 (465)\ttotal: 7m 14s\tremaining: 8m 17s\n",
            "466:\tlearn: 0.0018995\ttest: 0.0028342\tbest: 0.0028342 (466)\ttotal: 7m 14s\tremaining: 8m 16s\n",
            "467:\tlearn: 0.0018995\ttest: 0.0028342\tbest: 0.0028342 (466)\ttotal: 7m 15s\tremaining: 8m 15s\n",
            "468:\tlearn: 0.0018912\ttest: 0.0028291\tbest: 0.0028291 (468)\ttotal: 7m 16s\tremaining: 8m 14s\n",
            "469:\tlearn: 0.0018912\ttest: 0.0028291\tbest: 0.0028291 (469)\ttotal: 7m 17s\tremaining: 8m 13s\n",
            "470:\tlearn: 0.0018912\ttest: 0.0028291\tbest: 0.0028291 (470)\ttotal: 7m 18s\tremaining: 8m 12s\n",
            "471:\tlearn: 0.0018911\ttest: 0.0028291\tbest: 0.0028291 (471)\ttotal: 7m 19s\tremaining: 8m 11s\n",
            "472:\tlearn: 0.0018877\ttest: 0.0028272\tbest: 0.0028272 (472)\ttotal: 7m 20s\tremaining: 8m 11s\n",
            "473:\tlearn: 0.0018877\ttest: 0.0028272\tbest: 0.0028272 (473)\ttotal: 7m 21s\tremaining: 8m 9s\n",
            "474:\tlearn: 0.0018877\ttest: 0.0028272\tbest: 0.0028272 (474)\ttotal: 7m 22s\tremaining: 8m 8s\n",
            "475:\tlearn: 0.0018877\ttest: 0.0028271\tbest: 0.0028271 (475)\ttotal: 7m 22s\tremaining: 8m 7s\n",
            "476:\tlearn: 0.0018877\ttest: 0.0028271\tbest: 0.0028271 (476)\ttotal: 7m 23s\tremaining: 8m 6s\n",
            "477:\tlearn: 0.0018877\ttest: 0.0028271\tbest: 0.0028271 (477)\ttotal: 7m 24s\tremaining: 8m 5s\n",
            "478:\tlearn: 0.0018877\ttest: 0.0028271\tbest: 0.0028271 (478)\ttotal: 7m 24s\tremaining: 8m 3s\n",
            "479:\tlearn: 0.0018877\ttest: 0.0028271\tbest: 0.0028271 (479)\ttotal: 7m 25s\tremaining: 8m 2s\n",
            "480:\tlearn: 0.0018877\ttest: 0.0028271\tbest: 0.0028271 (480)\ttotal: 7m 26s\tremaining: 8m 1s\n",
            "481:\tlearn: 0.0018877\ttest: 0.0028271\tbest: 0.0028271 (481)\ttotal: 7m 27s\tremaining: 8m\n",
            "482:\tlearn: 0.0018877\ttest: 0.0028271\tbest: 0.0028271 (482)\ttotal: 7m 28s\tremaining: 7m 59s\n",
            "483:\tlearn: 0.0018877\ttest: 0.0028271\tbest: 0.0028271 (483)\ttotal: 7m 29s\tremaining: 7m 58s\n",
            "484:\tlearn: 0.0018877\ttest: 0.0028271\tbest: 0.0028271 (484)\ttotal: 7m 30s\tremaining: 7m 57s\n",
            "485:\tlearn: 0.0018877\ttest: 0.0028271\tbest: 0.0028271 (485)\ttotal: 7m 30s\tremaining: 7m 56s\n",
            "486:\tlearn: 0.0018877\ttest: 0.0028271\tbest: 0.0028271 (486)\ttotal: 7m 31s\tremaining: 7m 55s\n",
            "487:\tlearn: 0.0018877\ttest: 0.0028271\tbest: 0.0028271 (487)\ttotal: 7m 32s\tremaining: 7m 54s\n",
            "488:\tlearn: 0.0018877\ttest: 0.0028271\tbest: 0.0028271 (488)\ttotal: 7m 32s\tremaining: 7m 53s\n",
            "489:\tlearn: 0.0018876\ttest: 0.0028270\tbest: 0.0028270 (489)\ttotal: 7m 33s\tremaining: 7m 52s\n",
            "490:\tlearn: 0.0018876\ttest: 0.0028270\tbest: 0.0028270 (490)\ttotal: 7m 34s\tremaining: 7m 51s\n",
            "491:\tlearn: 0.0018876\ttest: 0.0028269\tbest: 0.0028269 (491)\ttotal: 7m 35s\tremaining: 7m 50s\n",
            "492:\tlearn: 0.0018876\ttest: 0.0028269\tbest: 0.0028269 (492)\ttotal: 7m 36s\tremaining: 7m 49s\n",
            "493:\tlearn: 0.0018876\ttest: 0.0028268\tbest: 0.0028268 (493)\ttotal: 7m 37s\tremaining: 7m 48s\n",
            "494:\tlearn: 0.0018876\ttest: 0.0028268\tbest: 0.0028268 (494)\ttotal: 7m 38s\tremaining: 7m 47s\n",
            "495:\tlearn: 0.0018876\ttest: 0.0028268\tbest: 0.0028268 (495)\ttotal: 7m 38s\tremaining: 7m 45s\n",
            "496:\tlearn: 0.0018876\ttest: 0.0028268\tbest: 0.0028268 (496)\ttotal: 7m 39s\tremaining: 7m 45s\n",
            "497:\tlearn: 0.0018876\ttest: 0.0028268\tbest: 0.0028268 (497)\ttotal: 7m 40s\tremaining: 7m 44s\n",
            "498:\tlearn: 0.0018876\ttest: 0.0028268\tbest: 0.0028268 (497)\ttotal: 7m 40s\tremaining: 7m 42s\n",
            "499:\tlearn: 0.0018875\ttest: 0.0028265\tbest: 0.0028265 (499)\ttotal: 7m 41s\tremaining: 7m 41s\n",
            "500:\tlearn: 0.0018875\ttest: 0.0028265\tbest: 0.0028265 (500)\ttotal: 7m 42s\tremaining: 7m 40s\n",
            "501:\tlearn: 0.0018875\ttest: 0.0028265\tbest: 0.0028265 (501)\ttotal: 7m 43s\tremaining: 7m 39s\n",
            "502:\tlearn: 0.0018875\ttest: 0.0028265\tbest: 0.0028265 (502)\ttotal: 7m 44s\tremaining: 7m 38s\n",
            "503:\tlearn: 0.0018840\ttest: 0.0028268\tbest: 0.0028265 (502)\ttotal: 7m 45s\tremaining: 7m 38s\n",
            "504:\tlearn: 0.0018840\ttest: 0.0028268\tbest: 0.0028265 (502)\ttotal: 7m 46s\tremaining: 7m 37s\n",
            "505:\tlearn: 0.0018840\ttest: 0.0028268\tbest: 0.0028265 (502)\ttotal: 7m 47s\tremaining: 7m 36s\n",
            "506:\tlearn: 0.0018443\ttest: 0.0028019\tbest: 0.0028019 (506)\ttotal: 7m 48s\tremaining: 7m 35s\n",
            "507:\tlearn: 0.0018443\ttest: 0.0028019\tbest: 0.0028019 (507)\ttotal: 7m 49s\tremaining: 7m 34s\n",
            "508:\tlearn: 0.0018254\ttest: 0.0027709\tbest: 0.0027709 (508)\ttotal: 7m 50s\tremaining: 7m 34s\n",
            "509:\tlearn: 0.0018254\ttest: 0.0027709\tbest: 0.0027709 (508)\ttotal: 7m 51s\tremaining: 7m 33s\n",
            "510:\tlearn: 0.0018254\ttest: 0.0027709\tbest: 0.0027709 (510)\ttotal: 7m 52s\tremaining: 7m 32s\n",
            "511:\tlearn: 0.0018236\ttest: 0.0027694\tbest: 0.0027694 (511)\ttotal: 7m 54s\tremaining: 7m 31s\n",
            "512:\tlearn: 0.0018117\ttest: 0.0027547\tbest: 0.0027547 (512)\ttotal: 7m 55s\tremaining: 7m 31s\n",
            "513:\tlearn: 0.0018117\ttest: 0.0027547\tbest: 0.0027547 (513)\ttotal: 7m 56s\tremaining: 7m 30s\n",
            "514:\tlearn: 0.0018116\ttest: 0.0027547\tbest: 0.0027547 (514)\ttotal: 7m 57s\tremaining: 7m 29s\n",
            "515:\tlearn: 0.0018116\ttest: 0.0027547\tbest: 0.0027547 (515)\ttotal: 7m 57s\tremaining: 7m 28s\n",
            "516:\tlearn: 0.0018100\ttest: 0.0027532\tbest: 0.0027532 (516)\ttotal: 7m 58s\tremaining: 7m 27s\n",
            "517:\tlearn: 0.0018100\ttest: 0.0027531\tbest: 0.0027531 (517)\ttotal: 7m 59s\tremaining: 7m 26s\n",
            "518:\tlearn: 0.0018100\ttest: 0.0027531\tbest: 0.0027531 (518)\ttotal: 8m\tremaining: 7m 25s\n",
            "519:\tlearn: 0.0018100\ttest: 0.0027531\tbest: 0.0027531 (519)\ttotal: 8m 1s\tremaining: 7m 24s\n",
            "520:\tlearn: 0.0018071\ttest: 0.0027521\tbest: 0.0027521 (520)\ttotal: 8m 2s\tremaining: 7m 23s\n",
            "521:\tlearn: 0.0018071\ttest: 0.0027520\tbest: 0.0027520 (521)\ttotal: 8m 3s\tremaining: 7m 22s\n",
            "522:\tlearn: 0.0018071\ttest: 0.0027520\tbest: 0.0027520 (522)\ttotal: 8m 4s\tremaining: 7m 21s\n",
            "523:\tlearn: 0.0018071\ttest: 0.0027520\tbest: 0.0027520 (523)\ttotal: 8m 4s\tremaining: 7m 20s\n",
            "524:\tlearn: 0.0018071\ttest: 0.0027520\tbest: 0.0027520 (524)\ttotal: 8m 5s\tremaining: 7m 19s\n",
            "525:\tlearn: 0.0018071\ttest: 0.0027520\tbest: 0.0027520 (525)\ttotal: 8m 6s\tremaining: 7m 18s\n",
            "526:\tlearn: 0.0018071\ttest: 0.0027520\tbest: 0.0027520 (526)\ttotal: 8m 6s\tremaining: 7m 16s\n",
            "527:\tlearn: 0.0018071\ttest: 0.0027520\tbest: 0.0027520 (527)\ttotal: 8m 7s\tremaining: 7m 15s\n",
            "528:\tlearn: 0.0018071\ttest: 0.0027520\tbest: 0.0027520 (528)\ttotal: 8m 8s\tremaining: 7m 14s\n",
            "529:\tlearn: 0.0018071\ttest: 0.0027520\tbest: 0.0027520 (529)\ttotal: 8m 9s\tremaining: 7m 13s\n",
            "530:\tlearn: 0.0018053\ttest: 0.0027506\tbest: 0.0027506 (530)\ttotal: 8m 10s\tremaining: 7m 12s\n",
            "531:\tlearn: 0.0018053\ttest: 0.0027506\tbest: 0.0027506 (531)\ttotal: 8m 10s\tremaining: 7m 11s\n",
            "532:\tlearn: 0.0018053\ttest: 0.0027505\tbest: 0.0027505 (532)\ttotal: 8m 11s\tremaining: 7m 10s\n",
            "533:\tlearn: 0.0017954\ttest: 0.0027488\tbest: 0.0027488 (533)\ttotal: 8m 12s\tremaining: 7m 9s\n",
            "534:\tlearn: 0.0017943\ttest: 0.0027468\tbest: 0.0027468 (534)\ttotal: 8m 13s\tremaining: 7m 9s\n",
            "535:\tlearn: 0.0017651\ttest: 0.0027271\tbest: 0.0027271 (535)\ttotal: 8m 14s\tremaining: 7m 8s\n",
            "536:\tlearn: 0.0017651\ttest: 0.0027271\tbest: 0.0027271 (536)\ttotal: 8m 15s\tremaining: 7m 7s\n",
            "537:\tlearn: 0.0017625\ttest: 0.0027240\tbest: 0.0027240 (537)\ttotal: 8m 16s\tremaining: 7m 6s\n",
            "538:\tlearn: 0.0017590\ttest: 0.0027193\tbest: 0.0027193 (538)\ttotal: 8m 17s\tremaining: 7m 5s\n",
            "539:\tlearn: 0.0017590\ttest: 0.0027193\tbest: 0.0027193 (539)\ttotal: 8m 18s\tremaining: 7m 4s\n",
            "540:\tlearn: 0.0017590\ttest: 0.0027192\tbest: 0.0027192 (540)\ttotal: 8m 19s\tremaining: 7m 3s\n",
            "541:\tlearn: 0.0017590\ttest: 0.0027192\tbest: 0.0027192 (541)\ttotal: 8m 20s\tremaining: 7m 3s\n",
            "542:\tlearn: 0.0017590\ttest: 0.0027192\tbest: 0.0027192 (542)\ttotal: 8m 21s\tremaining: 7m 2s\n",
            "543:\tlearn: 0.0017590\ttest: 0.0027192\tbest: 0.0027192 (543)\ttotal: 8m 22s\tremaining: 7m\n",
            "544:\tlearn: 0.0017531\ttest: 0.0027185\tbest: 0.0027185 (544)\ttotal: 8m 23s\tremaining: 7m\n",
            "545:\tlearn: 0.0017531\ttest: 0.0027185\tbest: 0.0027185 (545)\ttotal: 8m 24s\tremaining: 6m 59s\n",
            "546:\tlearn: 0.0017531\ttest: 0.0027185\tbest: 0.0027185 (546)\ttotal: 8m 25s\tremaining: 6m 58s\n",
            "547:\tlearn: 0.0017531\ttest: 0.0027185\tbest: 0.0027185 (547)\ttotal: 8m 25s\tremaining: 6m 57s\n",
            "548:\tlearn: 0.0017531\ttest: 0.0027185\tbest: 0.0027185 (548)\ttotal: 8m 26s\tremaining: 6m 55s\n",
            "549:\tlearn: 0.0017531\ttest: 0.0027184\tbest: 0.0027184 (549)\ttotal: 8m 27s\tremaining: 6m 54s\n",
            "550:\tlearn: 0.0017531\ttest: 0.0027184\tbest: 0.0027184 (550)\ttotal: 8m 28s\tremaining: 6m 53s\n",
            "551:\tlearn: 0.0017531\ttest: 0.0027183\tbest: 0.0027183 (551)\ttotal: 8m 28s\tremaining: 6m 53s\n",
            "552:\tlearn: 0.0017531\ttest: 0.0027183\tbest: 0.0027183 (552)\ttotal: 8m 29s\tremaining: 6m 52s\n",
            "553:\tlearn: 0.0017531\ttest: 0.0027183\tbest: 0.0027183 (553)\ttotal: 8m 30s\tremaining: 6m 51s\n",
            "554:\tlearn: 0.0017531\ttest: 0.0027183\tbest: 0.0027183 (554)\ttotal: 8m 31s\tremaining: 6m 50s\n",
            "555:\tlearn: 0.0017531\ttest: 0.0027183\tbest: 0.0027183 (555)\ttotal: 8m 32s\tremaining: 6m 49s\n",
            "556:\tlearn: 0.0017531\ttest: 0.0027183\tbest: 0.0027183 (556)\ttotal: 8m 32s\tremaining: 6m 47s\n",
            "557:\tlearn: 0.0017531\ttest: 0.0027183\tbest: 0.0027183 (557)\ttotal: 8m 33s\tremaining: 6m 46s\n",
            "558:\tlearn: 0.0017531\ttest: 0.0027183\tbest: 0.0027183 (558)\ttotal: 8m 34s\tremaining: 6m 45s\n",
            "559:\tlearn: 0.0017531\ttest: 0.0027183\tbest: 0.0027183 (559)\ttotal: 8m 35s\tremaining: 6m 44s\n",
            "560:\tlearn: 0.0017531\ttest: 0.0027183\tbest: 0.0027183 (560)\ttotal: 8m 36s\tremaining: 6m 43s\n",
            "561:\tlearn: 0.0017531\ttest: 0.0027183\tbest: 0.0027183 (561)\ttotal: 8m 36s\tremaining: 6m 42s\n",
            "562:\tlearn: 0.0017531\ttest: 0.0027182\tbest: 0.0027182 (562)\ttotal: 8m 37s\tremaining: 6m 41s\n",
            "563:\tlearn: 0.0017531\ttest: 0.0027182\tbest: 0.0027182 (563)\ttotal: 8m 38s\tremaining: 6m 40s\n",
            "564:\tlearn: 0.0017531\ttest: 0.0027182\tbest: 0.0027182 (564)\ttotal: 8m 39s\tremaining: 6m 39s\n",
            "565:\tlearn: 0.0017531\ttest: 0.0027182\tbest: 0.0027182 (564)\ttotal: 8m 40s\tremaining: 6m 38s\n",
            "566:\tlearn: 0.0017530\ttest: 0.0027181\tbest: 0.0027181 (566)\ttotal: 8m 40s\tremaining: 6m 37s\n",
            "567:\tlearn: 0.0017530\ttest: 0.0027181\tbest: 0.0027181 (567)\ttotal: 8m 41s\tremaining: 6m 36s\n",
            "568:\tlearn: 0.0017530\ttest: 0.0027181\tbest: 0.0027181 (568)\ttotal: 8m 42s\tremaining: 6m 35s\n",
            "569:\tlearn: 0.0017530\ttest: 0.0027180\tbest: 0.0027180 (569)\ttotal: 8m 43s\tremaining: 6m 34s\n",
            "570:\tlearn: 0.0017530\ttest: 0.0027180\tbest: 0.0027180 (570)\ttotal: 8m 44s\tremaining: 6m 33s\n",
            "571:\tlearn: 0.0017530\ttest: 0.0027180\tbest: 0.0027180 (571)\ttotal: 8m 45s\tremaining: 6m 32s\n",
            "572:\tlearn: 0.0017530\ttest: 0.0027180\tbest: 0.0027180 (572)\ttotal: 8m 46s\tremaining: 6m 32s\n",
            "573:\tlearn: 0.0017530\ttest: 0.0027180\tbest: 0.0027180 (573)\ttotal: 8m 47s\tremaining: 6m 31s\n",
            "574:\tlearn: 0.0017530\ttest: 0.0027180\tbest: 0.0027180 (574)\ttotal: 8m 48s\tremaining: 6m 30s\n",
            "575:\tlearn: 0.0017530\ttest: 0.0027180\tbest: 0.0027180 (575)\ttotal: 8m 49s\tremaining: 6m 29s\n",
            "576:\tlearn: 0.0017530\ttest: 0.0027179\tbest: 0.0027179 (576)\ttotal: 8m 49s\tremaining: 6m 28s\n",
            "577:\tlearn: 0.0017530\ttest: 0.0027179\tbest: 0.0027179 (577)\ttotal: 8m 50s\tremaining: 6m 27s\n",
            "578:\tlearn: 0.0017530\ttest: 0.0027179\tbest: 0.0027179 (578)\ttotal: 8m 51s\tremaining: 6m 26s\n",
            "579:\tlearn: 0.0017530\ttest: 0.0027179\tbest: 0.0027179 (579)\ttotal: 8m 52s\tremaining: 6m 25s\n",
            "580:\tlearn: 0.0017530\ttest: 0.0027179\tbest: 0.0027179 (580)\ttotal: 8m 53s\tremaining: 6m 24s\n",
            "581:\tlearn: 0.0017530\ttest: 0.0027179\tbest: 0.0027179 (581)\ttotal: 8m 54s\tremaining: 6m 23s\n",
            "582:\tlearn: 0.0017530\ttest: 0.0027179\tbest: 0.0027179 (582)\ttotal: 8m 55s\tremaining: 6m 22s\n",
            "583:\tlearn: 0.0017529\ttest: 0.0027178\tbest: 0.0027178 (583)\ttotal: 8m 55s\tremaining: 6m 21s\n",
            "584:\tlearn: 0.0017529\ttest: 0.0027177\tbest: 0.0027177 (584)\ttotal: 8m 57s\tremaining: 6m 21s\n",
            "585:\tlearn: 0.0017529\ttest: 0.0027177\tbest: 0.0027177 (585)\ttotal: 8m 57s\tremaining: 6m 19s\n",
            "586:\tlearn: 0.0017529\ttest: 0.0027177\tbest: 0.0027177 (586)\ttotal: 8m 58s\tremaining: 6m 18s\n",
            "587:\tlearn: 0.0017529\ttest: 0.0027177\tbest: 0.0027177 (587)\ttotal: 8m 58s\tremaining: 6m 17s\n",
            "588:\tlearn: 0.0017529\ttest: 0.0027177\tbest: 0.0027177 (587)\ttotal: 8m 59s\tremaining: 6m 16s\n",
            "589:\tlearn: 0.0017514\ttest: 0.0027160\tbest: 0.0027160 (589)\ttotal: 9m 1s\tremaining: 6m 15s\n",
            "590:\tlearn: 0.0017502\ttest: 0.0027153\tbest: 0.0027153 (590)\ttotal: 9m 2s\tremaining: 6m 15s\n",
            "591:\tlearn: 0.0017502\ttest: 0.0027153\tbest: 0.0027153 (591)\ttotal: 9m 3s\tremaining: 6m 14s\n",
            "592:\tlearn: 0.0017502\ttest: 0.0027153\tbest: 0.0027153 (592)\ttotal: 9m 4s\tremaining: 6m 13s\n",
            "593:\tlearn: 0.0017502\ttest: 0.0027153\tbest: 0.0027153 (593)\ttotal: 9m 5s\tremaining: 6m 13s\n",
            "594:\tlearn: 0.0017502\ttest: 0.0027153\tbest: 0.0027153 (594)\ttotal: 9m 6s\tremaining: 6m 12s\n",
            "595:\tlearn: 0.0017502\ttest: 0.0027153\tbest: 0.0027153 (595)\ttotal: 9m 7s\tremaining: 6m 11s\n",
            "596:\tlearn: 0.0017502\ttest: 0.0027152\tbest: 0.0027152 (596)\ttotal: 9m 8s\tremaining: 6m 10s\n",
            "597:\tlearn: 0.0017502\ttest: 0.0027152\tbest: 0.0027152 (597)\ttotal: 9m 9s\tremaining: 6m 9s\n",
            "598:\tlearn: 0.0017502\ttest: 0.0027152\tbest: 0.0027152 (598)\ttotal: 9m 10s\tremaining: 6m 8s\n",
            "599:\tlearn: 0.0017502\ttest: 0.0027152\tbest: 0.0027152 (598)\ttotal: 9m 11s\tremaining: 6m 7s\n",
            "600:\tlearn: 0.0017502\ttest: 0.0027152\tbest: 0.0027152 (600)\ttotal: 9m 12s\tremaining: 6m 6s\n",
            "601:\tlearn: 0.0017502\ttest: 0.0027152\tbest: 0.0027152 (601)\ttotal: 9m 12s\tremaining: 6m 5s\n",
            "602:\tlearn: 0.0017502\ttest: 0.0027152\tbest: 0.0027152 (602)\ttotal: 9m 13s\tremaining: 6m 4s\n",
            "603:\tlearn: 0.0017502\ttest: 0.0027152\tbest: 0.0027152 (602)\ttotal: 9m 14s\tremaining: 6m 3s\n",
            "604:\tlearn: 0.0017502\ttest: 0.0027152\tbest: 0.0027152 (602)\ttotal: 9m 15s\tremaining: 6m 2s\n",
            "605:\tlearn: 0.0017502\ttest: 0.0027151\tbest: 0.0027151 (605)\ttotal: 9m 15s\tremaining: 6m 1s\n",
            "606:\tlearn: 0.0017502\ttest: 0.0027151\tbest: 0.0027151 (606)\ttotal: 9m 16s\tremaining: 6m\n",
            "607:\tlearn: 0.0017502\ttest: 0.0027151\tbest: 0.0027151 (607)\ttotal: 9m 17s\tremaining: 5m 59s\n",
            "608:\tlearn: 0.0017502\ttest: 0.0027151\tbest: 0.0027151 (608)\ttotal: 9m 18s\tremaining: 5m 58s\n",
            "609:\tlearn: 0.0017502\ttest: 0.0027150\tbest: 0.0027150 (609)\ttotal: 9m 19s\tremaining: 5m 57s\n",
            "610:\tlearn: 0.0017502\ttest: 0.0027150\tbest: 0.0027150 (610)\ttotal: 9m 20s\tremaining: 5m 56s\n",
            "611:\tlearn: 0.0017502\ttest: 0.0027150\tbest: 0.0027150 (611)\ttotal: 9m 21s\tremaining: 5m 56s\n",
            "612:\tlearn: 0.0017502\ttest: 0.0027150\tbest: 0.0027150 (612)\ttotal: 9m 22s\tremaining: 5m 55s\n",
            "613:\tlearn: 0.0017502\ttest: 0.0027150\tbest: 0.0027150 (613)\ttotal: 9m 23s\tremaining: 5m 54s\n",
            "614:\tlearn: 0.0017502\ttest: 0.0027150\tbest: 0.0027150 (614)\ttotal: 9m 24s\tremaining: 5m 53s\n",
            "615:\tlearn: 0.0017502\ttest: 0.0027150\tbest: 0.0027150 (615)\ttotal: 9m 25s\tremaining: 5m 52s\n",
            "616:\tlearn: 0.0017502\ttest: 0.0027150\tbest: 0.0027150 (616)\ttotal: 9m 26s\tremaining: 5m 51s\n",
            "617:\tlearn: 0.0017502\ttest: 0.0027149\tbest: 0.0027149 (617)\ttotal: 9m 27s\tremaining: 5m 50s\n",
            "618:\tlearn: 0.0017502\ttest: 0.0027149\tbest: 0.0027149 (617)\ttotal: 9m 28s\tremaining: 5m 49s\n",
            "619:\tlearn: 0.0017502\ttest: 0.0027149\tbest: 0.0027149 (617)\ttotal: 9m 29s\tremaining: 5m 48s\n",
            "620:\tlearn: 0.0017502\ttest: 0.0027149\tbest: 0.0027149 (617)\ttotal: 9m 29s\tremaining: 5m 47s\n",
            "621:\tlearn: 0.0017502\ttest: 0.0027149\tbest: 0.0027149 (621)\ttotal: 9m 30s\tremaining: 5m 46s\n",
            "622:\tlearn: 0.0017502\ttest: 0.0027149\tbest: 0.0027149 (622)\ttotal: 9m 31s\tremaining: 5m 45s\n",
            "623:\tlearn: 0.0017502\ttest: 0.0027149\tbest: 0.0027149 (623)\ttotal: 9m 32s\tremaining: 5m 45s\n",
            "624:\tlearn: 0.0017501\ttest: 0.0027149\tbest: 0.0027149 (624)\ttotal: 9m 33s\tremaining: 5m 44s\n",
            "625:\tlearn: 0.0017501\ttest: 0.0027148\tbest: 0.0027148 (625)\ttotal: 9m 34s\tremaining: 5m 43s\n",
            "626:\tlearn: 0.0017501\ttest: 0.0027148\tbest: 0.0027148 (626)\ttotal: 9m 35s\tremaining: 5m 42s\n",
            "627:\tlearn: 0.0017501\ttest: 0.0027148\tbest: 0.0027148 (627)\ttotal: 9m 36s\tremaining: 5m 41s\n",
            "628:\tlearn: 0.0017501\ttest: 0.0027148\tbest: 0.0027148 (628)\ttotal: 9m 37s\tremaining: 5m 40s\n",
            "629:\tlearn: 0.0017501\ttest: 0.0027148\tbest: 0.0027148 (629)\ttotal: 9m 38s\tremaining: 5m 39s\n",
            "630:\tlearn: 0.0017501\ttest: 0.0027148\tbest: 0.0027148 (630)\ttotal: 9m 39s\tremaining: 5m 38s\n",
            "631:\tlearn: 0.0017500\ttest: 0.0027146\tbest: 0.0027146 (631)\ttotal: 9m 40s\tremaining: 5m 37s\n",
            "632:\tlearn: 0.0017500\ttest: 0.0027146\tbest: 0.0027146 (632)\ttotal: 9m 41s\tremaining: 5m 36s\n",
            "633:\tlearn: 0.0017500\ttest: 0.0027145\tbest: 0.0027145 (633)\ttotal: 9m 41s\tremaining: 5m 35s\n",
            "634:\tlearn: 0.0017500\ttest: 0.0027145\tbest: 0.0027145 (634)\ttotal: 9m 42s\tremaining: 5m 34s\n",
            "635:\tlearn: 0.0017500\ttest: 0.0027145\tbest: 0.0027145 (635)\ttotal: 9m 43s\tremaining: 5m 33s\n",
            "636:\tlearn: 0.0017500\ttest: 0.0027145\tbest: 0.0027145 (636)\ttotal: 9m 43s\tremaining: 5m 32s\n",
            "637:\tlearn: 0.0017500\ttest: 0.0027145\tbest: 0.0027145 (637)\ttotal: 9m 44s\tremaining: 5m 31s\n",
            "638:\tlearn: 0.0017500\ttest: 0.0027144\tbest: 0.0027144 (638)\ttotal: 9m 45s\tremaining: 5m 30s\n",
            "639:\tlearn: 0.0017500\ttest: 0.0027144\tbest: 0.0027144 (638)\ttotal: 9m 46s\tremaining: 5m 29s\n",
            "640:\tlearn: 0.0017500\ttest: 0.0027144\tbest: 0.0027144 (640)\ttotal: 9m 46s\tremaining: 5m 28s\n",
            "641:\tlearn: 0.0017499\ttest: 0.0027144\tbest: 0.0027144 (641)\ttotal: 9m 47s\tremaining: 5m 27s\n",
            "642:\tlearn: 0.0017499\ttest: 0.0027144\tbest: 0.0027144 (642)\ttotal: 9m 49s\tremaining: 5m 27s\n",
            "643:\tlearn: 0.0017499\ttest: 0.0027143\tbest: 0.0027143 (643)\ttotal: 9m 50s\tremaining: 5m 26s\n",
            "644:\tlearn: 0.0017499\ttest: 0.0027143\tbest: 0.0027143 (644)\ttotal: 9m 50s\tremaining: 5m 25s\n",
            "645:\tlearn: 0.0017499\ttest: 0.0027143\tbest: 0.0027143 (645)\ttotal: 9m 51s\tremaining: 5m 24s\n",
            "646:\tlearn: 0.0017499\ttest: 0.0027143\tbest: 0.0027143 (646)\ttotal: 9m 52s\tremaining: 5m 23s\n",
            "647:\tlearn: 0.0017499\ttest: 0.0027143\tbest: 0.0027143 (647)\ttotal: 9m 53s\tremaining: 5m 22s\n",
            "648:\tlearn: 0.0017499\ttest: 0.0027143\tbest: 0.0027143 (648)\ttotal: 9m 54s\tremaining: 5m 21s\n",
            "649:\tlearn: 0.0017499\ttest: 0.0027143\tbest: 0.0027143 (649)\ttotal: 9m 55s\tremaining: 5m 20s\n",
            "650:\tlearn: 0.0017487\ttest: 0.0027140\tbest: 0.0027140 (650)\ttotal: 9m 56s\tremaining: 5m 19s\n",
            "651:\tlearn: 0.0017487\ttest: 0.0027140\tbest: 0.0027140 (651)\ttotal: 9m 57s\tremaining: 5m 18s\n",
            "652:\tlearn: 0.0017445\ttest: 0.0027121\tbest: 0.0027121 (652)\ttotal: 9m 58s\tremaining: 5m 18s\n",
            "653:\tlearn: 0.0017428\ttest: 0.0027125\tbest: 0.0027121 (652)\ttotal: 9m 59s\tremaining: 5m 17s\n",
            "654:\tlearn: 0.0017428\ttest: 0.0027125\tbest: 0.0027121 (652)\ttotal: 10m\tremaining: 5m 16s\n",
            "655:\tlearn: 0.0017428\ttest: 0.0027124\tbest: 0.0027121 (652)\ttotal: 10m 1s\tremaining: 5m 15s\n",
            "656:\tlearn: 0.0017428\ttest: 0.0027124\tbest: 0.0027121 (652)\ttotal: 10m 2s\tremaining: 5m 14s\n",
            "657:\tlearn: 0.0017428\ttest: 0.0027124\tbest: 0.0027121 (652)\ttotal: 10m 3s\tremaining: 5m 13s\n",
            "658:\tlearn: 0.0017428\ttest: 0.0027124\tbest: 0.0027121 (652)\ttotal: 10m 4s\tremaining: 5m 12s\n",
            "659:\tlearn: 0.0017428\ttest: 0.0027124\tbest: 0.0027121 (652)\ttotal: 10m 5s\tremaining: 5m 11s\n",
            "660:\tlearn: 0.0017428\ttest: 0.0027123\tbest: 0.0027121 (652)\ttotal: 10m 6s\tremaining: 5m 10s\n",
            "661:\tlearn: 0.0017428\ttest: 0.0027123\tbest: 0.0027121 (652)\ttotal: 10m 7s\tremaining: 5m 9s\n",
            "662:\tlearn: 0.0017428\ttest: 0.0027123\tbest: 0.0027121 (652)\ttotal: 10m 7s\tremaining: 5m 9s\n",
            "663:\tlearn: 0.0017428\ttest: 0.0027123\tbest: 0.0027121 (652)\ttotal: 10m 8s\tremaining: 5m 8s\n",
            "664:\tlearn: 0.0017428\ttest: 0.0027123\tbest: 0.0027121 (652)\ttotal: 10m 9s\tremaining: 5m 7s\n",
            "665:\tlearn: 0.0017428\ttest: 0.0027123\tbest: 0.0027121 (652)\ttotal: 10m 10s\tremaining: 5m 6s\n",
            "666:\tlearn: 0.0017428\ttest: 0.0027122\tbest: 0.0027121 (652)\ttotal: 10m 11s\tremaining: 5m 5s\n",
            "667:\tlearn: 0.0017428\ttest: 0.0027122\tbest: 0.0027121 (652)\ttotal: 10m 12s\tremaining: 5m 4s\n",
            "668:\tlearn: 0.0017428\ttest: 0.0027122\tbest: 0.0027121 (652)\ttotal: 10m 13s\tremaining: 5m 3s\n",
            "669:\tlearn: 0.0017428\ttest: 0.0027122\tbest: 0.0027121 (652)\ttotal: 10m 14s\tremaining: 5m 2s\n",
            "670:\tlearn: 0.0017428\ttest: 0.0027122\tbest: 0.0027121 (652)\ttotal: 10m 15s\tremaining: 5m 1s\n",
            "671:\tlearn: 0.0017428\ttest: 0.0027122\tbest: 0.0027121 (652)\ttotal: 10m 16s\tremaining: 5m\n",
            "672:\tlearn: 0.0017428\ttest: 0.0027122\tbest: 0.0027121 (652)\ttotal: 10m 16s\tremaining: 4m 59s\n",
            "673:\tlearn: 0.0017428\ttest: 0.0027122\tbest: 0.0027121 (652)\ttotal: 10m 17s\tremaining: 4m 58s\n",
            "674:\tlearn: 0.0017428\ttest: 0.0027122\tbest: 0.0027121 (652)\ttotal: 10m 18s\tremaining: 4m 57s\n",
            "675:\tlearn: 0.0017428\ttest: 0.0027122\tbest: 0.0027121 (652)\ttotal: 10m 19s\tremaining: 4m 56s\n",
            "676:\tlearn: 0.0017428\ttest: 0.0027121\tbest: 0.0027121 (652)\ttotal: 10m 20s\tremaining: 4m 56s\n",
            "677:\tlearn: 0.0017428\ttest: 0.0027121\tbest: 0.0027121 (652)\ttotal: 10m 20s\tremaining: 4m 54s\n",
            "678:\tlearn: 0.0017428\ttest: 0.0027121\tbest: 0.0027121 (652)\ttotal: 10m 21s\tremaining: 4m 53s\n",
            "679:\tlearn: 0.0017428\ttest: 0.0027120\tbest: 0.0027120 (679)\ttotal: 10m 22s\tremaining: 4m 53s\n",
            "680:\tlearn: 0.0017428\ttest: 0.0027120\tbest: 0.0027120 (680)\ttotal: 10m 23s\tremaining: 4m 52s\n",
            "681:\tlearn: 0.0017428\ttest: 0.0027120\tbest: 0.0027120 (681)\ttotal: 10m 24s\tremaining: 4m 51s\n",
            "682:\tlearn: 0.0017428\ttest: 0.0027119\tbest: 0.0027119 (682)\ttotal: 10m 24s\tremaining: 4m 49s\n",
            "683:\tlearn: 0.0017427\ttest: 0.0027119\tbest: 0.0027119 (683)\ttotal: 10m 25s\tremaining: 4m 48s\n",
            "684:\tlearn: 0.0017427\ttest: 0.0027118\tbest: 0.0027118 (684)\ttotal: 10m 26s\tremaining: 4m 48s\n",
            "685:\tlearn: 0.0017427\ttest: 0.0027118\tbest: 0.0027118 (685)\ttotal: 10m 26s\tremaining: 4m 46s\n",
            "686:\tlearn: 0.0017427\ttest: 0.0027118\tbest: 0.0027118 (686)\ttotal: 10m 27s\tremaining: 4m 46s\n",
            "687:\tlearn: 0.0017427\ttest: 0.0027118\tbest: 0.0027118 (687)\ttotal: 10m 28s\tremaining: 4m 45s\n",
            "688:\tlearn: 0.0017427\ttest: 0.0027118\tbest: 0.0027118 (688)\ttotal: 10m 29s\tremaining: 4m 44s\n",
            "689:\tlearn: 0.0017427\ttest: 0.0027117\tbest: 0.0027117 (689)\ttotal: 10m 30s\tremaining: 4m 43s\n",
            "690:\tlearn: 0.0017427\ttest: 0.0027117\tbest: 0.0027117 (690)\ttotal: 10m 31s\tremaining: 4m 42s\n",
            "691:\tlearn: 0.0017427\ttest: 0.0027117\tbest: 0.0027117 (691)\ttotal: 10m 32s\tremaining: 4m 41s\n",
            "692:\tlearn: 0.0017427\ttest: 0.0027117\tbest: 0.0027117 (692)\ttotal: 10m 33s\tremaining: 4m 40s\n",
            "693:\tlearn: 0.0017427\ttest: 0.0027117\tbest: 0.0027117 (693)\ttotal: 10m 34s\tremaining: 4m 39s\n",
            "694:\tlearn: 0.0017427\ttest: 0.0027117\tbest: 0.0027117 (694)\ttotal: 10m 35s\tremaining: 4m 38s\n",
            "695:\tlearn: 0.0017427\ttest: 0.0027116\tbest: 0.0027116 (695)\ttotal: 10m 36s\tremaining: 4m 38s\n",
            "696:\tlearn: 0.0017427\ttest: 0.0027116\tbest: 0.0027116 (696)\ttotal: 10m 37s\tremaining: 4m 37s\n",
            "697:\tlearn: 0.0017427\ttest: 0.0027116\tbest: 0.0027116 (697)\ttotal: 10m 38s\tremaining: 4m 36s\n",
            "698:\tlearn: 0.0017427\ttest: 0.0027116\tbest: 0.0027116 (698)\ttotal: 10m 39s\tremaining: 4m 35s\n",
            "699:\tlearn: 0.0017427\ttest: 0.0027116\tbest: 0.0027116 (699)\ttotal: 10m 40s\tremaining: 4m 34s\n",
            "700:\tlearn: 0.0017427\ttest: 0.0027116\tbest: 0.0027116 (700)\ttotal: 10m 41s\tremaining: 4m 33s\n",
            "701:\tlearn: 0.0017427\ttest: 0.0027115\tbest: 0.0027115 (701)\ttotal: 10m 42s\tremaining: 4m 32s\n",
            "702:\tlearn: 0.0017426\ttest: 0.0027114\tbest: 0.0027114 (702)\ttotal: 10m 43s\tremaining: 4m 31s\n",
            "703:\tlearn: 0.0017426\ttest: 0.0027114\tbest: 0.0027114 (703)\ttotal: 10m 44s\tremaining: 4m 30s\n",
            "704:\tlearn: 0.0017426\ttest: 0.0027114\tbest: 0.0027114 (704)\ttotal: 10m 45s\tremaining: 4m 29s\n",
            "705:\tlearn: 0.0017426\ttest: 0.0027114\tbest: 0.0027114 (705)\ttotal: 10m 45s\tremaining: 4m 28s\n",
            "706:\tlearn: 0.0017426\ttest: 0.0027113\tbest: 0.0027113 (706)\ttotal: 10m 46s\tremaining: 4m 27s\n",
            "707:\tlearn: 0.0017426\ttest: 0.0027113\tbest: 0.0027113 (707)\ttotal: 10m 47s\tremaining: 4m 27s\n",
            "708:\tlearn: 0.0017426\ttest: 0.0027113\tbest: 0.0027113 (708)\ttotal: 10m 48s\tremaining: 4m 26s\n",
            "709:\tlearn: 0.0017426\ttest: 0.0027111\tbest: 0.0027111 (709)\ttotal: 10m 49s\tremaining: 4m 25s\n",
            "710:\tlearn: 0.0017426\ttest: 0.0027111\tbest: 0.0027111 (710)\ttotal: 10m 50s\tremaining: 4m 24s\n",
            "711:\tlearn: 0.0017426\ttest: 0.0027110\tbest: 0.0027110 (711)\ttotal: 10m 51s\tremaining: 4m 23s\n",
            "712:\tlearn: 0.0017426\ttest: 0.0027109\tbest: 0.0027109 (712)\ttotal: 10m 52s\tremaining: 4m 22s\n",
            "713:\tlearn: 0.0017426\ttest: 0.0027109\tbest: 0.0027109 (713)\ttotal: 10m 53s\tremaining: 4m 21s\n",
            "714:\tlearn: 0.0017426\ttest: 0.0027109\tbest: 0.0027109 (714)\ttotal: 10m 54s\tremaining: 4m 20s\n",
            "715:\tlearn: 0.0017422\ttest: 0.0027109\tbest: 0.0027109 (714)\ttotal: 10m 54s\tremaining: 4m 19s\n",
            "716:\tlearn: 0.0017422\ttest: 0.0027109\tbest: 0.0027109 (716)\ttotal: 10m 55s\tremaining: 4m 18s\n",
            "717:\tlearn: 0.0017422\ttest: 0.0027109\tbest: 0.0027109 (717)\ttotal: 10m 56s\tremaining: 4m 17s\n",
            "718:\tlearn: 0.0017422\ttest: 0.0027109\tbest: 0.0027109 (718)\ttotal: 10m 57s\tremaining: 4m 17s\n",
            "719:\tlearn: 0.0017422\ttest: 0.0027109\tbest: 0.0027109 (719)\ttotal: 10m 58s\tremaining: 4m 16s\n",
            "720:\tlearn: 0.0017422\ttest: 0.0027109\tbest: 0.0027109 (720)\ttotal: 10m 59s\tremaining: 4m 15s\n",
            "721:\tlearn: 0.0017422\ttest: 0.0027109\tbest: 0.0027109 (721)\ttotal: 11m\tremaining: 4m 14s\n",
            "722:\tlearn: 0.0017421\ttest: 0.0027109\tbest: 0.0027109 (721)\ttotal: 11m 1s\tremaining: 4m 13s\n",
            "723:\tlearn: 0.0017421\ttest: 0.0027109\tbest: 0.0027109 (721)\ttotal: 11m 2s\tremaining: 4m 12s\n",
            "724:\tlearn: 0.0017421\ttest: 0.0027108\tbest: 0.0027108 (724)\ttotal: 11m 3s\tremaining: 4m 11s\n",
            "725:\tlearn: 0.0017421\ttest: 0.0027108\tbest: 0.0027108 (725)\ttotal: 11m 4s\tremaining: 4m 10s\n",
            "726:\tlearn: 0.0017421\ttest: 0.0027108\tbest: 0.0027108 (725)\ttotal: 11m 5s\tremaining: 4m 9s\n",
            "727:\tlearn: 0.0017421\ttest: 0.0027108\tbest: 0.0027108 (725)\ttotal: 11m 6s\tremaining: 4m 8s\n",
            "728:\tlearn: 0.0017421\ttest: 0.0027108\tbest: 0.0027108 (725)\ttotal: 11m 6s\tremaining: 4m 7s\n",
            "729:\tlearn: 0.0017404\ttest: 0.0027110\tbest: 0.0027108 (725)\ttotal: 11m 8s\tremaining: 4m 7s\n",
            "730:\tlearn: 0.0017404\ttest: 0.0027110\tbest: 0.0027108 (725)\ttotal: 11m 9s\tremaining: 4m 6s\n",
            "731:\tlearn: 0.0017404\ttest: 0.0027110\tbest: 0.0027108 (725)\ttotal: 11m 9s\tremaining: 4m 5s\n",
            "732:\tlearn: 0.0017404\ttest: 0.0027110\tbest: 0.0027108 (725)\ttotal: 11m 10s\tremaining: 4m 4s\n",
            "733:\tlearn: 0.0017404\ttest: 0.0027110\tbest: 0.0027108 (725)\ttotal: 11m 11s\tremaining: 4m 3s\n",
            "734:\tlearn: 0.0017404\ttest: 0.0027110\tbest: 0.0027108 (725)\ttotal: 11m 12s\tremaining: 4m 2s\n",
            "735:\tlearn: 0.0017404\ttest: 0.0027110\tbest: 0.0027108 (725)\ttotal: 11m 13s\tremaining: 4m 1s\n",
            "736:\tlearn: 0.0017404\ttest: 0.0027110\tbest: 0.0027108 (725)\ttotal: 11m 14s\tremaining: 4m\n",
            "737:\tlearn: 0.0017403\ttest: 0.0027110\tbest: 0.0027108 (725)\ttotal: 11m 15s\tremaining: 3m 59s\n",
            "738:\tlearn: 0.0017403\ttest: 0.0027109\tbest: 0.0027108 (725)\ttotal: 11m 16s\tremaining: 3m 59s\n",
            "739:\tlearn: 0.0017403\ttest: 0.0027109\tbest: 0.0027108 (725)\ttotal: 11m 17s\tremaining: 3m 57s\n",
            "740:\tlearn: 0.0017403\ttest: 0.0027109\tbest: 0.0027108 (725)\ttotal: 11m 17s\tremaining: 3m 56s\n",
            "741:\tlearn: 0.0017403\ttest: 0.0027109\tbest: 0.0027108 (725)\ttotal: 11m 18s\tremaining: 3m 56s\n",
            "742:\tlearn: 0.0017403\ttest: 0.0027109\tbest: 0.0027108 (725)\ttotal: 11m 19s\tremaining: 3m 55s\n",
            "743:\tlearn: 0.0017403\ttest: 0.0027109\tbest: 0.0027108 (725)\ttotal: 11m 20s\tremaining: 3m 54s\n",
            "744:\tlearn: 0.0017403\ttest: 0.0027109\tbest: 0.0027108 (725)\ttotal: 11m 21s\tremaining: 3m 53s\n",
            "745:\tlearn: 0.0017403\ttest: 0.0027109\tbest: 0.0027108 (725)\ttotal: 11m 22s\tremaining: 3m 52s\n",
            "746:\tlearn: 0.0017403\ttest: 0.0027109\tbest: 0.0027108 (725)\ttotal: 11m 23s\tremaining: 3m 51s\n",
            "747:\tlearn: 0.0017402\ttest: 0.0027109\tbest: 0.0027108 (725)\ttotal: 11m 24s\tremaining: 3m 50s\n",
            "748:\tlearn: 0.0017402\ttest: 0.0027109\tbest: 0.0027108 (725)\ttotal: 11m 26s\tremaining: 3m 49s\n",
            "749:\tlearn: 0.0017402\ttest: 0.0027109\tbest: 0.0027108 (725)\ttotal: 11m 26s\tremaining: 3m 48s\n",
            "750:\tlearn: 0.0017402\ttest: 0.0027109\tbest: 0.0027108 (725)\ttotal: 11m 28s\tremaining: 3m 48s\n",
            "751:\tlearn: 0.0017402\ttest: 0.0027109\tbest: 0.0027108 (725)\ttotal: 11m 29s\tremaining: 3m 47s\n",
            "752:\tlearn: 0.0017402\ttest: 0.0027109\tbest: 0.0027108 (725)\ttotal: 11m 30s\tremaining: 3m 46s\n",
            "753:\tlearn: 0.0017402\ttest: 0.0027109\tbest: 0.0027108 (725)\ttotal: 11m 30s\tremaining: 3m 45s\n",
            "754:\tlearn: 0.0017402\ttest: 0.0027109\tbest: 0.0027108 (725)\ttotal: 11m 31s\tremaining: 3m 44s\n",
            "755:\tlearn: 0.0017402\ttest: 0.0027109\tbest: 0.0027108 (725)\ttotal: 11m 33s\tremaining: 3m 43s\n",
            "756:\tlearn: 0.0017389\ttest: 0.0027104\tbest: 0.0027104 (756)\ttotal: 11m 34s\tremaining: 3m 42s\n",
            "757:\tlearn: 0.0017389\ttest: 0.0027104\tbest: 0.0027104 (756)\ttotal: 11m 35s\tremaining: 3m 41s\n",
            "758:\tlearn: 0.0017389\ttest: 0.0027104\tbest: 0.0027104 (756)\ttotal: 11m 36s\tremaining: 3m 40s\n",
            "759:\tlearn: 0.0017389\ttest: 0.0027104\tbest: 0.0027104 (759)\ttotal: 11m 36s\tremaining: 3m 40s\n",
            "760:\tlearn: 0.0017367\ttest: 0.0027098\tbest: 0.0027098 (760)\ttotal: 11m 37s\tremaining: 3m 39s\n",
            "761:\tlearn: 0.0017367\ttest: 0.0027098\tbest: 0.0027098 (761)\ttotal: 11m 38s\tremaining: 3m 38s\n",
            "762:\tlearn: 0.0017327\ttest: 0.0027044\tbest: 0.0027044 (762)\ttotal: 11m 39s\tremaining: 3m 37s\n",
            "763:\tlearn: 0.0017306\ttest: 0.0027050\tbest: 0.0027044 (762)\ttotal: 11m 40s\tremaining: 3m 36s\n",
            "764:\tlearn: 0.0017306\ttest: 0.0027050\tbest: 0.0027044 (762)\ttotal: 11m 41s\tremaining: 3m 35s\n",
            "765:\tlearn: 0.0017192\ttest: 0.0026903\tbest: 0.0026903 (765)\ttotal: 11m 42s\tremaining: 3m 34s\n",
            "766:\tlearn: 0.0017192\ttest: 0.0026903\tbest: 0.0026903 (766)\ttotal: 11m 43s\tremaining: 3m 33s\n",
            "767:\tlearn: 0.0017150\ttest: 0.0026868\tbest: 0.0026868 (767)\ttotal: 11m 44s\tremaining: 3m 32s\n",
            "768:\tlearn: 0.0017150\ttest: 0.0026868\tbest: 0.0026868 (768)\ttotal: 11m 45s\tremaining: 3m 32s\n",
            "769:\tlearn: 0.0017150\ttest: 0.0026867\tbest: 0.0026867 (769)\ttotal: 11m 46s\tremaining: 3m 31s\n",
            "770:\tlearn: 0.0017150\ttest: 0.0026867\tbest: 0.0026867 (770)\ttotal: 11m 47s\tremaining: 3m 30s\n",
            "771:\tlearn: 0.0017114\ttest: 0.0026853\tbest: 0.0026853 (771)\ttotal: 11m 49s\tremaining: 3m 29s\n",
            "772:\tlearn: 0.0017113\ttest: 0.0026853\tbest: 0.0026853 (772)\ttotal: 11m 50s\tremaining: 3m 28s\n",
            "773:\tlearn: 0.0017113\ttest: 0.0026852\tbest: 0.0026852 (773)\ttotal: 11m 51s\tremaining: 3m 27s\n",
            "774:\tlearn: 0.0017069\ttest: 0.0026851\tbest: 0.0026851 (774)\ttotal: 11m 52s\tremaining: 3m 26s\n",
            "775:\tlearn: 0.0017069\ttest: 0.0026851\tbest: 0.0026851 (775)\ttotal: 11m 53s\tremaining: 3m 25s\n",
            "776:\tlearn: 0.0017031\ttest: 0.0026804\tbest: 0.0026804 (776)\ttotal: 11m 54s\tremaining: 3m 25s\n",
            "777:\tlearn: 0.0016862\ttest: 0.0026704\tbest: 0.0026704 (777)\ttotal: 11m 56s\tremaining: 3m 24s\n",
            "778:\tlearn: 0.0016752\ttest: 0.0026731\tbest: 0.0026704 (777)\ttotal: 11m 57s\tremaining: 3m 23s\n",
            "779:\tlearn: 0.0016652\ttest: 0.0026688\tbest: 0.0026688 (779)\ttotal: 11m 58s\tremaining: 3m 22s\n",
            "780:\tlearn: 0.0016530\ttest: 0.0026582\tbest: 0.0026582 (780)\ttotal: 11m 59s\tremaining: 3m 21s\n",
            "781:\tlearn: 0.0016478\ttest: 0.0026554\tbest: 0.0026554 (781)\ttotal: 12m\tremaining: 3m 20s\n",
            "782:\tlearn: 0.0016438\ttest: 0.0026478\tbest: 0.0026478 (782)\ttotal: 12m 1s\tremaining: 3m 19s\n",
            "783:\tlearn: 0.0016400\ttest: 0.0026472\tbest: 0.0026472 (783)\ttotal: 12m 2s\tremaining: 3m 19s\n",
            "784:\tlearn: 0.0016400\ttest: 0.0026472\tbest: 0.0026472 (784)\ttotal: 12m 3s\tremaining: 3m 18s\n",
            "785:\tlearn: 0.0016225\ttest: 0.0026375\tbest: 0.0026375 (785)\ttotal: 12m 4s\tremaining: 3m 17s\n",
            "786:\tlearn: 0.0016204\ttest: 0.0026362\tbest: 0.0026362 (786)\ttotal: 12m 5s\tremaining: 3m 16s\n",
            "787:\tlearn: 0.0016204\ttest: 0.0026362\tbest: 0.0026362 (787)\ttotal: 12m 6s\tremaining: 3m 15s\n",
            "788:\tlearn: 0.0016160\ttest: 0.0026378\tbest: 0.0026362 (787)\ttotal: 12m 7s\tremaining: 3m 14s\n",
            "789:\tlearn: 0.0016160\ttest: 0.0026378\tbest: 0.0026362 (787)\ttotal: 12m 8s\tremaining: 3m 13s\n",
            "790:\tlearn: 0.0016160\ttest: 0.0026378\tbest: 0.0026362 (787)\ttotal: 12m 9s\tremaining: 3m 12s\n",
            "791:\tlearn: 0.0016160\ttest: 0.0026378\tbest: 0.0026362 (787)\ttotal: 12m 10s\tremaining: 3m 11s\n",
            "792:\tlearn: 0.0016160\ttest: 0.0026377\tbest: 0.0026362 (787)\ttotal: 12m 11s\tremaining: 3m 10s\n",
            "793:\tlearn: 0.0016153\ttest: 0.0026374\tbest: 0.0026362 (787)\ttotal: 12m 12s\tremaining: 3m 10s\n",
            "794:\tlearn: 0.0016153\ttest: 0.0026374\tbest: 0.0026362 (787)\ttotal: 12m 13s\tremaining: 3m 9s\n",
            "795:\tlearn: 0.0016153\ttest: 0.0026374\tbest: 0.0026362 (787)\ttotal: 12m 14s\tremaining: 3m 8s\n",
            "796:\tlearn: 0.0016153\ttest: 0.0026374\tbest: 0.0026362 (787)\ttotal: 12m 15s\tremaining: 3m 7s\n",
            "797:\tlearn: 0.0016143\ttest: 0.0026364\tbest: 0.0026362 (787)\ttotal: 12m 17s\tremaining: 3m 6s\n",
            "798:\tlearn: 0.0016143\ttest: 0.0026364\tbest: 0.0026362 (787)\ttotal: 12m 18s\tremaining: 3m 5s\n",
            "799:\tlearn: 0.0016101\ttest: 0.0026315\tbest: 0.0026315 (799)\ttotal: 12m 19s\tremaining: 3m 4s\n",
            "800:\tlearn: 0.0016101\ttest: 0.0026315\tbest: 0.0026315 (800)\ttotal: 12m 20s\tremaining: 3m 3s\n",
            "801:\tlearn: 0.0016101\ttest: 0.0026314\tbest: 0.0026314 (801)\ttotal: 12m 21s\tremaining: 3m 3s\n",
            "802:\tlearn: 0.0016080\ttest: 0.0026325\tbest: 0.0026314 (801)\ttotal: 12m 22s\tremaining: 3m 2s\n",
            "803:\tlearn: 0.0016080\ttest: 0.0026325\tbest: 0.0026314 (801)\ttotal: 12m 23s\tremaining: 3m 1s\n",
            "804:\tlearn: 0.0016080\ttest: 0.0026324\tbest: 0.0026314 (801)\ttotal: 12m 24s\tremaining: 3m\n",
            "805:\tlearn: 0.0016080\ttest: 0.0026324\tbest: 0.0026314 (801)\ttotal: 12m 25s\tremaining: 2m 59s\n",
            "806:\tlearn: 0.0016080\ttest: 0.0026324\tbest: 0.0026314 (801)\ttotal: 12m 26s\tremaining: 2m 58s\n",
            "807:\tlearn: 0.0016080\ttest: 0.0026324\tbest: 0.0026314 (801)\ttotal: 12m 27s\tremaining: 2m 57s\n",
            "808:\tlearn: 0.0015894\ttest: 0.0026203\tbest: 0.0026203 (808)\ttotal: 12m 28s\tremaining: 2m 56s\n",
            "809:\tlearn: 0.0015820\ttest: 0.0026102\tbest: 0.0026102 (809)\ttotal: 12m 29s\tremaining: 2m 55s\n",
            "810:\tlearn: 0.0015820\ttest: 0.0026102\tbest: 0.0026102 (810)\ttotal: 12m 30s\tremaining: 2m 54s\n",
            "811:\tlearn: 0.0015762\ttest: 0.0026061\tbest: 0.0026061 (811)\ttotal: 12m 31s\tremaining: 2m 54s\n",
            "812:\tlearn: 0.0015762\ttest: 0.0026061\tbest: 0.0026061 (812)\ttotal: 12m 32s\tremaining: 2m 53s\n",
            "813:\tlearn: 0.0015762\ttest: 0.0026061\tbest: 0.0026061 (813)\ttotal: 12m 33s\tremaining: 2m 52s\n",
            "814:\tlearn: 0.0015762\ttest: 0.0026061\tbest: 0.0026061 (814)\ttotal: 12m 34s\tremaining: 2m 51s\n",
            "815:\tlearn: 0.0015709\ttest: 0.0025994\tbest: 0.0025994 (815)\ttotal: 12m 36s\tremaining: 2m 50s\n",
            "816:\tlearn: 0.0015660\ttest: 0.0025951\tbest: 0.0025951 (816)\ttotal: 12m 37s\tremaining: 2m 49s\n",
            "817:\tlearn: 0.0015660\ttest: 0.0025951\tbest: 0.0025951 (817)\ttotal: 12m 38s\tremaining: 2m 48s\n",
            "818:\tlearn: 0.0015619\ttest: 0.0025955\tbest: 0.0025951 (817)\ttotal: 12m 39s\tremaining: 2m 47s\n",
            "819:\tlearn: 0.0015619\ttest: 0.0025955\tbest: 0.0025951 (817)\ttotal: 12m 40s\tremaining: 2m 46s\n",
            "820:\tlearn: 0.0015608\ttest: 0.0025947\tbest: 0.0025947 (820)\ttotal: 12m 41s\tremaining: 2m 46s\n",
            "821:\tlearn: 0.0015608\ttest: 0.0025947\tbest: 0.0025947 (821)\ttotal: 12m 42s\tremaining: 2m 45s\n",
            "822:\tlearn: 0.0015608\ttest: 0.0025947\tbest: 0.0025947 (822)\ttotal: 12m 42s\tremaining: 2m 44s\n",
            "823:\tlearn: 0.0015601\ttest: 0.0025944\tbest: 0.0025944 (823)\ttotal: 12m 43s\tremaining: 2m 43s\n",
            "824:\tlearn: 0.0015601\ttest: 0.0025944\tbest: 0.0025944 (824)\ttotal: 12m 45s\tremaining: 2m 42s\n",
            "825:\tlearn: 0.0015601\ttest: 0.0025944\tbest: 0.0025944 (824)\ttotal: 12m 46s\tremaining: 2m 41s\n",
            "826:\tlearn: 0.0015601\ttest: 0.0025944\tbest: 0.0025944 (826)\ttotal: 12m 47s\tremaining: 2m 40s\n",
            "827:\tlearn: 0.0015601\ttest: 0.0025944\tbest: 0.0025944 (827)\ttotal: 12m 48s\tremaining: 2m 39s\n",
            "828:\tlearn: 0.0015593\ttest: 0.0025941\tbest: 0.0025941 (828)\ttotal: 12m 49s\tremaining: 2m 38s\n",
            "829:\tlearn: 0.0015592\ttest: 0.0025940\tbest: 0.0025940 (829)\ttotal: 12m 50s\tremaining: 2m 37s\n",
            "830:\tlearn: 0.0015592\ttest: 0.0025940\tbest: 0.0025940 (830)\ttotal: 12m 51s\tremaining: 2m 36s\n",
            "831:\tlearn: 0.0015592\ttest: 0.0025940\tbest: 0.0025940 (831)\ttotal: 12m 52s\tremaining: 2m 35s\n",
            "832:\tlearn: 0.0015592\ttest: 0.0025940\tbest: 0.0025940 (831)\ttotal: 12m 53s\tremaining: 2m 35s\n",
            "833:\tlearn: 0.0015592\ttest: 0.0025940\tbest: 0.0025940 (833)\ttotal: 12m 54s\tremaining: 2m 34s\n",
            "834:\tlearn: 0.0015592\ttest: 0.0025940\tbest: 0.0025940 (834)\ttotal: 12m 54s\tremaining: 2m 33s\n",
            "835:\tlearn: 0.0015592\ttest: 0.0025940\tbest: 0.0025940 (835)\ttotal: 12m 56s\tremaining: 2m 32s\n",
            "836:\tlearn: 0.0015592\ttest: 0.0025940\tbest: 0.0025940 (836)\ttotal: 12m 57s\tremaining: 2m 31s\n",
            "837:\tlearn: 0.0015592\ttest: 0.0025940\tbest: 0.0025940 (837)\ttotal: 12m 57s\tremaining: 2m 30s\n",
            "838:\tlearn: 0.0015592\ttest: 0.0025940\tbest: 0.0025940 (838)\ttotal: 12m 58s\tremaining: 2m 29s\n",
            "839:\tlearn: 0.0015592\ttest: 0.0025940\tbest: 0.0025940 (839)\ttotal: 12m 59s\tremaining: 2m 28s\n",
            "840:\tlearn: 0.0015592\ttest: 0.0025939\tbest: 0.0025939 (840)\ttotal: 13m\tremaining: 2m 27s\n",
            "841:\tlearn: 0.0015586\ttest: 0.0025938\tbest: 0.0025938 (841)\ttotal: 13m 1s\tremaining: 2m 26s\n",
            "842:\tlearn: 0.0015586\ttest: 0.0025937\tbest: 0.0025937 (842)\ttotal: 13m 2s\tremaining: 2m 25s\n",
            "843:\tlearn: 0.0015586\ttest: 0.0025937\tbest: 0.0025937 (843)\ttotal: 13m 3s\tremaining: 2m 24s\n",
            "844:\tlearn: 0.0015585\ttest: 0.0025937\tbest: 0.0025937 (844)\ttotal: 13m 4s\tremaining: 2m 23s\n",
            "845:\tlearn: 0.0015585\ttest: 0.0025937\tbest: 0.0025937 (845)\ttotal: 13m 5s\tremaining: 2m 23s\n",
            "846:\tlearn: 0.0015585\ttest: 0.0025937\tbest: 0.0025937 (846)\ttotal: 13m 6s\tremaining: 2m 22s\n",
            "847:\tlearn: 0.0015585\ttest: 0.0025937\tbest: 0.0025937 (847)\ttotal: 13m 7s\tremaining: 2m 21s\n",
            "848:\tlearn: 0.0015585\ttest: 0.0025937\tbest: 0.0025937 (848)\ttotal: 13m 8s\tremaining: 2m 20s\n",
            "849:\tlearn: 0.0015585\ttest: 0.0025936\tbest: 0.0025936 (849)\ttotal: 13m 9s\tremaining: 2m 19s\n",
            "850:\tlearn: 0.0015585\ttest: 0.0025936\tbest: 0.0025936 (850)\ttotal: 13m 10s\tremaining: 2m 18s\n",
            "851:\tlearn: 0.0015585\ttest: 0.0025936\tbest: 0.0025936 (851)\ttotal: 13m 11s\tremaining: 2m 17s\n",
            "852:\tlearn: 0.0015581\ttest: 0.0025936\tbest: 0.0025936 (852)\ttotal: 13m 12s\tremaining: 2m 16s\n",
            "853:\tlearn: 0.0015581\ttest: 0.0025936\tbest: 0.0025936 (853)\ttotal: 13m 13s\tremaining: 2m 15s\n",
            "854:\tlearn: 0.0015581\ttest: 0.0025936\tbest: 0.0025936 (854)\ttotal: 13m 14s\tremaining: 2m 14s\n",
            "855:\tlearn: 0.0015581\ttest: 0.0025936\tbest: 0.0025936 (855)\ttotal: 13m 15s\tremaining: 2m 13s\n",
            "856:\tlearn: 0.0015581\ttest: 0.0025936\tbest: 0.0025936 (856)\ttotal: 13m 16s\tremaining: 2m 12s\n",
            "857:\tlearn: 0.0015581\ttest: 0.0025935\tbest: 0.0025935 (857)\ttotal: 13m 17s\tremaining: 2m 12s\n",
            "858:\tlearn: 0.0015581\ttest: 0.0025935\tbest: 0.0025935 (857)\ttotal: 13m 18s\tremaining: 2m 11s\n",
            "859:\tlearn: 0.0015580\ttest: 0.0025935\tbest: 0.0025935 (859)\ttotal: 13m 19s\tremaining: 2m 10s\n",
            "860:\tlearn: 0.0015580\ttest: 0.0025935\tbest: 0.0025935 (860)\ttotal: 13m 20s\tremaining: 2m 9s\n",
            "861:\tlearn: 0.0015580\ttest: 0.0025935\tbest: 0.0025935 (860)\ttotal: 13m 21s\tremaining: 2m 8s\n",
            "862:\tlearn: 0.0015580\ttest: 0.0025935\tbest: 0.0025935 (860)\ttotal: 13m 22s\tremaining: 2m 7s\n",
            "863:\tlearn: 0.0015580\ttest: 0.0025935\tbest: 0.0025935 (860)\ttotal: 13m 24s\tremaining: 2m 6s\n",
            "864:\tlearn: 0.0015580\ttest: 0.0025935\tbest: 0.0025935 (864)\ttotal: 13m 25s\tremaining: 2m 5s\n",
            "865:\tlearn: 0.0015576\ttest: 0.0025934\tbest: 0.0025934 (865)\ttotal: 13m 26s\tremaining: 2m 4s\n",
            "866:\tlearn: 0.0015576\ttest: 0.0025934\tbest: 0.0025934 (866)\ttotal: 13m 27s\tremaining: 2m 3s\n",
            "867:\tlearn: 0.0015576\ttest: 0.0025934\tbest: 0.0025934 (867)\ttotal: 13m 28s\tremaining: 2m 2s\n",
            "868:\tlearn: 0.0015576\ttest: 0.0025934\tbest: 0.0025934 (868)\ttotal: 13m 29s\tremaining: 2m 1s\n",
            "869:\tlearn: 0.0015576\ttest: 0.0025934\tbest: 0.0025934 (869)\ttotal: 13m 30s\tremaining: 2m 1s\n",
            "870:\tlearn: 0.0015576\ttest: 0.0025934\tbest: 0.0025934 (870)\ttotal: 13m 30s\tremaining: 2m\n",
            "871:\tlearn: 0.0015576\ttest: 0.0025934\tbest: 0.0025934 (871)\ttotal: 13m 31s\tremaining: 1m 59s\n",
            "872:\tlearn: 0.0015576\ttest: 0.0025934\tbest: 0.0025934 (872)\ttotal: 13m 32s\tremaining: 1m 58s\n",
            "873:\tlearn: 0.0015576\ttest: 0.0025934\tbest: 0.0025934 (872)\ttotal: 13m 34s\tremaining: 1m 57s\n",
            "874:\tlearn: 0.0015575\ttest: 0.0025934\tbest: 0.0025934 (874)\ttotal: 13m 35s\tremaining: 1m 56s\n",
            "875:\tlearn: 0.0015575\ttest: 0.0025934\tbest: 0.0025934 (875)\ttotal: 13m 36s\tremaining: 1m 55s\n",
            "876:\tlearn: 0.0015575\ttest: 0.0025934\tbest: 0.0025934 (876)\ttotal: 13m 37s\tremaining: 1m 54s\n",
            "877:\tlearn: 0.0015575\ttest: 0.0025934\tbest: 0.0025934 (876)\ttotal: 13m 38s\tremaining: 1m 53s\n",
            "878:\tlearn: 0.0015575\ttest: 0.0025933\tbest: 0.0025933 (878)\ttotal: 13m 39s\tremaining: 1m 52s\n",
            "879:\tlearn: 0.0015575\ttest: 0.0025933\tbest: 0.0025933 (879)\ttotal: 13m 39s\tremaining: 1m 51s\n",
            "880:\tlearn: 0.0015575\ttest: 0.0025933\tbest: 0.0025933 (880)\ttotal: 13m 40s\tremaining: 1m 50s\n",
            "881:\tlearn: 0.0015575\ttest: 0.0025933\tbest: 0.0025933 (881)\ttotal: 13m 42s\tremaining: 1m 49s\n",
            "882:\tlearn: 0.0015575\ttest: 0.0025933\tbest: 0.0025933 (882)\ttotal: 13m 43s\tremaining: 1m 49s\n",
            "883:\tlearn: 0.0015575\ttest: 0.0025933\tbest: 0.0025933 (883)\ttotal: 13m 44s\tremaining: 1m 48s\n",
            "884:\tlearn: 0.0015575\ttest: 0.0025933\tbest: 0.0025933 (883)\ttotal: 13m 45s\tremaining: 1m 47s\n",
            "885:\tlearn: 0.0015575\ttest: 0.0025933\tbest: 0.0025933 (883)\ttotal: 13m 46s\tremaining: 1m 46s\n",
            "886:\tlearn: 0.0015575\ttest: 0.0025933\tbest: 0.0025933 (883)\ttotal: 13m 47s\tremaining: 1m 45s\n",
            "887:\tlearn: 0.0015575\ttest: 0.0025933\tbest: 0.0025933 (883)\ttotal: 13m 48s\tremaining: 1m 44s\n",
            "888:\tlearn: 0.0015575\ttest: 0.0025933\tbest: 0.0025933 (888)\ttotal: 13m 49s\tremaining: 1m 43s\n",
            "889:\tlearn: 0.0015575\ttest: 0.0025932\tbest: 0.0025932 (889)\ttotal: 13m 50s\tremaining: 1m 42s\n",
            "890:\tlearn: 0.0015575\ttest: 0.0025932\tbest: 0.0025932 (890)\ttotal: 13m 50s\tremaining: 1m 41s\n",
            "891:\tlearn: 0.0015575\ttest: 0.0025932\tbest: 0.0025932 (891)\ttotal: 13m 52s\tremaining: 1m 40s\n",
            "892:\tlearn: 0.0015574\ttest: 0.0025932\tbest: 0.0025932 (892)\ttotal: 13m 53s\tremaining: 1m 39s\n",
            "893:\tlearn: 0.0015574\ttest: 0.0025932\tbest: 0.0025932 (893)\ttotal: 13m 54s\tremaining: 1m 38s\n",
            "894:\tlearn: 0.0015574\ttest: 0.0025931\tbest: 0.0025931 (894)\ttotal: 13m 55s\tremaining: 1m 38s\n",
            "895:\tlearn: 0.0015574\ttest: 0.0025931\tbest: 0.0025931 (895)\ttotal: 13m 56s\tremaining: 1m 37s\n",
            "896:\tlearn: 0.0015574\ttest: 0.0025931\tbest: 0.0025931 (896)\ttotal: 13m 57s\tremaining: 1m 36s\n",
            "897:\tlearn: 0.0015574\ttest: 0.0025931\tbest: 0.0025931 (897)\ttotal: 13m 58s\tremaining: 1m 35s\n",
            "898:\tlearn: 0.0015574\ttest: 0.0025931\tbest: 0.0025931 (898)\ttotal: 13m 59s\tremaining: 1m 34s\n",
            "899:\tlearn: 0.0015574\ttest: 0.0025931\tbest: 0.0025931 (899)\ttotal: 14m 1s\tremaining: 1m 33s\n",
            "900:\tlearn: 0.0015574\ttest: 0.0025931\tbest: 0.0025931 (899)\ttotal: 14m 2s\tremaining: 1m 32s\n",
            "901:\tlearn: 0.0015574\ttest: 0.0025931\tbest: 0.0025931 (901)\ttotal: 14m 3s\tremaining: 1m 31s\n",
            "902:\tlearn: 0.0015574\ttest: 0.0025931\tbest: 0.0025931 (902)\ttotal: 14m 4s\tremaining: 1m 30s\n",
            "903:\tlearn: 0.0015574\ttest: 0.0025931\tbest: 0.0025931 (903)\ttotal: 14m 5s\tremaining: 1m 29s\n",
            "904:\tlearn: 0.0015574\ttest: 0.0025931\tbest: 0.0025931 (904)\ttotal: 14m 6s\tremaining: 1m 28s\n",
            "905:\tlearn: 0.0015574\ttest: 0.0025931\tbest: 0.0025931 (905)\ttotal: 14m 7s\tremaining: 1m 27s\n",
            "906:\tlearn: 0.0015574\ttest: 0.0025931\tbest: 0.0025931 (905)\ttotal: 14m 8s\tremaining: 1m 27s\n",
            "907:\tlearn: 0.0015574\ttest: 0.0025931\tbest: 0.0025931 (907)\ttotal: 14m 9s\tremaining: 1m 26s\n",
            "908:\tlearn: 0.0015574\ttest: 0.0025930\tbest: 0.0025930 (908)\ttotal: 14m 9s\tremaining: 1m 25s\n",
            "909:\tlearn: 0.0015574\ttest: 0.0025930\tbest: 0.0025930 (909)\ttotal: 14m 11s\tremaining: 1m 24s\n",
            "910:\tlearn: 0.0015574\ttest: 0.0025930\tbest: 0.0025930 (909)\ttotal: 14m 12s\tremaining: 1m 23s\n",
            "911:\tlearn: 0.0015574\ttest: 0.0025930\tbest: 0.0025930 (911)\ttotal: 14m 12s\tremaining: 1m 22s\n",
            "912:\tlearn: 0.0015574\ttest: 0.0025930\tbest: 0.0025930 (912)\ttotal: 14m 13s\tremaining: 1m 21s\n",
            "913:\tlearn: 0.0015574\ttest: 0.0025930\tbest: 0.0025930 (912)\ttotal: 14m 14s\tremaining: 1m 20s\n",
            "914:\tlearn: 0.0015573\ttest: 0.0025930\tbest: 0.0025930 (912)\ttotal: 14m 15s\tremaining: 1m 19s\n",
            "915:\tlearn: 0.0015573\ttest: 0.0025930\tbest: 0.0025930 (915)\ttotal: 14m 16s\tremaining: 1m 18s\n",
            "916:\tlearn: 0.0015573\ttest: 0.0025930\tbest: 0.0025930 (916)\ttotal: 14m 17s\tremaining: 1m 17s\n",
            "917:\tlearn: 0.0015573\ttest: 0.0025930\tbest: 0.0025930 (917)\ttotal: 14m 18s\tremaining: 1m 16s\n",
            "918:\tlearn: 0.0015573\ttest: 0.0025930\tbest: 0.0025930 (918)\ttotal: 14m 19s\tremaining: 1m 15s\n",
            "919:\tlearn: 0.0015573\ttest: 0.0025930\tbest: 0.0025930 (918)\ttotal: 14m 21s\tremaining: 1m 14s\n",
            "920:\tlearn: 0.0015573\ttest: 0.0025929\tbest: 0.0025929 (920)\ttotal: 14m 21s\tremaining: 1m 13s\n",
            "921:\tlearn: 0.0015573\ttest: 0.0025929\tbest: 0.0025929 (921)\ttotal: 14m 22s\tremaining: 1m 12s\n",
            "922:\tlearn: 0.0015572\ttest: 0.0025930\tbest: 0.0025929 (921)\ttotal: 14m 23s\tremaining: 1m 12s\n",
            "923:\tlearn: 0.0015572\ttest: 0.0025930\tbest: 0.0025929 (921)\ttotal: 14m 24s\tremaining: 1m 11s\n",
            "924:\tlearn: 0.0015572\ttest: 0.0025930\tbest: 0.0025929 (921)\ttotal: 14m 25s\tremaining: 1m 10s\n",
            "925:\tlearn: 0.0015572\ttest: 0.0025930\tbest: 0.0025929 (921)\ttotal: 14m 26s\tremaining: 1m 9s\n",
            "926:\tlearn: 0.0015572\ttest: 0.0025930\tbest: 0.0025929 (921)\ttotal: 14m 27s\tremaining: 1m 8s\n",
            "927:\tlearn: 0.0015572\ttest: 0.0025930\tbest: 0.0025929 (921)\ttotal: 14m 28s\tremaining: 1m 7s\n",
            "928:\tlearn: 0.0015572\ttest: 0.0025930\tbest: 0.0025929 (921)\ttotal: 14m 29s\tremaining: 1m 6s\n",
            "929:\tlearn: 0.0015572\ttest: 0.0025930\tbest: 0.0025929 (921)\ttotal: 14m 30s\tremaining: 1m 5s\n",
            "930:\tlearn: 0.0015572\ttest: 0.0025930\tbest: 0.0025929 (921)\ttotal: 14m 31s\tremaining: 1m 4s\n",
            "931:\tlearn: 0.0015572\ttest: 0.0025930\tbest: 0.0025929 (921)\ttotal: 14m 32s\tremaining: 1m 3s\n",
            "932:\tlearn: 0.0015572\ttest: 0.0025930\tbest: 0.0025929 (921)\ttotal: 14m 33s\tremaining: 1m 2s\n",
            "933:\tlearn: 0.0015572\ttest: 0.0025930\tbest: 0.0025929 (921)\ttotal: 14m 34s\tremaining: 1m 1s\n",
            "934:\tlearn: 0.0015572\ttest: 0.0025930\tbest: 0.0025929 (921)\ttotal: 14m 35s\tremaining: 1m\n",
            "935:\tlearn: 0.0015572\ttest: 0.0025930\tbest: 0.0025929 (921)\ttotal: 14m 36s\tremaining: 60s\n",
            "936:\tlearn: 0.0015572\ttest: 0.0025930\tbest: 0.0025929 (921)\ttotal: 14m 37s\tremaining: 59s\n",
            "937:\tlearn: 0.0015572\ttest: 0.0025930\tbest: 0.0025929 (921)\ttotal: 14m 38s\tremaining: 58.1s\n",
            "938:\tlearn: 0.0015572\ttest: 0.0025930\tbest: 0.0025929 (921)\ttotal: 14m 39s\tremaining: 57.1s\n",
            "939:\tlearn: 0.0015572\ttest: 0.0025930\tbest: 0.0025929 (921)\ttotal: 14m 40s\tremaining: 56.2s\n",
            "940:\tlearn: 0.0015551\ttest: 0.0025914\tbest: 0.0025914 (940)\ttotal: 14m 41s\tremaining: 55.3s\n",
            "941:\tlearn: 0.0015551\ttest: 0.0025914\tbest: 0.0025914 (941)\ttotal: 14m 42s\tremaining: 54.3s\n",
            "942:\tlearn: 0.0015551\ttest: 0.0025914\tbest: 0.0025914 (942)\ttotal: 14m 43s\tremaining: 53.4s\n",
            "943:\tlearn: 0.0015551\ttest: 0.0025914\tbest: 0.0025914 (943)\ttotal: 14m 44s\tremaining: 52.5s\n",
            "944:\tlearn: 0.0015551\ttest: 0.0025914\tbest: 0.0025914 (944)\ttotal: 14m 44s\tremaining: 51.5s\n",
            "945:\tlearn: 0.0015551\ttest: 0.0025914\tbest: 0.0025914 (945)\ttotal: 14m 45s\tremaining: 50.6s\n",
            "946:\tlearn: 0.0015551\ttest: 0.0025914\tbest: 0.0025914 (945)\ttotal: 14m 46s\tremaining: 49.6s\n",
            "947:\tlearn: 0.0015551\ttest: 0.0025914\tbest: 0.0025914 (945)\ttotal: 14m 48s\tremaining: 48.7s\n",
            "948:\tlearn: 0.0015551\ttest: 0.0025914\tbest: 0.0025914 (945)\ttotal: 14m 49s\tremaining: 47.8s\n",
            "949:\tlearn: 0.0015551\ttest: 0.0025914\tbest: 0.0025914 (945)\ttotal: 14m 50s\tremaining: 46.9s\n",
            "950:\tlearn: 0.0015551\ttest: 0.0025914\tbest: 0.0025914 (945)\ttotal: 14m 51s\tremaining: 45.9s\n",
            "951:\tlearn: 0.0015551\ttest: 0.0025914\tbest: 0.0025914 (951)\ttotal: 14m 52s\tremaining: 45s\n",
            "952:\tlearn: 0.0015551\ttest: 0.0025913\tbest: 0.0025913 (952)\ttotal: 14m 53s\tremaining: 44.1s\n",
            "953:\tlearn: 0.0015551\ttest: 0.0025914\tbest: 0.0025913 (952)\ttotal: 14m 54s\tremaining: 43.1s\n",
            "954:\tlearn: 0.0015551\ttest: 0.0025914\tbest: 0.0025913 (952)\ttotal: 14m 55s\tremaining: 42.2s\n",
            "955:\tlearn: 0.0015551\ttest: 0.0025913\tbest: 0.0025913 (955)\ttotal: 14m 56s\tremaining: 41.2s\n",
            "956:\tlearn: 0.0015551\ttest: 0.0025913\tbest: 0.0025913 (956)\ttotal: 14m 57s\tremaining: 40.3s\n",
            "957:\tlearn: 0.0015551\ttest: 0.0025913\tbest: 0.0025913 (957)\ttotal: 14m 58s\tremaining: 39.4s\n",
            "958:\tlearn: 0.0015551\ttest: 0.0025913\tbest: 0.0025913 (958)\ttotal: 14m 59s\tremaining: 38.4s\n",
            "959:\tlearn: 0.0015551\ttest: 0.0025913\tbest: 0.0025913 (959)\ttotal: 14m 59s\tremaining: 37.5s\n",
            "960:\tlearn: 0.0015551\ttest: 0.0025912\tbest: 0.0025912 (960)\ttotal: 15m\tremaining: 36.5s\n",
            "961:\tlearn: 0.0015551\ttest: 0.0025912\tbest: 0.0025912 (960)\ttotal: 15m 1s\tremaining: 35.6s\n",
            "962:\tlearn: 0.0015551\ttest: 0.0025912\tbest: 0.0025912 (962)\ttotal: 15m 2s\tremaining: 34.7s\n",
            "963:\tlearn: 0.0015550\ttest: 0.0025912\tbest: 0.0025912 (963)\ttotal: 15m 3s\tremaining: 33.7s\n",
            "964:\tlearn: 0.0015550\ttest: 0.0025912\tbest: 0.0025912 (963)\ttotal: 15m 4s\tremaining: 32.8s\n",
            "965:\tlearn: 0.0015550\ttest: 0.0025912\tbest: 0.0025912 (965)\ttotal: 15m 5s\tremaining: 31.9s\n",
            "966:\tlearn: 0.0015550\ttest: 0.0025912\tbest: 0.0025912 (966)\ttotal: 15m 5s\tremaining: 30.9s\n",
            "967:\tlearn: 0.0015550\ttest: 0.0025912\tbest: 0.0025912 (967)\ttotal: 15m 6s\tremaining: 30s\n",
            "968:\tlearn: 0.0015550\ttest: 0.0025911\tbest: 0.0025911 (968)\ttotal: 15m 7s\tremaining: 29s\n",
            "969:\tlearn: 0.0015550\ttest: 0.0025911\tbest: 0.0025911 (969)\ttotal: 15m 8s\tremaining: 28.1s\n",
            "970:\tlearn: 0.0015550\ttest: 0.0025911\tbest: 0.0025911 (970)\ttotal: 15m 9s\tremaining: 27.2s\n",
            "971:\tlearn: 0.0015550\ttest: 0.0025911\tbest: 0.0025911 (971)\ttotal: 15m 10s\tremaining: 26.2s\n",
            "972:\tlearn: 0.0015549\ttest: 0.0025911\tbest: 0.0025911 (971)\ttotal: 15m 11s\tremaining: 25.3s\n",
            "973:\tlearn: 0.0015549\ttest: 0.0025911\tbest: 0.0025911 (971)\ttotal: 15m 12s\tremaining: 24.4s\n",
            "974:\tlearn: 0.0015549\ttest: 0.0025911\tbest: 0.0025911 (971)\ttotal: 15m 13s\tremaining: 23.4s\n",
            "975:\tlearn: 0.0015549\ttest: 0.0025911\tbest: 0.0025911 (971)\ttotal: 15m 14s\tremaining: 22.5s\n",
            "976:\tlearn: 0.0015549\ttest: 0.0025911\tbest: 0.0025911 (971)\ttotal: 15m 14s\tremaining: 21.5s\n",
            "977:\tlearn: 0.0015549\ttest: 0.0025911\tbest: 0.0025911 (971)\ttotal: 15m 15s\tremaining: 20.6s\n",
            "978:\tlearn: 0.0015549\ttest: 0.0025911\tbest: 0.0025911 (971)\ttotal: 15m 16s\tremaining: 19.7s\n",
            "979:\tlearn: 0.0015549\ttest: 0.0025911\tbest: 0.0025911 (971)\ttotal: 15m 17s\tremaining: 18.7s\n",
            "980:\tlearn: 0.0015548\ttest: 0.0025909\tbest: 0.0025909 (980)\ttotal: 15m 18s\tremaining: 17.8s\n",
            "981:\tlearn: 0.0015548\ttest: 0.0025909\tbest: 0.0025909 (981)\ttotal: 15m 19s\tremaining: 16.9s\n",
            "982:\tlearn: 0.0015548\ttest: 0.0025909\tbest: 0.0025909 (982)\ttotal: 15m 20s\tremaining: 15.9s\n",
            "983:\tlearn: 0.0015548\ttest: 0.0025909\tbest: 0.0025909 (983)\ttotal: 15m 21s\tremaining: 15s\n",
            "984:\tlearn: 0.0015547\ttest: 0.0025908\tbest: 0.0025908 (984)\ttotal: 15m 22s\tremaining: 14.1s\n",
            "985:\tlearn: 0.0015547\ttest: 0.0025908\tbest: 0.0025908 (985)\ttotal: 15m 23s\tremaining: 13.1s\n",
            "986:\tlearn: 0.0015547\ttest: 0.0025908\tbest: 0.0025908 (986)\ttotal: 15m 24s\tremaining: 12.2s\n",
            "987:\tlearn: 0.0015547\ttest: 0.0025908\tbest: 0.0025908 (987)\ttotal: 15m 25s\tremaining: 11.2s\n",
            "988:\tlearn: 0.0015547\ttest: 0.0025908\tbest: 0.0025908 (987)\ttotal: 15m 26s\tremaining: 10.3s\n",
            "989:\tlearn: 0.0015547\ttest: 0.0025908\tbest: 0.0025908 (987)\ttotal: 15m 27s\tremaining: 9.37s\n",
            "990:\tlearn: 0.0015547\ttest: 0.0025908\tbest: 0.0025908 (990)\ttotal: 15m 28s\tremaining: 8.43s\n",
            "991:\tlearn: 0.0015547\ttest: 0.0025908\tbest: 0.0025908 (990)\ttotal: 15m 29s\tremaining: 7.49s\n",
            "992:\tlearn: 0.0015547\ttest: 0.0025908\tbest: 0.0025908 (992)\ttotal: 15m 30s\tremaining: 6.56s\n",
            "993:\tlearn: 0.0015547\ttest: 0.0025908\tbest: 0.0025908 (993)\ttotal: 15m 30s\tremaining: 5.62s\n",
            "994:\tlearn: 0.0015547\ttest: 0.0025908\tbest: 0.0025908 (994)\ttotal: 15m 31s\tremaining: 4.68s\n",
            "995:\tlearn: 0.0015547\ttest: 0.0025908\tbest: 0.0025908 (995)\ttotal: 15m 32s\tremaining: 3.75s\n",
            "996:\tlearn: 0.0015547\ttest: 0.0025908\tbest: 0.0025908 (996)\ttotal: 15m 33s\tremaining: 2.81s\n",
            "997:\tlearn: 0.0015547\ttest: 0.0025908\tbest: 0.0025908 (997)\ttotal: 15m 34s\tremaining: 1.87s\n",
            "998:\tlearn: 0.0015547\ttest: 0.0025908\tbest: 0.0025908 (997)\ttotal: 15m 35s\tremaining: 936ms\n",
            "999:\tlearn: 0.0015547\ttest: 0.0025908\tbest: 0.0025908 (999)\ttotal: 15m 36s\tremaining: 0us\n",
            "\n",
            "bestTest = 0.002590777529\n",
            "bestIteration = 999\n",
            "\n"
          ]
        },
        {
          "output_type": "execute_result",
          "data": {
            "text/plain": [
              "<catboost.core.CatBoostClassifier at 0x7f7cda706650>"
            ]
          },
          "metadata": {},
          "execution_count": 18
        }
      ]
    },
    {
      "cell_type": "code",
      "source": [
        "X_test.columns"
      ],
      "metadata": {
        "colab": {
          "base_uri": "https://localhost:8080/"
        },
        "id": "u2OXPUGbghos",
        "outputId": "9c7bea4d-5266-4ce3-e177-45c75414d4ca"
      },
      "execution_count": null,
      "outputs": [
        {
          "output_type": "execute_result",
          "data": {
            "text/plain": [
              "Index(['loan_amnt', 'funded_amnt', 'funded_amnt_inv', 'int_rate',\n",
              "       'installment', 'annual_inc', 'dti', 'delinq_2yrs', 'inq_last_6mths',\n",
              "       'open_acc', 'pub_rec', 'revol_bal', 'revol_util', 'total_acc',\n",
              "       'out_prncp', 'out_prncp_inv', 'total_pymnt', 'total_pymnt_inv',\n",
              "       'total_rec_prncp', 'total_rec_int', 'total_rec_late_fee', 'recoveries',\n",
              "       'collection_recovery_fee', 'last_pymnt_amnt',\n",
              "       'collections_12_mths_ex_med', 'policy_code', 'acc_now_delinq', 'term',\n",
              "       'grade', 'sub_grade', 'home_ownership', 'verification_status',\n",
              "       'issue_d', 'pymnt_plan', 'purpose', 'zip_code', 'addr_state',\n",
              "       'earliest_cr_line', 'initial_list_status', 'last_pymnt_d',\n",
              "       'last_credit_pull_d', 'application_type'],\n",
              "      dtype='object')"
            ]
          },
          "metadata": {},
          "execution_count": 23
        }
      ]
    },
    {
      "cell_type": "markdown",
      "source": [
        "Classification report with catboost\n",
        "* From the validation set, we can see the model can learn perfectly with the pattern on the data with score = 100%"
      ],
      "metadata": {
        "id": "GUhYfihDn2_A"
      }
    },
    {
      "cell_type": "code",
      "source": [
        "from sklearn.metrics import classification_report\n",
        "\n",
        "pred = clf.predict(X_test)\n",
        "print(classification_report(y_test, pred))"
      ],
      "metadata": {
        "colab": {
          "base_uri": "https://localhost:8080/"
        },
        "id": "4aeIk-ZqfxIA",
        "outputId": "4b0d7656-f2ff-4f91-860e-cfa6a459f022"
      },
      "execution_count": null,
      "outputs": [
        {
          "output_type": "stream",
          "name": "stdout",
          "text": [
            "              precision    recall  f1-score   support\n",
            "\n",
            "           0       1.00      1.00      1.00     63434\n",
            "           1       1.00      0.99      1.00      6509\n",
            "\n",
            "    accuracy                           1.00     69943\n",
            "   macro avg       1.00      1.00      1.00     69943\n",
            "weighted avg       1.00      1.00      1.00     69943\n",
            "\n"
          ]
        }
      ]
    },
    {
      "cell_type": "markdown",
      "source": [
        "Feature importances of the model"
      ],
      "metadata": {
        "id": "sYfQWoThoJKL"
      }
    },
    {
      "cell_type": "code",
      "source": [
        "df = pd.DataFrame({\"columns\":X_test.columns,\"importances\":clf.feature_importances_})\n",
        "df.sort_values(by=\"importances\", ascending=False)"
      ],
      "metadata": {
        "colab": {
          "base_uri": "https://localhost:8080/",
          "height": 1000
        },
        "id": "ZkB9dY5Ngugg",
        "outputId": "dcee928f-0d93-432a-f925-37a61935f085"
      },
      "execution_count": null,
      "outputs": [
        {
          "output_type": "execute_result",
          "data": {
            "text/plain": [
              "                       columns  importances\n",
              "15               out_prncp_inv    20.610162\n",
              "14                   out_prncp    19.042558\n",
              "18             total_rec_prncp    15.937292\n",
              "23             last_pymnt_amnt     8.311103\n",
              "21                  recoveries     7.053479\n",
              "1                  funded_amnt     6.661425\n",
              "4                  installment     3.879683\n",
              "39                last_pymnt_d     3.443304\n",
              "0                    loan_amnt     2.568016\n",
              "19               total_rec_int     2.413033\n",
              "32                     issue_d     2.115641\n",
              "2              funded_amnt_inv     2.070075\n",
              "40          last_credit_pull_d     2.061344\n",
              "16                 total_pymnt     1.626202\n",
              "22     collection_recovery_fee     0.471948\n",
              "20          total_rec_late_fee     0.427657\n",
              "17             total_pymnt_inv     0.209200\n",
              "12                  revol_util     0.161299\n",
              "3                     int_rate     0.156471\n",
              "31         verification_status     0.102825\n",
              "13                   total_acc     0.093816\n",
              "5                   annual_inc     0.072420\n",
              "36                  addr_state     0.068299\n",
              "37            earliest_cr_line     0.066928\n",
              "11                   revol_bal     0.066650\n",
              "9                     open_acc     0.065123\n",
              "6                          dti     0.061062\n",
              "30              home_ownership     0.042593\n",
              "29                   sub_grade     0.034158\n",
              "34                     purpose     0.027257\n",
              "27                        term     0.023892\n",
              "35                    zip_code     0.015786\n",
              "28                       grade     0.015353\n",
              "10                     pub_rec     0.011091\n",
              "8               inq_last_6mths     0.009594\n",
              "24  collections_12_mths_ex_med     0.001552\n",
              "26              acc_now_delinq     0.001278\n",
              "7                  delinq_2yrs     0.000422\n",
              "33                  pymnt_plan     0.000004\n",
              "25                 policy_code     0.000000\n",
              "38         initial_list_status     0.000000\n",
              "41            application_type     0.000000"
            ],
            "text/html": [
              "\n",
              "  <div id=\"df-a377f72d-e567-4ff1-92b0-0cf9277e28ae\">\n",
              "    <div class=\"colab-df-container\">\n",
              "      <div>\n",
              "<style scoped>\n",
              "    .dataframe tbody tr th:only-of-type {\n",
              "        vertical-align: middle;\n",
              "    }\n",
              "\n",
              "    .dataframe tbody tr th {\n",
              "        vertical-align: top;\n",
              "    }\n",
              "\n",
              "    .dataframe thead th {\n",
              "        text-align: right;\n",
              "    }\n",
              "</style>\n",
              "<table border=\"1\" class=\"dataframe\">\n",
              "  <thead>\n",
              "    <tr style=\"text-align: right;\">\n",
              "      <th></th>\n",
              "      <th>columns</th>\n",
              "      <th>importances</th>\n",
              "    </tr>\n",
              "  </thead>\n",
              "  <tbody>\n",
              "    <tr>\n",
              "      <th>15</th>\n",
              "      <td>out_prncp_inv</td>\n",
              "      <td>20.610162</td>\n",
              "    </tr>\n",
              "    <tr>\n",
              "      <th>14</th>\n",
              "      <td>out_prncp</td>\n",
              "      <td>19.042558</td>\n",
              "    </tr>\n",
              "    <tr>\n",
              "      <th>18</th>\n",
              "      <td>total_rec_prncp</td>\n",
              "      <td>15.937292</td>\n",
              "    </tr>\n",
              "    <tr>\n",
              "      <th>23</th>\n",
              "      <td>last_pymnt_amnt</td>\n",
              "      <td>8.311103</td>\n",
              "    </tr>\n",
              "    <tr>\n",
              "      <th>21</th>\n",
              "      <td>recoveries</td>\n",
              "      <td>7.053479</td>\n",
              "    </tr>\n",
              "    <tr>\n",
              "      <th>1</th>\n",
              "      <td>funded_amnt</td>\n",
              "      <td>6.661425</td>\n",
              "    </tr>\n",
              "    <tr>\n",
              "      <th>4</th>\n",
              "      <td>installment</td>\n",
              "      <td>3.879683</td>\n",
              "    </tr>\n",
              "    <tr>\n",
              "      <th>39</th>\n",
              "      <td>last_pymnt_d</td>\n",
              "      <td>3.443304</td>\n",
              "    </tr>\n",
              "    <tr>\n",
              "      <th>0</th>\n",
              "      <td>loan_amnt</td>\n",
              "      <td>2.568016</td>\n",
              "    </tr>\n",
              "    <tr>\n",
              "      <th>19</th>\n",
              "      <td>total_rec_int</td>\n",
              "      <td>2.413033</td>\n",
              "    </tr>\n",
              "    <tr>\n",
              "      <th>32</th>\n",
              "      <td>issue_d</td>\n",
              "      <td>2.115641</td>\n",
              "    </tr>\n",
              "    <tr>\n",
              "      <th>2</th>\n",
              "      <td>funded_amnt_inv</td>\n",
              "      <td>2.070075</td>\n",
              "    </tr>\n",
              "    <tr>\n",
              "      <th>40</th>\n",
              "      <td>last_credit_pull_d</td>\n",
              "      <td>2.061344</td>\n",
              "    </tr>\n",
              "    <tr>\n",
              "      <th>16</th>\n",
              "      <td>total_pymnt</td>\n",
              "      <td>1.626202</td>\n",
              "    </tr>\n",
              "    <tr>\n",
              "      <th>22</th>\n",
              "      <td>collection_recovery_fee</td>\n",
              "      <td>0.471948</td>\n",
              "    </tr>\n",
              "    <tr>\n",
              "      <th>20</th>\n",
              "      <td>total_rec_late_fee</td>\n",
              "      <td>0.427657</td>\n",
              "    </tr>\n",
              "    <tr>\n",
              "      <th>17</th>\n",
              "      <td>total_pymnt_inv</td>\n",
              "      <td>0.209200</td>\n",
              "    </tr>\n",
              "    <tr>\n",
              "      <th>12</th>\n",
              "      <td>revol_util</td>\n",
              "      <td>0.161299</td>\n",
              "    </tr>\n",
              "    <tr>\n",
              "      <th>3</th>\n",
              "      <td>int_rate</td>\n",
              "      <td>0.156471</td>\n",
              "    </tr>\n",
              "    <tr>\n",
              "      <th>31</th>\n",
              "      <td>verification_status</td>\n",
              "      <td>0.102825</td>\n",
              "    </tr>\n",
              "    <tr>\n",
              "      <th>13</th>\n",
              "      <td>total_acc</td>\n",
              "      <td>0.093816</td>\n",
              "    </tr>\n",
              "    <tr>\n",
              "      <th>5</th>\n",
              "      <td>annual_inc</td>\n",
              "      <td>0.072420</td>\n",
              "    </tr>\n",
              "    <tr>\n",
              "      <th>36</th>\n",
              "      <td>addr_state</td>\n",
              "      <td>0.068299</td>\n",
              "    </tr>\n",
              "    <tr>\n",
              "      <th>37</th>\n",
              "      <td>earliest_cr_line</td>\n",
              "      <td>0.066928</td>\n",
              "    </tr>\n",
              "    <tr>\n",
              "      <th>11</th>\n",
              "      <td>revol_bal</td>\n",
              "      <td>0.066650</td>\n",
              "    </tr>\n",
              "    <tr>\n",
              "      <th>9</th>\n",
              "      <td>open_acc</td>\n",
              "      <td>0.065123</td>\n",
              "    </tr>\n",
              "    <tr>\n",
              "      <th>6</th>\n",
              "      <td>dti</td>\n",
              "      <td>0.061062</td>\n",
              "    </tr>\n",
              "    <tr>\n",
              "      <th>30</th>\n",
              "      <td>home_ownership</td>\n",
              "      <td>0.042593</td>\n",
              "    </tr>\n",
              "    <tr>\n",
              "      <th>29</th>\n",
              "      <td>sub_grade</td>\n",
              "      <td>0.034158</td>\n",
              "    </tr>\n",
              "    <tr>\n",
              "      <th>34</th>\n",
              "      <td>purpose</td>\n",
              "      <td>0.027257</td>\n",
              "    </tr>\n",
              "    <tr>\n",
              "      <th>27</th>\n",
              "      <td>term</td>\n",
              "      <td>0.023892</td>\n",
              "    </tr>\n",
              "    <tr>\n",
              "      <th>35</th>\n",
              "      <td>zip_code</td>\n",
              "      <td>0.015786</td>\n",
              "    </tr>\n",
              "    <tr>\n",
              "      <th>28</th>\n",
              "      <td>grade</td>\n",
              "      <td>0.015353</td>\n",
              "    </tr>\n",
              "    <tr>\n",
              "      <th>10</th>\n",
              "      <td>pub_rec</td>\n",
              "      <td>0.011091</td>\n",
              "    </tr>\n",
              "    <tr>\n",
              "      <th>8</th>\n",
              "      <td>inq_last_6mths</td>\n",
              "      <td>0.009594</td>\n",
              "    </tr>\n",
              "    <tr>\n",
              "      <th>24</th>\n",
              "      <td>collections_12_mths_ex_med</td>\n",
              "      <td>0.001552</td>\n",
              "    </tr>\n",
              "    <tr>\n",
              "      <th>26</th>\n",
              "      <td>acc_now_delinq</td>\n",
              "      <td>0.001278</td>\n",
              "    </tr>\n",
              "    <tr>\n",
              "      <th>7</th>\n",
              "      <td>delinq_2yrs</td>\n",
              "      <td>0.000422</td>\n",
              "    </tr>\n",
              "    <tr>\n",
              "      <th>33</th>\n",
              "      <td>pymnt_plan</td>\n",
              "      <td>0.000004</td>\n",
              "    </tr>\n",
              "    <tr>\n",
              "      <th>25</th>\n",
              "      <td>policy_code</td>\n",
              "      <td>0.000000</td>\n",
              "    </tr>\n",
              "    <tr>\n",
              "      <th>38</th>\n",
              "      <td>initial_list_status</td>\n",
              "      <td>0.000000</td>\n",
              "    </tr>\n",
              "    <tr>\n",
              "      <th>41</th>\n",
              "      <td>application_type</td>\n",
              "      <td>0.000000</td>\n",
              "    </tr>\n",
              "  </tbody>\n",
              "</table>\n",
              "</div>\n",
              "      <button class=\"colab-df-convert\" onclick=\"convertToInteractive('df-a377f72d-e567-4ff1-92b0-0cf9277e28ae')\"\n",
              "              title=\"Convert this dataframe to an interactive table.\"\n",
              "              style=\"display:none;\">\n",
              "        \n",
              "  <svg xmlns=\"http://www.w3.org/2000/svg\" height=\"24px\"viewBox=\"0 0 24 24\"\n",
              "       width=\"24px\">\n",
              "    <path d=\"M0 0h24v24H0V0z\" fill=\"none\"/>\n",
              "    <path d=\"M18.56 5.44l.94 2.06.94-2.06 2.06-.94-2.06-.94-.94-2.06-.94 2.06-2.06.94zm-11 1L8.5 8.5l.94-2.06 2.06-.94-2.06-.94L8.5 2.5l-.94 2.06-2.06.94zm10 10l.94 2.06.94-2.06 2.06-.94-2.06-.94-.94-2.06-.94 2.06-2.06.94z\"/><path d=\"M17.41 7.96l-1.37-1.37c-.4-.4-.92-.59-1.43-.59-.52 0-1.04.2-1.43.59L10.3 9.45l-7.72 7.72c-.78.78-.78 2.05 0 2.83L4 21.41c.39.39.9.59 1.41.59.51 0 1.02-.2 1.41-.59l7.78-7.78 2.81-2.81c.8-.78.8-2.07 0-2.86zM5.41 20L4 18.59l7.72-7.72 1.47 1.35L5.41 20z\"/>\n",
              "  </svg>\n",
              "      </button>\n",
              "      \n",
              "  <style>\n",
              "    .colab-df-container {\n",
              "      display:flex;\n",
              "      flex-wrap:wrap;\n",
              "      gap: 12px;\n",
              "    }\n",
              "\n",
              "    .colab-df-convert {\n",
              "      background-color: #E8F0FE;\n",
              "      border: none;\n",
              "      border-radius: 50%;\n",
              "      cursor: pointer;\n",
              "      display: none;\n",
              "      fill: #1967D2;\n",
              "      height: 32px;\n",
              "      padding: 0 0 0 0;\n",
              "      width: 32px;\n",
              "    }\n",
              "\n",
              "    .colab-df-convert:hover {\n",
              "      background-color: #E2EBFA;\n",
              "      box-shadow: 0px 1px 2px rgba(60, 64, 67, 0.3), 0px 1px 3px 1px rgba(60, 64, 67, 0.15);\n",
              "      fill: #174EA6;\n",
              "    }\n",
              "\n",
              "    [theme=dark] .colab-df-convert {\n",
              "      background-color: #3B4455;\n",
              "      fill: #D2E3FC;\n",
              "    }\n",
              "\n",
              "    [theme=dark] .colab-df-convert:hover {\n",
              "      background-color: #434B5C;\n",
              "      box-shadow: 0px 1px 3px 1px rgba(0, 0, 0, 0.15);\n",
              "      filter: drop-shadow(0px 1px 2px rgba(0, 0, 0, 0.3));\n",
              "      fill: #FFFFFF;\n",
              "    }\n",
              "  </style>\n",
              "\n",
              "      <script>\n",
              "        const buttonEl =\n",
              "          document.querySelector('#df-a377f72d-e567-4ff1-92b0-0cf9277e28ae button.colab-df-convert');\n",
              "        buttonEl.style.display =\n",
              "          google.colab.kernel.accessAllowed ? 'block' : 'none';\n",
              "\n",
              "        async function convertToInteractive(key) {\n",
              "          const element = document.querySelector('#df-a377f72d-e567-4ff1-92b0-0cf9277e28ae');\n",
              "          const dataTable =\n",
              "            await google.colab.kernel.invokeFunction('convertToInteractive',\n",
              "                                                     [key], {});\n",
              "          if (!dataTable) return;\n",
              "\n",
              "          const docLinkHtml = 'Like what you see? Visit the ' +\n",
              "            '<a target=\"_blank\" href=https://colab.research.google.com/notebooks/data_table.ipynb>data table notebook</a>'\n",
              "            + ' to learn more about interactive tables.';\n",
              "          element.innerHTML = '';\n",
              "          dataTable['output_type'] = 'display_data';\n",
              "          await google.colab.output.renderOutput(dataTable, element);\n",
              "          const docLink = document.createElement('div');\n",
              "          docLink.innerHTML = docLinkHtml;\n",
              "          element.appendChild(docLink);\n",
              "        }\n",
              "      </script>\n",
              "    </div>\n",
              "  </div>\n",
              "  "
            ]
          },
          "metadata": {},
          "execution_count": 28
        }
      ]
    }
  ]
}